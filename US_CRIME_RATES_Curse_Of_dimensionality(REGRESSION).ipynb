{
  "nbformat": 4,
  "nbformat_minor": 0,
  "metadata": {
    "colab": {
      "provenance": [],
      "collapsed_sections": [
        "Lm3xwD5XSYf9",
        "KkC48rOqHF_a",
        "uNxAQ66-Xw95",
        "alRNlv3XIFlo",
        "YBruOjO_XS0Z",
        "IjGI4YdiX7Br",
        "ITkny3V3v_xW",
        "wz8P-BWVXaTq",
        "f6x5iesNMRJR",
        "afWiofNqXd_R",
        "29aVBsbaXhH6",
        "KNCqJEL66k2g",
        "Y7JzLGb4Xltr"
      ]
    },
    "kernelspec": {
      "name": "python3",
      "display_name": "Python 3"
    },
    "language_info": {
      "name": "python"
    }
  },
  "cells": [
    {
      "cell_type": "markdown",
      "source": [
        "#LIBERARY"
      ],
      "metadata": {
        "id": "9ubEQmhrMvnU"
      }
    },
    {
      "cell_type": "code",
      "execution_count": 181,
      "metadata": {
        "id": "jUXUmbVUL7zu"
      },
      "outputs": [],
      "source": [
        "#---------------------------------------------------------------------------------------------->NUMPY\n",
        "import numpy as np\n",
        "#---------------------------------------------------------------------------------------------->PANDA\n",
        "import pandas as pd\n",
        "#---------------------------------------------------------------------------------------------->PLOTTING\n",
        "import seaborn as sns\n",
        "import matplotlib.pyplot as plt\n",
        "#---------------------------------------------------------------------------------------------->GRID_SEARCH\n",
        "from sklearn.model_selection import GridSearchCV\n",
        "#---------------------------------------------------------------------------------------------->SCORE_FOR_REGRESSION\n",
        "from sklearn.metrics import mean_absolute_error , mean_squared_error ,r2_score\n",
        "#---------------------------------------------------------------------------------------------->SPLITTING_DATA\n",
        "from sklearn.model_selection import train_test_split\n",
        "#---------------------------------------------------------------------------------------------->ENCODING(LabelEncoder,OrdinalEncoder,OrdinalEncoder)\n",
        "from sklearn.preprocessing import LabelEncoder,OrdinalEncoder,OrdinalEncoder\n",
        "#---------------------------------------------------------------------------------------------->REGRESSION_MODELS(LinearRegression)\n",
        "from sklearn.linear_model import LinearRegression\n",
        "import missingno as msng\n",
        "#---------------------------------------------------------------------------------------------->statsmodels(PERFORM_LINEAR_REGRESSION)\n",
        "import statsmodels.api as sm\n",
        "#---------------------------------------------------------------------------------------------->EXCEPTION_WARNING\n",
        "import warnings\n",
        "warnings.filterwarnings(\"ignore\")\n",
        "#---------------------------------------------------------------------------------------------->RECURSIVE_FEATURE_SELECTION(RFE-WRAPPER)\n",
        "from sklearn.feature_selection import RFE #recursive feature elimination\n",
        "#---------------------------------------------------------------------------------------------->F_REGRESSION\n",
        "from sklearn.feature_selection import SelectKBest,f_regression\n",
        "#---------------------------------------------------------------------------------------------->CHI2\n",
        "from sklearn.feature_selection import SelectKBest,chi2\n",
        "#---------------------------------------------------------------------------------------------->MUTUAL_INFO_CLASSIFY\n",
        "from sklearn.feature_selection import mutual_info_classif\n",
        "#---------------------------------------------------------------------------------------------->ANNOVA_F_CLASSIFY\n",
        "from sklearn.feature_selection import SelectKBest, f_classif\n",
        "#---------------------------------------------------------------------------------------------->PCA\n",
        "from sklearn.decomposition import PCA\n",
        "#---------------------------------------------------------------------------------------------->TSNE\n",
        "from sklearn.manifold import TSNE\n"
      ]
    },
    {
      "cell_type": "markdown",
      "source": [
        "#Read-data"
      ],
      "metadata": {
        "id": "Lm3xwD5XSYf9"
      }
    },
    {
      "cell_type": "code",
      "source": [
        "df=pd.read_csv('/content/US_Crime_Rates.csv')\n",
        "df\n",
        "# df =pd.read_excel('/content/TRIAL-1.xlsx',sheet_name='Sheet1')\n",
        "# df.head()"
      ],
      "metadata": {
        "id": "-Zfr-Y--RhWC"
      },
      "execution_count": null,
      "outputs": []
    },
    {
      "cell_type": "markdown",
      "source": [
        "#SPLIT_DATA"
      ],
      "metadata": {
        "id": "KkC48rOqHF_a"
      }
    },
    {
      "cell_type": "code",
      "source": [
        "x=df.loc[:,df.columns != 'Total']\n",
        "y=df['Total']"
      ],
      "metadata": {
        "id": "99lUbq11_Vk_"
      },
      "execution_count": 94,
      "outputs": []
    },
    {
      "cell_type": "code",
      "source": [
        "x_train,x_test,y_train,y_test=train_test_split(x,y,test_size=.2,random_state=42)\n",
        "x_train,x_valid,y_train,y_valid=train_test_split(x_train,y_train,test_size=.2,random_state=42)"
      ],
      "metadata": {
        "id": "u-KjfcaYR3yF"
      },
      "execution_count": 148,
      "outputs": []
    },
    {
      "cell_type": "markdown",
      "source": [
        "#PEARSON_CORRELATION(F1_REGRESSION)_(CLASSIFICATION_REGRESSION)"
      ],
      "metadata": {
        "id": "uNxAQ66-Xw95"
      }
    },
    {
      "cell_type": "code",
      "source": [
        "fsm=SelectKBest(f_regression,k=8)\n",
        "fsm.fit(x_train ,y_train)\n",
        "\n",
        "x_train_F_REG=fsm.transform(x_train)\n",
        "x_valid_F_REG=fsm.transform(x_valid)\n",
        "x_test_F_REG=fsm.transform(x_test)\n",
        "\n",
        "# if you used a standard-scaler, the input will contain a negative values.\n",
        "# and chi-square not work with negative so, apply minmaxscaler() instead."
      ],
      "metadata": {
        "id": "n45KAzpixqF_"
      },
      "execution_count": 97,
      "outputs": []
    },
    {
      "cell_type": "markdown",
      "source": [
        "##SELECTED_FEATURES"
      ],
      "metadata": {
        "id": "WRMN0qovH8jx"
      }
    },
    {
      "cell_type": "code",
      "source": [
        "mask = fsm.get_support()\n",
        "mask"
      ],
      "metadata": {
        "id": "d3GlzYGLxqGA",
        "colab": {
          "base_uri": "https://localhost:8080/"
        },
        "outputId": "b671cf94-08d0-45f9-ed88-dec65b675bb0"
      },
      "execution_count": 98,
      "outputs": [
        {
          "output_type": "execute_result",
          "data": {
            "text/plain": [
              "array([False, False,  True,  True,  True,  True,  True,  True, False,\n",
              "        True,  True])"
            ]
          },
          "metadata": {},
          "execution_count": 98
        }
      ]
    },
    {
      "cell_type": "code",
      "source": [
        "selected_feature_names_F_REG = pd.DataFrame(x_train).columns[mask]\n",
        "selected_feature_names_F_REG"
      ],
      "metadata": {
        "id": "GPpN8CsPxqGB",
        "colab": {
          "base_uri": "https://localhost:8080/"
        },
        "outputId": "24a0840c-39d1-4a22-ff35-b9bfbd7d760e"
      },
      "execution_count": 99,
      "outputs": [
        {
          "output_type": "execute_result",
          "data": {
            "text/plain": [
              "Index(['Violent', 'Property', 'Murder', 'Forcible_Rape', 'Robbery',\n",
              "       'Aggravated_assault', 'Larceny_Theft', 'Vehicle_Theft'],\n",
              "      dtype='object')"
            ]
          },
          "metadata": {},
          "execution_count": 99
        }
      ]
    },
    {
      "cell_type": "code",
      "source": [
        "fsm.get_feature_names_out()"
      ],
      "metadata": {
        "id": "AHJG_FIWxqGC",
        "colab": {
          "base_uri": "https://localhost:8080/"
        },
        "outputId": "9fa4fd4c-6146-436b-ff96-127e9a6f94eb"
      },
      "execution_count": 101,
      "outputs": [
        {
          "output_type": "execute_result",
          "data": {
            "text/plain": [
              "array(['Violent', 'Property', 'Murder', 'Forcible_Rape', 'Robbery',\n",
              "       'Aggravated_assault', 'Larceny_Theft', 'Vehicle_Theft'],\n",
              "      dtype=object)"
            ]
          },
          "metadata": {},
          "execution_count": 101
        }
      ]
    },
    {
      "cell_type": "markdown",
      "source": [
        "##APPLY_MODEL"
      ],
      "metadata": {
        "id": "alRNlv3XIFlo"
      }
    },
    {
      "cell_type": "code",
      "source": [
        "param_grid_L={'fit_intercept': [True, False], 'positive': [True, False]}\n",
        "G_L_REG = GridSearchCV(\n",
        "            estimator=LinearRegression(),\n",
        "           param_grid= param_grid_L)\n",
        "grid_result_L= G_L_REG.fit(x_train_F_REG,y_train)\n",
        "print(grid_result_L.best_params_)"
      ],
      "metadata": {
        "colab": {
          "base_uri": "https://localhost:8080/"
        },
        "id": "3lwPPC_t8obn",
        "outputId": "400130be-649a-4452-8cde-2fa0e53e30b4"
      },
      "execution_count": 102,
      "outputs": [
        {
          "output_type": "stream",
          "name": "stdout",
          "text": [
            "{'fit_intercept': False, 'positive': True}\n"
          ]
        }
      ]
    },
    {
      "cell_type": "code",
      "source": [
        "y_pred_test_L=grid_result_L.predict(x_test_F_REG)\n",
        "score_test_L=r2_score(y_test,y_pred_test_L)*100\n",
        "print(\"score_test_L_V for our test dataset with tuning is : {:.2f}%\".format(score_test_L))"
      ],
      "metadata": {
        "colab": {
          "base_uri": "https://localhost:8080/"
        },
        "id": "8I3ibrWL8oeK",
        "outputId": "c631aa69-4279-486b-e0d6-eefcc5b17d8f"
      },
      "execution_count": 103,
      "outputs": [
        {
          "output_type": "stream",
          "name": "stdout",
          "text": [
            "score_test_L_V for our test dataset with tuning is : 99.99%\n"
          ]
        }
      ]
    },
    {
      "cell_type": "markdown",
      "source": [
        "#CHi-square(chi2)-(CLASSIFICATION_REGRESSION)"
      ],
      "metadata": {
        "id": "YBruOjO_XS0Z"
      }
    },
    {
      "cell_type": "code",
      "source": [
        "fsm=SelectKBest(chi2,k=8)#K=8 MEAN BEST OF CORRELATION OF FEATURES SELECTED\n",
        "fsm.fit(x_train ,y_train)\n",
        "x_train_selected_CHI2=fsm.transform(x_train)\n",
        "x_valid_selected_CHI2=fsm.transform(x_valid)\n",
        "x_test_selected_CHI2=fsm.transform(x_test)\n",
        "\n",
        "# if you used a standard-scaler, the input will contain a negative values.\n",
        "# and chi-square not work with negative so, apply minmaxscaler() instead."
      ],
      "metadata": {
        "id": "thZfjQmsZb5J"
      },
      "execution_count": 107,
      "outputs": []
    },
    {
      "cell_type": "code",
      "source": [
        "mask = fsm.get_support()\n",
        "mask"
      ],
      "metadata": {
        "colab": {
          "base_uri": "https://localhost:8080/"
        },
        "id": "7Ak60GKheKSP",
        "outputId": "010ec110-8bb3-472f-a60a-3156d821a956"
      },
      "execution_count": 108,
      "outputs": [
        {
          "output_type": "execute_result",
          "data": {
            "text/plain": [
              "array([False,  True,  True,  True, False, False,  True,  True,  True,\n",
              "        True,  True])"
            ]
          },
          "metadata": {},
          "execution_count": 108
        }
      ]
    },
    {
      "cell_type": "code",
      "source": [
        "selected_feature_names_CHI2 = pd.DataFrame(x_train).columns[mask]\n",
        "selected_feature_names_CHI2"
      ],
      "metadata": {
        "colab": {
          "base_uri": "https://localhost:8080/"
        },
        "id": "jHJnZ96aePhv",
        "outputId": "cd5171e4-4d80-480e-8548-c6f718607067"
      },
      "execution_count": 109,
      "outputs": [
        {
          "output_type": "execute_result",
          "data": {
            "text/plain": [
              "Index(['Population', 'Violent', 'Property', 'Robbery', 'Aggravated_assault',\n",
              "       'Burglary', 'Larceny_Theft', 'Vehicle_Theft'],\n",
              "      dtype='object')"
            ]
          },
          "metadata": {},
          "execution_count": 109
        }
      ]
    },
    {
      "cell_type": "code",
      "source": [
        "param_grid_L={'fit_intercept': [True, False], 'positive': [True, False]}\n",
        "G_L_REG = GridSearchCV(\n",
        "            estimator=LinearRegression(),\n",
        "           param_grid= param_grid_L)\n",
        "grid_result_L= G_L_REG.fit(x_train_selected_CHI2,y_train)\n",
        "print(grid_result_L.best_params_)"
      ],
      "metadata": {
        "colab": {
          "base_uri": "https://localhost:8080/"
        },
        "outputId": "c21df1df-13a2-49a9-c69b-11587996f064",
        "id": "VFDhBK9i-2mF"
      },
      "execution_count": 110,
      "outputs": [
        {
          "output_type": "stream",
          "name": "stdout",
          "text": [
            "{'fit_intercept': True, 'positive': False}\n"
          ]
        }
      ]
    },
    {
      "cell_type": "code",
      "source": [
        "y_pred_test_L=grid_result_L.predict(x_test_selected_CHI2)\n",
        "score_test_L=r2_score(y_test,y_pred_test_L)*100\n",
        "print(\"score_test_L_V for our test dataset with tuning is : {:.2f}%\".format(score_test_L))"
      ],
      "metadata": {
        "colab": {
          "base_uri": "https://localhost:8080/"
        },
        "outputId": "b03c4696-4a95-4621-8f6c-37880ce71448",
        "id": "9p5txKVM-2mG"
      },
      "execution_count": 111,
      "outputs": [
        {
          "output_type": "stream",
          "name": "stdout",
          "text": [
            "score_test_L_V for our test dataset with tuning is : 99.99%\n"
          ]
        }
      ]
    },
    {
      "cell_type": "markdown",
      "source": [
        "#MUTUAL_INFORMATION_CLASSIFY (CLASSIFICATION)"
      ],
      "metadata": {
        "id": "IjGI4YdiX7Br"
      }
    },
    {
      "cell_type": "code",
      "source": [
        "fsm=SelectKBest(mutual_info_classif,k=8)\n",
        "fsm.fit(x_train ,y_train)\n",
        "x_train_selected=fsm.transform(x_train)\n",
        "x_valid_selected=fsm.transform(x_valid)\n",
        "x_test_selected=fsm.transform(x_test)\n",
        "# if you used a standard-scaler, the input will contain a negative values.\n",
        "# and chi-square not work with negative so, apply minmaxscaler() instead."
      ],
      "metadata": {
        "id": "5ZfVgg00siqh"
      },
      "execution_count": null,
      "outputs": []
    },
    {
      "cell_type": "code",
      "source": [
        "mask = fsm.get_support()\n",
        "mask"
      ],
      "metadata": {
        "colab": {
          "base_uri": "https://localhost:8080/"
        },
        "outputId": "645af7f3-85fa-4872-b9c3-6d186d3262ed",
        "id": "1GuLFg2Dsiqh"
      },
      "execution_count": null,
      "outputs": [
        {
          "output_type": "execute_result",
          "data": {
            "text/plain": [
              "array([False, False,  True,  True, False, False,  True,  True, False,\n",
              "       False, False, False, False, False, False, False, False, False,\n",
              "       False, False,  True, False,  True,  True, False, False, False,\n",
              "        True, False, False])"
            ]
          },
          "metadata": {},
          "execution_count": 410
        }
      ]
    },
    {
      "cell_type": "code",
      "source": [
        "selected_feature_names = pd.DataFrame(x_train).columns[mask]\n",
        "selected_feature_names"
      ],
      "metadata": {
        "colab": {
          "base_uri": "https://localhost:8080/"
        },
        "outputId": "a0149720-c7da-489f-c16d-3fb1c701fbb4",
        "id": "46nwPPi5siqi"
      },
      "execution_count": null,
      "outputs": [
        {
          "output_type": "execute_result",
          "data": {
            "text/plain": [
              "Int64Index([2, 3, 6, 7, 20, 22, 23, 27], dtype='int64')"
            ]
          },
          "metadata": {},
          "execution_count": 411
        }
      ]
    },
    {
      "cell_type": "code",
      "source": [
        "# df.columns[list(selected_feature_names)]\n",
        "df.drop('diagnosis',axis=1).columns[list(selected_feature_names)]"
      ],
      "metadata": {
        "colab": {
          "base_uri": "https://localhost:8080/"
        },
        "outputId": "6f36a825-c2f5-4df8-ac4b-2e44514a3b31",
        "id": "jBc4TmGisiqi"
      },
      "execution_count": null,
      "outputs": [
        {
          "output_type": "execute_result",
          "data": {
            "text/plain": [
              "Index(['perimeter_mean', 'area_mean', 'concavity_mean', 'concave points_mean',\n",
              "       'radius_worst', 'perimeter_worst', 'area_worst',\n",
              "       'concave points_worst'],\n",
              "      dtype='object')"
            ]
          },
          "metadata": {},
          "execution_count": 412
        }
      ]
    },
    {
      "cell_type": "code",
      "source": [
        "# fsm.get_feature_names_out()"
      ],
      "metadata": {
        "id": "vjCYrG_vsiqi"
      },
      "execution_count": null,
      "outputs": []
    },
    {
      "cell_type": "markdown",
      "source": [
        "#ANNOVA(f_classif)_CLASSIFICATION"
      ],
      "metadata": {
        "id": "ITkny3V3v_xW"
      }
    },
    {
      "cell_type": "code",
      "source": [
        "fsm=SelectKBest(f_classif,k=8)\n",
        "fsm.fit(x_train ,y_train)\n",
        "x_train_selected=fsm.transform(x_train)\n",
        "x_valid_selected=fsm.transform(x_valid)\n",
        "x_test_selected=fsm.transform(x_test)\n",
        "# if you used a standard-scaler, the input will contain a negative values.\n",
        "# and chi-square not work with negative so, apply minmaxscaler() instead."
      ],
      "metadata": {
        "id": "_KJ22EgHwLqd"
      },
      "execution_count": null,
      "outputs": []
    },
    {
      "cell_type": "code",
      "source": [
        "mask = fsm.get_support()\n",
        "mask"
      ],
      "metadata": {
        "colab": {
          "base_uri": "https://localhost:8080/"
        },
        "outputId": "44fa7e95-3a6a-4bef-fe32-76a4cc2684cc",
        "id": "zMj787XBwLqd"
      },
      "execution_count": null,
      "outputs": [
        {
          "output_type": "execute_result",
          "data": {
            "text/plain": [
              "array([ True, False,  True, False, False, False,  True,  True, False,\n",
              "       False, False, False, False, False, False, False, False, False,\n",
              "       False, False,  True, False,  True,  True, False, False, False,\n",
              "        True, False, False])"
            ]
          },
          "metadata": {},
          "execution_count": 418
        }
      ]
    },
    {
      "cell_type": "code",
      "source": [
        "selected_feature_names = pd.DataFrame(x_train).columns[mask]\n",
        "selected_feature_names"
      ],
      "metadata": {
        "colab": {
          "base_uri": "https://localhost:8080/"
        },
        "outputId": "02a8d590-c9ce-4b1d-93e9-9178a4361001",
        "id": "UrA6njSKwLqd"
      },
      "execution_count": null,
      "outputs": [
        {
          "output_type": "execute_result",
          "data": {
            "text/plain": [
              "Int64Index([0, 2, 6, 7, 20, 22, 23, 27], dtype='int64')"
            ]
          },
          "metadata": {},
          "execution_count": 419
        }
      ]
    },
    {
      "cell_type": "code",
      "source": [
        "# df.columns[list(selected_feature_names)]\n",
        "df.drop('diagnosis',axis=1).columns[list(selected_feature_names)]"
      ],
      "metadata": {
        "colab": {
          "base_uri": "https://localhost:8080/"
        },
        "outputId": "cce5cfcc-5d83-4703-a699-9a1fbf9f6023",
        "id": "7uWc03FPwLqe"
      },
      "execution_count": null,
      "outputs": [
        {
          "output_type": "execute_result",
          "data": {
            "text/plain": [
              "Index(['radius_mean', 'perimeter_mean', 'concavity_mean',\n",
              "       'concave points_mean', 'radius_worst', 'perimeter_worst', 'area_worst',\n",
              "       'concave points_worst'],\n",
              "      dtype='object')"
            ]
          },
          "metadata": {},
          "execution_count": 420
        }
      ]
    },
    {
      "cell_type": "code",
      "source": [
        "# fsm.get_feature_names_out()"
      ],
      "metadata": {
        "id": "Gruk6UYPwLqe"
      },
      "execution_count": null,
      "outputs": []
    },
    {
      "cell_type": "markdown",
      "source": [
        "#(RFE) Wrapper(REGRESSION)"
      ],
      "metadata": {
        "id": "wz8P-BWVXaTq"
      }
    },
    {
      "cell_type": "code",
      "source": [
        "wrapper = RFE(LinearRegression(), n_features_to_select=8)\n",
        "wrapper.fit(x_train,y_train)\n",
        "y_pred_WRAPPER=wrapper.predict(x_test)\n",
        "score_test_L=r2_score(y_test,y_pred_WRAPPER)*100\n",
        "print(\"score_test_L_V for our test dataset with tuning is : {:.2f}%\".format(score_test_L))\n",
        "## will give error as svc hasen't importance so we can use LinearSVC Insteas"
      ],
      "metadata": {
        "id": "mVrNGc_wXtEK",
        "colab": {
          "base_uri": "https://localhost:8080/"
        },
        "outputId": "4cb21655-2bc7-4b2c-b413-67124407236c"
      },
      "execution_count": 136,
      "outputs": [
        {
          "output_type": "stream",
          "name": "stdout",
          "text": [
            "score_test_L_V for our test dataset with tuning is : 99.99%\n"
          ]
        }
      ]
    },
    {
      "cell_type": "markdown",
      "source": [
        "##USING_IN_SVC_THE_LINEARSVC_WITH (RFE)"
      ],
      "metadata": {
        "id": "f6x5iesNMRJR"
      }
    },
    {
      "cell_type": "code",
      "source": [
        "from sklearn.svm import LinearSVC\n",
        "from sklearn.feature_selection import RFE #recursive feature elimination\n",
        "from sklearn.metrics import accuracy_score,recall_score,precision_score,f1_score\n",
        "svc_L=LinearSVC(C=10)\n",
        "wrapper = RFE(svc_L, n_features_to_select=8)\n",
        "\n",
        "wrapper.fit(x_train,y_train)\n",
        "y_pred=wrapper.predict(x_test)\n",
        "\n",
        "print(f'the accuracy = {accuracy_score(y_test,y_pred)}')\n",
        "print(f'the recall = {recall_score(y_test,y_pred,)}')\n",
        "print(f'the precision = {precision_score(y_test,y_pred)}')\n",
        "print(f'the f1 = {f1_score(y_test,y_pred)}')"
      ],
      "metadata": {
        "id": "M4XDeZ9k1IH6"
      },
      "execution_count": null,
      "outputs": []
    },
    {
      "cell_type": "code",
      "source": [
        "# #for forward\n",
        "# from sklearn.feature_selection import SequentialFeatureSelector\n",
        "# sfs = SequentialFeatureSelector(estimator=clf, n_features_to_select=10, direction='forward')\n",
        "\n",
        "# #for backword\n",
        "# from sklearn.feature_selection import SequentialFeatureSelector\n",
        "# sfs = SequentialFeatureSelector(estimator=clf, n_features_to_select=10, direction='backward')"
      ],
      "metadata": {
        "id": "gdbW8DFF20b0"
      },
      "execution_count": null,
      "outputs": []
    },
    {
      "cell_type": "markdown",
      "source": [
        "#Embedded"
      ],
      "metadata": {
        "id": "afWiofNqXd_R"
      }
    },
    {
      "cell_type": "code",
      "source": [
        "# Embedded feature selection methods refer to those that perform feature selection during the model training process. The three main types of embedded feature selection methods are:\n",
        "\n",
        "# Lasso Regression\n",
        "# Ridge Regression\n",
        "# Elastic Net Regression"
      ],
      "metadata": {
        "id": "CgdyDHMPXtnB"
      },
      "execution_count": null,
      "outputs": []
    },
    {
      "cell_type": "markdown",
      "source": [
        "#PCA(CLASSIFICATION_REGRESSION)"
      ],
      "metadata": {
        "id": "29aVBsbaXhH6"
      }
    },
    {
      "cell_type": "code",
      "source": [
        "# recommended to use standard-scaler\n",
        "# scaler=StandardScaler()\n",
        "# x_train=scaler.fit_transform(x_train)\n",
        "# x_valid=scaler.transform(x_valid)\n",
        "# x_test=scaler.transform(x_test)"
      ],
      "metadata": {
        "id": "1sFhDM1zXuNR"
      },
      "execution_count": null,
      "outputs": []
    },
    {
      "cell_type": "markdown",
      "source": [
        "##PCA With best k value"
      ],
      "metadata": {
        "id": "KNCqJEL66k2g"
      }
    },
    {
      "cell_type": "code",
      "source": [
        "# Create a PCA object with the desired number of components\n",
        "pca = PCA()\n",
        "\n",
        "# Fit the PCA object to the training data and transform both the training and test data\n",
        "x_train_pca = pca.fit_transform(x_train)\n",
        "x_valid_pca = pca.transform(x_valid)\n",
        "x_test_pca = pca.transform(x_test)\n",
        "\n",
        "# Determine number of components to keep\n",
        "explained_var_ratio = pca.explained_variance_ratio_\n",
        "\n",
        "# cumulative sum of the explained variance ratios\n",
        "cumulative_var_ratio = np.cumsum(explained_var_ratio)\n",
        "\n",
        "#to find the index of the first cumulative variance ratio that is greater than or equal to 0.95,\n",
        "#and we add 1 to get the actual number of components to keep.\n",
        "n_components = np.argmax(cumulative_var_ratio >= 0.95) + 1\n",
        "print(f\"Number of components to keep: {n_components}\")\n",
        "\n",
        "# Plot explained variance ratio\n",
        "plt.plot(explained_var_ratio, marker='o')\n",
        "plt.xlabel('Component')\n",
        "plt.ylabel('Explained variance ratio')\n",
        "plt.show()\n",
        "\n",
        "# Plot cumulative explained variance ratio\n",
        "plt.plot(cumulative_var_ratio, marker='o')\n",
        "plt.xlabel('Number of components')\n",
        "plt.ylabel('Cumulative explained variance ratio')\n",
        "plt.show()"
      ],
      "metadata": {
        "colab": {
          "base_uri": "https://localhost:8080/",
          "height": 898
        },
        "id": "EYHtRwx_6o1g",
        "outputId": "895059de-5d0c-43d7-fd37-e3a9f3bebaea"
      },
      "execution_count": null,
      "outputs": [
        {
          "output_type": "stream",
          "name": "stdout",
          "text": [
            "Number of components to keep: 1\n"
          ]
        },
        {
          "output_type": "display_data",
          "data": {
            "text/plain": [
              "<Figure size 640x480 with 1 Axes>"
            ],
            "image/png": "[encoded data removed]"
          },
          "metadata": {}
        },
        {
          "output_type": "display_data",
          "data": {
            "text/plain": [
              "<Figure size 640x480 with 1 Axes>"
            ],
            "image/png": "[encoded data removed]"
          },
          "metadata": {}
        }
      ]
    },
    {
      "cell_type": "code",
      "source": [
        "# Create a PCA object with the desired number of components\n",
        "pca = PCA(n_components=2)\n",
        "# Fit the PCA object to the training data and transform both the training and test data\n",
        "x_train_pca = pca.fit_transform(x_train)\n",
        "x_valid_pca = pca.transform(x_valid)\n",
        "x_test_pca = pca.transform(x_test)"
      ],
      "metadata": {
        "id": "DVbLZakY5yI4"
      },
      "execution_count": 167,
      "outputs": []
    },
    {
      "cell_type": "code",
      "source": [
        "param_grid_L={'fit_intercept': [True, False], 'positive': [True, False]}\n",
        "G_L_REG = GridSearchCV(\n",
        "            estimator=LinearRegression(),\n",
        "           param_grid= param_grid_L)\n",
        "grid_result_L= G_L_REG.fit(x_train_pca,y_train)\n",
        "print(grid_result_L.best_params_)"
      ],
      "metadata": {
        "colab": {
          "base_uri": "https://localhost:8080/"
        },
        "outputId": "1a496e9d-d7c1-4515-fc2d-483c091c3838",
        "id": "5KF-w27iDII9"
      },
      "execution_count": 168,
      "outputs": [
        {
          "output_type": "stream",
          "name": "stdout",
          "text": [
            "{'fit_intercept': True, 'positive': True}\n"
          ]
        }
      ]
    },
    {
      "cell_type": "code",
      "source": [
        "y_pred_test_L=grid_result_L.predict(x_test_pca)\n",
        "score_test_L=r2_score(y_test,y_pred_test_L)*100\n",
        "print(\"score_test_L_V for our test dataset with tuning is : {:.2f}%\".format(score_test_L))"
      ],
      "metadata": {
        "colab": {
          "base_uri": "https://localhost:8080/"
        },
        "outputId": "6fb3f059-76c5-4a9d-bd39-dd2b9bac01d7",
        "id": "AmXGRRcPDII9"
      },
      "execution_count": 169,
      "outputs": [
        {
          "output_type": "stream",
          "name": "stdout",
          "text": [
            "score_test_L_V for our test dataset with tuning is : 99.83%\n"
          ]
        }
      ]
    },
    {
      "cell_type": "markdown",
      "source": [
        "#TSNE(CLASSIFICATION_REGRESSION)"
      ],
      "metadata": {
        "id": "Y7JzLGb4Xltr"
      }
    },
    {
      "cell_type": "code",
      "source": [
        "tsne = TSNE(n_components=2, perplexity=3)#perplexity=30 to control the effective number of neighbors used in the algorithm.\n",
        "\n",
        "# Fit the TSNE object to the data and transform the data\n",
        "x_train_pca = tsne.fit_transform(x_train)\n",
        "x_valid_pca = tsne.fit_transform(x_valid)\n",
        "x_test_pca = tsne.fit_transform(x_test)\n",
        "\n",
        "# Plot the 2D t-SNE visualization\n",
        "plt.scatter(x_train_pca[:,0], x_train_pca[:,1], c=y_train)\n",
        "plt.show()\n",
        "\n",
        "#'TSNE' object has no attribute 'transform'"
      ],
      "metadata": {
        "colab": {
          "base_uri": "https://localhost:8080/",
          "height": 434
        },
        "id": "-L4xTalRScnB",
        "outputId": "4487ee30-0260-4eaa-fb46-7d0b26b42be3"
      },
      "execution_count": 180,
      "outputs": [
        {
          "output_type": "display_data",
          "data": {
            "text/plain": [
              "<Figure size 640x480 with 1 Axes>"
            ],
            "image/png": "[encoded data removed]"
          },
          "metadata": {}
        }
      ]
    }
  ]
}