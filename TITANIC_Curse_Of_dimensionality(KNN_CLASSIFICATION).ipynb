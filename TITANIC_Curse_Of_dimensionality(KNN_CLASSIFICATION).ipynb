{
  "nbformat": 4,
  "nbformat_minor": 0,
  "metadata": {
    "colab": {
      "provenance": [],
      "collapsed_sections": [
        "9ubEQmhrMvnU",
        "Lm3xwD5XSYf9",
        "WFvFWvaQlplh",
        "LVsCi21Ilx5B",
        "atVjABLZmMQI",
        "KkC48rOqHF_a",
        "HvR3WDVyQQCU",
        "uNxAQ66-Xw95",
        "YBruOjO_XS0Z",
        "IjGI4YdiX7Br",
        "ITkny3V3v_xW",
        "29aVBsbaXhH6",
        "Y7JzLGb4Xltr",
        "HQR2tZjIYCSM",
        "GBRiQFKEYxAS"
      ]
    },
    "kernelspec": {
      "name": "python3",
      "display_name": "Python 3"
    },
    "language_info": {
      "name": "python"
    }
  },
  "cells": [
    {
      "cell_type": "markdown",
      "source": [
        "#LIBERARY"
      ],
      "metadata": {
        "id": "9ubEQmhrMvnU"
      }
    },
    {
      "cell_type": "code",
      "execution_count": 535,
      "metadata": {
        "id": "jUXUmbVUL7zu"
      },
      "outputs": [],
      "source": [
        "#---------------------------------------------------------------------------------------------->NUMPY\n",
        "import numpy as np\n",
        "#---------------------------------------------------------------------------------------------->PANDA\n",
        "import pandas as pd\n",
        "#---------------------------------------------------------------------------------------------->PLOTTING\n",
        "import seaborn as sns\n",
        "import matplotlib.pyplot as plt\n",
        "import plotly.express as px\n",
        "#---------------------------------------------------------------------------------------------->GRID_SEARCH\n",
        "from sklearn.model_selection import GridSearchCV\n",
        "#---------------------------------------------------------------------------------------------->SPLITTING_DATA\n",
        "from sklearn.model_selection import train_test_split\n",
        "#---------------------------------------------------------------------------------------------->ENCODING(LabelEncoder,OrdinalEncoder,OrdinalEncoder)\n",
        "from sklearn.preprocessing import LabelEncoder,OrdinalEncoder,OrdinalEncoder\n",
        "import missingno as msng\n",
        "#---------------------------------------------------------------------------------------------->EXCEPTION_WARNING\n",
        "import warnings\n",
        "warnings.filterwarnings(\"ignore\")\n",
        "#---------------------------------------------------------------------------------------------->RECURSIVE_FEATURE_SELECTION(RFE-WRAPPER)\n",
        "from sklearn.feature_selection import RFE #recursive feature elimination\n",
        "#---------------------------------------------------------------------------------------------->F_REGRESSION\n",
        "from sklearn.feature_selection import SelectKBest,f_regression\n",
        "#---------------------------------------------------------------------------------------------->CHI2\n",
        "from sklearn.feature_selection import SelectKBest,chi2\n",
        "#---------------------------------------------------------------------------------------------->MUTUAL_INFO_CLASSIFY\n",
        "from sklearn.feature_selection import mutual_info_classif\n",
        "#---------------------------------------------------------------------------------------------->ANNOVA_F_CLASSIFY\n",
        "from sklearn.feature_selection import SelectKBest, f_classif\n",
        "#---------------------------------------------------------------------------------------------->PCA\n",
        "from sklearn.decomposition import PCA\n",
        "#---------------------------------------------------------------------------------------------->TSNE\n",
        "from sklearn.manifold import TSNE\n",
        "#---------------------------------------------------------------------------------------------->CLASSIFIER_MODEL(KNN)\n",
        "from sklearn.neighbors import KNeighborsClassifier\n",
        "#---------------------------------------------------------------------------------------------->CLASSIFICATION_REPORT\n",
        "from sklearn.metrics import classification_report\n",
        "#---------------------------------------------------------------------------------------------->EVALUATION_CLASSIFICATION\n",
        "from sklearn.metrics import accuracy_score,recall_score,precision_score,f1_score,confusion_matrix,roc_curve,roc_auc_score"
      ]
    },
    {
      "cell_type": "markdown",
      "source": [
        "#Read-data"
      ],
      "metadata": {
        "id": "Lm3xwD5XSYf9"
      }
    },
    {
      "cell_type": "code",
      "source": [
        "df=pd.read_csv('/content/titanic dataset.csv')\n",
        "df.head()"
      ],
      "metadata": {
        "colab": {
          "base_uri": "https://localhost:8080/",
          "height": 0
        },
        "id": "-Zfr-Y--RhWC",
        "outputId": "5dc2e999-3e05-40d9-fe6d-2cf752bf8cfb"
      },
      "execution_count": 536,
      "outputs": [
        {
          "output_type": "execute_result",
          "data": {
            "text/plain": [
              "   PassengerId  Survived  Pclass  \\\n",
              "0            1         0       3   \n",
              "1            2         1       1   \n",
              "2            3         1       3   \n",
              "3            4         1       1   \n",
              "4            5         0       3   \n",
              "\n",
              "                                                Name     Sex   Age  SibSp  \\\n",
              "0                            Braund, Mr. Owen Harris    male  22.0      1   \n",
              "1  Cumings, Mrs. John Bradley (Florence Briggs Th...  female  38.0      1   \n",
              "2                             Heikkinen, Miss. Laina  female  26.0      0   \n",
              "3       Futrelle, Mrs. Jacques Heath (Lily May Peel)  female  35.0      1   \n",
              "4                           Allen, Mr. William Henry    male  35.0      0   \n",
              "\n",
              "   Parch            Ticket     Fare Cabin Embarked  \n",
              "0      0         A/5 21171   7.2500   NaN        S  \n",
              "1      0          PC 17599  71.2833   C85        C  \n",
              "2      0  STON/O2. 3101282   7.9250   NaN        S  \n",
              "3      0            113803  53.1000  C123        S  \n",
              "4      0            373450   8.0500   NaN        S  "
            ],
            "text/html": [
              "\n",
              "  <div id=\"df-d0dbefd8-4d9b-4872-8b16-995c91b8a1a0\" class=\"colab-df-container\">\n",
              "    <div>\n",
              "<style scoped>\n",
              "    .dataframe tbody tr th:only-of-type {\n",
              "        vertical-align: middle;\n",
              "    }\n",
              "\n",
              "    .dataframe tbody tr th {\n",
              "        vertical-align: top;\n",
              "    }\n",
              "\n",
              "    .dataframe thead th {\n",
              "        text-align: right;\n",
              "    }\n",
              "</style>\n",
              "<table border=\"1\" class=\"dataframe\">\n",
              "  <thead>\n",
              "    <tr style=\"text-align: right;\">\n",
              "      <th></th>\n",
              "      <th>PassengerId</th>\n",
              "      <th>Survived</th>\n",
              "      <th>Pclass</th>\n",
              "      <th>Name</th>\n",
              "      <th>Sex</th>\n",
              "      <th>Age</th>\n",
              "      <th>SibSp</th>\n",
              "      <th>Parch</th>\n",
              "      <th>Ticket</th>\n",
              "      <th>Fare</th>\n",
              "      <th>Cabin</th>\n",
              "      <th>Embarked</th>\n",
              "    </tr>\n",
              "  </thead>\n",
              "  <tbody>\n",
              "    <tr>\n",
              "      <th>0</th>\n",
              "      <td>1</td>\n",
              "      <td>0</td>\n",
              "      <td>3</td>\n",
              "      <td>Braund, Mr. Owen Harris</td>\n",
              "      <td>male</td>\n",
              "      <td>22.0</td>\n",
              "      <td>1</td>\n",
              "      <td>0</td>\n",
              "      <td>A/5 21171</td>\n",
              "      <td>7.2500</td>\n",
              "      <td>NaN</td>\n",
              "      <td>S</td>\n",
              "    </tr>\n",
              "    <tr>\n",
              "      <th>1</th>\n",
              "      <td>2</td>\n",
              "      <td>1</td>\n",
              "      <td>1</td>\n",
              "      <td>Cumings, Mrs. John Bradley (Florence Briggs Th...</td>\n",
              "      <td>female</td>\n",
              "      <td>38.0</td>\n",
              "      <td>1</td>\n",
              "      <td>0</td>\n",
              "      <td>PC 17599</td>\n",
              "      <td>71.2833</td>\n",
              "      <td>C85</td>\n",
              "      <td>C</td>\n",
              "    </tr>\n",
              "    <tr>\n",
              "      <th>2</th>\n",
              "      <td>3</td>\n",
              "      <td>1</td>\n",
              "      <td>3</td>\n",
              "      <td>Heikkinen, Miss. Laina</td>\n",
              "      <td>female</td>\n",
              "      <td>26.0</td>\n",
              "      <td>0</td>\n",
              "      <td>0</td>\n",
              "      <td>STON/O2. 3101282</td>\n",
              "      <td>7.9250</td>\n",
              "      <td>NaN</td>\n",
              "      <td>S</td>\n",
              "    </tr>\n",
              "    <tr>\n",
              "      <th>3</th>\n",
              "      <td>4</td>\n",
              "      <td>1</td>\n",
              "      <td>1</td>\n",
              "      <td>Futrelle, Mrs. Jacques Heath (Lily May Peel)</td>\n",
              "      <td>female</td>\n",
              "      <td>35.0</td>\n",
              "      <td>1</td>\n",
              "      <td>0</td>\n",
              "      <td>113803</td>\n",
              "      <td>53.1000</td>\n",
              "      <td>C123</td>\n",
              "      <td>S</td>\n",
              "    </tr>\n",
              "    <tr>\n",
              "      <th>4</th>\n",
              "      <td>5</td>\n",
              "      <td>0</td>\n",
              "      <td>3</td>\n",
              "      <td>Allen, Mr. William Henry</td>\n",
              "      <td>male</td>\n",
              "      <td>35.0</td>\n",
              "      <td>0</td>\n",
              "      <td>0</td>\n",
              "      <td>373450</td>\n",
              "      <td>8.0500</td>\n",
              "      <td>NaN</td>\n",
              "      <td>S</td>\n",
              "    </tr>\n",
              "  </tbody>\n",
              "</table>\n",
              "</div>\n",
              "    <div class=\"colab-df-buttons\">\n",
              "\n",
              "  <div class=\"colab-df-container\">\n",
              "    <button class=\"colab-df-convert\" onclick=\"convertToInteractive('df-d0dbefd8-4d9b-4872-8b16-995c91b8a1a0')\"\n",
              "            title=\"Convert this dataframe to an interactive table.\"\n",
              "            style=\"display:none;\">\n",
              "\n",
              "  <svg xmlns=\"http://www.w3.org/2000/svg\" height=\"24px\" viewBox=\"0 -960 960 960\">\n",
              "    <path d=\"M120-120v-720h720v720H120Zm60-500h600v-160H180v160Zm220 220h160v-160H400v160Zm0 220h160v-160H400v160ZM180-400h160v-160H180v160Zm440 0h160v-160H620v160ZM180-180h160v-160H180v160Zm440 0h160v-160H620v160Z\"/>\n",
              "  </svg>\n",
              "    </button>\n",
              "\n",
              "  <style>\n",
              "    .colab-df-container {\n",
              "      display:flex;\n",
              "      gap: 12px;\n",
              "    }\n",
              "\n",
              "    .colab-df-convert {\n",
              "      background-color: #E8F0FE;\n",
              "      border: none;\n",
              "      border-radius: 50%;\n",
              "      cursor: pointer;\n",
              "      display: none;\n",
              "      fill: #1967D2;\n",
              "      height: 32px;\n",
              "      padding: 0 0 0 0;\n",
              "      width: 32px;\n",
              "    }\n",
              "\n",
              "    .colab-df-convert:hover {\n",
              "      background-color: #E2EBFA;\n",
              "      box-shadow: 0px 1px 2px rgba(60, 64, 67, 0.3), 0px 1px 3px 1px rgba(60, 64, 67, 0.15);\n",
              "      fill: #174EA6;\n",
              "    }\n",
              "\n",
              "    .colab-df-buttons div {\n",
              "      margin-bottom: 4px;\n",
              "    }\n",
              "\n",
              "    [theme=dark] .colab-df-convert {\n",
              "      background-color: #3B4455;\n",
              "      fill: #D2E3FC;\n",
              "    }\n",
              "\n",
              "    [theme=dark] .colab-df-convert:hover {\n",
              "      background-color: #434B5C;\n",
              "      box-shadow: 0px 1px 3px 1px rgba(0, 0, 0, 0.15);\n",
              "      filter: drop-shadow(0px 1px 2px rgba(0, 0, 0, 0.3));\n",
              "      fill: #FFFFFF;\n",
              "    }\n",
              "  </style>\n",
              "\n",
              "    <script>\n",
              "      const buttonEl =\n",
              "        document.querySelector('#df-d0dbefd8-4d9b-4872-8b16-995c91b8a1a0 button.colab-df-convert');\n",
              "      buttonEl.style.display =\n",
              "        google.colab.kernel.accessAllowed ? 'block' : 'none';\n",
              "\n",
              "      async function convertToInteractive(key) {\n",
              "        const element = document.querySelector('#df-d0dbefd8-4d9b-4872-8b16-995c91b8a1a0');\n",
              "        const dataTable =\n",
              "          await google.colab.kernel.invokeFunction('convertToInteractive',\n",
              "                                                    [key], {});\n",
              "        if (!dataTable) return;\n",
              "\n",
              "        const docLinkHtml = 'Like what you see? Visit the ' +\n",
              "          '<a target=\"_blank\" href=https://colab.research.google.com/notebooks/data_table.ipynb>data table notebook</a>'\n",
              "          + ' to learn more about interactive tables.';\n",
              "        element.innerHTML = '';\n",
              "        dataTable['output_type'] = 'display_data';\n",
              "        await google.colab.output.renderOutput(dataTable, element);\n",
              "        const docLink = document.createElement('div');\n",
              "        docLink.innerHTML = docLinkHtml;\n",
              "        element.appendChild(docLink);\n",
              "      }\n",
              "    </script>\n",
              "  </div>\n",
              "\n",
              "\n",
              "<div id=\"df-bb11f653-f810-4c5d-b0b6-c5bba35e02f4\">\n",
              "  <button class=\"colab-df-quickchart\" onclick=\"quickchart('df-bb11f653-f810-4c5d-b0b6-c5bba35e02f4')\"\n",
              "            title=\"Suggest charts\"\n",
              "            style=\"display:none;\">\n",
              "\n",
              "<svg xmlns=\"http://www.w3.org/2000/svg\" height=\"24px\"viewBox=\"0 0 24 24\"\n",
              "     width=\"24px\">\n",
              "    <g>\n",
              "        <path d=\"M19 3H5c-1.1 0-2 .9-2 2v14c0 1.1.9 2 2 2h14c1.1 0 2-.9 2-2V5c0-1.1-.9-2-2-2zM9 17H7v-7h2v7zm4 0h-2V7h2v10zm4 0h-2v-4h2v4z\"/>\n",
              "    </g>\n",
              "</svg>\n",
              "  </button>\n",
              "\n",
              "<style>\n",
              "  .colab-df-quickchart {\n",
              "      --bg-color: #E8F0FE;\n",
              "      --fill-color: #1967D2;\n",
              "      --hover-bg-color: #E2EBFA;\n",
              "      --hover-fill-color: #174EA6;\n",
              "      --disabled-fill-color: #AAA;\n",
              "      --disabled-bg-color: #DDD;\n",
              "  }\n",
              "\n",
              "  [theme=dark] .colab-df-quickchart {\n",
              "      --bg-color: #3B4455;\n",
              "      --fill-color: #D2E3FC;\n",
              "      --hover-bg-color: #434B5C;\n",
              "      --hover-fill-color: #FFFFFF;\n",
              "      --disabled-bg-color: #3B4455;\n",
              "      --disabled-fill-color: #666;\n",
              "  }\n",
              "\n",
              "  .colab-df-quickchart {\n",
              "    background-color: var(--bg-color);\n",
              "    border: none;\n",
              "    border-radius: 50%;\n",
              "    cursor: pointer;\n",
              "    display: none;\n",
              "    fill: var(--fill-color);\n",
              "    height: 32px;\n",
              "    padding: 0;\n",
              "    width: 32px;\n",
              "  }\n",
              "\n",
              "  .colab-df-quickchart:hover {\n",
              "    background-color: var(--hover-bg-color);\n",
              "    box-shadow: 0 1px 2px rgba(60, 64, 67, 0.3), 0 1px 3px 1px rgba(60, 64, 67, 0.15);\n",
              "    fill: var(--button-hover-fill-color);\n",
              "  }\n",
              "\n",
              "  .colab-df-quickchart-complete:disabled,\n",
              "  .colab-df-quickchart-complete:disabled:hover {\n",
              "    background-color: var(--disabled-bg-color);\n",
              "    fill: var(--disabled-fill-color);\n",
              "    box-shadow: none;\n",
              "  }\n",
              "\n",
              "  .colab-df-spinner {\n",
              "    border: 2px solid var(--fill-color);\n",
              "    border-color: transparent;\n",
              "    border-bottom-color: var(--fill-color);\n",
              "    animation:\n",
              "      spin 1s steps(1) infinite;\n",
              "  }\n",
              "\n",
              "  @keyframes spin {\n",
              "    0% {\n",
              "      border-color: transparent;\n",
              "      border-bottom-color: var(--fill-color);\n",
              "      border-left-color: var(--fill-color);\n",
              "    }\n",
              "    20% {\n",
              "      border-color: transparent;\n",
              "      border-left-color: var(--fill-color);\n",
              "      border-top-color: var(--fill-color);\n",
              "    }\n",
              "    30% {\n",
              "      border-color: transparent;\n",
              "      border-left-color: var(--fill-color);\n",
              "      border-top-color: var(--fill-color);\n",
              "      border-right-color: var(--fill-color);\n",
              "    }\n",
              "    40% {\n",
              "      border-color: transparent;\n",
              "      border-right-color: var(--fill-color);\n",
              "      border-top-color: var(--fill-color);\n",
              "    }\n",
              "    60% {\n",
              "      border-color: transparent;\n",
              "      border-right-color: var(--fill-color);\n",
              "    }\n",
              "    80% {\n",
              "      border-color: transparent;\n",
              "      border-right-color: var(--fill-color);\n",
              "      border-bottom-color: var(--fill-color);\n",
              "    }\n",
              "    90% {\n",
              "      border-color: transparent;\n",
              "      border-bottom-color: var(--fill-color);\n",
              "    }\n",
              "  }\n",
              "</style>\n",
              "\n",
              "  <script>\n",
              "    async function quickchart(key) {\n",
              "      const quickchartButtonEl =\n",
              "        document.querySelector('#' + key + ' button');\n",
              "      quickchartButtonEl.disabled = true;  // To prevent multiple clicks.\n",
              "      quickchartButtonEl.classList.add('colab-df-spinner');\n",
              "      try {\n",
              "        const charts = await google.colab.kernel.invokeFunction(\n",
              "            'suggestCharts', [key], {});\n",
              "      } catch (error) {\n",
              "        console.error('Error during call to suggestCharts:', error);\n",
              "      }\n",
              "      quickchartButtonEl.classList.remove('colab-df-spinner');\n",
              "      quickchartButtonEl.classList.add('colab-df-quickchart-complete');\n",
              "    }\n",
              "    (() => {\n",
              "      let quickchartButtonEl =\n",
              "        document.querySelector('#df-bb11f653-f810-4c5d-b0b6-c5bba35e02f4 button');\n",
              "      quickchartButtonEl.style.display =\n",
              "        google.colab.kernel.accessAllowed ? 'block' : 'none';\n",
              "    })();\n",
              "  </script>\n",
              "</div>\n",
              "\n",
              "    </div>\n",
              "  </div>\n"
            ]
          },
          "metadata": {},
          "execution_count": 536
        }
      ]
    },
    {
      "cell_type": "code",
      "source": [
        "df['Cabin'].value_counts()"
      ],
      "metadata": {
        "colab": {
          "base_uri": "https://localhost:8080/"
        },
        "id": "GvdiDjX9QaMl",
        "outputId": "72324740-d562-47fb-be91-19fa3dfce00a"
      },
      "execution_count": 537,
      "outputs": [
        {
          "output_type": "execute_result",
          "data": {
            "text/plain": [
              "B96 B98        4\n",
              "G6             4\n",
              "C23 C25 C27    4\n",
              "C22 C26        3\n",
              "F33            3\n",
              "              ..\n",
              "E34            1\n",
              "C7             1\n",
              "C54            1\n",
              "E36            1\n",
              "C148           1\n",
              "Name: Cabin, Length: 147, dtype: int64"
            ]
          },
          "metadata": {},
          "execution_count": 537
        }
      ]
    },
    {
      "cell_type": "code",
      "source": [
        "df['Embarked'].value_counts()"
      ],
      "metadata": {
        "colab": {
          "base_uri": "https://localhost:8080/"
        },
        "id": "f3I8XYJgQaPx",
        "outputId": "f0c90c8e-d070-44ad-b7a7-436c0543534f"
      },
      "execution_count": 538,
      "outputs": [
        {
          "output_type": "execute_result",
          "data": {
            "text/plain": [
              "S    644\n",
              "C    168\n",
              "Q     77\n",
              "Name: Embarked, dtype: int64"
            ]
          },
          "metadata": {},
          "execution_count": 538
        }
      ]
    },
    {
      "cell_type": "code",
      "source": [
        "df['Sex'].value_counts()"
      ],
      "metadata": {
        "colab": {
          "base_uri": "https://localhost:8080/"
        },
        "id": "ZQF4NB9YRMyF",
        "outputId": "04c603e3-ff4a-4cb0-fde0-3227921ccbfd"
      },
      "execution_count": 539,
      "outputs": [
        {
          "output_type": "execute_result",
          "data": {
            "text/plain": [
              "male      577\n",
              "female    314\n",
              "Name: Sex, dtype: int64"
            ]
          },
          "metadata": {},
          "execution_count": 539
        }
      ]
    },
    {
      "cell_type": "code",
      "source": [
        "corr = df.corr()\n",
        "corr.iloc[:,0].sort_values(ascending=False)"
      ],
      "metadata": {
        "colab": {
          "base_uri": "https://localhost:8080/"
        },
        "id": "d-r9ttz4RM3J",
        "outputId": "8bebb65a-9a28-4d17-d075-df8c2341294c"
      },
      "execution_count": 540,
      "outputs": [
        {
          "output_type": "execute_result",
          "data": {
            "text/plain": [
              "PassengerId    1.000000\n",
              "Age            0.036847\n",
              "Fare           0.012658\n",
              "Parch         -0.001652\n",
              "Survived      -0.005007\n",
              "Pclass        -0.035144\n",
              "SibSp         -0.057527\n",
              "Name: PassengerId, dtype: float64"
            ]
          },
          "metadata": {},
          "execution_count": 540
        }
      ]
    },
    {
      "cell_type": "markdown",
      "source": [
        "#VISUALIZATION"
      ],
      "metadata": {
        "id": "WFvFWvaQlplh"
      }
    },
    {
      "cell_type": "code",
      "source": [
        "px.imshow(df.corr(),title=\"Correlation Plot of the titanic survived\")"
      ],
      "metadata": {
        "colab": {
          "base_uri": "https://localhost:8080/",
          "height": 0
        },
        "id": "gw65M9hPUGNS",
        "outputId": "b5c99925-de40-432a-a936-0722bcb49c28"
      },
      "execution_count": 541,
      "outputs": [
        {
          "output_type": "display_data",
          "data": {
            "text/html": [
              "<html>\n",
              "<head><meta charset=\"utf-8\" /></head>\n",
              "<body>\n",
              "    <div>            <script src=\"https://cdnjs.cloudflare.com/ajax/libs/mathjax/2.7.5/MathJax.js?config=TeX-AMS-MML_SVG\"></script><script type=\"text/javascript\">if (window.MathJax && window.MathJax.Hub && window.MathJax.Hub.Config) {window.MathJax.Hub.Config({SVG: {font: \"STIX-Web\"}});}</script>                <script type=\"text/javascript\">window.PlotlyConfig = {MathJaxConfig: 'local'};</script>\n",
              "        <script charset=\"utf-8\" src=\"https://cdn.plot.ly/plotly-2.24.1.min.js\"></script>                <div id=\"3b4d8ba2-6530-4e15-a2dd-412f964ba901\" class=\"plotly-graph-div\" style=\"height:525px; width:100%;\"></div>            <script type=\"text/javascript\">                                    window.PLOTLYENV=window.PLOTLYENV || {};                                    if (document.getElementById(\"3b4d8ba2-6530-4e15-a2dd-412f964ba901\")) {                    Plotly.newPlot(                        \"3b4d8ba2-6530-4e15-a2dd-412f964ba901\",                        [{\"coloraxis\":\"coloraxis\",\"name\":\"0\",\"x\":[\"PassengerId\",\"Survived\",\"Pclass\",\"Age\",\"SibSp\",\"Parch\",\"Fare\"],\"y\":[\"PassengerId\",\"Survived\",\"Pclass\",\"Age\",\"SibSp\",\"Parch\",\"Fare\"],\"z\":[[1.0,-0.0050066607670665175,-0.03514399403038102,0.036847197861327674,-0.0575268337844415,-0.0016520124027188366,0.012658219287491099],[-0.0050066607670665175,1.0,-0.33848103596101514,-0.07722109457217756,-0.035322498885735576,0.08162940708348335,0.2573065223849626],[-0.03514399403038102,-0.33848103596101514,1.0,-0.36922601531551735,0.08308136284568686,0.018442671310748508,-0.5494996199439076],[0.036847197861327674,-0.07722109457217756,-0.36922601531551735,1.0,-0.30824675892365666,-0.1891192626320352,0.09606669176903912],[-0.0575268337844415,-0.035322498885735576,0.08308136284568686,-0.30824675892365666,1.0,0.41483769862015624,0.159651043242161],[-0.0016520124027188366,0.08162940708348335,0.018442671310748508,-0.1891192626320352,0.41483769862015624,1.0,0.21622494477076448],[0.012658219287491099,0.2573065223849626,-0.5494996199439076,0.09606669176903912,0.159651043242161,0.21622494477076448,1.0]],\"type\":\"heatmap\",\"xaxis\":\"x\",\"yaxis\":\"y\",\"hovertemplate\":\"x: %{x}\\u003cbr\\u003ey: %{y}\\u003cbr\\u003ecolor: %{z}\\u003cextra\\u003e\\u003c\\u002fextra\\u003e\"}],                        {\"template\":{\"data\":{\"histogram2dcontour\":[{\"type\":\"histogram2dcontour\",\"colorbar\":{\"outlinewidth\":0,\"ticks\":\"\"},\"colorscale\":[[0.0,\"#0d0887\"],[0.1111111111111111,\"#46039f\"],[0.2222222222222222,\"#7201a8\"],[0.3333333333333333,\"#9c179e\"],[0.4444444444444444,\"#bd3786\"],[0.5555555555555556,\"#d8576b\"],[0.6666666666666666,\"#ed7953\"],[0.7777777777777778,\"#fb9f3a\"],[0.8888888888888888,\"#fdca26\"],[1.0,\"#f0f921\"]]}],\"choropleth\":[{\"type\":\"choropleth\",\"colorbar\":{\"outlinewidth\":0,\"ticks\":\"\"}}],\"histogram2d\":[{\"type\":\"histogram2d\",\"colorbar\":{\"outlinewidth\":0,\"ticks\":\"\"},\"colorscale\":[[0.0,\"#0d0887\"],[0.1111111111111111,\"#46039f\"],[0.2222222222222222,\"#7201a8\"],[0.3333333333333333,\"#9c179e\"],[0.4444444444444444,\"#bd3786\"],[0.5555555555555556,\"#d8576b\"],[0.6666666666666666,\"#ed7953\"],[0.7777777777777778,\"#fb9f3a\"],[0.8888888888888888,\"#fdca26\"],[1.0,\"#f0f921\"]]}],\"heatmap\":[{\"type\":\"heatmap\",\"colorbar\":{\"outlinewidth\":0,\"ticks\":\"\"},\"colorscale\":[[0.0,\"#0d0887\"],[0.1111111111111111,\"#46039f\"],[0.2222222222222222,\"#7201a8\"],[0.3333333333333333,\"#9c179e\"],[0.4444444444444444,\"#bd3786\"],[0.5555555555555556,\"#d8576b\"],[0.6666666666666666,\"#ed7953\"],[0.7777777777777778,\"#fb9f3a\"],[0.8888888888888888,\"#fdca26\"],[1.0,\"#f0f921\"]]}],\"heatmapgl\":[{\"type\":\"heatmapgl\",\"colorbar\":{\"outlinewidth\":0,\"ticks\":\"\"},\"colorscale\":[[0.0,\"#0d0887\"],[0.1111111111111111,\"#46039f\"],[0.2222222222222222,\"#7201a8\"],[0.3333333333333333,\"#9c179e\"],[0.4444444444444444,\"#bd3786\"],[0.5555555555555556,\"#d8576b\"],[0.6666666666666666,\"#ed7953\"],[0.7777777777777778,\"#fb9f3a\"],[0.8888888888888888,\"#fdca26\"],[1.0,\"#f0f921\"]]}],\"contourcarpet\":[{\"type\":\"contourcarpet\",\"colorbar\":{\"outlinewidth\":0,\"ticks\":\"\"}}],\"contour\":[{\"type\":\"contour\",\"colorbar\":{\"outlinewidth\":0,\"ticks\":\"\"},\"colorscale\":[[0.0,\"#0d0887\"],[0.1111111111111111,\"#46039f\"],[0.2222222222222222,\"#7201a8\"],[0.3333333333333333,\"#9c179e\"],[0.4444444444444444,\"#bd3786\"],[0.5555555555555556,\"#d8576b\"],[0.6666666666666666,\"#ed7953\"],[0.7777777777777778,\"#fb9f3a\"],[0.8888888888888888,\"#fdca26\"],[1.0,\"#f0f921\"]]}],\"surface\":[{\"type\":\"surface\",\"colorbar\":{\"outlinewidth\":0,\"ticks\":\"\"},\"colorscale\":[[0.0,\"#0d0887\"],[0.1111111111111111,\"#46039f\"],[0.2222222222222222,\"#7201a8\"],[0.3333333333333333,\"#9c179e\"],[0.4444444444444444,\"#bd3786\"],[0.5555555555555556,\"#d8576b\"],[0.6666666666666666,\"#ed7953\"],[0.7777777777777778,\"#fb9f3a\"],[0.8888888888888888,\"#fdca26\"],[1.0,\"#f0f921\"]]}],\"mesh3d\":[{\"type\":\"mesh3d\",\"colorbar\":{\"outlinewidth\":0,\"ticks\":\"\"}}],\"scatter\":[{\"fillpattern\":{\"fillmode\":\"overlay\",\"size\":10,\"solidity\":0.2},\"type\":\"scatter\"}],\"parcoords\":[{\"type\":\"parcoords\",\"line\":{\"colorbar\":{\"outlinewidth\":0,\"ticks\":\"\"}}}],\"scatterpolargl\":[{\"type\":\"scatterpolargl\",\"marker\":{\"colorbar\":{\"outlinewidth\":0,\"ticks\":\"\"}}}],\"bar\":[{\"error_x\":{\"color\":\"#2a3f5f\"},\"error_y\":{\"color\":\"#2a3f5f\"},\"marker\":{\"line\":{\"color\":\"#E5ECF6\",\"width\":0.5},\"pattern\":{\"fillmode\":\"overlay\",\"size\":10,\"solidity\":0.2}},\"type\":\"bar\"}],\"scattergeo\":[{\"type\":\"scattergeo\",\"marker\":{\"colorbar\":{\"outlinewidth\":0,\"ticks\":\"\"}}}],\"scatterpolar\":[{\"type\":\"scatterpolar\",\"marker\":{\"colorbar\":{\"outlinewidth\":0,\"ticks\":\"\"}}}],\"histogram\":[{\"marker\":{\"pattern\":{\"fillmode\":\"overlay\",\"size\":10,\"solidity\":0.2}},\"type\":\"histogram\"}],\"scattergl\":[{\"type\":\"scattergl\",\"marker\":{\"colorbar\":{\"outlinewidth\":0,\"ticks\":\"\"}}}],\"scatter3d\":[{\"type\":\"scatter3d\",\"line\":{\"colorbar\":{\"outlinewidth\":0,\"ticks\":\"\"}},\"marker\":{\"colorbar\":{\"outlinewidth\":0,\"ticks\":\"\"}}}],\"scattermapbox\":[{\"type\":\"scattermapbox\",\"marker\":{\"colorbar\":{\"outlinewidth\":0,\"ticks\":\"\"}}}],\"scatterternary\":[{\"type\":\"scatterternary\",\"marker\":{\"colorbar\":{\"outlinewidth\":0,\"ticks\":\"\"}}}],\"scattercarpet\":[{\"type\":\"scattercarpet\",\"marker\":{\"colorbar\":{\"outlinewidth\":0,\"ticks\":\"\"}}}],\"carpet\":[{\"aaxis\":{\"endlinecolor\":\"#2a3f5f\",\"gridcolor\":\"white\",\"linecolor\":\"white\",\"minorgridcolor\":\"white\",\"startlinecolor\":\"#2a3f5f\"},\"baxis\":{\"endlinecolor\":\"#2a3f5f\",\"gridcolor\":\"white\",\"linecolor\":\"white\",\"minorgridcolor\":\"white\",\"startlinecolor\":\"#2a3f5f\"},\"type\":\"carpet\"}],\"table\":[{\"cells\":{\"fill\":{\"color\":\"#EBF0F8\"},\"line\":{\"color\":\"white\"}},\"header\":{\"fill\":{\"color\":\"#C8D4E3\"},\"line\":{\"color\":\"white\"}},\"type\":\"table\"}],\"barpolar\":[{\"marker\":{\"line\":{\"color\":\"#E5ECF6\",\"width\":0.5},\"pattern\":{\"fillmode\":\"overlay\",\"size\":10,\"solidity\":0.2}},\"type\":\"barpolar\"}],\"pie\":[{\"automargin\":true,\"type\":\"pie\"}]},\"layout\":{\"autotypenumbers\":\"strict\",\"colorway\":[\"#636efa\",\"#EF553B\",\"#00cc96\",\"#ab63fa\",\"#FFA15A\",\"#19d3f3\",\"#FF6692\",\"#B6E880\",\"#FF97FF\",\"#FECB52\"],\"font\":{\"color\":\"#2a3f5f\"},\"hovermode\":\"closest\",\"hoverlabel\":{\"align\":\"left\"},\"paper_bgcolor\":\"white\",\"plot_bgcolor\":\"#E5ECF6\",\"polar\":{\"bgcolor\":\"#E5ECF6\",\"angularaxis\":{\"gridcolor\":\"white\",\"linecolor\":\"white\",\"ticks\":\"\"},\"radialaxis\":{\"gridcolor\":\"white\",\"linecolor\":\"white\",\"ticks\":\"\"}},\"ternary\":{\"bgcolor\":\"#E5ECF6\",\"aaxis\":{\"gridcolor\":\"white\",\"linecolor\":\"white\",\"ticks\":\"\"},\"baxis\":{\"gridcolor\":\"white\",\"linecolor\":\"white\",\"ticks\":\"\"},\"caxis\":{\"gridcolor\":\"white\",\"linecolor\":\"white\",\"ticks\":\"\"}},\"coloraxis\":{\"colorbar\":{\"outlinewidth\":0,\"ticks\":\"\"}},\"colorscale\":{\"sequential\":[[0.0,\"#0d0887\"],[0.1111111111111111,\"#46039f\"],[0.2222222222222222,\"#7201a8\"],[0.3333333333333333,\"#9c179e\"],[0.4444444444444444,\"#bd3786\"],[0.5555555555555556,\"#d8576b\"],[0.6666666666666666,\"#ed7953\"],[0.7777777777777778,\"#fb9f3a\"],[0.8888888888888888,\"#fdca26\"],[1.0,\"#f0f921\"]],\"sequentialminus\":[[0.0,\"#0d0887\"],[0.1111111111111111,\"#46039f\"],[0.2222222222222222,\"#7201a8\"],[0.3333333333333333,\"#9c179e\"],[0.4444444444444444,\"#bd3786\"],[0.5555555555555556,\"#d8576b\"],[0.6666666666666666,\"#ed7953\"],[0.7777777777777778,\"#fb9f3a\"],[0.8888888888888888,\"#fdca26\"],[1.0,\"#f0f921\"]],\"diverging\":[[0,\"#8e0152\"],[0.1,\"#c51b7d\"],[0.2,\"#de77ae\"],[0.3,\"#f1b6da\"],[0.4,\"#fde0ef\"],[0.5,\"#f7f7f7\"],[0.6,\"#e6f5d0\"],[0.7,\"#b8e186\"],[0.8,\"#7fbc41\"],[0.9,\"#4d9221\"],[1,\"#276419\"]]},\"xaxis\":{\"gridcolor\":\"white\",\"linecolor\":\"white\",\"ticks\":\"\",\"title\":{\"standoff\":15},\"zerolinecolor\":\"white\",\"automargin\":true,\"zerolinewidth\":2},\"yaxis\":{\"gridcolor\":\"white\",\"linecolor\":\"white\",\"ticks\":\"\",\"title\":{\"standoff\":15},\"zerolinecolor\":\"white\",\"automargin\":true,\"zerolinewidth\":2},\"scene\":{\"xaxis\":{\"backgroundcolor\":\"#E5ECF6\",\"gridcolor\":\"white\",\"linecolor\":\"white\",\"showbackground\":true,\"ticks\":\"\",\"zerolinecolor\":\"white\",\"gridwidth\":2},\"yaxis\":{\"backgroundcolor\":\"#E5ECF6\",\"gridcolor\":\"white\",\"linecolor\":\"white\",\"showbackground\":true,\"ticks\":\"\",\"zerolinecolor\":\"white\",\"gridwidth\":2},\"zaxis\":{\"backgroundcolor\":\"#E5ECF6\",\"gridcolor\":\"white\",\"linecolor\":\"white\",\"showbackground\":true,\"ticks\":\"\",\"zerolinecolor\":\"white\",\"gridwidth\":2}},\"shapedefaults\":{\"line\":{\"color\":\"#2a3f5f\"}},\"annotationdefaults\":{\"arrowcolor\":\"#2a3f5f\",\"arrowhead\":0,\"arrowwidth\":1},\"geo\":{\"bgcolor\":\"white\",\"landcolor\":\"#E5ECF6\",\"subunitcolor\":\"white\",\"showland\":true,\"showlakes\":true,\"lakecolor\":\"white\"},\"title\":{\"x\":0.05},\"mapbox\":{\"style\":\"light\"}}},\"xaxis\":{\"anchor\":\"y\",\"domain\":[0.0,1.0],\"scaleanchor\":\"y\",\"constrain\":\"domain\"},\"yaxis\":{\"anchor\":\"x\",\"domain\":[0.0,1.0],\"autorange\":\"reversed\",\"constrain\":\"domain\"},\"coloraxis\":{\"colorscale\":[[0.0,\"#0d0887\"],[0.1111111111111111,\"#46039f\"],[0.2222222222222222,\"#7201a8\"],[0.3333333333333333,\"#9c179e\"],[0.4444444444444444,\"#bd3786\"],[0.5555555555555556,\"#d8576b\"],[0.6666666666666666,\"#ed7953\"],[0.7777777777777778,\"#fb9f3a\"],[0.8888888888888888,\"#fdca26\"],[1.0,\"#f0f921\"]]},\"title\":{\"text\":\"Correlation Plot of the titanic survived\"}},                        {\"responsive\": true}                    ).then(function(){\n",
              "                            \n",
              "var gd = document.getElementById('3b4d8ba2-6530-4e15-a2dd-412f964ba901');\n",
              "var x = new MutationObserver(function (mutations, observer) {{\n",
              "        var display = window.getComputedStyle(gd).display;\n",
              "        if (!display || display === 'none') {{\n",
              "            console.log([gd, 'removed!']);\n",
              "            Plotly.purge(gd);\n",
              "            observer.disconnect();\n",
              "        }}\n",
              "}});\n",
              "\n",
              "// Listen for the removal of the full notebook cells\n",
              "var notebookContainer = gd.closest('#notebook-container');\n",
              "if (notebookContainer) {{\n",
              "    x.observe(notebookContainer, {childList: true});\n",
              "}}\n",
              "\n",
              "// Listen for the clearing of the current output cell\n",
              "var outputEl = gd.closest('.output');\n",
              "if (outputEl) {{\n",
              "    x.observe(outputEl, {childList: true});\n",
              "}}\n",
              "\n",
              "                        })                };                            </script>        </div>\n",
              "</body>\n",
              "</html>"
            ]
          },
          "metadata": {}
        }
      ]
    },
    {
      "cell_type": "code",
      "source": [
        "fig = px.scatter(df, x=\"Pclass\", y=\"Survived\", color=\"Sex\", marginal_y=\"violin\",\n",
        "           marginal_x=\"box\", trendline=\"ols\", template=\"simple_white\")# color is hue\n",
        "fig.show()"
      ],
      "metadata": {
        "colab": {
          "base_uri": "https://localhost:8080/",
          "height": 0
        },
        "id": "KyoBmKKPaCzP",
        "outputId": "0794347a-852c-4f04-a30f-745daef54dbf"
      },
      "execution_count": 542,
      "outputs": [
        {
          "output_type": "display_data",
          "data": {
            "text/html": [
              "<html>\n",
              "<head><meta charset=\"utf-8\" /></head>\n",
              "<body>\n",
              "    <div>            <script src=\"https://cdnjs.cloudflare.com/ajax/libs/mathjax/2.7.5/MathJax.js?config=TeX-AMS-MML_SVG\"></script><script type=\"text/javascript\">if (window.MathJax && window.MathJax.Hub && window.MathJax.Hub.Config) {window.MathJax.Hub.Config({SVG: {font: \"STIX-Web\"}});}</script>                <script type=\"text/javascript\">window.PlotlyConfig = {MathJaxConfig: 'local'};</script>\n",
              "        <script charset=\"utf-8\" src=\"https://cdn.plot.ly/plotly-2.24.1.min.js\"></script>                <div id=\"3d45e07c-1c4d-4bb4-a4af-35fcc687d78c\" class=\"plotly-graph-div\" style=\"height:525px; width:100%;\"></div>            <script type=\"text/javascript\">                                    window.PLOTLYENV=window.PLOTLYENV || {};                                    if (document.getElementById(\"3d45e07c-1c4d-4bb4-a4af-35fcc687d78c\")) {                    Plotly.newPlot(                        \"3d45e07c-1c4d-4bb4-a4af-35fcc687d78c\",                        [{\"hovertemplate\":\"Sex=male\\u003cbr\\u003ePclass=%{x}\\u003cbr\\u003eSurvived=%{y}\\u003cextra\\u003e\\u003c\\u002fextra\\u003e\",\"legendgroup\":\"male\",\"marker\":{\"color\":\"#1F77B4\",\"symbol\":\"circle\"},\"mode\":\"markers\",\"name\":\"male\",\"orientation\":\"v\",\"showlegend\":true,\"x\":[3,3,3,1,3,3,3,3,2,2,2,1,3,1,3,1,2,1,1,3,3,3,3,3,3,3,3,1,1,3,3,3,1,3,1,3,3,3,2,2,3,3,3,3,3,2,3,3,1,3,3,3,3,3,1,3,3,3,1,1,2,3,1,3,3,3,3,3,1,3,3,3,2,1,2,3,2,1,3,3,3,3,3,3,2,2,1,3,1,3,2,2,3,2,2,2,3,3,3,1,3,3,3,3,3,3,3,3,1,3,1,3,3,1,3,3,2,3,2,3,2,1,1,3,3,2,2,3,3,3,3,3,3,3,3,3,1,3,3,2,3,2,2,3,2,3,3,1,3,2,3,2,3,2,2,2,2,2,2,3,3,1,1,2,3,1,3,3,3,1,1,2,3,3,1,3,1,2,3,3,3,3,3,1,3,3,3,2,2,3,1,3,1,3,3,3,1,2,3,2,2,3,3,3,3,1,1,3,3,1,3,1,2,2,2,2,3,3,3,1,3,3,3,3,3,2,3,3,3,1,3,3,1,1,3,3,3,3,2,3,3,1,3,3,3,2,2,3,3,3,2,3,2,3,3,3,2,3,2,3,3,3,3,3,3,3,1,3,1,1,2,3,3,3,1,1,1,2,3,1,1,3,3,1,3,1,3,1,2,3,3,2,1,3,3,3,1,2,3,3,3,2,3,1,1,3,3,3,3,1,1,3,3,3,3,3,1,1,3,3,3,3,1,3,1,3,3,3,3,3,3,1,3,2,3,3,1,3,2,1,1,2,3,2,1,2,3,3,1,1,3,3,2,3,3,3,3,3,2,1,3,3,3,2,1,3,2,1,3,3,3,3,2,3,3,3,1,3,1,3,1,3,3,1,3,3,3,3,2,3,1,3,3,3,1,2,3,3,1,3,1,1,3,2,3,3,3,1,3,1,3,3,3,2,3,2,1,1,3,1,3,3,2,2,3,3,1,2,2,2,3,3,1,1,3,3,2,2,3,3,3,1,3,3,1,2,3,1,3,1,3,3,2,1,3,1,1,3,2,3,3,3,3,2,2,1,3,2,3,2,2,2,3,1,3,3,1,1,3,3,1,3,1,3,3,3,3,2,3,2,3,3,3,3,3,1,3,3,3,3,3,3,3,3,1,3,3,3,3,3,1,3,2,1,3,2,3,2,1,3,3,3,1,2,3,3,2,3,1,2,3,3,3,1,3,3,3,2,3,2,3,3,3,3,3,3,1,3,2,3,3,3,3,3,2,3,3,1,3,3,2,2,1,3,3,3,1,3,3,3,3,3,2,3,2,1,3],\"xaxis\":\"x\",\"y\":[0,0,0,0,0,0,0,0,1,0,1,1,0,0,0,0,0,0,0,1,0,0,0,0,0,0,0,0,1,0,0,0,0,0,0,1,0,0,0,0,0,1,0,0,0,1,0,1,0,0,0,0,0,0,0,0,0,0,0,1,0,0,0,0,0,0,1,0,0,0,0,0,0,0,0,0,0,0,1,0,1,0,0,0,0,0,0,0,0,0,0,0,1,0,0,0,0,0,0,0,0,0,0,0,0,0,0,1,0,0,0,0,0,0,0,0,0,0,0,0,1,0,1,0,0,0,1,0,0,0,0,0,0,1,0,1,1,0,0,0,0,0,0,1,0,0,0,1,0,1,0,0,0,0,0,0,0,0,0,0,0,0,1,0,0,0,0,0,1,0,0,0,0,1,0,1,0,0,0,0,0,0,1,0,0,1,0,1,0,0,0,0,1,1,0,0,1,0,0,0,0,0,0,0,0,0,0,0,0,0,1,0,1,0,0,0,1,0,0,0,0,0,0,0,0,0,0,0,0,1,0,0,0,0,0,0,0,0,0,0,0,1,1,0,0,0,0,1,0,0,0,0,1,0,0,0,0,1,0,0,0,0,0,0,0,1,1,0,0,0,0,0,0,1,1,1,1,0,0,0,1,0,1,0,0,1,0,0,0,0,0,0,0,0,0,0,0,0,0,0,0,0,0,1,0,0,1,0,0,0,0,0,0,0,0,0,0,1,0,1,1,0,1,0,0,0,0,0,0,0,0,0,0,0,0,0,0,0,1,0,0,1,0,1,1,0,0,1,0,0,0,0,0,0,0,0,0,1,1,1,0,0,1,0,0,0,0,1,0,0,0,0,0,0,0,0,1,0,0,0,1,0,0,1,0,0,0,0,0,0,1,1,0,0,0,0,0,0,1,0,1,0,0,0,0,0,1,1,0,1,0,0,0,0,0,0,0,1,0,0,0,1,0,0,0,0,0,0,1,0,0,0,1,1,0,0,0,0,0,0,0,1,1,0,0,0,0,0,0,1,0,0,0,1,1,0,1,0,0,0,0,0,0,0,0,1,0,0,0,0,0,0,0,1,0,0,1,0,0,1,0,0,0,0,1,0,0,1,0,0,0,0,0,1,0,0,0,0,0,0,0,0,0,0,0,0,0,0,0,1,0,0,0,0,0,0,0,0,1,1,1,0,0,0,0,0,0,0,0,0,0,0,1,0,0,0,0,1,1,1,0,0,0,0,0,1,1,0,0,0,0,0,0,0,0,0,0,1,0,0,0,0,0,0,1,0,0,0,0,0,0,0,0,0,0,1,0],\"yaxis\":\"y\",\"type\":\"scatter\"},{\"alignmentgroup\":\"True\",\"hovertemplate\":\"Sex=male\\u003cbr\\u003ePclass=%{x}\\u003cextra\\u003e\\u003c\\u002fextra\\u003e\",\"legendgroup\":\"male\",\"marker\":{\"color\":\"#1F77B4\",\"symbol\":\"circle\"},\"name\":\"male\",\"notched\":true,\"offsetgroup\":\"male\",\"showlegend\":false,\"x\":[3,3,3,1,3,3,3,3,2,2,2,1,3,1,3,1,2,1,1,3,3,3,3,3,3,3,3,1,1,3,3,3,1,3,1,3,3,3,2,2,3,3,3,3,3,2,3,3,1,3,3,3,3,3,1,3,3,3,1,1,2,3,1,3,3,3,3,3,1,3,3,3,2,1,2,3,2,1,3,3,3,3,3,3,2,2,1,3,1,3,2,2,3,2,2,2,3,3,3,1,3,3,3,3,3,3,3,3,1,3,1,3,3,1,3,3,2,3,2,3,2,1,1,3,3,2,2,3,3,3,3,3,3,3,3,3,1,3,3,2,3,2,2,3,2,3,3,1,3,2,3,2,3,2,2,2,2,2,2,3,3,1,1,2,3,1,3,3,3,1,1,2,3,3,1,3,1,2,3,3,3,3,3,1,3,3,3,2,2,3,1,3,1,3,3,3,1,2,3,2,2,3,3,3,3,1,1,3,3,1,3,1,2,2,2,2,3,3,3,1,3,3,3,3,3,2,3,3,3,1,3,3,1,1,3,3,3,3,2,3,3,1,3,3,3,2,2,3,3,3,2,3,2,3,3,3,2,3,2,3,3,3,3,3,3,3,1,3,1,1,2,3,3,3,1,1,1,2,3,1,1,3,3,1,3,1,3,1,2,3,3,2,1,3,3,3,1,2,3,3,3,2,3,1,1,3,3,3,3,1,1,3,3,3,3,3,1,1,3,3,3,3,1,3,1,3,3,3,3,3,3,1,3,2,3,3,1,3,2,1,1,2,3,2,1,2,3,3,1,1,3,3,2,3,3,3,3,3,2,1,3,3,3,2,1,3,2,1,3,3,3,3,2,3,3,3,1,3,1,3,1,3,3,1,3,3,3,3,2,3,1,3,3,3,1,2,3,3,1,3,1,1,3,2,3,3,3,1,3,1,3,3,3,2,3,2,1,1,3,1,3,3,2,2,3,3,1,2,2,2,3,3,1,1,3,3,2,2,3,3,3,1,3,3,1,2,3,1,3,1,3,3,2,1,3,1,1,3,2,3,3,3,3,2,2,1,3,2,3,2,2,2,3,1,3,3,1,1,3,3,1,3,1,3,3,3,3,2,3,2,3,3,3,3,3,1,3,3,3,3,3,3,3,3,1,3,3,3,3,3,1,3,2,1,3,2,3,2,1,3,3,3,1,2,3,3,2,3,1,2,3,3,3,1,3,3,3,2,3,2,3,3,3,3,3,3,1,3,2,3,3,3,3,3,2,3,3,1,3,3,2,2,1,3,3,3,1,3,3,3,3,3,2,3,2,1,3],\"xaxis\":\"x3\",\"yaxis\":\"y3\",\"type\":\"box\"},{\"alignmentgroup\":\"True\",\"hovertemplate\":\"Sex=male\\u003cbr\\u003eSurvived=%{y}\\u003cextra\\u003e\\u003c\\u002fextra\\u003e\",\"legendgroup\":\"male\",\"marker\":{\"color\":\"#1F77B4\",\"symbol\":\"circle\"},\"name\":\"male\",\"offsetgroup\":\"male\",\"scalegroup\":\"y\",\"showlegend\":false,\"xaxis\":\"x2\",\"y\":[0,0,0,0,0,0,0,0,1,0,1,1,0,0,0,0,0,0,0,1,0,0,0,0,0,0,0,0,1,0,0,0,0,0,0,1,0,0,0,0,0,1,0,0,0,1,0,1,0,0,0,0,0,0,0,0,0,0,0,1,0,0,0,0,0,0,1,0,0,0,0,0,0,0,0,0,0,0,1,0,1,0,0,0,0,0,0,0,0,0,0,0,1,0,0,0,0,0,0,0,0,0,0,0,0,0,0,1,0,0,0,0,0,0,0,0,0,0,0,0,1,0,1,0,0,0,1,0,0,0,0,0,0,1,0,1,1,0,0,0,0,0,0,1,0,0,0,1,0,1,0,0,0,0,0,0,0,0,0,0,0,0,1,0,0,0,0,0,1,0,0,0,0,1,0,1,0,0,0,0,0,0,1,0,0,1,0,1,0,0,0,0,1,1,0,0,1,0,0,0,0,0,0,0,0,0,0,0,0,0,1,0,1,0,0,0,1,0,0,0,0,0,0,0,0,0,0,0,0,1,0,0,0,0,0,0,0,0,0,0,0,1,1,0,0,0,0,1,0,0,0,0,1,0,0,0,0,1,0,0,0,0,0,0,0,1,1,0,0,0,0,0,0,1,1,1,1,0,0,0,1,0,1,0,0,1,0,0,0,0,0,0,0,0,0,0,0,0,0,0,0,0,0,1,0,0,1,0,0,0,0,0,0,0,0,0,0,1,0,1,1,0,1,0,0,0,0,0,0,0,0,0,0,0,0,0,0,0,1,0,0,1,0,1,1,0,0,1,0,0,0,0,0,0,0,0,0,1,1,1,0,0,1,0,0,0,0,1,0,0,0,0,0,0,0,0,1,0,0,0,1,0,0,1,0,0,0,0,0,0,1,1,0,0,0,0,0,0,1,0,1,0,0,0,0,0,1,1,0,1,0,0,0,0,0,0,0,1,0,0,0,1,0,0,0,0,0,0,1,0,0,0,1,1,0,0,0,0,0,0,0,1,1,0,0,0,0,0,0,1,0,0,0,1,1,0,1,0,0,0,0,0,0,0,0,1,0,0,0,0,0,0,0,1,0,0,1,0,0,1,0,0,0,0,1,0,0,1,0,0,0,0,0,1,0,0,0,0,0,0,0,0,0,0,0,0,0,0,0,1,0,0,0,0,0,0,0,0,1,1,1,0,0,0,0,0,0,0,0,0,0,0,1,0,0,0,0,1,1,1,0,0,0,0,0,1,1,0,0,0,0,0,0,0,0,0,0,1,0,0,0,0,0,0,1,0,0,0,0,0,0,0,0,0,0,1,0],\"yaxis\":\"y2\",\"type\":\"violin\"},{\"hovertemplate\":\"\\u003cb\\u003eOLS trendline\\u003c\\u002fb\\u003e\\u003cbr\\u003eSurvived = -0.106238 * Pclass + 0.442811\\u003cbr\\u003eR\\u003csup\\u003e2\\u003c\\u002fsup\\u003e=0.048672\\u003cbr\\u003e\\u003cbr\\u003eSex=male\\u003cbr\\u003ePclass=%{x}\\u003cbr\\u003eSurvived=%{y} \\u003cb\\u003e(trend)\\u003c\\u002fb\\u003e\\u003cextra\\u003e\\u003c\\u002fextra\\u003e\",\"legendgroup\":\"male\",\"marker\":{\"color\":\"#1F77B4\",\"symbol\":\"circle\"},\"mode\":\"lines\",\"name\":\"male\",\"showlegend\":false,\"x\":[1,1,1,1,1,1,1,1,1,1,1,1,1,1,1,1,1,1,1,1,1,1,1,1,1,1,1,1,1,1,1,1,1,1,1,1,1,1,1,1,1,1,1,1,1,1,1,1,1,1,1,1,1,1,1,1,1,1,1,1,1,1,1,1,1,1,1,1,1,1,1,1,1,1,1,1,1,1,1,1,1,1,1,1,1,1,1,1,1,1,1,1,1,1,1,1,1,1,1,1,1,1,1,1,1,1,1,1,1,1,1,1,1,1,1,1,1,1,1,1,1,1,2,2,2,2,2,2,2,2,2,2,2,2,2,2,2,2,2,2,2,2,2,2,2,2,2,2,2,2,2,2,2,2,2,2,2,2,2,2,2,2,2,2,2,2,2,2,2,2,2,2,2,2,2,2,2,2,2,2,2,2,2,2,2,2,2,2,2,2,2,2,2,2,2,2,2,2,2,2,2,2,2,2,2,2,2,2,2,2,2,2,2,2,2,2,2,2,2,2,2,2,2,2,2,2,2,2,2,2,3,3,3,3,3,3,3,3,3,3,3,3,3,3,3,3,3,3,3,3,3,3,3,3,3,3,3,3,3,3,3,3,3,3,3,3,3,3,3,3,3,3,3,3,3,3,3,3,3,3,3,3,3,3,3,3,3,3,3,3,3,3,3,3,3,3,3,3,3,3,3,3,3,3,3,3,3,3,3,3,3,3,3,3,3,3,3,3,3,3,3,3,3,3,3,3,3,3,3,3,3,3,3,3,3,3,3,3,3,3,3,3,3,3,3,3,3,3,3,3,3,3,3,3,3,3,3,3,3,3,3,3,3,3,3,3,3,3,3,3,3,3,3,3,3,3,3,3,3,3,3,3,3,3,3,3,3,3,3,3,3,3,3,3,3,3,3,3,3,3,3,3,3,3,3,3,3,3,3,3,3,3,3,3,3,3,3,3,3,3,3,3,3,3,3,3,3,3,3,3,3,3,3,3,3,3,3,3,3,3,3,3,3,3,3,3,3,3,3,3,3,3,3,3,3,3,3,3,3,3,3,3,3,3,3,3,3,3,3,3,3,3,3,3,3,3,3,3,3,3,3,3,3,3,3,3,3,3,3,3,3,3,3,3,3,3,3,3,3,3,3,3,3,3,3,3,3,3,3,3,3,3,3,3,3,3,3,3,3,3,3,3,3,3,3,3,3,3,3,3,3,3,3,3,3,3,3,3,3,3,3,3,3,3,3,3,3,3,3,3,3,3,3,3,3,3,3,3,3,3,3,3,3,3,3,3,3,3,3,3,3,3,3,3,3,3,3],\"xaxis\":\"x\",\"y\":[0.33657290397657924,0.33657290397657924,0.33657290397657924,0.33657290397657924,0.33657290397657924,0.33657290397657924,0.33657290397657924,0.33657290397657924,0.33657290397657924,0.33657290397657924,0.33657290397657924,0.33657290397657924,0.33657290397657924,0.33657290397657924,0.33657290397657924,0.33657290397657924,0.33657290397657924,0.33657290397657924,0.33657290397657924,0.33657290397657924,0.33657290397657924,0.33657290397657924,0.33657290397657924,0.33657290397657924,0.33657290397657924,0.33657290397657924,0.33657290397657924,0.33657290397657924,0.33657290397657924,0.33657290397657924,0.33657290397657924,0.33657290397657924,0.33657290397657924,0.33657290397657924,0.33657290397657924,0.33657290397657924,0.33657290397657924,0.33657290397657924,0.33657290397657924,0.33657290397657924,0.33657290397657924,0.33657290397657924,0.33657290397657924,0.33657290397657924,0.33657290397657924,0.33657290397657924,0.33657290397657924,0.33657290397657924,0.33657290397657924,0.33657290397657924,0.33657290397657924,0.33657290397657924,0.33657290397657924,0.33657290397657924,0.33657290397657924,0.33657290397657924,0.33657290397657924,0.33657290397657924,0.33657290397657924,0.33657290397657924,0.33657290397657924,0.33657290397657924,0.33657290397657924,0.33657290397657924,0.33657290397657924,0.33657290397657924,0.33657290397657924,0.33657290397657924,0.33657290397657924,0.33657290397657924,0.33657290397657924,0.33657290397657924,0.33657290397657924,0.33657290397657924,0.33657290397657924,0.33657290397657924,0.33657290397657924,0.33657290397657924,0.33657290397657924,0.33657290397657924,0.33657290397657924,0.33657290397657924,0.33657290397657924,0.33657290397657924,0.33657290397657924,0.33657290397657924,0.33657290397657924,0.33657290397657924,0.33657290397657924,0.33657290397657924,0.33657290397657924,0.33657290397657924,0.33657290397657924,0.33657290397657924,0.33657290397657924,0.33657290397657924,0.33657290397657924,0.33657290397657924,0.33657290397657924,0.33657290397657924,0.33657290397657924,0.33657290397657924,0.33657290397657924,0.33657290397657924,0.33657290397657924,0.33657290397657924,0.33657290397657924,0.33657290397657924,0.33657290397657924,0.33657290397657924,0.33657290397657924,0.33657290397657924,0.33657290397657924,0.33657290397657924,0.33657290397657924,0.33657290397657924,0.33657290397657924,0.33657290397657924,0.33657290397657924,0.33657290397657924,0.33657290397657924,0.33657290397657924,0.2303352910158722,0.2303352910158722,0.2303352910158722,0.2303352910158722,0.2303352910158722,0.2303352910158722,0.2303352910158722,0.2303352910158722,0.2303352910158722,0.2303352910158722,0.2303352910158722,0.2303352910158722,0.2303352910158722,0.2303352910158722,0.2303352910158722,0.2303352910158722,0.2303352910158722,0.2303352910158722,0.2303352910158722,0.2303352910158722,0.2303352910158722,0.2303352910158722,0.2303352910158722,0.2303352910158722,0.2303352910158722,0.2303352910158722,0.2303352910158722,0.2303352910158722,0.2303352910158722,0.2303352910158722,0.2303352910158722,0.2303352910158722,0.2303352910158722,0.2303352910158722,0.2303352910158722,0.2303352910158722,0.2303352910158722,0.2303352910158722,0.2303352910158722,0.2303352910158722,0.2303352910158722,0.2303352910158722,0.2303352910158722,0.2303352910158722,0.2303352910158722,0.2303352910158722,0.2303352910158722,0.2303352910158722,0.2303352910158722,0.2303352910158722,0.2303352910158722,0.2303352910158722,0.2303352910158722,0.2303352910158722,0.2303352910158722,0.2303352910158722,0.2303352910158722,0.2303352910158722,0.2303352910158722,0.2303352910158722,0.2303352910158722,0.2303352910158722,0.2303352910158722,0.2303352910158722,0.2303352910158722,0.2303352910158722,0.2303352910158722,0.2303352910158722,0.2303352910158722,0.2303352910158722,0.2303352910158722,0.2303352910158722,0.2303352910158722,0.2303352910158722,0.2303352910158722,0.2303352910158722,0.2303352910158722,0.2303352910158722,0.2303352910158722,0.2303352910158722,0.2303352910158722,0.2303352910158722,0.2303352910158722,0.2303352910158722,0.2303352910158722,0.2303352910158722,0.2303352910158722,0.2303352910158722,0.2303352910158722,0.2303352910158722,0.2303352910158722,0.2303352910158722,0.2303352910158722,0.2303352910158722,0.2303352910158722,0.2303352910158722,0.2303352910158722,0.2303352910158722,0.2303352910158722,0.2303352910158722,0.2303352910158722,0.2303352910158722,0.2303352910158722,0.2303352910158722,0.2303352910158722,0.2303352910158722,0.2303352910158722,0.2303352910158722,0.12409767805516514,0.12409767805516514,0.12409767805516514,0.12409767805516514,0.12409767805516514,0.12409767805516514,0.12409767805516514,0.12409767805516514,0.12409767805516514,0.12409767805516514,0.12409767805516514,0.12409767805516514,0.12409767805516514,0.12409767805516514,0.12409767805516514,0.12409767805516514,0.12409767805516514,0.12409767805516514,0.12409767805516514,0.12409767805516514,0.12409767805516514,0.12409767805516514,0.12409767805516514,0.12409767805516514,0.12409767805516514,0.12409767805516514,0.12409767805516514,0.12409767805516514,0.12409767805516514,0.12409767805516514,0.12409767805516514,0.12409767805516514,0.12409767805516514,0.12409767805516514,0.12409767805516514,0.12409767805516514,0.12409767805516514,0.12409767805516514,0.12409767805516514,0.12409767805516514,0.12409767805516514,0.12409767805516514,0.12409767805516514,0.12409767805516514,0.12409767805516514,0.12409767805516514,0.12409767805516514,0.12409767805516514,0.12409767805516514,0.12409767805516514,0.12409767805516514,0.12409767805516514,0.12409767805516514,0.12409767805516514,0.12409767805516514,0.12409767805516514,0.12409767805516514,0.12409767805516514,0.12409767805516514,0.12409767805516514,0.12409767805516514,0.12409767805516514,0.12409767805516514,0.12409767805516514,0.12409767805516514,0.12409767805516514,0.12409767805516514,0.12409767805516514,0.12409767805516514,0.12409767805516514,0.12409767805516514,0.12409767805516514,0.12409767805516514,0.12409767805516514,0.12409767805516514,0.12409767805516514,0.12409767805516514,0.12409767805516514,0.12409767805516514,0.12409767805516514,0.12409767805516514,0.12409767805516514,0.12409767805516514,0.12409767805516514,0.12409767805516514,0.12409767805516514,0.12409767805516514,0.12409767805516514,0.12409767805516514,0.12409767805516514,0.12409767805516514,0.12409767805516514,0.12409767805516514,0.12409767805516514,0.12409767805516514,0.12409767805516514,0.12409767805516514,0.12409767805516514,0.12409767805516514,0.12409767805516514,0.12409767805516514,0.12409767805516514,0.12409767805516514,0.12409767805516514,0.12409767805516514,0.12409767805516514,0.12409767805516514,0.12409767805516514,0.12409767805516514,0.12409767805516514,0.12409767805516514,0.12409767805516514,0.12409767805516514,0.12409767805516514,0.12409767805516514,0.12409767805516514,0.12409767805516514,0.12409767805516514,0.12409767805516514,0.12409767805516514,0.12409767805516514,0.12409767805516514,0.12409767805516514,0.12409767805516514,0.12409767805516514,0.12409767805516514,0.12409767805516514,0.12409767805516514,0.12409767805516514,0.12409767805516514,0.12409767805516514,0.12409767805516514,0.12409767805516514,0.12409767805516514,0.12409767805516514,0.12409767805516514,0.12409767805516514,0.12409767805516514,0.12409767805516514,0.12409767805516514,0.12409767805516514,0.12409767805516514,0.12409767805516514,0.12409767805516514,0.12409767805516514,0.12409767805516514,0.12409767805516514,0.12409767805516514,0.12409767805516514,0.12409767805516514,0.12409767805516514,0.12409767805516514,0.12409767805516514,0.12409767805516514,0.12409767805516514,0.12409767805516514,0.12409767805516514,0.12409767805516514,0.12409767805516514,0.12409767805516514,0.12409767805516514,0.12409767805516514,0.12409767805516514,0.12409767805516514,0.12409767805516514,0.12409767805516514,0.12409767805516514,0.12409767805516514,0.12409767805516514,0.12409767805516514,0.12409767805516514,0.12409767805516514,0.12409767805516514,0.12409767805516514,0.12409767805516514,0.12409767805516514,0.12409767805516514,0.12409767805516514,0.12409767805516514,0.12409767805516514,0.12409767805516514,0.12409767805516514,0.12409767805516514,0.12409767805516514,0.12409767805516514,0.12409767805516514,0.12409767805516514,0.12409767805516514,0.12409767805516514,0.12409767805516514,0.12409767805516514,0.12409767805516514,0.12409767805516514,0.12409767805516514,0.12409767805516514,0.12409767805516514,0.12409767805516514,0.12409767805516514,0.12409767805516514,0.12409767805516514,0.12409767805516514,0.12409767805516514,0.12409767805516514,0.12409767805516514,0.12409767805516514,0.12409767805516514,0.12409767805516514,0.12409767805516514,0.12409767805516514,0.12409767805516514,0.12409767805516514,0.12409767805516514,0.12409767805516514,0.12409767805516514,0.12409767805516514,0.12409767805516514,0.12409767805516514,0.12409767805516514,0.12409767805516514,0.12409767805516514,0.12409767805516514,0.12409767805516514,0.12409767805516514,0.12409767805516514,0.12409767805516514,0.12409767805516514,0.12409767805516514,0.12409767805516514,0.12409767805516514,0.12409767805516514,0.12409767805516514,0.12409767805516514,0.12409767805516514,0.12409767805516514,0.12409767805516514,0.12409767805516514,0.12409767805516514,0.12409767805516514,0.12409767805516514,0.12409767805516514,0.12409767805516514,0.12409767805516514,0.12409767805516514,0.12409767805516514,0.12409767805516514,0.12409767805516514,0.12409767805516514,0.12409767805516514,0.12409767805516514,0.12409767805516514,0.12409767805516514,0.12409767805516514,0.12409767805516514,0.12409767805516514,0.12409767805516514,0.12409767805516514,0.12409767805516514,0.12409767805516514,0.12409767805516514,0.12409767805516514,0.12409767805516514,0.12409767805516514,0.12409767805516514,0.12409767805516514,0.12409767805516514,0.12409767805516514,0.12409767805516514,0.12409767805516514,0.12409767805516514,0.12409767805516514,0.12409767805516514,0.12409767805516514,0.12409767805516514,0.12409767805516514,0.12409767805516514,0.12409767805516514,0.12409767805516514,0.12409767805516514,0.12409767805516514,0.12409767805516514,0.12409767805516514,0.12409767805516514,0.12409767805516514,0.12409767805516514,0.12409767805516514,0.12409767805516514,0.12409767805516514,0.12409767805516514,0.12409767805516514,0.12409767805516514,0.12409767805516514,0.12409767805516514,0.12409767805516514,0.12409767805516514,0.12409767805516514,0.12409767805516514,0.12409767805516514,0.12409767805516514,0.12409767805516514,0.12409767805516514,0.12409767805516514,0.12409767805516514,0.12409767805516514,0.12409767805516514,0.12409767805516514,0.12409767805516514,0.12409767805516514,0.12409767805516514,0.12409767805516514,0.12409767805516514,0.12409767805516514,0.12409767805516514,0.12409767805516514,0.12409767805516514,0.12409767805516514,0.12409767805516514,0.12409767805516514,0.12409767805516514,0.12409767805516514,0.12409767805516514,0.12409767805516514,0.12409767805516514,0.12409767805516514,0.12409767805516514,0.12409767805516514,0.12409767805516514,0.12409767805516514,0.12409767805516514,0.12409767805516514,0.12409767805516514,0.12409767805516514,0.12409767805516514,0.12409767805516514,0.12409767805516514,0.12409767805516514,0.12409767805516514,0.12409767805516514,0.12409767805516514,0.12409767805516514,0.12409767805516514,0.12409767805516514,0.12409767805516514,0.12409767805516514,0.12409767805516514,0.12409767805516514,0.12409767805516514,0.12409767805516514],\"yaxis\":\"y\",\"type\":\"scatter\"},{\"hovertemplate\":\"Sex=female\\u003cbr\\u003ePclass=%{x}\\u003cbr\\u003eSurvived=%{y}\\u003cextra\\u003e\\u003c\\u002fextra\\u003e\",\"legendgroup\":\"female\",\"marker\":{\"color\":\"#FF7F0E\",\"symbol\":\"circle\"},\"mode\":\"markers\",\"name\":\"female\",\"orientation\":\"v\",\"showlegend\":true,\"x\":[1,3,1,3,2,3,1,3,2,3,3,3,3,3,3,1,3,3,3,3,2,2,3,3,3,1,2,2,2,1,2,3,3,3,3,2,3,1,2,3,3,3,3,3,3,3,2,3,3,2,1,3,3,3,3,1,3,2,1,3,3,1,3,3,3,2,3,1,1,3,2,3,3,2,1,3,1,3,1,3,3,2,3,3,3,2,3,3,3,1,1,1,2,3,1,1,2,3,1,3,3,3,1,1,3,1,1,3,2,1,1,1,1,1,2,3,2,1,1,2,2,1,2,3,1,3,1,1,1,2,2,3,1,2,3,3,3,1,3,3,1,3,1,3,1,3,1,2,2,1,3,3,2,3,3,3,1,3,2,2,3,3,2,2,3,2,1,3,2,2,2,2,3,1,2,3,2,2,3,3,3,3,1,1,1,3,3,3,1,2,1,2,2,1,1,2,2,3,3,2,1,1,1,3,3,2,3,1,1,3,3,3,1,3,2,1,3,2,1,1,1,3,2,2,2,1,3,3,2,3,2,1,3,2,3,1,3,3,3,2,3,3,3,1,2,3,3,3,1,3,3,1,3,2,1,1,1,2,2,2,3,3,1,3,1,2,2,2,1,1,1,3,2,2,3,1,3,1,3,3,1,3,3,2,3,1,3,3,1,3,1,3,1,1,1,3,1,2,3,1,3,1,3,2,2,1,2,3,1,2,3,3,1,3],\"xaxis\":\"x\",\"y\":[1,1,1,1,1,1,1,0,1,0,1,1,0,1,1,1,1,0,1,0,0,1,1,1,0,1,1,1,1,1,1,1,0,1,1,1,1,1,1,0,1,1,0,0,0,0,1,1,0,1,1,0,1,1,0,1,1,1,1,0,1,0,0,1,1,1,1,1,1,1,0,0,1,1,1,1,1,0,1,1,0,1,0,1,0,1,0,0,1,1,1,1,1,0,1,1,1,1,1,0,1,1,1,1,0,0,1,1,1,1,1,1,1,1,0,1,1,1,1,1,1,1,1,1,1,1,1,1,1,1,1,1,1,0,1,1,0,1,1,1,1,0,1,1,1,1,1,1,1,1,1,0,1,0,0,0,1,0,1,1,0,0,1,1,1,1,1,0,1,1,1,1,1,1,1,1,1,1,0,1,1,0,1,1,0,0,0,0,1,1,1,1,1,1,1,1,1,1,0,1,1,1,1,0,0,1,1,1,1,1,0,0,1,1,1,1,0,1,1,1,1,0,1,1,1,1,0,1,1,0,1,1,0,1,0,1,0,1,1,1,1,0,0,1,1,1,0,0,1,1,1,1,0,1,1,1,1,1,1,1,1,0,1,0,1,1,1,1,1,1,1,0,0,1,1,1,1,1,1,0,1,1,0,1,0,1,0,0,1,1,1,1,1,1,1,0,1,0,1,1,1,1,0,1,1,1,1,1,1,1,0,0,1,0],\"yaxis\":\"y\",\"type\":\"scatter\"},{\"alignmentgroup\":\"True\",\"hovertemplate\":\"Sex=female\\u003cbr\\u003ePclass=%{x}\\u003cextra\\u003e\\u003c\\u002fextra\\u003e\",\"legendgroup\":\"female\",\"marker\":{\"color\":\"#FF7F0E\",\"symbol\":\"circle\"},\"name\":\"female\",\"notched\":true,\"offsetgroup\":\"female\",\"showlegend\":false,\"x\":[1,3,1,3,2,3,1,3,2,3,3,3,3,3,3,1,3,3,3,3,2,2,3,3,3,1,2,2,2,1,2,3,3,3,3,2,3,1,2,3,3,3,3,3,3,3,2,3,3,2,1,3,3,3,3,1,3,2,1,3,3,1,3,3,3,2,3,1,1,3,2,3,3,2,1,3,1,3,1,3,3,2,3,3,3,2,3,3,3,1,1,1,2,3,1,1,2,3,1,3,3,3,1,1,3,1,1,3,2,1,1,1,1,1,2,3,2,1,1,2,2,1,2,3,1,3,1,1,1,2,2,3,1,2,3,3,3,1,3,3,1,3,1,3,1,3,1,2,2,1,3,3,2,3,3,3,1,3,2,2,3,3,2,2,3,2,1,3,2,2,2,2,3,1,2,3,2,2,3,3,3,3,1,1,1,3,3,3,1,2,1,2,2,1,1,2,2,3,3,2,1,1,1,3,3,2,3,1,1,3,3,3,1,3,2,1,3,2,1,1,1,3,2,2,2,1,3,3,2,3,2,1,3,2,3,1,3,3,3,2,3,3,3,1,2,3,3,3,1,3,3,1,3,2,1,1,1,2,2,2,3,3,1,3,1,2,2,2,1,1,1,3,2,2,3,1,3,1,3,3,1,3,3,2,3,1,3,3,1,3,1,3,1,1,1,3,1,2,3,1,3,1,3,2,2,1,2,3,1,2,3,3,1,3],\"xaxis\":\"x3\",\"yaxis\":\"y3\",\"type\":\"box\"},{\"alignmentgroup\":\"True\",\"hovertemplate\":\"Sex=female\\u003cbr\\u003eSurvived=%{y}\\u003cextra\\u003e\\u003c\\u002fextra\\u003e\",\"legendgroup\":\"female\",\"marker\":{\"color\":\"#FF7F0E\",\"symbol\":\"circle\"},\"name\":\"female\",\"offsetgroup\":\"female\",\"scalegroup\":\"y\",\"showlegend\":false,\"xaxis\":\"x2\",\"y\":[1,1,1,1,1,1,1,0,1,0,1,1,0,1,1,1,1,0,1,0,0,1,1,1,0,1,1,1,1,1,1,1,0,1,1,1,1,1,1,0,1,1,0,0,0,0,1,1,0,1,1,0,1,1,0,1,1,1,1,0,1,0,0,1,1,1,1,1,1,1,0,0,1,1,1,1,1,0,1,1,0,1,0,1,0,1,0,0,1,1,1,1,1,0,1,1,1,1,1,0,1,1,1,1,0,0,1,1,1,1,1,1,1,1,0,1,1,1,1,1,1,1,1,1,1,1,1,1,1,1,1,1,1,0,1,1,0,1,1,1,1,0,1,1,1,1,1,1,1,1,1,0,1,0,0,0,1,0,1,1,0,0,1,1,1,1,1,0,1,1,1,1,1,1,1,1,1,1,0,1,1,0,1,1,0,0,0,0,1,1,1,1,1,1,1,1,1,1,0,1,1,1,1,0,0,1,1,1,1,1,0,0,1,1,1,1,0,1,1,1,1,0,1,1,1,1,0,1,1,0,1,1,0,1,0,1,0,1,1,1,1,0,0,1,1,1,0,0,1,1,1,1,0,1,1,1,1,1,1,1,1,0,1,0,1,1,1,1,1,1,1,0,0,1,1,1,1,1,1,0,1,1,0,1,0,1,0,0,1,1,1,1,1,1,1,0,1,0,1,1,1,1,0,1,1,1,1,1,1,1,0,0,1,0],\"yaxis\":\"y2\",\"type\":\"violin\"},{\"hovertemplate\":\"\\u003cb\\u003eOLS trendline\\u003c\\u002fb\\u003e\\u003cbr\\u003eSurvived = -0.243881 * Pclass + 1.26863\\u003cbr\\u003eR\\u003csup\\u003e2\\u003c\\u002fsup\\u003e=0.227638\\u003cbr\\u003e\\u003cbr\\u003eSex=female\\u003cbr\\u003ePclass=%{x}\\u003cbr\\u003eSurvived=%{y} \\u003cb\\u003e(trend)\\u003c\\u002fb\\u003e\\u003cextra\\u003e\\u003c\\u002fextra\\u003e\",\"legendgroup\":\"female\",\"marker\":{\"color\":\"#FF7F0E\",\"symbol\":\"circle\"},\"mode\":\"lines\",\"name\":\"female\",\"showlegend\":false,\"x\":[1,1,1,1,1,1,1,1,1,1,1,1,1,1,1,1,1,1,1,1,1,1,1,1,1,1,1,1,1,1,1,1,1,1,1,1,1,1,1,1,1,1,1,1,1,1,1,1,1,1,1,1,1,1,1,1,1,1,1,1,1,1,1,1,1,1,1,1,1,1,1,1,1,1,1,1,1,1,1,1,1,1,1,1,1,1,1,1,1,1,1,1,1,1,2,2,2,2,2,2,2,2,2,2,2,2,2,2,2,2,2,2,2,2,2,2,2,2,2,2,2,2,2,2,2,2,2,2,2,2,2,2,2,2,2,2,2,2,2,2,2,2,2,2,2,2,2,2,2,2,2,2,2,2,2,2,2,2,2,2,2,2,2,2,2,2,2,2,2,2,3,3,3,3,3,3,3,3,3,3,3,3,3,3,3,3,3,3,3,3,3,3,3,3,3,3,3,3,3,3,3,3,3,3,3,3,3,3,3,3,3,3,3,3,3,3,3,3,3,3,3,3,3,3,3,3,3,3,3,3,3,3,3,3,3,3,3,3,3,3,3,3,3,3,3,3,3,3,3,3,3,3,3,3,3,3,3,3,3,3,3,3,3,3,3,3,3,3,3,3,3,3,3,3,3,3,3,3,3,3,3,3,3,3,3,3,3,3,3,3,3,3,3,3,3,3,3,3,3,3,3,3,3,3,3,3,3,3,3,3,3,3,3,3],\"xaxis\":\"x\",\"y\":[1.024753571824118,1.024753571824118,1.024753571824118,1.024753571824118,1.024753571824118,1.024753571824118,1.024753571824118,1.024753571824118,1.024753571824118,1.024753571824118,1.024753571824118,1.024753571824118,1.024753571824118,1.024753571824118,1.024753571824118,1.024753571824118,1.024753571824118,1.024753571824118,1.024753571824118,1.024753571824118,1.024753571824118,1.024753571824118,1.024753571824118,1.024753571824118,1.024753571824118,1.024753571824118,1.024753571824118,1.024753571824118,1.024753571824118,1.024753571824118,1.024753571824118,1.024753571824118,1.024753571824118,1.024753571824118,1.024753571824118,1.024753571824118,1.024753571824118,1.024753571824118,1.024753571824118,1.024753571824118,1.024753571824118,1.024753571824118,1.024753571824118,1.024753571824118,1.024753571824118,1.024753571824118,1.024753571824118,1.024753571824118,1.024753571824118,1.024753571824118,1.024753571824118,1.024753571824118,1.024753571824118,1.024753571824118,1.024753571824118,1.024753571824118,1.024753571824118,1.024753571824118,1.024753571824118,1.024753571824118,1.024753571824118,1.024753571824118,1.024753571824118,1.024753571824118,1.024753571824118,1.024753571824118,1.024753571824118,1.024753571824118,1.024753571824118,1.024753571824118,1.024753571824118,1.024753571824118,1.024753571824118,1.024753571824118,1.024753571824118,1.024753571824118,1.024753571824118,1.024753571824118,1.024753571824118,1.024753571824118,1.024753571824118,1.024753571824118,1.024753571824118,1.024753571824118,1.024753571824118,1.024753571824118,1.024753571824118,1.024753571824118,1.024753571824118,1.024753571824118,1.024753571824118,1.024753571824118,1.024753571824118,1.024753571824118,0.780872743382429,0.780872743382429,0.780872743382429,0.780872743382429,0.780872743382429,0.780872743382429,0.780872743382429,0.780872743382429,0.780872743382429,0.780872743382429,0.780872743382429,0.780872743382429,0.780872743382429,0.780872743382429,0.780872743382429,0.780872743382429,0.780872743382429,0.780872743382429,0.780872743382429,0.780872743382429,0.780872743382429,0.780872743382429,0.780872743382429,0.780872743382429,0.780872743382429,0.780872743382429,0.780872743382429,0.780872743382429,0.780872743382429,0.780872743382429,0.780872743382429,0.780872743382429,0.780872743382429,0.780872743382429,0.780872743382429,0.780872743382429,0.780872743382429,0.780872743382429,0.780872743382429,0.780872743382429,0.780872743382429,0.780872743382429,0.780872743382429,0.780872743382429,0.780872743382429,0.780872743382429,0.780872743382429,0.780872743382429,0.780872743382429,0.780872743382429,0.780872743382429,0.780872743382429,0.780872743382429,0.780872743382429,0.780872743382429,0.780872743382429,0.780872743382429,0.780872743382429,0.780872743382429,0.780872743382429,0.780872743382429,0.780872743382429,0.780872743382429,0.780872743382429,0.780872743382429,0.780872743382429,0.780872743382429,0.780872743382429,0.780872743382429,0.780872743382429,0.780872743382429,0.780872743382429,0.780872743382429,0.780872743382429,0.780872743382429,0.780872743382429,0.5369919149407398,0.5369919149407398,0.5369919149407398,0.5369919149407398,0.5369919149407398,0.5369919149407398,0.5369919149407398,0.5369919149407398,0.5369919149407398,0.5369919149407398,0.5369919149407398,0.5369919149407398,0.5369919149407398,0.5369919149407398,0.5369919149407398,0.5369919149407398,0.5369919149407398,0.5369919149407398,0.5369919149407398,0.5369919149407398,0.5369919149407398,0.5369919149407398,0.5369919149407398,0.5369919149407398,0.5369919149407398,0.5369919149407398,0.5369919149407398,0.5369919149407398,0.5369919149407398,0.5369919149407398,0.5369919149407398,0.5369919149407398,0.5369919149407398,0.5369919149407398,0.5369919149407398,0.5369919149407398,0.5369919149407398,0.5369919149407398,0.5369919149407398,0.5369919149407398,0.5369919149407398,0.5369919149407398,0.5369919149407398,0.5369919149407398,0.5369919149407398,0.5369919149407398,0.5369919149407398,0.5369919149407398,0.5369919149407398,0.5369919149407398,0.5369919149407398,0.5369919149407398,0.5369919149407398,0.5369919149407398,0.5369919149407398,0.5369919149407398,0.5369919149407398,0.5369919149407398,0.5369919149407398,0.5369919149407398,0.5369919149407398,0.5369919149407398,0.5369919149407398,0.5369919149407398,0.5369919149407398,0.5369919149407398,0.5369919149407398,0.5369919149407398,0.5369919149407398,0.5369919149407398,0.5369919149407398,0.5369919149407398,0.5369919149407398,0.5369919149407398,0.5369919149407398,0.5369919149407398,0.5369919149407398,0.5369919149407398,0.5369919149407398,0.5369919149407398,0.5369919149407398,0.5369919149407398,0.5369919149407398,0.5369919149407398,0.5369919149407398,0.5369919149407398,0.5369919149407398,0.5369919149407398,0.5369919149407398,0.5369919149407398,0.5369919149407398,0.5369919149407398,0.5369919149407398,0.5369919149407398,0.5369919149407398,0.5369919149407398,0.5369919149407398,0.5369919149407398,0.5369919149407398,0.5369919149407398,0.5369919149407398,0.5369919149407398,0.5369919149407398,0.5369919149407398,0.5369919149407398,0.5369919149407398,0.5369919149407398,0.5369919149407398,0.5369919149407398,0.5369919149407398,0.5369919149407398,0.5369919149407398,0.5369919149407398,0.5369919149407398,0.5369919149407398,0.5369919149407398,0.5369919149407398,0.5369919149407398,0.5369919149407398,0.5369919149407398,0.5369919149407398,0.5369919149407398,0.5369919149407398,0.5369919149407398,0.5369919149407398,0.5369919149407398,0.5369919149407398,0.5369919149407398,0.5369919149407398,0.5369919149407398,0.5369919149407398,0.5369919149407398,0.5369919149407398,0.5369919149407398,0.5369919149407398,0.5369919149407398,0.5369919149407398,0.5369919149407398,0.5369919149407398,0.5369919149407398,0.5369919149407398,0.5369919149407398,0.5369919149407398,0.5369919149407398],\"yaxis\":\"y\",\"type\":\"scatter\"}],                        {\"template\":{\"data\":{\"barpolar\":[{\"marker\":{\"line\":{\"color\":\"white\",\"width\":0.5},\"pattern\":{\"fillmode\":\"overlay\",\"size\":10,\"solidity\":0.2}},\"type\":\"barpolar\"}],\"bar\":[{\"error_x\":{\"color\":\"rgb(36,36,36)\"},\"error_y\":{\"color\":\"rgb(36,36,36)\"},\"marker\":{\"line\":{\"color\":\"white\",\"width\":0.5},\"pattern\":{\"fillmode\":\"overlay\",\"size\":10,\"solidity\":0.2}},\"type\":\"bar\"}],\"carpet\":[{\"aaxis\":{\"endlinecolor\":\"rgb(36,36,36)\",\"gridcolor\":\"white\",\"linecolor\":\"white\",\"minorgridcolor\":\"white\",\"startlinecolor\":\"rgb(36,36,36)\"},\"baxis\":{\"endlinecolor\":\"rgb(36,36,36)\",\"gridcolor\":\"white\",\"linecolor\":\"white\",\"minorgridcolor\":\"white\",\"startlinecolor\":\"rgb(36,36,36)\"},\"type\":\"carpet\"}],\"choropleth\":[{\"colorbar\":{\"outlinewidth\":1,\"tickcolor\":\"rgb(36,36,36)\",\"ticks\":\"outside\"},\"type\":\"choropleth\"}],\"contourcarpet\":[{\"colorbar\":{\"outlinewidth\":1,\"tickcolor\":\"rgb(36,36,36)\",\"ticks\":\"outside\"},\"type\":\"contourcarpet\"}],\"contour\":[{\"colorbar\":{\"outlinewidth\":1,\"tickcolor\":\"rgb(36,36,36)\",\"ticks\":\"outside\"},\"colorscale\":[[0.0,\"#440154\"],[0.1111111111111111,\"#482878\"],[0.2222222222222222,\"#3e4989\"],[0.3333333333333333,\"#31688e\"],[0.4444444444444444,\"#26828e\"],[0.5555555555555556,\"#1f9e89\"],[0.6666666666666666,\"#35b779\"],[0.7777777777777778,\"#6ece58\"],[0.8888888888888888,\"#b5de2b\"],[1.0,\"#fde725\"]],\"type\":\"contour\"}],\"heatmapgl\":[{\"colorbar\":{\"outlinewidth\":1,\"tickcolor\":\"rgb(36,36,36)\",\"ticks\":\"outside\"},\"colorscale\":[[0.0,\"#440154\"],[0.1111111111111111,\"#482878\"],[0.2222222222222222,\"#3e4989\"],[0.3333333333333333,\"#31688e\"],[0.4444444444444444,\"#26828e\"],[0.5555555555555556,\"#1f9e89\"],[0.6666666666666666,\"#35b779\"],[0.7777777777777778,\"#6ece58\"],[0.8888888888888888,\"#b5de2b\"],[1.0,\"#fde725\"]],\"type\":\"heatmapgl\"}],\"heatmap\":[{\"colorbar\":{\"outlinewidth\":1,\"tickcolor\":\"rgb(36,36,36)\",\"ticks\":\"outside\"},\"colorscale\":[[0.0,\"#440154\"],[0.1111111111111111,\"#482878\"],[0.2222222222222222,\"#3e4989\"],[0.3333333333333333,\"#31688e\"],[0.4444444444444444,\"#26828e\"],[0.5555555555555556,\"#1f9e89\"],[0.6666666666666666,\"#35b779\"],[0.7777777777777778,\"#6ece58\"],[0.8888888888888888,\"#b5de2b\"],[1.0,\"#fde725\"]],\"type\":\"heatmap\"}],\"histogram2dcontour\":[{\"colorbar\":{\"outlinewidth\":1,\"tickcolor\":\"rgb(36,36,36)\",\"ticks\":\"outside\"},\"colorscale\":[[0.0,\"#440154\"],[0.1111111111111111,\"#482878\"],[0.2222222222222222,\"#3e4989\"],[0.3333333333333333,\"#31688e\"],[0.4444444444444444,\"#26828e\"],[0.5555555555555556,\"#1f9e89\"],[0.6666666666666666,\"#35b779\"],[0.7777777777777778,\"#6ece58\"],[0.8888888888888888,\"#b5de2b\"],[1.0,\"#fde725\"]],\"type\":\"histogram2dcontour\"}],\"histogram2d\":[{\"colorbar\":{\"outlinewidth\":1,\"tickcolor\":\"rgb(36,36,36)\",\"ticks\":\"outside\"},\"colorscale\":[[0.0,\"#440154\"],[0.1111111111111111,\"#482878\"],[0.2222222222222222,\"#3e4989\"],[0.3333333333333333,\"#31688e\"],[0.4444444444444444,\"#26828e\"],[0.5555555555555556,\"#1f9e89\"],[0.6666666666666666,\"#35b779\"],[0.7777777777777778,\"#6ece58\"],[0.8888888888888888,\"#b5de2b\"],[1.0,\"#fde725\"]],\"type\":\"histogram2d\"}],\"histogram\":[{\"marker\":{\"line\":{\"color\":\"white\",\"width\":0.6}},\"type\":\"histogram\"}],\"mesh3d\":[{\"colorbar\":{\"outlinewidth\":1,\"tickcolor\":\"rgb(36,36,36)\",\"ticks\":\"outside\"},\"type\":\"mesh3d\"}],\"parcoords\":[{\"line\":{\"colorbar\":{\"outlinewidth\":1,\"tickcolor\":\"rgb(36,36,36)\",\"ticks\":\"outside\"}},\"type\":\"parcoords\"}],\"pie\":[{\"automargin\":true,\"type\":\"pie\"}],\"scatter3d\":[{\"line\":{\"colorbar\":{\"outlinewidth\":1,\"tickcolor\":\"rgb(36,36,36)\",\"ticks\":\"outside\"}},\"marker\":{\"colorbar\":{\"outlinewidth\":1,\"tickcolor\":\"rgb(36,36,36)\",\"ticks\":\"outside\"}},\"type\":\"scatter3d\"}],\"scattercarpet\":[{\"marker\":{\"colorbar\":{\"outlinewidth\":1,\"tickcolor\":\"rgb(36,36,36)\",\"ticks\":\"outside\"}},\"type\":\"scattercarpet\"}],\"scattergeo\":[{\"marker\":{\"colorbar\":{\"outlinewidth\":1,\"tickcolor\":\"rgb(36,36,36)\",\"ticks\":\"outside\"}},\"type\":\"scattergeo\"}],\"scattergl\":[{\"marker\":{\"colorbar\":{\"outlinewidth\":1,\"tickcolor\":\"rgb(36,36,36)\",\"ticks\":\"outside\"}},\"type\":\"scattergl\"}],\"scattermapbox\":[{\"marker\":{\"colorbar\":{\"outlinewidth\":1,\"tickcolor\":\"rgb(36,36,36)\",\"ticks\":\"outside\"}},\"type\":\"scattermapbox\"}],\"scatterpolargl\":[{\"marker\":{\"colorbar\":{\"outlinewidth\":1,\"tickcolor\":\"rgb(36,36,36)\",\"ticks\":\"outside\"}},\"type\":\"scatterpolargl\"}],\"scatterpolar\":[{\"marker\":{\"colorbar\":{\"outlinewidth\":1,\"tickcolor\":\"rgb(36,36,36)\",\"ticks\":\"outside\"}},\"type\":\"scatterpolar\"}],\"scatter\":[{\"fillpattern\":{\"fillmode\":\"overlay\",\"size\":10,\"solidity\":0.2},\"type\":\"scatter\"}],\"scatterternary\":[{\"marker\":{\"colorbar\":{\"outlinewidth\":1,\"tickcolor\":\"rgb(36,36,36)\",\"ticks\":\"outside\"}},\"type\":\"scatterternary\"}],\"surface\":[{\"colorbar\":{\"outlinewidth\":1,\"tickcolor\":\"rgb(36,36,36)\",\"ticks\":\"outside\"},\"colorscale\":[[0.0,\"#440154\"],[0.1111111111111111,\"#482878\"],[0.2222222222222222,\"#3e4989\"],[0.3333333333333333,\"#31688e\"],[0.4444444444444444,\"#26828e\"],[0.5555555555555556,\"#1f9e89\"],[0.6666666666666666,\"#35b779\"],[0.7777777777777778,\"#6ece58\"],[0.8888888888888888,\"#b5de2b\"],[1.0,\"#fde725\"]],\"type\":\"surface\"}],\"table\":[{\"cells\":{\"fill\":{\"color\":\"rgb(237,237,237)\"},\"line\":{\"color\":\"white\"}},\"header\":{\"fill\":{\"color\":\"rgb(217,217,217)\"},\"line\":{\"color\":\"white\"}},\"type\":\"table\"}]},\"layout\":{\"annotationdefaults\":{\"arrowhead\":0,\"arrowwidth\":1},\"autotypenumbers\":\"strict\",\"coloraxis\":{\"colorbar\":{\"outlinewidth\":1,\"tickcolor\":\"rgb(36,36,36)\",\"ticks\":\"outside\"}},\"colorscale\":{\"diverging\":[[0.0,\"rgb(103,0,31)\"],[0.1,\"rgb(178,24,43)\"],[0.2,\"rgb(214,96,77)\"],[0.3,\"rgb(244,165,130)\"],[0.4,\"rgb(253,219,199)\"],[0.5,\"rgb(247,247,247)\"],[0.6,\"rgb(209,229,240)\"],[0.7,\"rgb(146,197,222)\"],[0.8,\"rgb(67,147,195)\"],[0.9,\"rgb(33,102,172)\"],[1.0,\"rgb(5,48,97)\"]],\"sequential\":[[0.0,\"#440154\"],[0.1111111111111111,\"#482878\"],[0.2222222222222222,\"#3e4989\"],[0.3333333333333333,\"#31688e\"],[0.4444444444444444,\"#26828e\"],[0.5555555555555556,\"#1f9e89\"],[0.6666666666666666,\"#35b779\"],[0.7777777777777778,\"#6ece58\"],[0.8888888888888888,\"#b5de2b\"],[1.0,\"#fde725\"]],\"sequentialminus\":[[0.0,\"#440154\"],[0.1111111111111111,\"#482878\"],[0.2222222222222222,\"#3e4989\"],[0.3333333333333333,\"#31688e\"],[0.4444444444444444,\"#26828e\"],[0.5555555555555556,\"#1f9e89\"],[0.6666666666666666,\"#35b779\"],[0.7777777777777778,\"#6ece58\"],[0.8888888888888888,\"#b5de2b\"],[1.0,\"#fde725\"]]},\"colorway\":[\"#1F77B4\",\"#FF7F0E\",\"#2CA02C\",\"#D62728\",\"#9467BD\",\"#8C564B\",\"#E377C2\",\"#7F7F7F\",\"#BCBD22\",\"#17BECF\"],\"font\":{\"color\":\"rgb(36,36,36)\"},\"geo\":{\"bgcolor\":\"white\",\"lakecolor\":\"white\",\"landcolor\":\"white\",\"showlakes\":true,\"showland\":true,\"subunitcolor\":\"white\"},\"hoverlabel\":{\"align\":\"left\"},\"hovermode\":\"closest\",\"mapbox\":{\"style\":\"light\"},\"paper_bgcolor\":\"white\",\"plot_bgcolor\":\"white\",\"polar\":{\"angularaxis\":{\"gridcolor\":\"rgb(232,232,232)\",\"linecolor\":\"rgb(36,36,36)\",\"showgrid\":false,\"showline\":true,\"ticks\":\"outside\"},\"bgcolor\":\"white\",\"radialaxis\":{\"gridcolor\":\"rgb(232,232,232)\",\"linecolor\":\"rgb(36,36,36)\",\"showgrid\":false,\"showline\":true,\"ticks\":\"outside\"}},\"scene\":{\"xaxis\":{\"backgroundcolor\":\"white\",\"gridcolor\":\"rgb(232,232,232)\",\"gridwidth\":2,\"linecolor\":\"rgb(36,36,36)\",\"showbackground\":true,\"showgrid\":false,\"showline\":true,\"ticks\":\"outside\",\"zeroline\":false,\"zerolinecolor\":\"rgb(36,36,36)\"},\"yaxis\":{\"backgroundcolor\":\"white\",\"gridcolor\":\"rgb(232,232,232)\",\"gridwidth\":2,\"linecolor\":\"rgb(36,36,36)\",\"showbackground\":true,\"showgrid\":false,\"showline\":true,\"ticks\":\"outside\",\"zeroline\":false,\"zerolinecolor\":\"rgb(36,36,36)\"},\"zaxis\":{\"backgroundcolor\":\"white\",\"gridcolor\":\"rgb(232,232,232)\",\"gridwidth\":2,\"linecolor\":\"rgb(36,36,36)\",\"showbackground\":true,\"showgrid\":false,\"showline\":true,\"ticks\":\"outside\",\"zeroline\":false,\"zerolinecolor\":\"rgb(36,36,36)\"}},\"shapedefaults\":{\"fillcolor\":\"black\",\"line\":{\"width\":0},\"opacity\":0.3},\"ternary\":{\"aaxis\":{\"gridcolor\":\"rgb(232,232,232)\",\"linecolor\":\"rgb(36,36,36)\",\"showgrid\":false,\"showline\":true,\"ticks\":\"outside\"},\"baxis\":{\"gridcolor\":\"rgb(232,232,232)\",\"linecolor\":\"rgb(36,36,36)\",\"showgrid\":false,\"showline\":true,\"ticks\":\"outside\"},\"bgcolor\":\"white\",\"caxis\":{\"gridcolor\":\"rgb(232,232,232)\",\"linecolor\":\"rgb(36,36,36)\",\"showgrid\":false,\"showline\":true,\"ticks\":\"outside\"}},\"title\":{\"x\":0.05},\"xaxis\":{\"automargin\":true,\"gridcolor\":\"rgb(232,232,232)\",\"linecolor\":\"rgb(36,36,36)\",\"showgrid\":false,\"showline\":true,\"ticks\":\"outside\",\"title\":{\"standoff\":15},\"zeroline\":false,\"zerolinecolor\":\"rgb(36,36,36)\"},\"yaxis\":{\"automargin\":true,\"gridcolor\":\"rgb(232,232,232)\",\"linecolor\":\"rgb(36,36,36)\",\"showgrid\":false,\"showline\":true,\"ticks\":\"outside\",\"title\":{\"standoff\":15},\"zeroline\":false,\"zerolinecolor\":\"rgb(36,36,36)\"}}},\"xaxis\":{\"anchor\":\"y\",\"domain\":[0.0,0.7363],\"title\":{\"text\":\"Pclass\"}},\"yaxis\":{\"anchor\":\"x\",\"domain\":[0.0,0.7326],\"title\":{\"text\":\"Survived\"}},\"xaxis2\":{\"anchor\":\"y2\",\"domain\":[0.7413,1.0],\"matches\":\"x2\",\"showticklabels\":false,\"showline\":false,\"ticks\":\"\"},\"yaxis2\":{\"anchor\":\"x2\",\"domain\":[0.0,0.7326],\"matches\":\"y\",\"showticklabels\":false},\"xaxis3\":{\"anchor\":\"y3\",\"domain\":[0.0,0.7363],\"matches\":\"x\",\"showticklabels\":false},\"yaxis3\":{\"anchor\":\"x3\",\"domain\":[0.7426,1.0],\"matches\":\"y3\",\"showticklabels\":false,\"showline\":false,\"ticks\":\"\"},\"xaxis4\":{\"anchor\":\"y4\",\"domain\":[0.7413,1.0],\"matches\":\"x2\",\"showticklabels\":false,\"showline\":false,\"ticks\":\"\"},\"yaxis4\":{\"anchor\":\"x4\",\"domain\":[0.7426,1.0],\"matches\":\"y3\",\"showticklabels\":false,\"showline\":false,\"ticks\":\"\"},\"legend\":{\"title\":{\"text\":\"Sex\"},\"tracegroupgap\":0},\"margin\":{\"t\":60}},                        {\"responsive\": true}                    ).then(function(){\n",
              "                            \n",
              "var gd = document.getElementById('3d45e07c-1c4d-4bb4-a4af-35fcc687d78c');\n",
              "var x = new MutationObserver(function (mutations, observer) {{\n",
              "        var display = window.getComputedStyle(gd).display;\n",
              "        if (!display || display === 'none') {{\n",
              "            console.log([gd, 'removed!']);\n",
              "            Plotly.purge(gd);\n",
              "            observer.disconnect();\n",
              "        }}\n",
              "}});\n",
              "\n",
              "// Listen for the removal of the full notebook cells\n",
              "var notebookContainer = gd.closest('#notebook-container');\n",
              "if (notebookContainer) {{\n",
              "    x.observe(notebookContainer, {childList: true});\n",
              "}}\n",
              "\n",
              "// Listen for the clearing of the current output cell\n",
              "var outputEl = gd.closest('.output');\n",
              "if (outputEl) {{\n",
              "    x.observe(outputEl, {childList: true});\n",
              "}}\n",
              "\n",
              "                        })                };                            </script>        </div>\n",
              "</body>\n",
              "</html>"
            ]
          },
          "metadata": {}
        }
      ]
    },
    {
      "cell_type": "code",
      "source": [
        "fig = px.bar(df, x=\"Embarked\", y=\"Survived\", color=\"Sex\", barmode=\"group\")#color is a hue & Embarked is hue\n",
        "fig.show()"
      ],
      "metadata": {
        "colab": {
          "base_uri": "https://localhost:8080/",
          "height": 0
        },
        "id": "O0J_mmozaC2j",
        "outputId": "26c53fea-33db-42d2-cc53-0aa309f15e38"
      },
      "execution_count": 543,
      "outputs": [
        {
          "output_type": "display_data",
          "data": {
            "text/html": [
              "<html>\n",
              "<head><meta charset=\"utf-8\" /></head>\n",
              "<body>\n",
              "    <div>            <script src=\"https://cdnjs.cloudflare.com/ajax/libs/mathjax/2.7.5/MathJax.js?config=TeX-AMS-MML_SVG\"></script><script type=\"text/javascript\">if (window.MathJax && window.MathJax.Hub && window.MathJax.Hub.Config) {window.MathJax.Hub.Config({SVG: {font: \"STIX-Web\"}});}</script>                <script type=\"text/javascript\">window.PlotlyConfig = {MathJaxConfig: 'local'};</script>\n",
              "        <script charset=\"utf-8\" src=\"https://cdn.plot.ly/plotly-2.24.1.min.js\"></script>                <div id=\"90b21d5f-8dce-430d-b4d0-b8eea0040d8b\" class=\"plotly-graph-div\" style=\"height:525px; width:100%;\"></div>            <script type=\"text/javascript\">                                    window.PLOTLYENV=window.PLOTLYENV || {};                                    if (document.getElementById(\"90b21d5f-8dce-430d-b4d0-b8eea0040d8b\")) {                    Plotly.newPlot(                        \"90b21d5f-8dce-430d-b4d0-b8eea0040d8b\",                        [{\"alignmentgroup\":\"True\",\"hovertemplate\":\"Sex=male\\u003cbr\\u003eEmbarked=%{x}\\u003cbr\\u003eSurvived=%{y}\\u003cextra\\u003e\\u003c\\u002fextra\\u003e\",\"legendgroup\":\"male\",\"marker\":{\"color\":\"#636efa\",\"pattern\":{\"shape\":\"\"}},\"name\":\"male\",\"offsetgroup\":\"male\",\"orientation\":\"v\",\"showlegend\":true,\"textposition\":\"auto\",\"x\":[\"S\",\"S\",\"Q\",\"S\",\"S\",\"S\",\"S\",\"Q\",\"S\",\"S\",\"S\",\"S\",\"C\",\"S\",\"S\",\"C\",\"S\",\"C\",\"S\",\"C\",\"S\",\"C\",\"S\",\"Q\",\"C\",\"S\",\"S\",\"C\",\"S\",\"C\",\"S\",\"C\",\"S\",\"S\",\"C\",\"C\",\"S\",\"S\",\"S\",\"S\",\"C\",\"S\",\"S\",\"S\",\"S\",\"S\",\"S\",\"S\",\"S\",\"S\",\"S\",\"S\",\"S\",\"S\",\"S\",\"S\",\"S\",\"S\",\"C\",\"C\",\"S\",\"S\",\"S\",\"S\",\"S\",\"S\",\"S\",\"S\",\"S\",\"S\",\"S\",\"Q\",\"S\",\"C\",\"S\",\"S\",\"C\",\"S\",\"C\",\"Q\",\"S\",\"S\",\"C\",\"S\",\"S\",\"C\",\"S\",\"S\",\"C\",\"Q\",\"S\",\"S\",\"S\",\"S\",\"S\",\"S\",\"S\",\"S\",\"S\",\"C\",\"S\",\"S\",\"S\",\"S\",\"S\",\"S\",\"S\",\"S\",\"S\",\"S\",\"S\",\"Q\",\"S\",\"C\",\"S\",\"S\",\"S\",\"S\",\"C\",\"S\",\"S\",\"S\",\"S\",\"Q\",\"S\",\"S\",\"S\",\"Q\",\"S\",\"S\",\"S\",\"S\",\"C\",\"S\",\"S\",\"C\",\"C\",\"S\",\"S\",\"S\",\"Q\",\"S\",\"S\",\"S\",\"S\",\"S\",\"S\",\"S\",\"S\",\"S\",\"S\",\"S\",\"S\",\"S\",\"S\",\"S\",\"S\",\"S\",\"S\",\"S\",\"C\",\"Q\",\"S\",\"S\",\"S\",\"S\",\"S\",\"Q\",\"S\",\"S\",\"S\",\"S\",\"S\",\"S\",\"S\",\"S\",\"C\",\"S\",\"Q\",\"Q\",\"S\",\"S\",\"S\",\"S\",\"C\",\"S\",\"S\",\"S\",\"C\",\"S\",\"C\",\"C\",\"S\",\"Q\",\"S\",\"S\",\"S\",\"C\",\"S\",\"S\",\"S\",\"S\",\"S\",\"S\",\"S\",\"S\",\"S\",\"S\",\"S\",\"S\",\"S\",\"S\",\"S\",\"S\",\"S\",\"S\",\"S\",\"S\",\"S\",\"S\",\"C\",\"S\",\"C\",\"S\",\"S\",\"C\",\"S\",\"Q\",\"S\",\"C\",\"S\",\"S\",\"C\",\"C\",\"C\",\"S\",\"S\",\"S\",\"S\",\"S\",\"Q\",\"S\",\"S\",\"S\",\"S\",\"S\",\"S\",\"S\",\"S\",\"S\",\"S\",\"S\",\"S\",\"S\",\"S\",\"Q\",\"S\",\"S\",\"S\",\"C\",\"Q\",\"S\",\"S\",\"S\",\"Q\",\"S\",\"S\",\"S\",\"S\",\"S\",\"S\",\"S\",\"S\",\"S\",\"S\",\"S\",\"S\",\"S\",\"S\",\"C\",\"C\",\"S\",\"C\",\"S\",\"Q\",\"S\",\"S\",\"S\",\"S\",\"S\",\"S\",\"S\",\"S\",\"Q\",\"S\",\"S\",\"S\",\"S\",\"S\",\"S\",\"S\",\"S\",\"S\",\"C\",\"C\",\"S\",\"S\",\"S\",\"S\",\"S\",\"C\",\"S\",\"C\",\"S\",\"S\",\"S\",\"C\",\"S\",\"S\",\"S\",\"Q\",\"S\",\"S\",\"S\",\"S\",\"Q\",\"S\",\"S\",\"C\",\"C\",\"Q\",\"S\",\"S\",\"S\",\"C\",\"C\",\"S\",\"S\",\"S\",\"C\",\"S\",\"C\",\"S\",\"S\",\"C\",\"S\",\"Q\",\"C\",\"S\",\"C\",\"Q\",\"S\",\"S\",\"S\",\"S\",\"S\",\"C\",\"S\",\"S\",\"S\",\"S\",\"S\",\"S\",\"S\",\"C\",\"C\",\"S\",\"C\",\"S\",\"S\",\"S\",\"S\",\"S\",\"S\",\"S\",\"C\",\"C\",\"S\",\"S\",\"S\",\"C\",\"S\",\"S\",\"S\",\"S\",\"Q\",\"S\",\"S\",\"S\",\"C\",\"S\",\"C\",\"S\",\"S\",\"S\",\"Q\",\"S\",\"Q\",\"S\",\"S\",\"C\",\"S\",\"S\",\"S\",\"S\",\"S\",\"S\",\"C\",\"S\",\"C\",\"S\",\"S\",\"S\",\"S\",\"S\",\"S\",\"C\",\"S\",\"C\",\"S\",\"S\",\"S\",\"S\",\"S\",\"S\",\"S\",\"S\",\"S\",\"S\",\"S\",\"S\",\"S\",\"C\",\"C\",\"S\",\"S\",\"S\",\"C\",\"S\",\"S\",\"S\",\"S\",\"S\",\"C\",\"S\",\"S\",\"S\",\"C\",\"S\",\"S\",\"Q\",\"S\",\"S\",\"S\",\"C\",\"S\",\"S\",\"S\",\"S\",\"S\",\"Q\",\"S\",\"S\",\"S\",\"S\",\"S\",\"S\",\"S\",\"C\",\"S\",\"S\",\"S\",\"S\",\"C\",\"S\",\"S\",\"S\",\"S\",\"S\",\"S\",\"S\",\"S\",\"S\",\"Q\",\"S\",\"S\",\"S\",\"S\",\"S\",\"S\",\"S\",\"S\",\"S\",\"C\",\"S\",\"C\",\"Q\",\"S\",\"S\",\"S\",\"C\",\"S\",\"Q\",\"Q\",\"S\",\"S\",\"S\",\"S\",\"Q\",\"S\",\"C\",\"Q\",\"S\",\"C\",\"S\",\"S\",\"C\",\"S\",\"S\",\"C\",\"S\",\"S\",\"S\",\"S\",\"S\",\"S\",\"S\",\"S\",\"S\",\"C\",\"S\",\"S\",\"S\",\"S\",\"S\",\"Q\",\"S\",\"C\",\"Q\",\"S\",\"C\",\"S\",\"S\",\"S\",\"S\",\"S\",\"C\",\"S\",\"S\",\"C\",\"S\",\"S\",\"S\",\"C\",\"S\",\"S\",\"S\",\"S\",\"C\",\"S\",\"S\",\"S\",\"S\",\"S\",\"S\",\"S\",\"S\",\"S\",\"S\",\"S\",\"S\",\"S\",\"S\",\"S\",\"S\",\"C\",\"Q\"],\"xaxis\":\"x\",\"y\":[0,0,0,0,0,0,0,0,1,0,1,1,0,0,0,0,0,0,0,1,0,0,0,0,0,0,0,0,1,0,0,0,0,0,0,1,0,0,0,0,0,1,0,0,0,1,0,1,0,0,0,0,0,0,0,0,0,0,0,1,0,0,0,0,0,0,1,0,0,0,0,0,0,0,0,0,0,0,1,0,1,0,0,0,0,0,0,0,0,0,0,0,1,0,0,0,0,0,0,0,0,0,0,0,0,0,0,1,0,0,0,0,0,0,0,0,0,0,0,0,1,0,1,0,0,0,1,0,0,0,0,0,0,1,0,1,1,0,0,0,0,0,0,1,0,0,0,1,0,1,0,0,0,0,0,0,0,0,0,0,0,0,1,0,0,0,0,0,1,0,0,0,0,1,0,1,0,0,0,0,0,0,1,0,0,1,0,1,0,0,0,0,1,1,0,0,1,0,0,0,0,0,0,0,0,0,0,0,0,0,1,0,1,0,0,0,1,0,0,0,0,0,0,0,0,0,0,0,0,1,0,0,0,0,0,0,0,0,0,0,0,1,1,0,0,0,0,1,0,0,0,0,1,0,0,0,0,1,0,0,0,0,0,0,0,1,1,0,0,0,0,0,0,1,1,1,1,0,0,0,1,0,1,0,0,1,0,0,0,0,0,0,0,0,0,0,0,0,0,0,0,0,0,1,0,0,1,0,0,0,0,0,0,0,0,0,0,1,0,1,1,0,1,0,0,0,0,0,0,0,0,0,0,0,0,0,0,0,1,0,0,1,0,1,1,0,0,1,0,0,0,0,0,0,0,0,0,1,1,1,0,0,1,0,0,0,0,1,0,0,0,0,0,0,0,0,1,0,0,0,1,0,0,1,0,0,0,0,0,0,1,1,0,0,0,0,0,0,1,0,1,0,0,0,0,0,1,1,0,1,0,0,0,0,0,0,0,1,0,0,0,1,0,0,0,0,0,0,1,0,0,0,1,1,0,0,0,0,0,0,0,1,1,0,0,0,0,0,0,1,0,0,0,1,1,0,1,0,0,0,0,0,0,0,0,1,0,0,0,0,0,0,0,1,0,0,1,0,0,1,0,0,0,0,1,0,0,1,0,0,0,0,0,1,0,0,0,0,0,0,0,0,0,0,0,0,0,0,0,1,0,0,0,0,0,0,0,0,1,1,1,0,0,0,0,0,0,0,0,0,0,0,1,0,0,0,0,1,1,1,0,0,0,0,0,1,1,0,0,0,0,0,0,0,0,0,0,1,0,0,0,0,0,0,1,0,0,0,0,0,0,0,0,0,0,1,0],\"yaxis\":\"y\",\"type\":\"bar\"},{\"alignmentgroup\":\"True\",\"hovertemplate\":\"Sex=female\\u003cbr\\u003eEmbarked=%{x}\\u003cbr\\u003eSurvived=%{y}\\u003cextra\\u003e\\u003c\\u002fextra\\u003e\",\"legendgroup\":\"female\",\"marker\":{\"color\":\"#EF553B\",\"pattern\":{\"shape\":\"\"}},\"name\":\"female\",\"offsetgroup\":\"female\",\"orientation\":\"v\",\"showlegend\":true,\"textposition\":\"auto\",\"x\":[\"C\",\"S\",\"S\",\"S\",\"C\",\"S\",\"S\",\"S\",\"S\",\"S\",\"C\",\"Q\",\"S\",\"S\",\"Q\",\"C\",\"Q\",\"S\",\"C\",\"S\",\"S\",\"C\",\"Q\",\"Q\",\"S\",\"C\",\"S\",\"S\",\"S\",null,\"S\",\"S\",\"S\",\"S\",\"Q\",\"S\",\"S\",\"S\",\"S\",\"S\",\"S\",\"Q\",\"C\",\"S\",\"C\",\"S\",\"S\",\"C\",\"S\",\"S\",\"S\",\"C\",\"S\",\"S\",\"S\",\"S\",\"Q\",\"S\",\"S\",\"S\",\"S\",\"C\",\"S\",\"S\",\"Q\",\"S\",\"S\",\"C\",\"C\",\"Q\",\"S\",\"S\",\"Q\",\"S\",\"C\",\"S\",\"C\",\"S\",\"S\",\"S\",\"S\",\"S\",\"C\",\"Q\",\"S\",\"S\",\"S\",\"S\",\"C\",\"C\",\"S\",\"C\",\"S\",\"Q\",\"S\",\"S\",\"S\",\"Q\",\"S\",\"S\",\"S\",\"Q\",\"S\",\"C\",\"S\",\"S\",\"C\",\"Q\",\"Q\",\"C\",\"C\",\"C\",\"C\",\"C\",\"S\",\"S\",\"S\",\"S\",\"C\",\"Q\",\"S\",\"C\",\"S\",\"S\",\"C\",\"Q\",\"S\",\"C\",\"S\",\"S\",\"S\",\"S\",\"S\",\"S\",\"Q\",\"Q\",\"C\",\"C\",\"C\",\"Q\",\"C\",\"S\",\"C\",\"S\",\"C\",\"C\",\"S\",\"S\",\"C\",\"C\",\"S\",\"S\",\"S\",\"S\",\"S\",\"S\",\"Q\",\"S\",\"S\",\"S\",\"S\",\"S\",\"S\",\"S\",\"S\",\"S\",\"S\",\"S\",\"S\",\"S\",\"S\",\"S\",\"C\",\"S\",\"S\",\"C\",\"S\",\"C\",\"S\",\"S\",\"S\",\"S\",\"S\",\"C\",\"S\",\"Q\",\"Q\",\"S\",\"S\",\"S\",\"C\",\"S\",\"S\",\"S\",\"C\",\"S\",\"S\",\"C\",\"S\",\"S\",\"C\",\"C\",\"S\",\"S\",\"S\",\"S\",\"S\",\"C\",\"S\",\"S\",\"S\",\"S\",\"S\",\"Q\",\"S\",\"S\",\"C\",\"S\",\"C\",\"S\",\"C\",\"Q\",\"S\",\"S\",\"C\",\"S\",\"S\",\"Q\",\"S\",\"S\",\"S\",\"S\",\"S\",\"S\",\"S\",\"C\",\"S\",\"C\",\"S\",\"S\",\"Q\",\"Q\",\"Q\",\"S\",\"S\",\"S\",\"S\",\"Q\",\"S\",\"C\",\"Q\",\"C\",\"C\",\"S\",\"S\",\"C\",\"C\",\"S\",\"S\",\"S\",\"Q\",\"S\",\"S\",\"S\",\"C\",\"S\",\"S\",\"S\",\"S\",\"S\",\"S\",\"Q\",\"S\",\"S\",\"S\",\"S\",\"C\",\"S\",\"S\",\"S\",\"S\",\"S\",\"S\",\"S\",\"S\",\"S\",\"S\",\"S\",\"S\",\"S\",null,\"C\",\"C\",\"C\",\"C\",\"C\",\"S\",\"S\",\"S\",\"S\",\"C\",\"S\",\"S\",\"S\",\"C\",\"S\",\"C\",\"C\",\"C\",\"S\",\"S\",\"Q\",\"S\",\"S\"],\"xaxis\":\"x\",\"y\":[1,1,1,1,1,1,1,0,1,0,1,1,0,1,1,1,1,0,1,0,0,1,1,1,0,1,1,1,1,1,1,1,0,1,1,1,1,1,1,0,1,1,0,0,0,0,1,1,0,1,1,0,1,1,0,1,1,1,1,0,1,0,0,1,1,1,1,1,1,1,0,0,1,1,1,1,1,0,1,1,0,1,0,1,0,1,0,0,1,1,1,1,1,0,1,1,1,1,1,0,1,1,1,1,0,0,1,1,1,1,1,1,1,1,0,1,1,1,1,1,1,1,1,1,1,1,1,1,1,1,1,1,1,0,1,1,0,1,1,1,1,0,1,1,1,1,1,1,1,1,1,0,1,0,0,0,1,0,1,1,0,0,1,1,1,1,1,0,1,1,1,1,1,1,1,1,1,1,0,1,1,0,1,1,0,0,0,0,1,1,1,1,1,1,1,1,1,1,0,1,1,1,1,0,0,1,1,1,1,1,0,0,1,1,1,1,0,1,1,1,1,0,1,1,1,1,0,1,1,0,1,1,0,1,0,1,0,1,1,1,1,0,0,1,1,1,0,0,1,1,1,1,0,1,1,1,1,1,1,1,1,0,1,0,1,1,1,1,1,1,1,0,0,1,1,1,1,1,1,0,1,1,0,1,0,1,0,0,1,1,1,1,1,1,1,0,1,0,1,1,1,1,0,1,1,1,1,1,1,1,0,0,1,0],\"yaxis\":\"y\",\"type\":\"bar\"}],                        {\"template\":{\"data\":{\"histogram2dcontour\":[{\"type\":\"histogram2dcontour\",\"colorbar\":{\"outlinewidth\":0,\"ticks\":\"\"},\"colorscale\":[[0.0,\"#0d0887\"],[0.1111111111111111,\"#46039f\"],[0.2222222222222222,\"#7201a8\"],[0.3333333333333333,\"#9c179e\"],[0.4444444444444444,\"#bd3786\"],[0.5555555555555556,\"#d8576b\"],[0.6666666666666666,\"#ed7953\"],[0.7777777777777778,\"#fb9f3a\"],[0.8888888888888888,\"#fdca26\"],[1.0,\"#f0f921\"]]}],\"choropleth\":[{\"type\":\"choropleth\",\"colorbar\":{\"outlinewidth\":0,\"ticks\":\"\"}}],\"histogram2d\":[{\"type\":\"histogram2d\",\"colorbar\":{\"outlinewidth\":0,\"ticks\":\"\"},\"colorscale\":[[0.0,\"#0d0887\"],[0.1111111111111111,\"#46039f\"],[0.2222222222222222,\"#7201a8\"],[0.3333333333333333,\"#9c179e\"],[0.4444444444444444,\"#bd3786\"],[0.5555555555555556,\"#d8576b\"],[0.6666666666666666,\"#ed7953\"],[0.7777777777777778,\"#fb9f3a\"],[0.8888888888888888,\"#fdca26\"],[1.0,\"#f0f921\"]]}],\"heatmap\":[{\"type\":\"heatmap\",\"colorbar\":{\"outlinewidth\":0,\"ticks\":\"\"},\"colorscale\":[[0.0,\"#0d0887\"],[0.1111111111111111,\"#46039f\"],[0.2222222222222222,\"#7201a8\"],[0.3333333333333333,\"#9c179e\"],[0.4444444444444444,\"#bd3786\"],[0.5555555555555556,\"#d8576b\"],[0.6666666666666666,\"#ed7953\"],[0.7777777777777778,\"#fb9f3a\"],[0.8888888888888888,\"#fdca26\"],[1.0,\"#f0f921\"]]}],\"heatmapgl\":[{\"type\":\"heatmapgl\",\"colorbar\":{\"outlinewidth\":0,\"ticks\":\"\"},\"colorscale\":[[0.0,\"#0d0887\"],[0.1111111111111111,\"#46039f\"],[0.2222222222222222,\"#7201a8\"],[0.3333333333333333,\"#9c179e\"],[0.4444444444444444,\"#bd3786\"],[0.5555555555555556,\"#d8576b\"],[0.6666666666666666,\"#ed7953\"],[0.7777777777777778,\"#fb9f3a\"],[0.8888888888888888,\"#fdca26\"],[1.0,\"#f0f921\"]]}],\"contourcarpet\":[{\"type\":\"contourcarpet\",\"colorbar\":{\"outlinewidth\":0,\"ticks\":\"\"}}],\"contour\":[{\"type\":\"contour\",\"colorbar\":{\"outlinewidth\":0,\"ticks\":\"\"},\"colorscale\":[[0.0,\"#0d0887\"],[0.1111111111111111,\"#46039f\"],[0.2222222222222222,\"#7201a8\"],[0.3333333333333333,\"#9c179e\"],[0.4444444444444444,\"#bd3786\"],[0.5555555555555556,\"#d8576b\"],[0.6666666666666666,\"#ed7953\"],[0.7777777777777778,\"#fb9f3a\"],[0.8888888888888888,\"#fdca26\"],[1.0,\"#f0f921\"]]}],\"surface\":[{\"type\":\"surface\",\"colorbar\":{\"outlinewidth\":0,\"ticks\":\"\"},\"colorscale\":[[0.0,\"#0d0887\"],[0.1111111111111111,\"#46039f\"],[0.2222222222222222,\"#7201a8\"],[0.3333333333333333,\"#9c179e\"],[0.4444444444444444,\"#bd3786\"],[0.5555555555555556,\"#d8576b\"],[0.6666666666666666,\"#ed7953\"],[0.7777777777777778,\"#fb9f3a\"],[0.8888888888888888,\"#fdca26\"],[1.0,\"#f0f921\"]]}],\"mesh3d\":[{\"type\":\"mesh3d\",\"colorbar\":{\"outlinewidth\":0,\"ticks\":\"\"}}],\"scatter\":[{\"fillpattern\":{\"fillmode\":\"overlay\",\"size\":10,\"solidity\":0.2},\"type\":\"scatter\"}],\"parcoords\":[{\"type\":\"parcoords\",\"line\":{\"colorbar\":{\"outlinewidth\":0,\"ticks\":\"\"}}}],\"scatterpolargl\":[{\"type\":\"scatterpolargl\",\"marker\":{\"colorbar\":{\"outlinewidth\":0,\"ticks\":\"\"}}}],\"bar\":[{\"error_x\":{\"color\":\"#2a3f5f\"},\"error_y\":{\"color\":\"#2a3f5f\"},\"marker\":{\"line\":{\"color\":\"#E5ECF6\",\"width\":0.5},\"pattern\":{\"fillmode\":\"overlay\",\"size\":10,\"solidity\":0.2}},\"type\":\"bar\"}],\"scattergeo\":[{\"type\":\"scattergeo\",\"marker\":{\"colorbar\":{\"outlinewidth\":0,\"ticks\":\"\"}}}],\"scatterpolar\":[{\"type\":\"scatterpolar\",\"marker\":{\"colorbar\":{\"outlinewidth\":0,\"ticks\":\"\"}}}],\"histogram\":[{\"marker\":{\"pattern\":{\"fillmode\":\"overlay\",\"size\":10,\"solidity\":0.2}},\"type\":\"histogram\"}],\"scattergl\":[{\"type\":\"scattergl\",\"marker\":{\"colorbar\":{\"outlinewidth\":0,\"ticks\":\"\"}}}],\"scatter3d\":[{\"type\":\"scatter3d\",\"line\":{\"colorbar\":{\"outlinewidth\":0,\"ticks\":\"\"}},\"marker\":{\"colorbar\":{\"outlinewidth\":0,\"ticks\":\"\"}}}],\"scattermapbox\":[{\"type\":\"scattermapbox\",\"marker\":{\"colorbar\":{\"outlinewidth\":0,\"ticks\":\"\"}}}],\"scatterternary\":[{\"type\":\"scatterternary\",\"marker\":{\"colorbar\":{\"outlinewidth\":0,\"ticks\":\"\"}}}],\"scattercarpet\":[{\"type\":\"scattercarpet\",\"marker\":{\"colorbar\":{\"outlinewidth\":0,\"ticks\":\"\"}}}],\"carpet\":[{\"aaxis\":{\"endlinecolor\":\"#2a3f5f\",\"gridcolor\":\"white\",\"linecolor\":\"white\",\"minorgridcolor\":\"white\",\"startlinecolor\":\"#2a3f5f\"},\"baxis\":{\"endlinecolor\":\"#2a3f5f\",\"gridcolor\":\"white\",\"linecolor\":\"white\",\"minorgridcolor\":\"white\",\"startlinecolor\":\"#2a3f5f\"},\"type\":\"carpet\"}],\"table\":[{\"cells\":{\"fill\":{\"color\":\"#EBF0F8\"},\"line\":{\"color\":\"white\"}},\"header\":{\"fill\":{\"color\":\"#C8D4E3\"},\"line\":{\"color\":\"white\"}},\"type\":\"table\"}],\"barpolar\":[{\"marker\":{\"line\":{\"color\":\"#E5ECF6\",\"width\":0.5},\"pattern\":{\"fillmode\":\"overlay\",\"size\":10,\"solidity\":0.2}},\"type\":\"barpolar\"}],\"pie\":[{\"automargin\":true,\"type\":\"pie\"}]},\"layout\":{\"autotypenumbers\":\"strict\",\"colorway\":[\"#636efa\",\"#EF553B\",\"#00cc96\",\"#ab63fa\",\"#FFA15A\",\"#19d3f3\",\"#FF6692\",\"#B6E880\",\"#FF97FF\",\"#FECB52\"],\"font\":{\"color\":\"#2a3f5f\"},\"hovermode\":\"closest\",\"hoverlabel\":{\"align\":\"left\"},\"paper_bgcolor\":\"white\",\"plot_bgcolor\":\"#E5ECF6\",\"polar\":{\"bgcolor\":\"#E5ECF6\",\"angularaxis\":{\"gridcolor\":\"white\",\"linecolor\":\"white\",\"ticks\":\"\"},\"radialaxis\":{\"gridcolor\":\"white\",\"linecolor\":\"white\",\"ticks\":\"\"}},\"ternary\":{\"bgcolor\":\"#E5ECF6\",\"aaxis\":{\"gridcolor\":\"white\",\"linecolor\":\"white\",\"ticks\":\"\"},\"baxis\":{\"gridcolor\":\"white\",\"linecolor\":\"white\",\"ticks\":\"\"},\"caxis\":{\"gridcolor\":\"white\",\"linecolor\":\"white\",\"ticks\":\"\"}},\"coloraxis\":{\"colorbar\":{\"outlinewidth\":0,\"ticks\":\"\"}},\"colorscale\":{\"sequential\":[[0.0,\"#0d0887\"],[0.1111111111111111,\"#46039f\"],[0.2222222222222222,\"#7201a8\"],[0.3333333333333333,\"#9c179e\"],[0.4444444444444444,\"#bd3786\"],[0.5555555555555556,\"#d8576b\"],[0.6666666666666666,\"#ed7953\"],[0.7777777777777778,\"#fb9f3a\"],[0.8888888888888888,\"#fdca26\"],[1.0,\"#f0f921\"]],\"sequentialminus\":[[0.0,\"#0d0887\"],[0.1111111111111111,\"#46039f\"],[0.2222222222222222,\"#7201a8\"],[0.3333333333333333,\"#9c179e\"],[0.4444444444444444,\"#bd3786\"],[0.5555555555555556,\"#d8576b\"],[0.6666666666666666,\"#ed7953\"],[0.7777777777777778,\"#fb9f3a\"],[0.8888888888888888,\"#fdca26\"],[1.0,\"#f0f921\"]],\"diverging\":[[0,\"#8e0152\"],[0.1,\"#c51b7d\"],[0.2,\"#de77ae\"],[0.3,\"#f1b6da\"],[0.4,\"#fde0ef\"],[0.5,\"#f7f7f7\"],[0.6,\"#e6f5d0\"],[0.7,\"#b8e186\"],[0.8,\"#7fbc41\"],[0.9,\"#4d9221\"],[1,\"#276419\"]]},\"xaxis\":{\"gridcolor\":\"white\",\"linecolor\":\"white\",\"ticks\":\"\",\"title\":{\"standoff\":15},\"zerolinecolor\":\"white\",\"automargin\":true,\"zerolinewidth\":2},\"yaxis\":{\"gridcolor\":\"white\",\"linecolor\":\"white\",\"ticks\":\"\",\"title\":{\"standoff\":15},\"zerolinecolor\":\"white\",\"automargin\":true,\"zerolinewidth\":2},\"scene\":{\"xaxis\":{\"backgroundcolor\":\"#E5ECF6\",\"gridcolor\":\"white\",\"linecolor\":\"white\",\"showbackground\":true,\"ticks\":\"\",\"zerolinecolor\":\"white\",\"gridwidth\":2},\"yaxis\":{\"backgroundcolor\":\"#E5ECF6\",\"gridcolor\":\"white\",\"linecolor\":\"white\",\"showbackground\":true,\"ticks\":\"\",\"zerolinecolor\":\"white\",\"gridwidth\":2},\"zaxis\":{\"backgroundcolor\":\"#E5ECF6\",\"gridcolor\":\"white\",\"linecolor\":\"white\",\"showbackground\":true,\"ticks\":\"\",\"zerolinecolor\":\"white\",\"gridwidth\":2}},\"shapedefaults\":{\"line\":{\"color\":\"#2a3f5f\"}},\"annotationdefaults\":{\"arrowcolor\":\"#2a3f5f\",\"arrowhead\":0,\"arrowwidth\":1},\"geo\":{\"bgcolor\":\"white\",\"landcolor\":\"#E5ECF6\",\"subunitcolor\":\"white\",\"showland\":true,\"showlakes\":true,\"lakecolor\":\"white\"},\"title\":{\"x\":0.05},\"mapbox\":{\"style\":\"light\"}}},\"xaxis\":{\"anchor\":\"y\",\"domain\":[0.0,1.0],\"title\":{\"text\":\"Embarked\"}},\"yaxis\":{\"anchor\":\"x\",\"domain\":[0.0,1.0],\"title\":{\"text\":\"Survived\"}},\"legend\":{\"title\":{\"text\":\"Sex\"},\"tracegroupgap\":0},\"margin\":{\"t\":60},\"barmode\":\"group\"},                        {\"responsive\": true}                    ).then(function(){\n",
              "                            \n",
              "var gd = document.getElementById('90b21d5f-8dce-430d-b4d0-b8eea0040d8b');\n",
              "var x = new MutationObserver(function (mutations, observer) {{\n",
              "        var display = window.getComputedStyle(gd).display;\n",
              "        if (!display || display === 'none') {{\n",
              "            console.log([gd, 'removed!']);\n",
              "            Plotly.purge(gd);\n",
              "            observer.disconnect();\n",
              "        }}\n",
              "}});\n",
              "\n",
              "// Listen for the removal of the full notebook cells\n",
              "var notebookContainer = gd.closest('#notebook-container');\n",
              "if (notebookContainer) {{\n",
              "    x.observe(notebookContainer, {childList: true});\n",
              "}}\n",
              "\n",
              "// Listen for the clearing of the current output cell\n",
              "var outputEl = gd.closest('.output');\n",
              "if (outputEl) {{\n",
              "    x.observe(outputEl, {childList: true});\n",
              "}}\n",
              "\n",
              "                        })                };                            </script>        </div>\n",
              "</body>\n",
              "</html>"
            ]
          },
          "metadata": {}
        }
      ]
    },
    {
      "cell_type": "code",
      "source": [
        "df.columns"
      ],
      "metadata": {
        "colab": {
          "base_uri": "https://localhost:8080/"
        },
        "id": "wlYQNMDYcN-Y",
        "outputId": "8381db0f-6775-4627-cc9b-e73b17b9286f"
      },
      "execution_count": 544,
      "outputs": [
        {
          "output_type": "execute_result",
          "data": {
            "text/plain": [
              "Index(['PassengerId', 'Survived', 'Pclass', 'Name', 'Sex', 'Age', 'SibSp',\n",
              "       'Parch', 'Ticket', 'Fare', 'Cabin', 'Embarked'],\n",
              "      dtype='object')"
            ]
          },
          "metadata": {},
          "execution_count": 544
        }
      ]
    },
    {
      "cell_type": "code",
      "source": [
        "fig = px.scatter_matrix(df, dimensions=[\"Pclass\", \"Age\", \"SibSp\", \"Parch\"], color=\"Survived\")\n",
        "fig.show()"
      ],
      "metadata": {
        "colab": {
          "base_uri": "https://localhost:8080/",
          "height": 0
        },
        "id": "q2lPfJFSaC5Z",
        "outputId": "897a846a-cfae-4e84-8482-65adcc63498e"
      },
      "execution_count": 545,
      "outputs": [
        {
          "output_type": "display_data",
          "data": {
            "text/html": [
              "<html>\n",
              "<head><meta charset=\"utf-8\" /></head>\n",
              "<body>\n",
              "    <div>            <script src=\"https://cdnjs.cloudflare.com/ajax/libs/mathjax/2.7.5/MathJax.js?config=TeX-AMS-MML_SVG\"></script><script type=\"text/javascript\">if (window.MathJax && window.MathJax.Hub && window.MathJax.Hub.Config) {window.MathJax.Hub.Config({SVG: {font: \"STIX-Web\"}});}</script>                <script type=\"text/javascript\">window.PlotlyConfig = {MathJaxConfig: 'local'};</script>\n",
              "        <script charset=\"utf-8\" src=\"https://cdn.plot.ly/plotly-2.24.1.min.js\"></script>                <div id=\"426a8614-a01f-4fe5-b574-62a30d35b476\" class=\"plotly-graph-div\" style=\"height:525px; width:100%;\"></div>            <script type=\"text/javascript\">                                    window.PLOTLYENV=window.PLOTLYENV || {};                                    if (document.getElementById(\"426a8614-a01f-4fe5-b574-62a30d35b476\")) {                    Plotly.newPlot(                        \"426a8614-a01f-4fe5-b574-62a30d35b476\",                        [{\"dimensions\":[{\"axis\":{\"matches\":true},\"label\":\"Pclass\",\"values\":[3,1,3,1,3,3,1,3,3,2,3,1,3,3,3,2,3,2,3,3,2,2,3,1,3,3,3,1,3,3,1,1,3,2,1,1,3,3,3,3,3,2,3,2,3,3,3,3,3,3,3,3,1,2,1,1,2,3,2,3,3,1,1,3,1,3,2,3,3,3,2,3,2,3,3,3,3,3,2,3,3,3,3,1,2,3,3,3,1,3,3,3,1,3,3,3,1,1,2,2,3,3,1,3,3,3,3,3,3,3,1,3,3,3,3,3,3,2,1,3,2,3,2,2,1,3,3,3,3,3,3,3,3,2,2,2,1,1,3,1,3,3,3,3,2,2,3,3,2,2,2,1,3,3,3,1,3,3,3,3,3,2,3,3,3,3,1,3,1,3,1,3,3,3,1,3,3,1,2,3,3,2,3,2,3,1,3,1,3,3,2,2,3,2,1,1,3,3,3,2,3,3,3,3,3,3,3,3,3,1,3,2,3,2,3,1,3,2,1,2,3,2,3,3,1,3,2,3,2,3,1,3,2,3,2,3,2,2,2,2,3,3,2,3,3,1,3,2,1,2,3,3,1,3,3,3,1,1,1,2,3,3,1,1,3,2,3,3,1,1,1,3,2,1,3,1,3,2,3,3,3,3,3,3,1,3,3,3,2,3,1,1,2,3,3,1,3,1,1,1,3,3,3,2,3,1,1,1,2,1,1,1,2,3,2,3,2,2,1,1,3,3,2,2,3,1,3,2,3,1,3,1,1,3,1,3,1,1,3,1,2,1,2,2,2,2,2,3,3,3,3,1,3,3,3,3,1,2,3,3,3,2,3,3,3,3,1,3,3,1,1,3,3,1,3,1,3,1,3,3,1,3,3,1,3,2,3,2,3,2,1,3,3,1,3,3,3,2,2,2,3,3,3,3,3,2,3,2,3,3,3,3,1,2,3,3,2,2,2,3,3,3,3,3,3,3,2,2,3,3,1,3,2,3,1,1,3,2,1,2,2,3,3,2,3,1,2,1,3,1,2,3,1,1,3,3,1,1,2,3,1,3,1,2,3,3,2,1,3,3,3,3,2,2,3,1,2,3,3,3,3,2,3,3,1,3,1,1,3,3,3,3,1,1,3,3,1,3,1,3,3,3,3,3,1,1,2,1,3,3,3,3,1,1,3,1,2,3,2,3,1,3,3,1,3,3,2,1,3,2,2,3,3,3,3,2,1,1,3,1,1,3,3,2,1,1,2,2,3,2,1,2,3,3,3,1,1,1,1,3,3,3,2,3,3,3,3,3,3,3,2,1,1,3,3,3,2,1,3,3,2,1,2,1,3,1,2,1,3,3,3,1,3,3,2,3,2,3,3,1,2,3,1,3,1,3,3,1,2,1,3,3,3,3,3,2,3,3,2,2,3,1,3,3,3,1,2,1,3,3,1,3,1,1,3,2,3,2,3,3,3,1,3,3,3,1,3,1,3,3,3,2,3,3,3,2,3,3,2,1,1,3,1,3,3,2,2,3,3,1,2,1,2,2,2,3,3,3,3,1,3,1,3,3,2,2,3,3,3,1,1,3,3,3,1,2,3,3,1,3,1,1,3,3,3,2,2,1,1,3,1,1,1,3,2,3,1,2,3,3,2,3,2,2,1,3,2,3,2,3,1,3,2,2,2,3,3,1,3,3,1,1,1,3,3,1,3,2,1,3,2,3,3,3,2,2,3,2,3,1,3,3,3,1,3,1,1,3,3,3,3,3,2,3,2,3,3,3,3,1,3,1,1,3,3,3,3,3,3,1,3,2,3,1,3,2,1,3,3,3,2,2,1,3,3,3,1,3,2,1,3,3,2,3,3,1,3,2,3,3,1,3,1,3,3,3,3,2,3,1,3,2,3,3,3,1,3,3,3,1,3,2,1,3,3,3,3,3,2,1,3,3,3,1,2,3,1,1,3,3,3,2,1,3,2,2,2,1,3,3,3,1,1,3,2,3,3,3,3,1,2,3,3,2,3,3,2,1,3,1,3]},{\"axis\":{\"matches\":true},\"label\":\"Age\",\"values\":[22.0,38.0,26.0,35.0,35.0,null,54.0,2.0,27.0,14.0,4.0,58.0,20.0,39.0,14.0,55.0,2.0,null,31.0,null,35.0,34.0,15.0,28.0,8.0,38.0,null,19.0,null,null,40.0,null,null,66.0,28.0,42.0,null,21.0,18.0,14.0,40.0,27.0,null,3.0,19.0,null,null,null,null,18.0,7.0,21.0,49.0,29.0,65.0,null,21.0,28.5,5.0,11.0,22.0,38.0,45.0,4.0,null,null,29.0,19.0,17.0,26.0,32.0,16.0,21.0,26.0,32.0,25.0,null,null,0.83,30.0,22.0,29.0,null,28.0,17.0,33.0,16.0,null,23.0,24.0,29.0,20.0,46.0,26.0,59.0,null,71.0,23.0,34.0,34.0,28.0,null,21.0,33.0,37.0,28.0,21.0,null,38.0,null,47.0,14.5,22.0,20.0,17.0,21.0,70.5,29.0,24.0,2.0,21.0,null,32.5,32.5,54.0,12.0,null,24.0,null,45.0,33.0,20.0,47.0,29.0,25.0,23.0,19.0,37.0,16.0,24.0,null,22.0,24.0,19.0,18.0,19.0,27.0,9.0,36.5,42.0,51.0,22.0,55.5,40.5,null,51.0,16.0,30.0,null,null,44.0,40.0,26.0,17.0,1.0,9.0,null,45.0,null,28.0,61.0,4.0,1.0,21.0,56.0,18.0,null,50.0,30.0,36.0,null,null,9.0,1.0,4.0,null,null,45.0,40.0,36.0,32.0,19.0,19.0,3.0,44.0,58.0,null,42.0,null,24.0,28.0,null,34.0,45.5,18.0,2.0,32.0,26.0,16.0,40.0,24.0,35.0,22.0,30.0,null,31.0,27.0,42.0,32.0,30.0,16.0,27.0,51.0,null,38.0,22.0,19.0,20.5,18.0,null,35.0,29.0,59.0,5.0,24.0,null,44.0,8.0,19.0,33.0,null,null,29.0,22.0,30.0,44.0,25.0,24.0,37.0,54.0,null,29.0,62.0,30.0,41.0,29.0,null,30.0,35.0,50.0,null,3.0,52.0,40.0,null,36.0,16.0,25.0,58.0,35.0,null,25.0,41.0,37.0,null,63.0,45.0,null,7.0,35.0,65.0,28.0,16.0,19.0,null,33.0,30.0,22.0,42.0,22.0,26.0,19.0,36.0,24.0,24.0,null,23.5,2.0,null,50.0,null,null,19.0,null,null,0.92,null,17.0,30.0,30.0,24.0,18.0,26.0,28.0,43.0,26.0,24.0,54.0,31.0,40.0,22.0,27.0,30.0,22.0,null,36.0,61.0,36.0,31.0,16.0,null,45.5,38.0,16.0,null,null,29.0,41.0,45.0,45.0,2.0,24.0,28.0,25.0,36.0,24.0,40.0,null,3.0,42.0,23.0,null,15.0,25.0,null,28.0,22.0,38.0,null,null,40.0,29.0,45.0,35.0,null,30.0,60.0,null,null,24.0,25.0,18.0,19.0,22.0,3.0,null,22.0,27.0,20.0,19.0,42.0,1.0,32.0,35.0,null,18.0,1.0,36.0,null,17.0,36.0,21.0,28.0,23.0,24.0,22.0,31.0,46.0,23.0,28.0,39.0,26.0,21.0,28.0,20.0,34.0,51.0,3.0,21.0,null,null,null,33.0,null,44.0,null,34.0,18.0,30.0,10.0,null,21.0,29.0,28.0,18.0,null,28.0,19.0,null,32.0,28.0,null,42.0,17.0,50.0,14.0,21.0,24.0,64.0,31.0,45.0,20.0,25.0,28.0,null,4.0,13.0,34.0,5.0,52.0,36.0,null,30.0,49.0,null,29.0,65.0,null,50.0,null,48.0,34.0,47.0,48.0,null,38.0,null,56.0,null,0.75,null,38.0,33.0,23.0,22.0,null,34.0,29.0,22.0,2.0,9.0,null,50.0,63.0,25.0,null,35.0,58.0,30.0,9.0,null,21.0,55.0,71.0,21.0,null,54.0,null,25.0,24.0,17.0,21.0,null,37.0,16.0,18.0,33.0,null,28.0,26.0,29.0,null,36.0,54.0,24.0,47.0,34.0,null,36.0,32.0,30.0,22.0,null,44.0,null,40.5,50.0,null,39.0,23.0,2.0,null,17.0,null,30.0,7.0,45.0,30.0,null,22.0,36.0,9.0,11.0,32.0,50.0,64.0,19.0,null,33.0,8.0,17.0,27.0,null,22.0,22.0,62.0,48.0,null,39.0,36.0,null,40.0,28.0,null,null,24.0,19.0,29.0,null,32.0,62.0,53.0,36.0,null,16.0,19.0,34.0,39.0,null,32.0,25.0,39.0,54.0,36.0,null,18.0,47.0,60.0,22.0,null,35.0,52.0,47.0,null,37.0,36.0,null,49.0,null,49.0,24.0,null,null,44.0,35.0,36.0,30.0,27.0,22.0,40.0,39.0,null,null,null,35.0,24.0,34.0,26.0,4.0,26.0,27.0,42.0,20.0,21.0,21.0,61.0,57.0,21.0,26.0,null,80.0,51.0,32.0,null,9.0,28.0,32.0,31.0,41.0,null,20.0,24.0,2.0,null,0.75,48.0,19.0,56.0,null,23.0,null,18.0,21.0,null,18.0,24.0,null,32.0,23.0,58.0,50.0,40.0,47.0,36.0,20.0,32.0,25.0,null,43.0,null,40.0,31.0,70.0,31.0,null,18.0,24.5,18.0,43.0,36.0,null,27.0,20.0,14.0,60.0,25.0,14.0,19.0,18.0,15.0,31.0,4.0,null,25.0,60.0,52.0,44.0,null,49.0,42.0,18.0,35.0,18.0,25.0,26.0,39.0,45.0,42.0,22.0,null,24.0,null,48.0,29.0,52.0,19.0,38.0,27.0,null,33.0,6.0,17.0,34.0,50.0,27.0,20.0,30.0,null,25.0,25.0,29.0,11.0,null,23.0,23.0,28.5,48.0,35.0,null,null,null,36.0,21.0,24.0,31.0,70.0,16.0,30.0,19.0,31.0,4.0,6.0,33.0,23.0,48.0,0.67,28.0,18.0,34.0,33.0,null,41.0,20.0,36.0,16.0,51.0,null,30.5,null,32.0,24.0,48.0,57.0,null,54.0,18.0,null,5.0,null,43.0,13.0,17.0,29.0,null,25.0,25.0,18.0,8.0,1.0,46.0,null,16.0,null,null,25.0,39.0,49.0,31.0,30.0,30.0,34.0,31.0,11.0,0.42,27.0,31.0,39.0,18.0,39.0,33.0,26.0,39.0,35.0,6.0,30.5,null,23.0,31.0,43.0,10.0,52.0,27.0,38.0,27.0,2.0,null,null,1.0,null,62.0,15.0,0.83,null,23.0,18.0,39.0,21.0,null,32.0,null,20.0,16.0,30.0,34.5,17.0,42.0,null,35.0,28.0,null,4.0,74.0,9.0,16.0,44.0,18.0,45.0,51.0,24.0,null,41.0,21.0,48.0,null,24.0,42.0,27.0,31.0,null,4.0,26.0,47.0,33.0,47.0,28.0,15.0,20.0,19.0,null,56.0,25.0,33.0,22.0,28.0,25.0,39.0,27.0,19.0,null,26.0,32.0]},{\"axis\":{\"matches\":true},\"label\":\"SibSp\",\"values\":[1,1,0,1,0,0,0,3,0,1,1,0,0,1,0,0,4,0,1,0,0,0,0,0,3,1,0,3,0,0,0,1,0,0,1,1,0,0,2,1,1,1,0,1,0,0,1,0,2,1,4,0,1,1,0,0,0,0,1,5,0,0,1,3,0,1,0,0,4,2,0,5,0,1,0,0,0,0,0,0,0,0,0,0,0,3,1,0,3,0,0,0,1,1,0,0,0,0,0,1,0,0,0,0,2,0,0,0,0,1,0,1,0,1,0,0,0,1,0,4,2,0,1,0,0,1,0,0,1,0,0,0,1,1,0,0,0,1,0,0,0,0,1,0,0,1,0,2,0,0,0,1,0,0,0,0,0,0,0,8,0,0,0,0,4,0,0,1,0,0,0,4,1,0,0,1,3,0,0,0,8,0,4,2,0,0,1,0,1,0,0,0,1,1,0,0,0,0,0,0,0,8,0,0,0,0,1,0,0,0,0,0,0,0,1,1,0,1,0,0,0,0,0,0,1,0,0,0,0,3,1,0,0,4,0,0,1,0,0,0,1,1,0,0,0,2,0,0,1,1,0,1,0,1,0,0,0,0,0,0,0,4,1,0,0,0,4,1,0,0,0,0,0,0,0,1,0,0,4,1,0,0,0,0,0,0,0,0,0,0,0,1,0,0,0,0,0,1,0,0,0,2,0,0,0,1,0,1,1,0,0,2,1,0,1,0,1,0,0,1,0,0,0,1,8,0,0,0,1,0,2,0,0,2,1,0,1,0,0,0,1,3,0,0,0,0,0,1,1,0,0,0,1,1,0,0,0,0,0,0,1,1,0,0,1,0,1,0,0,0,1,1,0,0,3,1,0,0,0,0,0,0,0,1,0,0,5,0,0,0,1,0,2,1,0,0,0,0,0,0,0,0,1,1,0,1,0,1,0,3,0,0,1,0,0,0,1,0,0,0,0,0,0,1,1,0,1,0,0,0,0,1,1,0,1,1,2,2,1,0,1,0,1,0,0,0,0,0,2,0,1,1,0,1,0,0,0,1,0,0,0,0,0,0,0,0,0,0,0,2,0,0,1,0,0,0,1,1,0,0,5,0,0,0,1,3,1,0,0,1,1,0,0,0,0,0,1,0,1,0,0,0,0,0,0,1,0,0,0,0,0,0,0,1,0,0,0,0,1,0,0,0,0,0,0,0,0,0,0,2,1,0,1,0,0,0,0,0,0,0,0,4,4,1,1,0,1,0,1,1,0,0,0,0,0,0,1,0,1,1,0,0,0,0,0,2,0,0,0,0,0,2,0,0,0,0,0,1,1,0,1,1,0,0,0,0,0,1,0,0,0,1,0,0,1,1,0,0,0,1,2,0,0,0,0,1,0,0,1,0,1,0,1,0,0,1,1,1,2,0,1,1,1,0,0,0,0,0,0,0,0,0,0,0,3,0,0,1,0,1,0,0,3,0,2,1,0,0,0,0,0,0,0,0,0,2,0,1,0,0,2,0,0,0,1,2,0,0,0,1,1,1,0,0,0,0,0,0,1,0,0,0,0,5,1,1,4,0,0,0,1,0,0,0,0,0,0,0,1,0,1,0,0,0,1,0,0,0,0,1,0,0,1,0,0,0,0,0,0,0,0,1,0,0,1,0,3,0,1,1,0,0,0,0,0,0,1,0,0,0,0,1,2,1,0,1,1,0,1,0,1,0,0,0,1,1,0,0,0,0,0,0,0,1,0,1,0,0,1,0,0,0,0,0,1,0,0,0,0,0,0,1,0,1,0,0,0,4,1,0,0,0,8,0,0,0,0,0,0,1,0,1,1,0,0,0,0,0,0,1,0,0,0,4,0,0,0,1,0,3,1,0,0,0,4,0,0,0,0,0,1,1,0,0,0,1,0,0,0,0,0,0,0,0,0,0,8,0,0,1,4,0,1,0,1,0,1,0,0,0,2,1,0,8,0,0,1,0,0,1,0,1,0,0,1,0,0,0,0,0,0,0,0,0,0,0,0,0,1,0,0]},{\"axis\":{\"matches\":true},\"label\":\"Parch\",\"values\":[0,0,0,0,0,0,0,1,2,0,1,0,0,5,0,0,1,0,0,0,0,0,0,0,1,5,0,2,0,0,0,0,0,0,0,0,0,0,0,0,0,0,0,2,0,0,0,0,0,0,1,0,0,0,1,0,0,0,2,2,0,0,0,2,0,1,0,0,2,0,0,2,0,0,0,0,0,0,2,0,0,0,0,0,0,0,3,0,2,0,0,0,0,2,0,0,0,1,1,0,0,0,1,0,0,0,0,0,0,0,0,0,0,0,0,0,0,0,1,2,0,0,0,0,1,0,0,0,1,0,0,0,0,0,0,0,2,0,0,0,2,0,0,0,0,1,0,2,2,0,0,0,0,2,0,1,0,0,0,2,1,0,0,0,1,2,1,4,0,0,0,1,1,0,0,1,1,0,0,0,2,0,2,1,2,0,0,0,1,0,0,0,0,1,0,0,0,1,0,0,0,2,0,0,0,1,0,0,0,0,0,0,0,0,0,0,0,0,0,0,0,0,0,0,0,0,0,0,0,1,0,0,0,2,0,0,0,2,0,0,0,0,0,0,0,0,0,2,1,0,0,1,0,0,2,2,0,0,0,1,0,2,1,0,0,0,1,0,1,0,0,0,1,1,0,0,0,0,1,1,0,0,0,0,0,0,0,0,0,0,0,0,0,0,0,0,0,2,0,1,0,0,0,0,0,2,0,0,0,0,0,2,1,0,1,0,0,0,2,1,0,0,0,1,2,0,0,0,1,1,0,0,1,0,0,0,0,0,0,0,1,2,0,0,0,0,0,0,1,0,0,0,1,0,0,0,1,0,0,0,4,0,1,0,0,0,0,0,0,0,0,0,0,0,1,0,0,2,0,0,0,2,0,0,0,0,2,0,0,0,2,0,0,0,2,0,0,0,0,0,0,0,0,0,0,0,0,1,0,1,0,0,0,0,0,0,1,2,0,2,0,0,0,1,1,0,0,0,0,0,0,0,0,0,0,2,2,3,4,0,1,0,0,0,0,2,1,0,1,0,2,0,0,0,0,0,0,0,0,0,0,0,0,0,0,0,0,0,0,1,0,0,2,0,0,0,0,0,0,1,2,0,0,0,0,1,0,0,0,1,0,0,0,0,0,0,0,0,2,0,0,0,0,0,0,0,2,0,0,0,0,0,0,0,0,0,0,0,0,0,0,0,0,1,0,0,0,0,0,1,1,0,1,2,0,2,0,0,0,2,2,2,2,0,0,0,0,0,1,1,2,0,0,0,0,0,0,0,1,0,0,0,0,0,0,0,0,4,0,0,0,0,0,0,0,0,0,0,0,0,1,1,0,0,0,2,0,1,0,0,0,0,0,2,0,1,0,0,0,0,1,0,0,0,0,0,0,0,2,0,5,0,0,0,0,2,1,0,1,0,0,0,1,0,0,0,0,0,0,0,0,0,0,0,2,0,0,1,5,0,0,0,2,0,1,0,0,0,0,0,0,1,0,0,0,0,0,1,0,2,0,0,0,0,0,0,0,0,0,0,1,0,0,0,0,0,0,0,6,1,0,0,0,2,1,2,1,0,0,1,0,1,0,0,0,0,0,0,1,0,0,0,1,0,0,0,0,0,0,1,0,0,0,0,0,0,0,0,0,0,1,0,0,0,0,0,0,0,0,0,0,0,0,0,0,0,3,0,0,0,0,0,2,0,0,1,1,0,0,0,1,1,0,0,2,1,0,0,0,0,0,0,0,2,0,0,0,0,0,0,0,0,0,0,3,0,0,0,0,1,0,0,0,2,0,0,0,1,2,0,0,0,2,0,0,0,0,0,0,1,0,1,2,1,0,0,0,0,0,0,0,0,0,2,0,0,0,1,0,2,1,0,0,1,1,0,0,2,0,0,0,1,0,0,0,1,0,0,0,0,0,0,0,0,0,0,2,0,1,0,2,0,1,1,0,1,1,0,3,0,0,0,0,2,0,0,0,0,0,1,0,1,0,0,0,0,0,0,0,1,1,0,0,0,0,5,0,0,2,0,0]}],\"hovertemplate\":\"%{xaxis.title.text}=%{x}\\u003cbr\\u003e%{yaxis.title.text}=%{y}\\u003cbr\\u003eSurvived=%{marker.color}\\u003cextra\\u003e\\u003c\\u002fextra\\u003e\",\"legendgroup\":\"\",\"marker\":{\"color\":[0,1,1,1,0,0,0,0,1,1,1,1,0,0,0,1,0,1,0,1,0,1,1,1,0,1,0,0,1,0,0,1,1,0,0,0,1,0,0,1,0,0,0,1,1,0,0,1,0,0,0,0,1,1,0,1,1,0,1,0,0,1,0,0,0,1,1,0,1,0,0,0,0,0,1,0,0,0,1,1,0,1,1,0,1,1,0,0,1,0,0,0,0,0,0,0,0,1,1,0,0,0,0,0,0,0,1,1,0,1,0,0,0,0,0,0,0,0,0,0,0,0,0,1,0,1,0,1,1,0,0,0,0,1,0,0,1,0,0,0,0,1,1,0,0,0,1,0,0,0,0,1,0,0,0,0,1,0,0,0,0,1,0,0,0,1,1,0,0,0,0,0,1,0,0,0,0,0,0,0,0,0,0,1,1,0,1,1,0,0,1,0,1,1,1,1,0,0,1,0,0,0,0,0,1,0,0,1,1,1,0,1,0,0,0,1,1,0,1,0,1,0,0,0,1,0,1,0,0,0,1,0,0,1,0,0,0,1,0,0,0,1,0,0,0,0,0,1,1,0,0,0,0,0,0,1,1,1,1,1,0,1,0,0,0,0,0,1,1,1,0,1,1,0,1,1,0,0,0,1,0,0,0,1,0,0,1,0,1,1,1,1,0,0,0,0,0,0,1,1,1,1,0,1,0,1,1,1,0,1,1,1,0,0,0,1,1,0,1,1,0,0,1,1,0,1,0,1,1,1,1,0,0,0,1,0,0,1,1,0,1,1,0,0,0,1,1,1,1,0,0,0,0,0,0,0,1,0,1,1,0,0,0,0,0,0,1,1,1,1,1,0,0,0,0,1,1,0,0,0,1,1,0,1,0,0,0,1,0,1,1,1,0,1,1,0,0,0,0,1,1,0,0,0,0,0,0,1,0,0,0,0,1,0,1,0,1,1,0,0,0,0,0,0,0,0,1,1,0,1,1,1,1,0,0,1,0,1,0,0,1,0,0,1,1,1,1,1,1,1,0,0,0,1,0,1,0,1,1,0,1,0,0,0,0,0,0,0,0,1,0,0,1,1,0,0,0,0,0,1,0,0,0,1,1,0,1,0,0,1,0,0,0,0,0,0,1,0,0,0,0,0,0,0,1,0,1,1,0,1,1,0,1,1,0,0,1,0,1,0,1,0,0,1,0,0,1,0,0,0,1,0,0,1,0,1,0,1,0,1,1,0,0,1,0,0,1,1,0,1,1,0,0,1,1,0,1,0,1,1,0,0,0,0,0,0,0,0,0,1,1,1,1,1,0,0,1,1,0,1,1,1,0,0,0,1,0,1,0,0,0,1,0,0,0,0,1,0,0,1,1,0,0,0,1,0,0,1,1,1,0,0,1,0,0,1,0,0,1,0,0,1,1,0,0,0,0,1,0,0,1,0,1,0,0,1,0,0,0,0,0,1,0,1,1,1,0,1,0,1,0,1,0,1,0,0,0,0,0,0,1,0,0,0,1,0,0,0,0,1,1,0,0,1,0,0,0,1,0,1,0,1,0,0,0,0,0,0,0,1,1,1,1,0,0,0,0,1,0,0,1,1,0,0,0,0,1,1,1,1,1,0,1,0,0,0,1,1,0,0,1,0,0,0,1,0,1,1,0,0,1,0,0,0,0,0,0,1,0,0,1,0,1,0,1,0,0,1,0,0,1,1,0,0,1,1,0,0,0,1,0,0,1,1,0,1,0,0,0,0,0,0,0,0,1,0,0,1,0,1,1,1,0,0,0,0,1,0,1,0,0,0,0,0,0,0,1,1,0,0,0,1,1,1,1,0,0,0,0,1,0,0,0,0,0,0,0,0,0,0,1,1,0,1,0,0,0,1,1,1,1,1,0,0,0,1,0,0,1,1,0,0,1,0,0,0,0,0,0,1,0,0,0,1,0,1,1,1,1,0,0,0,1,0,0,1,1,0,0,1,0,1,0,0,1,1,0,0,0,1,1,0,0,0,0,0,0,1,0,1,0],\"coloraxis\":\"coloraxis\",\"symbol\":\"circle\"},\"name\":\"\",\"showlegend\":false,\"type\":\"splom\"}],                        {\"template\":{\"data\":{\"histogram2dcontour\":[{\"type\":\"histogram2dcontour\",\"colorbar\":{\"outlinewidth\":0,\"ticks\":\"\"},\"colorscale\":[[0.0,\"#0d0887\"],[0.1111111111111111,\"#46039f\"],[0.2222222222222222,\"#7201a8\"],[0.3333333333333333,\"#9c179e\"],[0.4444444444444444,\"#bd3786\"],[0.5555555555555556,\"#d8576b\"],[0.6666666666666666,\"#ed7953\"],[0.7777777777777778,\"#fb9f3a\"],[0.8888888888888888,\"#fdca26\"],[1.0,\"#f0f921\"]]}],\"choropleth\":[{\"type\":\"choropleth\",\"colorbar\":{\"outlinewidth\":0,\"ticks\":\"\"}}],\"histogram2d\":[{\"type\":\"histogram2d\",\"colorbar\":{\"outlinewidth\":0,\"ticks\":\"\"},\"colorscale\":[[0.0,\"#0d0887\"],[0.1111111111111111,\"#46039f\"],[0.2222222222222222,\"#7201a8\"],[0.3333333333333333,\"#9c179e\"],[0.4444444444444444,\"#bd3786\"],[0.5555555555555556,\"#d8576b\"],[0.6666666666666666,\"#ed7953\"],[0.7777777777777778,\"#fb9f3a\"],[0.8888888888888888,\"#fdca26\"],[1.0,\"#f0f921\"]]}],\"heatmap\":[{\"type\":\"heatmap\",\"colorbar\":{\"outlinewidth\":0,\"ticks\":\"\"},\"colorscale\":[[0.0,\"#0d0887\"],[0.1111111111111111,\"#46039f\"],[0.2222222222222222,\"#7201a8\"],[0.3333333333333333,\"#9c179e\"],[0.4444444444444444,\"#bd3786\"],[0.5555555555555556,\"#d8576b\"],[0.6666666666666666,\"#ed7953\"],[0.7777777777777778,\"#fb9f3a\"],[0.8888888888888888,\"#fdca26\"],[1.0,\"#f0f921\"]]}],\"heatmapgl\":[{\"type\":\"heatmapgl\",\"colorbar\":{\"outlinewidth\":0,\"ticks\":\"\"},\"colorscale\":[[0.0,\"#0d0887\"],[0.1111111111111111,\"#46039f\"],[0.2222222222222222,\"#7201a8\"],[0.3333333333333333,\"#9c179e\"],[0.4444444444444444,\"#bd3786\"],[0.5555555555555556,\"#d8576b\"],[0.6666666666666666,\"#ed7953\"],[0.7777777777777778,\"#fb9f3a\"],[0.8888888888888888,\"#fdca26\"],[1.0,\"#f0f921\"]]}],\"contourcarpet\":[{\"type\":\"contourcarpet\",\"colorbar\":{\"outlinewidth\":0,\"ticks\":\"\"}}],\"contour\":[{\"type\":\"contour\",\"colorbar\":{\"outlinewidth\":0,\"ticks\":\"\"},\"colorscale\":[[0.0,\"#0d0887\"],[0.1111111111111111,\"#46039f\"],[0.2222222222222222,\"#7201a8\"],[0.3333333333333333,\"#9c179e\"],[0.4444444444444444,\"#bd3786\"],[0.5555555555555556,\"#d8576b\"],[0.6666666666666666,\"#ed7953\"],[0.7777777777777778,\"#fb9f3a\"],[0.8888888888888888,\"#fdca26\"],[1.0,\"#f0f921\"]]}],\"surface\":[{\"type\":\"surface\",\"colorbar\":{\"outlinewidth\":0,\"ticks\":\"\"},\"colorscale\":[[0.0,\"#0d0887\"],[0.1111111111111111,\"#46039f\"],[0.2222222222222222,\"#7201a8\"],[0.3333333333333333,\"#9c179e\"],[0.4444444444444444,\"#bd3786\"],[0.5555555555555556,\"#d8576b\"],[0.6666666666666666,\"#ed7953\"],[0.7777777777777778,\"#fb9f3a\"],[0.8888888888888888,\"#fdca26\"],[1.0,\"#f0f921\"]]}],\"mesh3d\":[{\"type\":\"mesh3d\",\"colorbar\":{\"outlinewidth\":0,\"ticks\":\"\"}}],\"scatter\":[{\"fillpattern\":{\"fillmode\":\"overlay\",\"size\":10,\"solidity\":0.2},\"type\":\"scatter\"}],\"parcoords\":[{\"type\":\"parcoords\",\"line\":{\"colorbar\":{\"outlinewidth\":0,\"ticks\":\"\"}}}],\"scatterpolargl\":[{\"type\":\"scatterpolargl\",\"marker\":{\"colorbar\":{\"outlinewidth\":0,\"ticks\":\"\"}}}],\"bar\":[{\"error_x\":{\"color\":\"#2a3f5f\"},\"error_y\":{\"color\":\"#2a3f5f\"},\"marker\":{\"line\":{\"color\":\"#E5ECF6\",\"width\":0.5},\"pattern\":{\"fillmode\":\"overlay\",\"size\":10,\"solidity\":0.2}},\"type\":\"bar\"}],\"scattergeo\":[{\"type\":\"scattergeo\",\"marker\":{\"colorbar\":{\"outlinewidth\":0,\"ticks\":\"\"}}}],\"scatterpolar\":[{\"type\":\"scatterpolar\",\"marker\":{\"colorbar\":{\"outlinewidth\":0,\"ticks\":\"\"}}}],\"histogram\":[{\"marker\":{\"pattern\":{\"fillmode\":\"overlay\",\"size\":10,\"solidity\":0.2}},\"type\":\"histogram\"}],\"scattergl\":[{\"type\":\"scattergl\",\"marker\":{\"colorbar\":{\"outlinewidth\":0,\"ticks\":\"\"}}}],\"scatter3d\":[{\"type\":\"scatter3d\",\"line\":{\"colorbar\":{\"outlinewidth\":0,\"ticks\":\"\"}},\"marker\":{\"colorbar\":{\"outlinewidth\":0,\"ticks\":\"\"}}}],\"scattermapbox\":[{\"type\":\"scattermapbox\",\"marker\":{\"colorbar\":{\"outlinewidth\":0,\"ticks\":\"\"}}}],\"scatterternary\":[{\"type\":\"scatterternary\",\"marker\":{\"colorbar\":{\"outlinewidth\":0,\"ticks\":\"\"}}}],\"scattercarpet\":[{\"type\":\"scattercarpet\",\"marker\":{\"colorbar\":{\"outlinewidth\":0,\"ticks\":\"\"}}}],\"carpet\":[{\"aaxis\":{\"endlinecolor\":\"#2a3f5f\",\"gridcolor\":\"white\",\"linecolor\":\"white\",\"minorgridcolor\":\"white\",\"startlinecolor\":\"#2a3f5f\"},\"baxis\":{\"endlinecolor\":\"#2a3f5f\",\"gridcolor\":\"white\",\"linecolor\":\"white\",\"minorgridcolor\":\"white\",\"startlinecolor\":\"#2a3f5f\"},\"type\":\"carpet\"}],\"table\":[{\"cells\":{\"fill\":{\"color\":\"#EBF0F8\"},\"line\":{\"color\":\"white\"}},\"header\":{\"fill\":{\"color\":\"#C8D4E3\"},\"line\":{\"color\":\"white\"}},\"type\":\"table\"}],\"barpolar\":[{\"marker\":{\"line\":{\"color\":\"#E5ECF6\",\"width\":0.5},\"pattern\":{\"fillmode\":\"overlay\",\"size\":10,\"solidity\":0.2}},\"type\":\"barpolar\"}],\"pie\":[{\"automargin\":true,\"type\":\"pie\"}]},\"layout\":{\"autotypenumbers\":\"strict\",\"colorway\":[\"#636efa\",\"#EF553B\",\"#00cc96\",\"#ab63fa\",\"#FFA15A\",\"#19d3f3\",\"#FF6692\",\"#B6E880\",\"#FF97FF\",\"#FECB52\"],\"font\":{\"color\":\"#2a3f5f\"},\"hovermode\":\"closest\",\"hoverlabel\":{\"align\":\"left\"},\"paper_bgcolor\":\"white\",\"plot_bgcolor\":\"#E5ECF6\",\"polar\":{\"bgcolor\":\"#E5ECF6\",\"angularaxis\":{\"gridcolor\":\"white\",\"linecolor\":\"white\",\"ticks\":\"\"},\"radialaxis\":{\"gridcolor\":\"white\",\"linecolor\":\"white\",\"ticks\":\"\"}},\"ternary\":{\"bgcolor\":\"#E5ECF6\",\"aaxis\":{\"gridcolor\":\"white\",\"linecolor\":\"white\",\"ticks\":\"\"},\"baxis\":{\"gridcolor\":\"white\",\"linecolor\":\"white\",\"ticks\":\"\"},\"caxis\":{\"gridcolor\":\"white\",\"linecolor\":\"white\",\"ticks\":\"\"}},\"coloraxis\":{\"colorbar\":{\"outlinewidth\":0,\"ticks\":\"\"}},\"colorscale\":{\"sequential\":[[0.0,\"#0d0887\"],[0.1111111111111111,\"#46039f\"],[0.2222222222222222,\"#7201a8\"],[0.3333333333333333,\"#9c179e\"],[0.4444444444444444,\"#bd3786\"],[0.5555555555555556,\"#d8576b\"],[0.6666666666666666,\"#ed7953\"],[0.7777777777777778,\"#fb9f3a\"],[0.8888888888888888,\"#fdca26\"],[1.0,\"#f0f921\"]],\"sequentialminus\":[[0.0,\"#0d0887\"],[0.1111111111111111,\"#46039f\"],[0.2222222222222222,\"#7201a8\"],[0.3333333333333333,\"#9c179e\"],[0.4444444444444444,\"#bd3786\"],[0.5555555555555556,\"#d8576b\"],[0.6666666666666666,\"#ed7953\"],[0.7777777777777778,\"#fb9f3a\"],[0.8888888888888888,\"#fdca26\"],[1.0,\"#f0f921\"]],\"diverging\":[[0,\"#8e0152\"],[0.1,\"#c51b7d\"],[0.2,\"#de77ae\"],[0.3,\"#f1b6da\"],[0.4,\"#fde0ef\"],[0.5,\"#f7f7f7\"],[0.6,\"#e6f5d0\"],[0.7,\"#b8e186\"],[0.8,\"#7fbc41\"],[0.9,\"#4d9221\"],[1,\"#276419\"]]},\"xaxis\":{\"gridcolor\":\"white\",\"linecolor\":\"white\",\"ticks\":\"\",\"title\":{\"standoff\":15},\"zerolinecolor\":\"white\",\"automargin\":true,\"zerolinewidth\":2},\"yaxis\":{\"gridcolor\":\"white\",\"linecolor\":\"white\",\"ticks\":\"\",\"title\":{\"standoff\":15},\"zerolinecolor\":\"white\",\"automargin\":true,\"zerolinewidth\":2},\"scene\":{\"xaxis\":{\"backgroundcolor\":\"#E5ECF6\",\"gridcolor\":\"white\",\"linecolor\":\"white\",\"showbackground\":true,\"ticks\":\"\",\"zerolinecolor\":\"white\",\"gridwidth\":2},\"yaxis\":{\"backgroundcolor\":\"#E5ECF6\",\"gridcolor\":\"white\",\"linecolor\":\"white\",\"showbackground\":true,\"ticks\":\"\",\"zerolinecolor\":\"white\",\"gridwidth\":2},\"zaxis\":{\"backgroundcolor\":\"#E5ECF6\",\"gridcolor\":\"white\",\"linecolor\":\"white\",\"showbackground\":true,\"ticks\":\"\",\"zerolinecolor\":\"white\",\"gridwidth\":2}},\"shapedefaults\":{\"line\":{\"color\":\"#2a3f5f\"}},\"annotationdefaults\":{\"arrowcolor\":\"#2a3f5f\",\"arrowhead\":0,\"arrowwidth\":1},\"geo\":{\"bgcolor\":\"white\",\"landcolor\":\"#E5ECF6\",\"subunitcolor\":\"white\",\"showland\":true,\"showlakes\":true,\"lakecolor\":\"white\"},\"title\":{\"x\":0.05},\"mapbox\":{\"style\":\"light\"}}},\"coloraxis\":{\"colorbar\":{\"title\":{\"text\":\"Survived\"}},\"colorscale\":[[0.0,\"#0d0887\"],[0.1111111111111111,\"#46039f\"],[0.2222222222222222,\"#7201a8\"],[0.3333333333333333,\"#9c179e\"],[0.4444444444444444,\"#bd3786\"],[0.5555555555555556,\"#d8576b\"],[0.6666666666666666,\"#ed7953\"],[0.7777777777777778,\"#fb9f3a\"],[0.8888888888888888,\"#fdca26\"],[1.0,\"#f0f921\"]]},\"legend\":{\"tracegroupgap\":0},\"margin\":{\"t\":60},\"dragmode\":\"select\"},                        {\"responsive\": true}                    ).then(function(){\n",
              "                            \n",
              "var gd = document.getElementById('426a8614-a01f-4fe5-b574-62a30d35b476');\n",
              "var x = new MutationObserver(function (mutations, observer) {{\n",
              "        var display = window.getComputedStyle(gd).display;\n",
              "        if (!display || display === 'none') {{\n",
              "            console.log([gd, 'removed!']);\n",
              "            Plotly.purge(gd);\n",
              "            observer.disconnect();\n",
              "        }}\n",
              "}});\n",
              "\n",
              "// Listen for the removal of the full notebook cells\n",
              "var notebookContainer = gd.closest('#notebook-container');\n",
              "if (notebookContainer) {{\n",
              "    x.observe(notebookContainer, {childList: true});\n",
              "}}\n",
              "\n",
              "// Listen for the clearing of the current output cell\n",
              "var outputEl = gd.closest('.output');\n",
              "if (outputEl) {{\n",
              "    x.observe(outputEl, {childList: true});\n",
              "}}\n",
              "\n",
              "                        })                };                            </script>        </div>\n",
              "</body>\n",
              "</html>"
            ]
          },
          "metadata": {}
        }
      ]
    },
    {
      "cell_type": "code",
      "source": [
        "fig = px.ecdf(df, x=\"Survived\", color=\"Sex\")\n",
        "fig.show()"
      ],
      "metadata": {
        "colab": {
          "base_uri": "https://localhost:8080/",
          "height": 0
        },
        "id": "mzuCubgPa6VZ",
        "outputId": "0e9d90ee-64a2-44af-89bb-08e9c76bd55c"
      },
      "execution_count": 546,
      "outputs": [
        {
          "output_type": "display_data",
          "data": {
            "text/html": [
              "<html>\n",
              "<head><meta charset=\"utf-8\" /></head>\n",
              "<body>\n",
              "    <div>            <script src=\"https://cdnjs.cloudflare.com/ajax/libs/mathjax/2.7.5/MathJax.js?config=TeX-AMS-MML_SVG\"></script><script type=\"text/javascript\">if (window.MathJax && window.MathJax.Hub && window.MathJax.Hub.Config) {window.MathJax.Hub.Config({SVG: {font: \"STIX-Web\"}});}</script>                <script type=\"text/javascript\">window.PlotlyConfig = {MathJaxConfig: 'local'};</script>\n",
              "        <script charset=\"utf-8\" src=\"https://cdn.plot.ly/plotly-2.24.1.min.js\"></script>                <div id=\"0e2433fa-209d-4e8a-8a60-1b66d33b297a\" class=\"plotly-graph-div\" style=\"height:525px; width:100%;\"></div>            <script type=\"text/javascript\">                                    window.PLOTLYENV=window.PLOTLYENV || {};                                    if (document.getElementById(\"0e2433fa-209d-4e8a-8a60-1b66d33b297a\")) {                    Plotly.newPlot(                        \"0e2433fa-209d-4e8a-8a60-1b66d33b297a\",                        [{\"hovertemplate\":\"Sex=male\\u003cbr\\u003eSurvived=%{x}\\u003cbr\\u003eprobability=%{y}\\u003cextra\\u003e\\u003c\\u002fextra\\u003e\",\"legendgroup\":\"male\",\"line\":{\"dash\":\"solid\",\"shape\":\"hv\"},\"marker\":{\"color\":\"#636efa\",\"symbol\":\"circle\"},\"mode\":\"lines\",\"name\":\"male\",\"orientation\":\"v\",\"showlegend\":true,\"x\":[0,0,0,0,0,0,0,0,0,0,0,0,0,0,0,0,0,0,0,0,0,0,0,0,0,0,0,0,0,0,0,0,0,0,0,0,0,0,0,0,0,0,0,0,0,0,0,0,0,0,0,0,0,0,0,0,0,0,0,0,0,0,0,0,0,0,0,0,0,0,0,0,0,0,0,0,0,0,0,0,0,0,0,0,0,0,0,0,0,0,0,0,0,0,0,0,0,0,0,0,0,0,0,0,0,0,0,0,0,0,0,0,0,0,0,0,0,0,0,0,0,0,0,0,0,0,0,0,0,0,0,0,0,0,0,0,0,0,0,0,0,0,0,0,0,0,0,0,0,0,0,0,0,0,0,0,0,0,0,0,0,0,0,0,0,0,0,0,0,0,0,0,0,0,0,0,0,0,0,0,0,0,0,0,0,0,0,0,0,0,0,0,0,0,0,0,0,0,0,0,0,0,0,0,0,0,0,0,0,0,0,0,0,0,0,0,0,0,0,0,0,0,0,0,0,0,0,0,0,0,0,0,0,0,0,0,0,0,0,0,0,0,0,0,0,0,0,0,0,0,0,0,0,0,0,0,0,0,0,0,0,0,0,0,0,0,0,0,0,0,0,0,0,0,0,0,0,0,0,0,0,0,0,0,0,0,0,0,0,0,0,0,0,0,0,0,0,0,0,0,0,0,0,0,0,0,0,0,0,0,0,0,0,0,0,0,0,0,0,0,0,0,0,0,0,0,0,0,0,0,0,0,0,0,0,0,0,0,0,0,0,0,0,0,0,0,0,0,0,0,0,0,0,0,0,0,0,0,0,0,0,0,0,0,0,0,0,0,0,0,0,0,0,0,0,0,0,0,0,0,0,0,0,0,0,0,0,0,0,0,0,0,0,0,0,0,0,0,0,0,0,0,0,0,0,0,0,0,0,0,0,0,0,0,0,0,0,0,0,0,0,0,0,0,0,0,0,0,0,0,0,0,0,0,0,0,0,0,0,0,0,0,0,0,0,0,0,0,0,0,0,0,0,0,0,0,0,0,0,0,0,0,0,0,0,0,0,0,1,1,1,1,1,1,1,1,1,1,1,1,1,1,1,1,1,1,1,1,1,1,1,1,1,1,1,1,1,1,1,1,1,1,1,1,1,1,1,1,1,1,1,1,1,1,1,1,1,1,1,1,1,1,1,1,1,1,1,1,1,1,1,1,1,1,1,1,1,1,1,1,1,1,1,1,1,1,1,1,1,1,1,1,1,1,1,1,1,1,1,1,1,1,1,1,1,1,1,1,1,1,1,1,1,1,1,1,1],\"xaxis\":\"x\",\"y\":[0.0017331022530329288,0.0034662045060658577,0.005199306759098787,0.006932409012131715,0.008665511265164644,0.010398613518197574,0.012131715771230503,0.01386481802426343,0.01559792027729636,0.01733102253032929,0.019064124783362217,0.02079722703639515,0.022530329289428077,0.024263431542461005,0.025996533795493933,0.02772963604852686,0.029462738301559793,0.03119584055459272,0.03292894280762565,0.03466204506065858,0.036395147313691506,0.038128249566724434,0.03986135181975736,0.0415944540727903,0.043327556325823226,0.045060658578856154,0.04679376083188908,0.04852686308492201,0.05025996533795494,0.05199306759098787,0.053726169844020795,0.05545927209705372,0.05719237435008666,0.058925476603119586,0.060658578856152515,0.06239168110918544,0.06412478336221837,0.0658578856152513,0.06759098786828423,0.06932409012131716,0.07105719237435008,0.07279029462738301,0.07452339688041594,0.07625649913344887,0.0779896013864818,0.07972270363951472,0.08145580589254767,0.0831889081455806,0.08492201039861352,0.08665511265164645,0.08838821490467938,0.09012131715771231,0.09185441941074524,0.09358752166377816,0.09532062391681109,0.09705372616984402,0.09878682842287695,0.10051993067590988,0.1022530329289428,0.10398613518197573,0.10571923743500866,0.10745233968804159,0.10918544194107452,0.11091854419410745,0.11265164644714037,0.11438474870017332,0.11611785095320624,0.11785095320623917,0.1195840554592721,0.12131715771230503,0.12305025996533796,0.12478336221837089,0.1265164644714038,0.12824956672443674,0.12998266897746968,0.1317157712305026,0.13344887348353554,0.13518197573656845,0.1369150779896014,0.1386481802426343,0.14038128249566725,0.14211438474870017,0.1438474870017331,0.14558058925476602,0.14731369150779897,0.14904679376083188,0.15077989601386482,0.15251299826689774,0.15424610051993068,0.1559792027729636,0.15771230502599654,0.15944540727902945,0.1611785095320624,0.16291161178509533,0.16464471403812825,0.1663778162911612,0.1681109185441941,0.16984402079722705,0.17157712305025996,0.1733102253032929,0.17504332755632582,0.17677642980935876,0.17850953206239167,0.18024263431542462,0.18197573656845753,0.18370883882149047,0.1854419410745234,0.18717504332755633,0.18890814558058924,0.19064124783362218,0.1923743500866551,0.19410745233968804,0.19584055459272098,0.1975736568457539,0.19930675909878684,0.20103986135181975,0.2027729636048527,0.2045060658578856,0.20623916811091855,0.20797227036395147,0.2097053726169844,0.21143847487001732,0.21317157712305027,0.21490467937608318,0.21663778162911612,0.21837088388214904,0.22010398613518198,0.2218370883882149,0.22357019064124783,0.22530329289428075,0.2270363951473137,0.22876949740034663,0.23050259965337955,0.2322357019064125,0.2339688041594454,0.23570190641247835,0.23743500866551126,0.2391681109185442,0.24090121317157712,0.24263431542461006,0.24436741767764297,0.24610051993067592,0.24783362218370883,0.24956672443674177,0.2512998266897747,0.2530329289428076,0.25476603119584057,0.2564991334488735,0.2582322357019064,0.25996533795493937,0.2616984402079723,0.2634315424610052,0.2651646447140381,0.2668977469670711,0.268630849220104,0.2703639514731369,0.2720970537261698,0.2738301559792028,0.2755632582322357,0.2772963604852686,0.27902946273830154,0.2807625649913345,0.2824956672443674,0.28422876949740034,0.28596187175043325,0.2876949740034662,0.28942807625649913,0.29116117850953205,0.292894280762565,0.29462738301559793,0.29636048526863085,0.29809358752166376,0.29982668977469673,0.30155979202772965,0.30329289428076256,0.3050259965337955,0.30675909878682844,0.30849220103986136,0.31022530329289427,0.3119584055459272,0.31369150779896016,0.31542461005199307,0.317157712305026,0.3188908145580589,0.32062391681109187,0.3223570190641248,0.3240901213171577,0.32582322357019067,0.3275563258232236,0.3292894280762565,0.3310225303292894,0.3327556325823224,0.3344887348353553,0.3362218370883882,0.3379549393414211,0.3396880415944541,0.341421143847487,0.3431542461005199,0.34488734835355284,0.3466204506065858,0.3483535528596187,0.35008665511265163,0.35181975736568455,0.3535528596187175,0.35528596187175043,0.35701906412478335,0.3587521663778163,0.36048526863084923,0.36221837088388215,0.36395147313691506,0.36568457538994803,0.36741767764298094,0.36915077989601386,0.3708838821490468,0.37261698440207974,0.37435008665511266,0.37608318890814557,0.3778162911611785,0.37954939341421146,0.38128249566724437,0.3830155979202773,0.3847487001733102,0.38648180242634317,0.3882149046793761,0.389948006932409,0.39168110918544197,0.3934142114384749,0.3951473136915078,0.3968804159445407,0.3986135181975737,0.4003466204506066,0.4020797227036395,0.4038128249566724,0.4055459272097054,0.4072790294627383,0.4090121317157712,0.41074523396880414,0.4124783362218371,0.41421143847487,0.41594454072790293,0.41767764298093585,0.4194107452339688,0.42114384748700173,0.42287694974003465,0.4246100519930676,0.42634315424610053,0.42807625649913345,0.42980935875216636,0.43154246100519933,0.43327556325823224,0.43500866551126516,0.43674176776429807,0.43847487001733104,0.44020797227036396,0.44194107452339687,0.4436741767764298,0.44540727902946275,0.44714038128249567,0.4488734835355286,0.4506065857885615,0.45233968804159447,0.4540727902946274,0.4558058925476603,0.45753899480069327,0.4592720970537262,0.4610051993067591,0.462738301559792,0.464471403812825,0.4662045060658579,0.4679376083188908,0.4696707105719237,0.4714038128249567,0.4731369150779896,0.4748700173310225,0.47660311958405543,0.4783362218370884,0.4800693240901213,0.48180242634315423,0.48353552859618715,0.4852686308492201,0.48700173310225303,0.48873483535528595,0.4904679376083189,0.49220103986135183,0.49393414211438474,0.49566724436741766,0.49740034662045063,0.49913344887348354,0.5008665511265165,0.5025996533795494,0.5043327556325823,0.5060658578856152,0.5077989601386482,0.5095320623916811,0.511265164644714,0.512998266897747,0.5147313691507799,0.5164644714038128,0.5181975736568457,0.5199306759098787,0.5216637781629117,0.5233968804159446,0.5251299826689775,0.5268630849220104,0.5285961871750433,0.5303292894280762,0.5320623916811091,0.5337954939341422,0.5355285961871751,0.537261698440208,0.5389948006932409,0.5407279029462738,0.5424610051993067,0.5441941074523396,0.5459272097053726,0.5476603119584056,0.5493934142114385,0.5511265164644714,0.5528596187175043,0.5545927209705372,0.5563258232235702,0.5580589254766031,0.5597920277296361,0.561525129982669,0.5632582322357019,0.5649913344887348,0.5667244367417678,0.5684575389948007,0.5701906412478336,0.5719237435008665,0.5736568457538995,0.5753899480069324,0.5771230502599654,0.5788561525129983,0.5805892547660312,0.5823223570190641,0.584055459272097,0.58578856152513,0.587521663778163,0.5892547660311959,0.5909878682842288,0.5927209705372617,0.5944540727902946,0.5961871750433275,0.5979202772963604,0.5996533795493935,0.6013864818024264,0.6031195840554593,0.6048526863084922,0.6065857885615251,0.608318890814558,0.610051993067591,0.6117850953206239,0.6135181975736569,0.6152512998266898,0.6169844020797227,0.6187175043327556,0.6204506065857885,0.6221837088388215,0.6239168110918544,0.6256499133448874,0.6273830155979203,0.6291161178509532,0.6308492201039861,0.6325823223570191,0.634315424610052,0.6360485268630849,0.6377816291161178,0.6395147313691508,0.6412478336221837,0.6429809358752167,0.6447140381282496,0.6464471403812825,0.6481802426343154,0.6499133448873483,0.6516464471403813,0.6533795493934142,0.6551126516464472,0.6568457538994801,0.658578856152513,0.6603119584055459,0.6620450606585788,0.6637781629116117,0.6655112651646448,0.6672443674176777,0.6689774696707106,0.6707105719237435,0.6724436741767764,0.6741767764298093,0.6759098786828422,0.6776429809358753,0.6793760831889082,0.6811091854419411,0.682842287694974,0.6845753899480069,0.6863084922010398,0.6880415944540728,0.6897746967071057,0.6915077989601387,0.6932409012131716,0.6949740034662045,0.6967071057192374,0.6984402079722704,0.7001733102253033,0.7019064124783362,0.7036395147313691,0.7053726169844021,0.707105719237435,0.708838821490468,0.7105719237435009,0.7123050259965338,0.7140381282495667,0.7157712305025996,0.7175043327556326,0.7192374350086655,0.7209705372616985,0.7227036395147314,0.7244367417677643,0.7261698440207972,0.7279029462738301,0.729636048526863,0.7313691507798961,0.733102253032929,0.7348353552859619,0.7365684575389948,0.7383015597920277,0.7400346620450606,0.7417677642980935,0.7435008665511266,0.7452339688041595,0.7469670710571924,0.7487001733102253,0.7504332755632582,0.7521663778162911,0.7538994800693241,0.755632582322357,0.75736568457539,0.7590987868284229,0.7608318890814558,0.7625649913344887,0.7642980935875217,0.7660311958405546,0.7677642980935875,0.7694974003466204,0.7712305025996534,0.7729636048526863,0.7746967071057193,0.7764298093587522,0.7781629116117851,0.779896013864818,0.7816291161178509,0.7833622183708839,0.7850953206239168,0.7868284228769498,0.7885615251299827,0.7902946273830156,0.7920277296360485,0.7937608318890814,0.7954939341421143,0.7972270363951474,0.7989601386481803,0.8006932409012132,0.8024263431542461,0.804159445407279,0.8058925476603119,0.8076256499133448,0.8093587521663779,0.8110918544194108,0.8128249566724437,0.8145580589254766,0.8162911611785095,0.8180242634315424,0.8197573656845754,0.8214904679376083,0.8232235701906413,0.8249566724436742,0.8266897746967071,0.82842287694974,0.830155979202773,0.8318890814558059,0.8336221837088388,0.8353552859618717,0.8370883882149047,0.8388214904679376,0.8405545927209706,0.8422876949740035,0.8440207972270364,0.8457538994800693,0.8474870017331022,0.8492201039861352,0.8509532062391681,0.8526863084922011,0.854419410745234,0.8561525129982669,0.8578856152512998,0.8596187175043327,0.8613518197573656,0.8630849220103987,0.8648180242634316,0.8665511265164645,0.8682842287694974,0.8700173310225303,0.8717504332755632,0.8734835355285961,0.8752166377816292,0.8769497400346621,0.878682842287695,0.8804159445407279,0.8821490467937608,0.8838821490467937,0.8856152512998267,0.8873483535528596,0.8890814558058926,0.8908145580589255,0.8925476603119584,0.8942807625649913,0.8960138648180243,0.8977469670710572,0.8994800693240901,0.901213171577123,0.902946273830156,0.9046793760831889,0.9064124783362218,0.9081455805892548,0.9098786828422877,0.9116117850953206,0.9133448873483535,0.9150779896013865,0.9168110918544194,0.9185441941074524,0.9202772963604853,0.9220103986135182,0.9237435008665511,0.925476603119584,0.9272097053726169,0.92894280762565,0.9306759098786829,0.9324090121317158,0.9341421143847487,0.9358752166377816,0.9376083188908145,0.9393414211438474,0.9410745233968805,0.9428076256499134,0.9445407279029463,0.9462738301559792,0.9480069324090121,0.949740034662045,0.951473136915078,0.9532062391681109,0.9549393414211439,0.9566724436741768,0.9584055459272097,0.9601386481802426,0.9618717504332756,0.9636048526863085,0.9653379549393414,0.9670710571923743,0.9688041594454073,0.9705372616984402,0.9722703639514731,0.9740034662045061,0.975736568457539,0.9774696707105719,0.9792027729636048,0.9809358752166378,0.9826689774696707,0.9844020797227037,0.9861351819757366,0.9878682842287695,0.9896013864818024,0.9913344887348353,0.9930675909878682,0.9948006932409013,0.9965337954939342,0.9982668977469671,1.0],\"yaxis\":\"y\",\"type\":\"scatter\"},{\"hovertemplate\":\"Sex=female\\u003cbr\\u003eSurvived=%{x}\\u003cbr\\u003eprobability=%{y}\\u003cextra\\u003e\\u003c\\u002fextra\\u003e\",\"legendgroup\":\"female\",\"line\":{\"dash\":\"solid\",\"shape\":\"hv\"},\"marker\":{\"color\":\"#EF553B\",\"symbol\":\"circle\"},\"mode\":\"lines\",\"name\":\"female\",\"orientation\":\"v\",\"showlegend\":true,\"x\":[0,0,0,0,0,0,0,0,0,0,0,0,0,0,0,0,0,0,0,0,0,0,0,0,0,0,0,0,0,0,0,0,0,0,0,0,0,0,0,0,0,0,0,0,0,0,0,0,0,0,0,0,0,0,0,0,0,0,0,0,0,0,0,0,0,0,0,0,0,0,0,0,0,0,0,0,0,0,0,0,0,1,1,1,1,1,1,1,1,1,1,1,1,1,1,1,1,1,1,1,1,1,1,1,1,1,1,1,1,1,1,1,1,1,1,1,1,1,1,1,1,1,1,1,1,1,1,1,1,1,1,1,1,1,1,1,1,1,1,1,1,1,1,1,1,1,1,1,1,1,1,1,1,1,1,1,1,1,1,1,1,1,1,1,1,1,1,1,1,1,1,1,1,1,1,1,1,1,1,1,1,1,1,1,1,1,1,1,1,1,1,1,1,1,1,1,1,1,1,1,1,1,1,1,1,1,1,1,1,1,1,1,1,1,1,1,1,1,1,1,1,1,1,1,1,1,1,1,1,1,1,1,1,1,1,1,1,1,1,1,1,1,1,1,1,1,1,1,1,1,1,1,1,1,1,1,1,1,1,1,1,1,1,1,1,1,1,1,1,1,1,1,1,1,1,1,1,1,1,1,1,1,1,1,1,1,1,1,1,1,1,1,1,1,1,1,1,1,1,1,1,1,1,1,1,1,1,1,1,1,1,1,1,1],\"xaxis\":\"x\",\"y\":[0.0031847133757961785,0.006369426751592357,0.009554140127388535,0.012738853503184714,0.01592356687898089,0.01910828025477707,0.022292993630573247,0.025477707006369428,0.028662420382165606,0.03184713375796178,0.03503184713375796,0.03821656050955414,0.041401273885350316,0.044585987261146494,0.04777070063694268,0.050955414012738856,0.054140127388535034,0.05732484076433121,0.06050955414012739,0.06369426751592357,0.06687898089171974,0.07006369426751592,0.0732484076433121,0.07643312101910828,0.07961783439490445,0.08280254777070063,0.08598726114649681,0.08917197452229299,0.09235668789808917,0.09554140127388536,0.09872611464968153,0.10191082802547771,0.10509554140127389,0.10828025477707007,0.11146496815286625,0.11464968152866242,0.1178343949044586,0.12101910828025478,0.12420382165605096,0.12738853503184713,0.1305732484076433,0.1337579617834395,0.13694267515923567,0.14012738853503184,0.14331210191082802,0.1464968152866242,0.14968152866242038,0.15286624203821655,0.15605095541401273,0.1592356687898089,0.1624203821656051,0.16560509554140126,0.16878980891719744,0.17197452229299362,0.1751592356687898,0.17834394904458598,0.18152866242038215,0.18471337579617833,0.18789808917197454,0.1910828025477707,0.1942675159235669,0.19745222929936307,0.20063694267515925,0.20382165605095542,0.2070063694267516,0.21019108280254778,0.21337579617834396,0.21656050955414013,0.2197452229299363,0.2229299363057325,0.22611464968152867,0.22929936305732485,0.23248407643312102,0.2356687898089172,0.23885350318471338,0.24203821656050956,0.24522292993630573,0.2484076433121019,0.2515923566878981,0.25477707006369427,0.25796178343949044,0.2611464968152866,0.2643312101910828,0.267515923566879,0.27070063694267515,0.27388535031847133,0.2770700636942675,0.2802547770700637,0.28343949044585987,0.28662420382165604,0.2898089171974522,0.2929936305732484,0.2961783439490446,0.29936305732484075,0.30254777070063693,0.3057324840764331,0.3089171974522293,0.31210191082802546,0.31528662420382164,0.3184713375796178,0.321656050955414,0.3248407643312102,0.32802547770700635,0.33121019108280253,0.3343949044585987,0.3375796178343949,0.34076433121019106,0.34394904458598724,0.3471337579617834,0.3503184713375796,0.3535031847133758,0.35668789808917195,0.35987261146496813,0.3630573248407643,0.3662420382165605,0.36942675159235666,0.37261146496815284,0.37579617834394907,0.37898089171974525,0.3821656050955414,0.3853503184713376,0.3885350318471338,0.39171974522292996,0.39490445859872614,0.3980891719745223,0.4012738853503185,0.40445859872611467,0.40764331210191085,0.410828025477707,0.4140127388535032,0.4171974522292994,0.42038216560509556,0.42356687898089174,0.4267515923566879,0.4299363057324841,0.43312101910828027,0.43630573248407645,0.4394904458598726,0.4426751592356688,0.445859872611465,0.44904458598726116,0.45222929936305734,0.4554140127388535,0.4585987261146497,0.46178343949044587,0.46496815286624205,0.4681528662420382,0.4713375796178344,0.4745222929936306,0.47770700636942676,0.48089171974522293,0.4840764331210191,0.4872611464968153,0.49044585987261147,0.49363057324840764,0.4968152866242038,0.5,0.5031847133757962,0.5063694267515924,0.5095541401273885,0.5127388535031847,0.5159235668789809,0.5191082802547771,0.5222929936305732,0.5254777070063694,0.5286624203821656,0.5318471337579618,0.535031847133758,0.5382165605095541,0.5414012738853503,0.5445859872611465,0.5477707006369427,0.5509554140127388,0.554140127388535,0.5573248407643312,0.5605095541401274,0.5636942675159236,0.5668789808917197,0.5700636942675159,0.5732484076433121,0.5764331210191083,0.5796178343949044,0.5828025477707006,0.5859872611464968,0.589171974522293,0.5923566878980892,0.5955414012738853,0.5987261146496815,0.6019108280254777,0.6050955414012739,0.60828025477707,0.6114649681528662,0.6146496815286624,0.6178343949044586,0.6210191082802548,0.6242038216560509,0.6273885350318471,0.6305732484076433,0.6337579617834395,0.6369426751592356,0.6401273885350318,0.643312101910828,0.6464968152866242,0.6496815286624203,0.6528662420382165,0.6560509554140127,0.6592356687898089,0.6624203821656051,0.6656050955414012,0.6687898089171974,0.6719745222929936,0.6751592356687898,0.678343949044586,0.6815286624203821,0.6847133757961783,0.6878980891719745,0.6910828025477707,0.6942675159235668,0.697452229299363,0.7006369426751592,0.7038216560509554,0.7070063694267515,0.7101910828025477,0.7133757961783439,0.7165605095541401,0.7197452229299363,0.7229299363057324,0.7261146496815286,0.7292993630573248,0.732484076433121,0.7356687898089171,0.7388535031847133,0.7420382165605095,0.7452229299363057,0.7484076433121019,0.7515923566878981,0.7547770700636943,0.7579617834394905,0.7611464968152867,0.7643312101910829,0.767515923566879,0.7707006369426752,0.7738853503184714,0.7770700636942676,0.7802547770700637,0.7834394904458599,0.7866242038216561,0.7898089171974523,0.7929936305732485,0.7961783439490446,0.7993630573248408,0.802547770700637,0.8057324840764332,0.8089171974522293,0.8121019108280255,0.8152866242038217,0.8184713375796179,0.821656050955414,0.8248407643312102,0.8280254777070064,0.8312101910828026,0.8343949044585988,0.8375796178343949,0.8407643312101911,0.8439490445859873,0.8471337579617835,0.8503184713375797,0.8535031847133758,0.856687898089172,0.8598726114649682,0.8630573248407644,0.8662420382165605,0.8694267515923567,0.8726114649681529,0.8757961783439491,0.8789808917197452,0.8821656050955414,0.8853503184713376,0.8885350318471338,0.89171974522293,0.8949044585987261,0.8980891719745223,0.9012738853503185,0.9044585987261147,0.9076433121019108,0.910828025477707,0.9140127388535032,0.9171974522292994,0.9203821656050956,0.9235668789808917,0.9267515923566879,0.9299363057324841,0.9331210191082803,0.9363057324840764,0.9394904458598726,0.9426751592356688,0.945859872611465,0.9490445859872612,0.9522292993630573,0.9554140127388535,0.9585987261146497,0.9617834394904459,0.964968152866242,0.9681528662420382,0.9713375796178344,0.9745222929936306,0.9777070063694268,0.9808917197452229,0.9840764331210191,0.9872611464968153,0.9904458598726115,0.9936305732484076,0.9968152866242038,1.0],\"yaxis\":\"y\",\"type\":\"scatter\"}],                        {\"template\":{\"data\":{\"histogram2dcontour\":[{\"type\":\"histogram2dcontour\",\"colorbar\":{\"outlinewidth\":0,\"ticks\":\"\"},\"colorscale\":[[0.0,\"#0d0887\"],[0.1111111111111111,\"#46039f\"],[0.2222222222222222,\"#7201a8\"],[0.3333333333333333,\"#9c179e\"],[0.4444444444444444,\"#bd3786\"],[0.5555555555555556,\"#d8576b\"],[0.6666666666666666,\"#ed7953\"],[0.7777777777777778,\"#fb9f3a\"],[0.8888888888888888,\"#fdca26\"],[1.0,\"#f0f921\"]]}],\"choropleth\":[{\"type\":\"choropleth\",\"colorbar\":{\"outlinewidth\":0,\"ticks\":\"\"}}],\"histogram2d\":[{\"type\":\"histogram2d\",\"colorbar\":{\"outlinewidth\":0,\"ticks\":\"\"},\"colorscale\":[[0.0,\"#0d0887\"],[0.1111111111111111,\"#46039f\"],[0.2222222222222222,\"#7201a8\"],[0.3333333333333333,\"#9c179e\"],[0.4444444444444444,\"#bd3786\"],[0.5555555555555556,\"#d8576b\"],[0.6666666666666666,\"#ed7953\"],[0.7777777777777778,\"#fb9f3a\"],[0.8888888888888888,\"#fdca26\"],[1.0,\"#f0f921\"]]}],\"heatmap\":[{\"type\":\"heatmap\",\"colorbar\":{\"outlinewidth\":0,\"ticks\":\"\"},\"colorscale\":[[0.0,\"#0d0887\"],[0.1111111111111111,\"#46039f\"],[0.2222222222222222,\"#7201a8\"],[0.3333333333333333,\"#9c179e\"],[0.4444444444444444,\"#bd3786\"],[0.5555555555555556,\"#d8576b\"],[0.6666666666666666,\"#ed7953\"],[0.7777777777777778,\"#fb9f3a\"],[0.8888888888888888,\"#fdca26\"],[1.0,\"#f0f921\"]]}],\"heatmapgl\":[{\"type\":\"heatmapgl\",\"colorbar\":{\"outlinewidth\":0,\"ticks\":\"\"},\"colorscale\":[[0.0,\"#0d0887\"],[0.1111111111111111,\"#46039f\"],[0.2222222222222222,\"#7201a8\"],[0.3333333333333333,\"#9c179e\"],[0.4444444444444444,\"#bd3786\"],[0.5555555555555556,\"#d8576b\"],[0.6666666666666666,\"#ed7953\"],[0.7777777777777778,\"#fb9f3a\"],[0.8888888888888888,\"#fdca26\"],[1.0,\"#f0f921\"]]}],\"contourcarpet\":[{\"type\":\"contourcarpet\",\"colorbar\":{\"outlinewidth\":0,\"ticks\":\"\"}}],\"contour\":[{\"type\":\"contour\",\"colorbar\":{\"outlinewidth\":0,\"ticks\":\"\"},\"colorscale\":[[0.0,\"#0d0887\"],[0.1111111111111111,\"#46039f\"],[0.2222222222222222,\"#7201a8\"],[0.3333333333333333,\"#9c179e\"],[0.4444444444444444,\"#bd3786\"],[0.5555555555555556,\"#d8576b\"],[0.6666666666666666,\"#ed7953\"],[0.7777777777777778,\"#fb9f3a\"],[0.8888888888888888,\"#fdca26\"],[1.0,\"#f0f921\"]]}],\"surface\":[{\"type\":\"surface\",\"colorbar\":{\"outlinewidth\":0,\"ticks\":\"\"},\"colorscale\":[[0.0,\"#0d0887\"],[0.1111111111111111,\"#46039f\"],[0.2222222222222222,\"#7201a8\"],[0.3333333333333333,\"#9c179e\"],[0.4444444444444444,\"#bd3786\"],[0.5555555555555556,\"#d8576b\"],[0.6666666666666666,\"#ed7953\"],[0.7777777777777778,\"#fb9f3a\"],[0.8888888888888888,\"#fdca26\"],[1.0,\"#f0f921\"]]}],\"mesh3d\":[{\"type\":\"mesh3d\",\"colorbar\":{\"outlinewidth\":0,\"ticks\":\"\"}}],\"scatter\":[{\"fillpattern\":{\"fillmode\":\"overlay\",\"size\":10,\"solidity\":0.2},\"type\":\"scatter\"}],\"parcoords\":[{\"type\":\"parcoords\",\"line\":{\"colorbar\":{\"outlinewidth\":0,\"ticks\":\"\"}}}],\"scatterpolargl\":[{\"type\":\"scatterpolargl\",\"marker\":{\"colorbar\":{\"outlinewidth\":0,\"ticks\":\"\"}}}],\"bar\":[{\"error_x\":{\"color\":\"#2a3f5f\"},\"error_y\":{\"color\":\"#2a3f5f\"},\"marker\":{\"line\":{\"color\":\"#E5ECF6\",\"width\":0.5},\"pattern\":{\"fillmode\":\"overlay\",\"size\":10,\"solidity\":0.2}},\"type\":\"bar\"}],\"scattergeo\":[{\"type\":\"scattergeo\",\"marker\":{\"colorbar\":{\"outlinewidth\":0,\"ticks\":\"\"}}}],\"scatterpolar\":[{\"type\":\"scatterpolar\",\"marker\":{\"colorbar\":{\"outlinewidth\":0,\"ticks\":\"\"}}}],\"histogram\":[{\"marker\":{\"pattern\":{\"fillmode\":\"overlay\",\"size\":10,\"solidity\":0.2}},\"type\":\"histogram\"}],\"scattergl\":[{\"type\":\"scattergl\",\"marker\":{\"colorbar\":{\"outlinewidth\":0,\"ticks\":\"\"}}}],\"scatter3d\":[{\"type\":\"scatter3d\",\"line\":{\"colorbar\":{\"outlinewidth\":0,\"ticks\":\"\"}},\"marker\":{\"colorbar\":{\"outlinewidth\":0,\"ticks\":\"\"}}}],\"scattermapbox\":[{\"type\":\"scattermapbox\",\"marker\":{\"colorbar\":{\"outlinewidth\":0,\"ticks\":\"\"}}}],\"scatterternary\":[{\"type\":\"scatterternary\",\"marker\":{\"colorbar\":{\"outlinewidth\":0,\"ticks\":\"\"}}}],\"scattercarpet\":[{\"type\":\"scattercarpet\",\"marker\":{\"colorbar\":{\"outlinewidth\":0,\"ticks\":\"\"}}}],\"carpet\":[{\"aaxis\":{\"endlinecolor\":\"#2a3f5f\",\"gridcolor\":\"white\",\"linecolor\":\"white\",\"minorgridcolor\":\"white\",\"startlinecolor\":\"#2a3f5f\"},\"baxis\":{\"endlinecolor\":\"#2a3f5f\",\"gridcolor\":\"white\",\"linecolor\":\"white\",\"minorgridcolor\":\"white\",\"startlinecolor\":\"#2a3f5f\"},\"type\":\"carpet\"}],\"table\":[{\"cells\":{\"fill\":{\"color\":\"#EBF0F8\"},\"line\":{\"color\":\"white\"}},\"header\":{\"fill\":{\"color\":\"#C8D4E3\"},\"line\":{\"color\":\"white\"}},\"type\":\"table\"}],\"barpolar\":[{\"marker\":{\"line\":{\"color\":\"#E5ECF6\",\"width\":0.5},\"pattern\":{\"fillmode\":\"overlay\",\"size\":10,\"solidity\":0.2}},\"type\":\"barpolar\"}],\"pie\":[{\"automargin\":true,\"type\":\"pie\"}]},\"layout\":{\"autotypenumbers\":\"strict\",\"colorway\":[\"#636efa\",\"#EF553B\",\"#00cc96\",\"#ab63fa\",\"#FFA15A\",\"#19d3f3\",\"#FF6692\",\"#B6E880\",\"#FF97FF\",\"#FECB52\"],\"font\":{\"color\":\"#2a3f5f\"},\"hovermode\":\"closest\",\"hoverlabel\":{\"align\":\"left\"},\"paper_bgcolor\":\"white\",\"plot_bgcolor\":\"#E5ECF6\",\"polar\":{\"bgcolor\":\"#E5ECF6\",\"angularaxis\":{\"gridcolor\":\"white\",\"linecolor\":\"white\",\"ticks\":\"\"},\"radialaxis\":{\"gridcolor\":\"white\",\"linecolor\":\"white\",\"ticks\":\"\"}},\"ternary\":{\"bgcolor\":\"#E5ECF6\",\"aaxis\":{\"gridcolor\":\"white\",\"linecolor\":\"white\",\"ticks\":\"\"},\"baxis\":{\"gridcolor\":\"white\",\"linecolor\":\"white\",\"ticks\":\"\"},\"caxis\":{\"gridcolor\":\"white\",\"linecolor\":\"white\",\"ticks\":\"\"}},\"coloraxis\":{\"colorbar\":{\"outlinewidth\":0,\"ticks\":\"\"}},\"colorscale\":{\"sequential\":[[0.0,\"#0d0887\"],[0.1111111111111111,\"#46039f\"],[0.2222222222222222,\"#7201a8\"],[0.3333333333333333,\"#9c179e\"],[0.4444444444444444,\"#bd3786\"],[0.5555555555555556,\"#d8576b\"],[0.6666666666666666,\"#ed7953\"],[0.7777777777777778,\"#fb9f3a\"],[0.8888888888888888,\"#fdca26\"],[1.0,\"#f0f921\"]],\"sequentialminus\":[[0.0,\"#0d0887\"],[0.1111111111111111,\"#46039f\"],[0.2222222222222222,\"#7201a8\"],[0.3333333333333333,\"#9c179e\"],[0.4444444444444444,\"#bd3786\"],[0.5555555555555556,\"#d8576b\"],[0.6666666666666666,\"#ed7953\"],[0.7777777777777778,\"#fb9f3a\"],[0.8888888888888888,\"#fdca26\"],[1.0,\"#f0f921\"]],\"diverging\":[[0,\"#8e0152\"],[0.1,\"#c51b7d\"],[0.2,\"#de77ae\"],[0.3,\"#f1b6da\"],[0.4,\"#fde0ef\"],[0.5,\"#f7f7f7\"],[0.6,\"#e6f5d0\"],[0.7,\"#b8e186\"],[0.8,\"#7fbc41\"],[0.9,\"#4d9221\"],[1,\"#276419\"]]},\"xaxis\":{\"gridcolor\":\"white\",\"linecolor\":\"white\",\"ticks\":\"\",\"title\":{\"standoff\":15},\"zerolinecolor\":\"white\",\"automargin\":true,\"zerolinewidth\":2},\"yaxis\":{\"gridcolor\":\"white\",\"linecolor\":\"white\",\"ticks\":\"\",\"title\":{\"standoff\":15},\"zerolinecolor\":\"white\",\"automargin\":true,\"zerolinewidth\":2},\"scene\":{\"xaxis\":{\"backgroundcolor\":\"#E5ECF6\",\"gridcolor\":\"white\",\"linecolor\":\"white\",\"showbackground\":true,\"ticks\":\"\",\"zerolinecolor\":\"white\",\"gridwidth\":2},\"yaxis\":{\"backgroundcolor\":\"#E5ECF6\",\"gridcolor\":\"white\",\"linecolor\":\"white\",\"showbackground\":true,\"ticks\":\"\",\"zerolinecolor\":\"white\",\"gridwidth\":2},\"zaxis\":{\"backgroundcolor\":\"#E5ECF6\",\"gridcolor\":\"white\",\"linecolor\":\"white\",\"showbackground\":true,\"ticks\":\"\",\"zerolinecolor\":\"white\",\"gridwidth\":2}},\"shapedefaults\":{\"line\":{\"color\":\"#2a3f5f\"}},\"annotationdefaults\":{\"arrowcolor\":\"#2a3f5f\",\"arrowhead\":0,\"arrowwidth\":1},\"geo\":{\"bgcolor\":\"white\",\"landcolor\":\"#E5ECF6\",\"subunitcolor\":\"white\",\"showland\":true,\"showlakes\":true,\"lakecolor\":\"white\"},\"title\":{\"x\":0.05},\"mapbox\":{\"style\":\"light\"}}},\"xaxis\":{\"anchor\":\"y\",\"domain\":[0.0,1.0],\"title\":{\"text\":\"Survived\"}},\"yaxis\":{\"anchor\":\"x\",\"domain\":[0.0,1.0],\"title\":{\"text\":\"probability\"},\"rangemode\":\"tozero\"},\"legend\":{\"title\":{\"text\":\"Sex\"},\"tracegroupgap\":0},\"margin\":{\"t\":60}},                        {\"responsive\": true}                    ).then(function(){\n",
              "                            \n",
              "var gd = document.getElementById('0e2433fa-209d-4e8a-8a60-1b66d33b297a');\n",
              "var x = new MutationObserver(function (mutations, observer) {{\n",
              "        var display = window.getComputedStyle(gd).display;\n",
              "        if (!display || display === 'none') {{\n",
              "            console.log([gd, 'removed!']);\n",
              "            Plotly.purge(gd);\n",
              "            observer.disconnect();\n",
              "        }}\n",
              "}});\n",
              "\n",
              "// Listen for the removal of the full notebook cells\n",
              "var notebookContainer = gd.closest('#notebook-container');\n",
              "if (notebookContainer) {{\n",
              "    x.observe(notebookContainer, {childList: true});\n",
              "}}\n",
              "\n",
              "// Listen for the clearing of the current output cell\n",
              "var outputEl = gd.closest('.output');\n",
              "if (outputEl) {{\n",
              "    x.observe(outputEl, {childList: true});\n",
              "}}\n",
              "\n",
              "                        })                };                            </script>        </div>\n",
              "</body>\n",
              "</html>"
            ]
          },
          "metadata": {}
        }
      ]
    },
    {
      "cell_type": "code",
      "source": [
        "fig = px.violin(df, y=\"Survived\", x=\"Embarked\", color=\"Sex\", box=True, points=\"all\", hover_data=df.columns)\n",
        "fig.show()"
      ],
      "metadata": {
        "colab": {
          "base_uri": "https://localhost:8080/",
          "height": 0
        },
        "id": "5g1LTp3Ta6YV",
        "outputId": "e632b7db-f433-4b57-b865-4103ac92e179"
      },
      "execution_count": 547,
      "outputs": [
        {
          "output_type": "display_data",
          "data": {
            "text/html": [
              "<html>\n",
              "<head><meta charset=\"utf-8\" /></head>\n",
              "<body>\n",
              "    <div>            <script src=\"https://cdnjs.cloudflare.com/ajax/libs/mathjax/2.7.5/MathJax.js?config=TeX-AMS-MML_SVG\"></script><script type=\"text/javascript\">if (window.MathJax && window.MathJax.Hub && window.MathJax.Hub.Config) {window.MathJax.Hub.Config({SVG: {font: \"STIX-Web\"}});}</script>                <script type=\"text/javascript\">window.PlotlyConfig = {MathJaxConfig: 'local'};</script>\n",
              "        <script charset=\"utf-8\" src=\"https://cdn.plot.ly/plotly-2.24.1.min.js\"></script>                <div id=\"0df61fd9-5112-4d65-b72a-5b233a482017\" class=\"plotly-graph-div\" style=\"height:525px; width:100%;\"></div>            <script type=\"text/javascript\">                                    window.PLOTLYENV=window.PLOTLYENV || {};                                    if (document.getElementById(\"0df61fd9-5112-4d65-b72a-5b233a482017\")) {                    Plotly.newPlot(                        \"0df61fd9-5112-4d65-b72a-5b233a482017\",                        [{\"alignmentgroup\":\"True\",\"box\":{\"visible\":true},\"customdata\":[[1,3,\"Braund, Mr. Owen Harris\",\"male\",22.0,1,0,\"A\\u002f5 21171\",7.25,null],[5,3,\"Allen, Mr. William Henry\",\"male\",35.0,0,0,\"373450\",8.05,null],[6,3,\"Moran, Mr. James\",\"male\",null,0,0,\"330877\",8.4583,null],[7,1,\"McCarthy, Mr. Timothy J\",\"male\",54.0,0,0,\"17463\",51.8625,\"E46\"],[8,3,\"Palsson, Master. Gosta Leonard\",\"male\",2.0,3,1,\"349909\",21.075,null],[13,3,\"Saundercock, Mr. William Henry\",\"male\",20.0,0,0,\"A\\u002f5. 2151\",8.05,null],[14,3,\"Andersson, Mr. Anders Johan\",\"male\",39.0,1,5,\"347082\",31.275,null],[17,3,\"Rice, Master. Eugene\",\"male\",2.0,4,1,\"382652\",29.125,null],[18,2,\"Williams, Mr. Charles Eugene\",\"male\",null,0,0,\"244373\",13.0,null],[21,2,\"Fynney, Mr. Joseph J\",\"male\",35.0,0,0,\"239865\",26.0,null],[22,2,\"Beesley, Mr. Lawrence\",\"male\",34.0,0,0,\"248698\",13.0,\"D56\"],[24,1,\"Sloper, Mr. William Thompson\",\"male\",28.0,0,0,\"113788\",35.5,\"A6\"],[27,3,\"Emir, Mr. Farred Chehab\",\"male\",null,0,0,\"2631\",7.225,null],[28,1,\"Fortune, Mr. Charles Alexander\",\"male\",19.0,3,2,\"19950\",263.0,\"C23 C25 C27\"],[30,3,\"Todoroff, Mr. Lalio\",\"male\",null,0,0,\"349216\",7.8958,null],[31,1,\"Uruchurtu, Don. Manuel E\",\"male\",40.0,0,0,\"PC 17601\",27.7208,null],[34,2,\"Wheadon, Mr. Edward H\",\"male\",66.0,0,0,\"C.A. 24579\",10.5,null],[35,1,\"Meyer, Mr. Edgar Joseph\",\"male\",28.0,1,0,\"PC 17604\",82.1708,null],[36,1,\"Holverson, Mr. Alexander Oskar\",\"male\",42.0,1,0,\"113789\",52.0,null],[37,3,\"Mamee, Mr. Hanna\",\"male\",null,0,0,\"2677\",7.2292,null],[38,3,\"Cann, Mr. Ernest Charles\",\"male\",21.0,0,0,\"A.\\u002f5. 2152\",8.05,null],[43,3,\"Kraeff, Mr. Theodor\",\"male\",null,0,0,\"349253\",7.8958,null],[46,3,\"Rogers, Mr. William John\",\"male\",null,0,0,\"S.C.\\u002fA.4. 23567\",8.05,null],[47,3,\"Lennon, Mr. Denis\",\"male\",null,1,0,\"370371\",15.5,null],[49,3,\"Samaan, Mr. Youssef\",\"male\",null,2,0,\"2662\",21.6792,null],[51,3,\"Panula, Master. Juha Niilo\",\"male\",7.0,4,1,\"3101295\",39.6875,null],[52,3,\"Nosworthy, Mr. Richard Cater\",\"male\",21.0,0,0,\"A\\u002f4. 39886\",7.8,null],[55,1,\"Ostby, Mr. Engelhart Cornelius\",\"male\",65.0,0,1,\"113509\",61.9792,\"B30\"],[56,1,\"Woolner, Mr. Hugh\",\"male\",null,0,0,\"19947\",35.5,\"C52\"],[58,3,\"Novel, Mr. Mansouer\",\"male\",28.5,0,0,\"2697\",7.2292,null],[60,3,\"Goodwin, Master. William Frederick\",\"male\",11.0,5,2,\"CA 2144\",46.9,null],[61,3,\"Sirayanian, Mr. Orsen\",\"male\",22.0,0,0,\"2669\",7.2292,null],[63,1,\"Harris, Mr. Henry Birkhardt\",\"male\",45.0,1,0,\"36973\",83.475,\"C83\"],[64,3,\"Skoog, Master. Harald\",\"male\",4.0,3,2,\"347088\",27.9,null],[65,1,\"Stewart, Mr. Albert A\",\"male\",null,0,0,\"PC 17605\",27.7208,null],[66,3,\"Moubarek, Master. Gerios\",\"male\",null,1,1,\"2661\",15.2458,null],[68,3,\"Crease, Mr. Ernest James\",\"male\",19.0,0,0,\"S.P. 3464\",8.1583,null],[70,3,\"Kink, Mr. Vincenz\",\"male\",26.0,2,0,\"315151\",8.6625,null],[71,2,\"Jenkin, Mr. Stephen Curnow\",\"male\",32.0,0,0,\"C.A. 33111\",10.5,null],[73,2,\"Hood, Mr. Ambrose Jr\",\"male\",21.0,0,0,\"S.O.C. 14879\",73.5,null],[74,3,\"Chronopoulos, Mr. Apostolos\",\"male\",26.0,1,0,\"2680\",14.4542,null],[75,3,\"Bing, Mr. Lee\",\"male\",32.0,0,0,\"1601\",56.4958,null],[76,3,\"Moen, Mr. Sigurd Hansen\",\"male\",25.0,0,0,\"348123\",7.65,\"F G73\"],[77,3,\"Staneff, Mr. Ivan\",\"male\",null,0,0,\"349208\",7.8958,null],[78,3,\"Moutal, Mr. Rahamin Haim\",\"male\",null,0,0,\"374746\",8.05,null],[79,2,\"Caldwell, Master. Alden Gates\",\"male\",0.83,0,2,\"248738\",29.0,null],[81,3,\"Waelens, Mr. Achille\",\"male\",22.0,0,0,\"345767\",9.0,null],[82,3,\"Sheerlinck, Mr. Jan Baptist\",\"male\",29.0,0,0,\"345779\",9.5,null],[84,1,\"Carrau, Mr. Francisco M\",\"male\",28.0,0,0,\"113059\",47.1,null],[87,3,\"Ford, Mr. William Neal\",\"male\",16.0,1,3,\"W.\\u002fC. 6608\",34.375,null],[88,3,\"Slocovski, Mr. Selman Francis\",\"male\",null,0,0,\"SOTON\\u002fOQ 392086\",8.05,null],[90,3,\"Celotti, Mr. Francesco\",\"male\",24.0,0,0,\"343275\",8.05,null],[91,3,\"Christmann, Mr. Emil\",\"male\",29.0,0,0,\"343276\",8.05,null],[92,3,\"Andreasson, Mr. Paul Edvin\",\"male\",20.0,0,0,\"347466\",7.8542,null],[93,1,\"Chaffee, Mr. Herbert Fuller\",\"male\",46.0,1,0,\"W.E.P. 5734\",61.175,\"E31\"],[94,3,\"Dean, Mr. Bertram Frank\",\"male\",26.0,1,2,\"C.A. 2315\",20.575,null],[95,3,\"Coxon, Mr. Daniel\",\"male\",59.0,0,0,\"364500\",7.25,null],[96,3,\"Shorney, Mr. Charles Joseph\",\"male\",null,0,0,\"374910\",8.05,null],[97,1,\"Goldschmidt, Mr. George B\",\"male\",71.0,0,0,\"PC 17754\",34.6542,\"A5\"],[98,1,\"Greenfield, Mr. William Bertram\",\"male\",23.0,0,1,\"PC 17759\",63.3583,\"D10 D12\"],[100,2,\"Kantor, Mr. Sinai\",\"male\",34.0,1,0,\"244367\",26.0,null],[102,3,\"Petroff, Mr. Pastcho (\\\"Pentcho\\\")\",\"male\",null,0,0,\"349215\",7.8958,null],[103,1,\"White, Mr. Richard Frasar\",\"male\",21.0,0,1,\"35281\",77.2875,\"D26\"],[104,3,\"Johansson, Mr. Gustaf Joel\",\"male\",33.0,0,0,\"7540\",8.6542,null],[105,3,\"Gustafsson, Mr. Anders Vilhelm\",\"male\",37.0,2,0,\"3101276\",7.925,null],[106,3,\"Mionoff, Mr. Stoytcho\",\"male\",28.0,0,0,\"349207\",7.8958,null],[108,3,\"Moss, Mr. Albert Johan\",\"male\",null,0,0,\"312991\",7.775,null],[109,3,\"Rekic, Mr. Tido\",\"male\",38.0,0,0,\"349249\",7.8958,null],[111,1,\"Porter, Mr. Walter Chamberlain\",\"male\",47.0,0,0,\"110465\",52.0,\"C110\"],[113,3,\"Barton, Mr. David John\",\"male\",22.0,0,0,\"324669\",8.05,null],[116,3,\"Pekoniemi, Mr. Edvard\",\"male\",21.0,0,0,\"STON\\u002fO 2. 3101294\",7.925,null],[117,3,\"Connors, Mr. Patrick\",\"male\",70.5,0,0,\"370369\",7.75,null],[118,2,\"Turpin, Mr. William John Robert\",\"male\",29.0,1,0,\"11668\",21.0,null],[119,1,\"Baxter, Mr. Quigg Edmond\",\"male\",24.0,0,1,\"PC 17558\",247.5208,\"B58 B60\"],[121,2,\"Hickman, Mr. Stanley George\",\"male\",21.0,2,0,\"S.O.C. 14879\",73.5,null],[122,3,\"Moore, Mr. Leonard Charles\",\"male\",null,0,0,\"A4. 54510\",8.05,null],[123,2,\"Nasser, Mr. Nicholas\",\"male\",32.5,1,0,\"237736\",30.0708,null],[125,1,\"White, Mr. Percival Wayland\",\"male\",54.0,0,1,\"35281\",77.2875,\"D26\"],[126,3,\"Nicola-Yarred, Master. Elias\",\"male\",12.0,1,0,\"2651\",11.2417,null],[127,3,\"McMahon, Mr. Martin\",\"male\",null,0,0,\"370372\",7.75,null],[128,3,\"Madsen, Mr. Fridtjof Arne\",\"male\",24.0,0,0,\"C 17369\",7.1417,null],[130,3,\"Ekstrom, Mr. Johan\",\"male\",45.0,0,0,\"347061\",6.975,null],[131,3,\"Drazenoic, Mr. Jozef\",\"male\",33.0,0,0,\"349241\",7.8958,null],[132,3,\"Coelho, Mr. Domingos Fernandeo\",\"male\",20.0,0,0,\"SOTON\\u002fO.Q. 3101307\",7.05,null],[135,2,\"Sobey, Mr. Samuel James Hayden\",\"male\",25.0,0,0,\"C.A. 29178\",13.0,null],[136,2,\"Richard, Mr. Emile\",\"male\",23.0,0,0,\"SC\\u002fPARIS 2133\",15.0458,null],[138,1,\"Futrelle, Mr. Jacques Heath\",\"male\",37.0,1,0,\"113803\",53.1,\"C123\"],[139,3,\"Osen, Mr. Olaf Elon\",\"male\",16.0,0,0,\"7534\",9.2167,null],[140,1,\"Giglio, Mr. Victor\",\"male\",24.0,0,0,\"PC 17593\",79.2,\"B86\"],[144,3,\"Burke, Mr. Jeremiah\",\"male\",19.0,0,0,\"365222\",6.75,null],[145,2,\"Andrew, Mr. Edgardo Samuel\",\"male\",18.0,0,0,\"231945\",11.5,null],[146,2,\"Nicholls, Mr. Joseph Charles\",\"male\",19.0,1,1,\"C.A. 33112\",36.75,null],[147,3,\"Andersson, Mr. August Edvard (\\\"Wennerstrom\\\")\",\"male\",27.0,0,0,\"350043\",7.7958,null],[149,2,\"Navratil, Mr. Michel (\\\"Louis M Hoffman\\\")\",\"male\",36.5,0,2,\"230080\",26.0,\"F2\"],[150,2,\"Byles, Rev. Thomas Roussel Davids\",\"male\",42.0,0,0,\"244310\",13.0,null],[151,2,\"Bateman, Rev. Robert James\",\"male\",51.0,0,0,\"S.O.P. 1166\",12.525,null],[153,3,\"Meo, Mr. Alfonzo\",\"male\",55.5,0,0,\"A.5. 11206\",8.05,null],[154,3,\"van Billiard, Mr. Austin Blyler\",\"male\",40.5,0,2,\"A\\u002f5. 851\",14.5,null],[155,3,\"Olsen, Mr. Ole Martin\",\"male\",null,0,0,\"Fa 265302\",7.3125,null],[156,1,\"Williams, Mr. Charles Duane\",\"male\",51.0,0,1,\"PC 17597\",61.3792,null],[158,3,\"Corn, Mr. Harry\",\"male\",30.0,0,0,\"SOTON\\u002fOQ 392090\",8.05,null],[159,3,\"Smiljanic, Mr. Mile\",\"male\",null,0,0,\"315037\",8.6625,null],[160,3,\"Sage, Master. Thomas Henry\",\"male\",null,8,2,\"CA. 2343\",69.55,null],[161,3,\"Cribb, Mr. John Hatfield\",\"male\",44.0,0,1,\"371362\",16.1,null],[163,3,\"Bengtsson, Mr. John Viktor\",\"male\",26.0,0,0,\"347068\",7.775,null],[164,3,\"Calic, Mr. Jovo\",\"male\",17.0,0,0,\"315093\",8.6625,null],[165,3,\"Panula, Master. Eino Viljami\",\"male\",1.0,4,1,\"3101295\",39.6875,null],[166,3,\"Goldsmith, Master. Frank John William \\\"Frankie\\\"\",\"male\",9.0,0,2,\"363291\",20.525,null],[169,1,\"Baumann, Mr. John D\",\"male\",null,0,0,\"PC 17318\",25.925,null],[170,3,\"Ling, Mr. Lee\",\"male\",28.0,0,0,\"1601\",56.4958,null],[171,1,\"Van der hoef, Mr. Wyckoff\",\"male\",61.0,0,0,\"111240\",33.5,\"B19\"],[172,3,\"Rice, Master. Arthur\",\"male\",4.0,4,1,\"382652\",29.125,null],[174,3,\"Sivola, Mr. Antti Wilhelm\",\"male\",21.0,0,0,\"STON\\u002fO 2. 3101280\",7.925,null],[175,1,\"Smith, Mr. James Clinch\",\"male\",56.0,0,0,\"17764\",30.6958,\"A7\"],[176,3,\"Klasen, Mr. Klas Albin\",\"male\",18.0,1,1,\"350404\",7.8542,null],[177,3,\"Lefebre, Master. Henry Forbes\",\"male\",null,3,1,\"4133\",25.4667,null],[179,2,\"Hale, Mr. Reginald\",\"male\",30.0,0,0,\"250653\",13.0,null],[180,3,\"Leonard, Mr. Lionel\",\"male\",36.0,0,0,\"LINE\",0.0,null],[182,2,\"Pernot, Mr. Rene\",\"male\",null,0,0,\"SC\\u002fPARIS 2131\",15.05,null],[183,3,\"Asplund, Master. Clarence Gustaf Hugo\",\"male\",9.0,4,2,\"347077\",31.3875,null],[184,2,\"Becker, Master. Richard F\",\"male\",1.0,2,1,\"230136\",39.0,\"F4\"],[186,1,\"Rood, Mr. Hugh Roscoe\",\"male\",null,0,0,\"113767\",50.0,\"A32\"],[188,1,\"Romaine, Mr. Charles Hallace (\\\"Mr C Rolmane\\\")\",\"male\",45.0,0,0,\"111428\",26.55,null],[189,3,\"Bourke, Mr. John\",\"male\",40.0,1,1,\"364849\",15.5,null],[190,3,\"Turcin, Mr. Stjepan\",\"male\",36.0,0,0,\"349247\",7.8958,null],[192,2,\"Carbines, Mr. William\",\"male\",19.0,0,0,\"28424\",13.0,null],[194,2,\"Navratil, Master. Michel M\",\"male\",3.0,1,1,\"230080\",26.0,\"F2\"],[197,3,\"Mernagh, Mr. Robert\",\"male\",null,0,0,\"368703\",7.75,null],[198,3,\"Olsen, Mr. Karl Siegwart Andreas\",\"male\",42.0,0,1,\"4579\",8.4042,null],[201,3,\"Vande Walle, Mr. Nestor Cyriel\",\"male\",28.0,0,0,\"345770\",9.5,null],[202,3,\"Sage, Mr. Frederick\",\"male\",null,8,2,\"CA. 2343\",69.55,null],[203,3,\"Johanson, Mr. Jakob Alfred\",\"male\",34.0,0,0,\"3101264\",6.4958,null],[204,3,\"Youseff, Mr. Gerious\",\"male\",45.5,0,0,\"2628\",7.225,null],[205,3,\"Cohen, Mr. Gurshon \\\"Gus\\\"\",\"male\",18.0,0,0,\"A\\u002f5 3540\",8.05,null],[207,3,\"Backstrom, Mr. Karl Alfred\",\"male\",32.0,1,0,\"3101278\",15.85,null],[208,3,\"Albimona, Mr. Nassef Cassem\",\"male\",26.0,0,0,\"2699\",18.7875,null],[210,1,\"Blank, Mr. Henry\",\"male\",40.0,0,0,\"112277\",31.0,\"A31\"],[211,3,\"Ali, Mr. Ahmed\",\"male\",24.0,0,0,\"SOTON\\u002fO.Q. 3101311\",7.05,null],[213,3,\"Perkin, Mr. John Henry\",\"male\",22.0,0,0,\"A\\u002f5 21174\",7.25,null],[214,2,\"Givard, Mr. Hans Kristensen\",\"male\",30.0,0,0,\"250646\",13.0,null],[215,3,\"Kiernan, Mr. Philip\",\"male\",null,1,0,\"367229\",7.75,null],[218,2,\"Jacobsohn, Mr. Sidney Samuel\",\"male\",42.0,1,0,\"243847\",27.0,null],[220,2,\"Harris, Mr. Walter\",\"male\",30.0,0,0,\"W\\u002fC 14208\",10.5,null],[221,3,\"Sunderland, Mr. Victor Francis\",\"male\",16.0,0,0,\"SOTON\\u002fOQ 392089\",8.05,null],[222,2,\"Bracken, Mr. James H\",\"male\",27.0,0,0,\"220367\",13.0,null],[223,3,\"Green, Mr. George Henry\",\"male\",51.0,0,0,\"21440\",8.05,null],[224,3,\"Nenkoff, Mr. Christo\",\"male\",null,0,0,\"349234\",7.8958,null],[225,1,\"Hoyt, Mr. Frederick Maxfield\",\"male\",38.0,1,0,\"19943\",90.0,\"C93\"],[226,3,\"Berglund, Mr. Karl Ivar Sven\",\"male\",22.0,0,0,\"PP 4348\",9.35,null],[227,2,\"Mellors, Mr. William John\",\"male\",19.0,0,0,\"SW\\u002fPP 751\",10.5,null],[228,3,\"Lovell, Mr. John Hall (\\\"Henry\\\")\",\"male\",20.5,0,0,\"A\\u002f5 21173\",7.25,null],[229,2,\"Fahlstrom, Mr. Arne Jonas\",\"male\",18.0,0,0,\"236171\",13.0,null],[232,3,\"Larsson, Mr. Bengt Edvin\",\"male\",29.0,0,0,\"347067\",7.775,null],[233,2,\"Sjostedt, Mr. Ernst Adolf\",\"male\",59.0,0,0,\"237442\",13.5,null],[235,2,\"Leyson, Mr. Robert William Norman\",\"male\",24.0,0,0,\"C.A. 29566\",10.5,null],[237,2,\"Hold, Mr. Stephen\",\"male\",44.0,1,0,\"26707\",26.0,null],[239,2,\"Pengelly, Mr. Frederick William\",\"male\",19.0,0,0,\"28665\",10.5,null],[240,2,\"Hunt, Mr. George Henry\",\"male\",33.0,0,0,\"SCO\\u002fW 1585\",12.275,null],[243,2,\"Coleridge, Mr. Reginald Charles\",\"male\",29.0,0,0,\"W.\\u002fC. 14263\",10.5,null],[244,3,\"Maenpaa, Mr. Matti Alexanteri\",\"male\",22.0,0,0,\"STON\\u002fO 2. 3101275\",7.125,null],[245,3,\"Attalah, Mr. Sleiman\",\"male\",30.0,0,0,\"2694\",7.225,null],[246,1,\"Minahan, Dr. William Edward\",\"male\",44.0,2,0,\"19928\",90.0,\"C78\"],[249,1,\"Beckwith, Mr. Richard Leonard\",\"male\",37.0,1,1,\"11751\",52.5542,\"D35\"],[250,2,\"Carter, Rev. Ernest Courtenay\",\"male\",54.0,1,0,\"244252\",26.0,null],[251,3,\"Reed, Mr. James George\",\"male\",null,0,0,\"362316\",7.25,null],[253,1,\"Stead, Mr. William Thomas\",\"male\",62.0,0,0,\"113514\",26.55,\"C87\"],[254,3,\"Lobb, Mr. William Arthur\",\"male\",30.0,1,0,\"A\\u002f5. 3336\",16.1,null],[261,3,\"Smith, Mr. Thomas\",\"male\",null,0,0,\"384461\",7.75,null],[262,3,\"Asplund, Master. Edvin Rojj Felix\",\"male\",3.0,4,2,\"347077\",31.3875,null],[263,1,\"Taussig, Mr. Emil\",\"male\",52.0,1,1,\"110413\",79.65,\"E67\"],[264,1,\"Harrison, Mr. William\",\"male\",40.0,0,0,\"112059\",0.0,\"B94\"],[266,2,\"Reeves, Mr. David\",\"male\",36.0,0,0,\"C.A. 17248\",10.5,null],[267,3,\"Panula, Mr. Ernesti Arvid\",\"male\",16.0,4,1,\"3101295\",39.6875,null],[268,3,\"Persson, Mr. Ernst Ulrik\",\"male\",25.0,1,0,\"347083\",7.775,null],[271,1,\"Cairns, Mr. Alexander\",\"male\",null,0,0,\"113798\",31.0,null],[272,3,\"Tornquist, Mr. William Henry\",\"male\",25.0,0,0,\"LINE\",0.0,null],[274,1,\"Natsch, Mr. Charles H\",\"male\",37.0,0,1,\"PC 17596\",29.7,\"C118\"],[278,2,\"Parkes, Mr. Francis \\\"Frank\\\"\",\"male\",null,0,0,\"239853\",0.0,null],[279,3,\"Rice, Master. Eric\",\"male\",7.0,4,1,\"382652\",29.125,null],[281,3,\"Duane, Mr. Frank\",\"male\",65.0,0,0,\"336439\",7.75,null],[282,3,\"Olsson, Mr. Nils Johan Goransson\",\"male\",28.0,0,0,\"347464\",7.8542,null],[283,3,\"de Pelsmaeker, Mr. Alfons\",\"male\",16.0,0,0,\"345778\",9.5,null],[284,3,\"Dorking, Mr. Edward Arthur\",\"male\",19.0,0,0,\"A\\u002f5. 10482\",8.05,null],[285,1,\"Smith, Mr. Richard William\",\"male\",null,0,0,\"113056\",26.0,\"A19\"],[286,3,\"Stankovic, Mr. Ivan\",\"male\",33.0,0,0,\"349239\",8.6625,null],[287,3,\"de Mulder, Mr. Theodore\",\"male\",30.0,0,0,\"345774\",9.5,null],[288,3,\"Naidenoff, Mr. Penko\",\"male\",22.0,0,0,\"349206\",7.8958,null],[289,2,\"Hosono, Mr. Masabumi\",\"male\",42.0,0,0,\"237798\",13.0,null],[293,2,\"Levy, Mr. Rene Jacques\",\"male\",36.0,0,0,\"SC\\u002fParis 2163\",12.875,\"D\"],[295,3,\"Mineff, Mr. Ivan\",\"male\",24.0,0,0,\"349233\",7.8958,null],[296,1,\"Lewy, Mr. Ervin G\",\"male\",null,0,0,\"PC 17612\",27.7208,null],[297,3,\"Hanna, Mr. Mansour\",\"male\",23.5,0,0,\"2693\",7.2292,null],[299,1,\"Saalfeld, Mr. Adolphe\",\"male\",null,0,0,\"19988\",30.5,\"C106\"],[302,3,\"McCoy, Mr. Bernard\",\"male\",null,2,0,\"367226\",23.25,null],[303,3,\"Johnson, Mr. William Cahoone Jr\",\"male\",19.0,0,0,\"LINE\",0.0,null],[305,3,\"Williams, Mr. Howard Hugh \\\"Harry\\\"\",\"male\",null,0,0,\"A\\u002f5 2466\",8.05,null],[306,1,\"Allison, Master. Hudson Trevor\",\"male\",0.92,1,2,\"113781\",151.55,\"C22 C26\"],[309,2,\"Abelson, Mr. Samuel\",\"male\",30.0,1,0,\"P\\u002fPP 3381\",24.0,null],[314,3,\"Hendekovic, Mr. Ignjac\",\"male\",28.0,0,0,\"349243\",7.8958,null],[315,2,\"Hart, Mr. Benjamin\",\"male\",43.0,1,1,\"F.C.C. 13529\",26.25,null],[318,2,\"Moraweck, Dr. Ernest\",\"male\",54.0,0,0,\"29011\",14.0,null],[321,3,\"Dennis, Mr. Samuel\",\"male\",22.0,0,0,\"A\\u002f5 21172\",7.25,null],[322,3,\"Danoff, Mr. Yoto\",\"male\",27.0,0,0,\"349219\",7.8958,null],[325,3,\"Sage, Mr. George John Jr\",\"male\",null,8,2,\"CA. 2343\",69.55,null],[327,3,\"Nysveen, Mr. Johan Hansen\",\"male\",61.0,0,0,\"345364\",6.2375,null],[332,1,\"Partner, Mr. Austen\",\"male\",45.5,0,0,\"113043\",28.5,\"C124\"],[333,1,\"Graham, Mr. George Edward\",\"male\",38.0,0,1,\"PC 17582\",153.4625,\"C91\"],[334,3,\"Vander Planke, Mr. Leo Edmondus\",\"male\",16.0,2,0,\"345764\",18.0,null],[336,3,\"Denkoff, Mr. Mitto\",\"male\",null,0,0,\"349225\",7.8958,null],[337,1,\"Pears, Mr. Thomas Clinton\",\"male\",29.0,1,0,\"113776\",66.6,\"C2\"],[339,3,\"Dahl, Mr. Karl Edwart\",\"male\",45.0,0,0,\"7598\",8.05,null],[340,1,\"Blackwell, Mr. Stephen Weart\",\"male\",45.0,0,0,\"113784\",35.5,\"T\"],[341,2,\"Navratil, Master. Edmond Roger\",\"male\",2.0,1,1,\"230080\",26.0,\"F2\"],[343,2,\"Collander, Mr. Erik Gustaf\",\"male\",28.0,0,0,\"248740\",13.0,null],[344,2,\"Sedgwick, Mr. Charles Frederick Waddington\",\"male\",25.0,0,0,\"244361\",13.0,null],[345,2,\"Fox, Mr. Stanley Hubert\",\"male\",36.0,0,0,\"229236\",13.0,null],[349,3,\"Coutts, Master. William Loch \\\"William\\\"\",\"male\",3.0,1,1,\"C.A. 37671\",15.9,null],[350,3,\"Dimic, Mr. Jovan\",\"male\",42.0,0,0,\"315088\",8.6625,null],[351,3,\"Odahl, Mr. Nils Martin\",\"male\",23.0,0,0,\"7267\",9.225,null],[352,1,\"Williams-Lambert, Mr. Fletcher Fellows\",\"male\",null,0,0,\"113510\",35.0,\"C128\"],[353,3,\"Elias, Mr. Tannous\",\"male\",15.0,1,1,\"2695\",7.2292,null],[354,3,\"Arnold-Franchi, Mr. Josef\",\"male\",25.0,1,0,\"349237\",17.8,null],[355,3,\"Yousif, Mr. Wazli\",\"male\",null,0,0,\"2647\",7.225,null],[356,3,\"Vanden Steen, Mr. Leo Peter\",\"male\",28.0,0,0,\"345783\",9.5,null],[361,3,\"Skoog, Mr. Wilhelm\",\"male\",40.0,1,4,\"347088\",27.9,null],[362,2,\"del Carlo, Mr. Sebastiano\",\"male\",29.0,1,0,\"SC\\u002fPARIS 2167\",27.7208,null],[364,3,\"Asim, Mr. Adola\",\"male\",35.0,0,0,\"SOTON\\u002fO.Q. 3101310\",7.05,null],[365,3,\"O'Brien, Mr. Thomas\",\"male\",null,1,0,\"370365\",15.5,null],[366,3,\"Adahl, Mr. Mauritz Nils Martin\",\"male\",30.0,0,0,\"C 7076\",7.25,null],[371,1,\"Harder, Mr. George Achilles\",\"male\",25.0,1,0,\"11765\",55.4417,\"E50\"],[372,3,\"Wiklund, Mr. Jakob Alfred\",\"male\",18.0,1,0,\"3101267\",6.4958,null],[373,3,\"Beavan, Mr. William Thomas\",\"male\",19.0,0,0,\"323951\",8.05,null],[374,1,\"Ringhini, Mr. Sante\",\"male\",22.0,0,0,\"PC 17760\",135.6333,null],[378,1,\"Widener, Mr. Harry Elkins\",\"male\",27.0,0,2,\"113503\",211.5,\"C82\"],[379,3,\"Betros, Mr. Tannous\",\"male\",20.0,0,0,\"2648\",4.0125,null],[380,3,\"Gustafsson, Mr. Karl Gideon\",\"male\",19.0,0,0,\"347069\",7.775,null],[383,3,\"Tikkanen, Mr. Juho\",\"male\",32.0,0,0,\"STON\\u002fO 2. 3101293\",7.925,null],[385,3,\"Plotcharsky, Mr. Vasil\",\"male\",null,0,0,\"349227\",7.8958,null],[386,2,\"Davies, Mr. Charles Henry\",\"male\",18.0,0,0,\"S.O.C. 14879\",73.5,null],[387,3,\"Goodwin, Master. Sidney Leonard\",\"male\",1.0,5,2,\"CA 2144\",46.9,null],[389,3,\"Sadlier, Mr. Matthew\",\"male\",null,0,0,\"367655\",7.7292,null],[391,1,\"Carter, Mr. William Ernest\",\"male\",36.0,1,2,\"113760\",120.0,\"B96 B98\"],[392,3,\"Jansson, Mr. Carl Olof\",\"male\",21.0,0,0,\"350034\",7.7958,null],[393,3,\"Gustafsson, Mr. Johan Birger\",\"male\",28.0,2,0,\"3101277\",7.925,null],[396,3,\"Johansson, Mr. Erik\",\"male\",22.0,0,0,\"350052\",7.7958,null],[398,2,\"McKane, Mr. Peter David\",\"male\",46.0,0,0,\"28403\",26.0,null],[399,2,\"Pain, Dr. Alfred\",\"male\",23.0,0,0,\"244278\",10.5,null],[401,3,\"Niskanen, Mr. Juha\",\"male\",39.0,0,0,\"STON\\u002fO 2. 3101289\",7.925,null],[402,3,\"Adams, Mr. John\",\"male\",26.0,0,0,\"341826\",8.05,null],[404,3,\"Hakkarainen, Mr. Pekka Pietari\",\"male\",28.0,1,0,\"STON\\u002fO2. 3101279\",15.85,null],[406,2,\"Gale, Mr. Shadrach\",\"male\",34.0,1,0,\"28664\",21.0,null],[407,3,\"Widegren, Mr. Carl\\u002fCharles Peter\",\"male\",51.0,0,0,\"347064\",7.75,null],[408,2,\"Richards, Master. William Rowe\",\"male\",3.0,1,1,\"29106\",18.75,null],[409,3,\"Birkeland, Mr. Hans Martin Monsen\",\"male\",21.0,0,0,\"312992\",7.775,null],[411,3,\"Sdycoff, Mr. Todor\",\"male\",null,0,0,\"349222\",7.8958,null],[412,3,\"Hart, Mr. Henry\",\"male\",null,0,0,\"394140\",6.8583,null],[414,2,\"Cunningham, Mr. Alfred Fleming\",\"male\",null,0,0,\"239853\",0.0,null],[415,3,\"Sundman, Mr. Johan Julian\",\"male\",44.0,0,0,\"STON\\u002fO 2. 3101269\",7.925,null],[419,2,\"Matthews, Mr. William John\",\"male\",30.0,0,0,\"28228\",13.0,null],[421,3,\"Gheorgheff, Mr. Stanio\",\"male\",null,0,0,\"349254\",7.8958,null],[422,3,\"Charters, Mr. David\",\"male\",21.0,0,0,\"A\\u002f5. 13032\",7.7333,null],[423,3,\"Zimmerman, Mr. Leo\",\"male\",29.0,0,0,\"315082\",7.875,null],[425,3,\"Rosblom, Mr. Viktor Richard\",\"male\",18.0,1,1,\"370129\",20.2125,null],[426,3,\"Wiseman, Mr. Phillippe\",\"male\",null,0,0,\"A\\u002f4. 34244\",7.25,null],[429,3,\"Flynn, Mr. James\",\"male\",null,0,0,\"364851\",7.75,null],[430,3,\"Pickard, Mr. Berk (Berk Trembisky)\",\"male\",32.0,0,0,\"SOTON\\u002fO.Q. 392078\",8.05,\"E10\"],[431,1,\"Bjornstrom-Steffansson, Mr. Mauritz Hakan\",\"male\",28.0,0,0,\"110564\",26.55,\"C52\"],[434,3,\"Kallio, Mr. Nikolai Erland\",\"male\",17.0,0,0,\"STON\\u002fO 2. 3101274\",7.125,null],[435,1,\"Silvey, Mr. William Baird\",\"male\",50.0,1,0,\"13507\",55.9,\"E44\"],[439,1,\"Fortune, Mr. Mark\",\"male\",64.0,1,4,\"19950\",263.0,\"C23 C25 C27\"],[440,2,\"Kvillner, Mr. Johan Henrik Johannesson\",\"male\",31.0,0,0,\"C.A. 18723\",10.5,null],[442,3,\"Hampe, Mr. Leon\",\"male\",20.0,0,0,\"345769\",9.5,null],[443,3,\"Petterson, Mr. Johan Emil\",\"male\",25.0,1,0,\"347076\",7.775,null],[445,3,\"Johannesen-Bratthammer, Mr. Bernt\",\"male\",null,0,0,\"65306\",8.1125,null],[446,1,\"Dodge, Master. Washington\",\"male\",4.0,0,2,\"33638\",81.8583,\"A34\"],[448,1,\"Seward, Mr. Frederic Kimber\",\"male\",34.0,0,0,\"113794\",26.55,null],[450,1,\"Peuchen, Major. Arthur Godfrey\",\"male\",52.0,0,0,\"113786\",30.5,\"C104\"],[451,2,\"West, Mr. Edwy Arthur\",\"male\",36.0,1,2,\"C.A. 34651\",27.75,null],[452,3,\"Hagland, Mr. Ingvald Olai Olsen\",\"male\",null,1,0,\"65303\",19.9667,null],[453,1,\"Foreman, Mr. Benjamin Laventall\",\"male\",30.0,0,0,\"113051\",27.75,\"C111\"],[454,1,\"Goldenberg, Mr. Samuel L\",\"male\",49.0,1,0,\"17453\",89.1042,\"C92\"],[455,3,\"Peduzzi, Mr. Joseph\",\"male\",null,0,0,\"A\\u002f5 2817\",8.05,null],[456,3,\"Jalsevac, Mr. Ivan\",\"male\",29.0,0,0,\"349240\",7.8958,null],[457,1,\"Millet, Mr. Francis Davis\",\"male\",65.0,0,0,\"13509\",26.55,\"E38\"],[460,3,\"O'Connor, Mr. Maurice\",\"male\",null,0,0,\"371060\",7.75,null],[461,1,\"Anderson, Mr. Harry\",\"male\",48.0,0,0,\"19952\",26.55,\"E12\"],[462,3,\"Morley, Mr. William\",\"male\",34.0,0,0,\"364506\",8.05,null],[463,1,\"Gee, Mr. Arthur H\",\"male\",47.0,0,0,\"111320\",38.5,\"E63\"],[464,2,\"Milling, Mr. Jacob Christian\",\"male\",48.0,0,0,\"234360\",13.0,null],[465,3,\"Maisner, Mr. Simon\",\"male\",null,0,0,\"A\\u002fS 2816\",8.05,null],[466,3,\"Goncalves, Mr. Manuel Estanslas\",\"male\",38.0,0,0,\"SOTON\\u002fO.Q. 3101306\",7.05,null],[467,2,\"Campbell, Mr. William\",\"male\",null,0,0,\"239853\",0.0,null],[468,1,\"Smart, Mr. John Montgomery\",\"male\",56.0,0,0,\"113792\",26.55,null],[469,3,\"Scanlan, Mr. James\",\"male\",null,0,0,\"36209\",7.725,null],[471,3,\"Keefe, Mr. Arthur\",\"male\",null,0,0,\"323592\",7.25,null],[472,3,\"Cacic, Mr. Luka\",\"male\",38.0,0,0,\"315089\",8.6625,null],[476,1,\"Clifford, Mr. George Quincy\",\"male\",null,0,0,\"110465\",52.0,\"A14\"],[477,2,\"Renouf, Mr. Peter Henry\",\"male\",34.0,1,0,\"31027\",21.0,null],[478,3,\"Braund, Mr. Lewis Richard\",\"male\",29.0,1,0,\"3460\",7.0458,null],[479,3,\"Karlsson, Mr. Nils August\",\"male\",22.0,0,0,\"350060\",7.5208,null],[481,3,\"Goodwin, Master. Harold Victor\",\"male\",9.0,5,2,\"CA 2144\",46.9,null],[482,2,\"Frost, Mr. Anthony Wood \\\"Archie\\\"\",\"male\",null,0,0,\"239854\",0.0,null],[483,3,\"Rouse, Mr. Richard Henry\",\"male\",50.0,0,0,\"A\\u002f5 3594\",8.05,null],[485,1,\"Bishop, Mr. Dickinson H\",\"male\",25.0,1,0,\"11967\",91.0792,\"B49\"],[488,1,\"Kent, Mr. Edward Austin\",\"male\",58.0,0,0,\"11771\",29.7,\"B37\"],[489,3,\"Somerton, Mr. Francis William\",\"male\",30.0,0,0,\"A.5. 18509\",8.05,null],[490,3,\"Coutts, Master. Eden Leslie \\\"Neville\\\"\",\"male\",9.0,1,1,\"C.A. 37671\",15.9,null],[491,3,\"Hagland, Mr. Konrad Mathias Reiersen\",\"male\",null,1,0,\"65304\",19.9667,null],[492,3,\"Windelov, Mr. Einar\",\"male\",21.0,0,0,\"SOTON\\u002fOQ 3101317\",7.25,null],[493,1,\"Molson, Mr. Harry Markland\",\"male\",55.0,0,0,\"113787\",30.5,\"C30\"],[494,1,\"Artagaveytia, Mr. Ramon\",\"male\",71.0,0,0,\"PC 17609\",49.5042,null],[495,3,\"Stanley, Mr. Edward Roland\",\"male\",21.0,0,0,\"A\\u002f4 45380\",8.05,null],[496,3,\"Yousseff, Mr. Gerious\",\"male\",null,0,0,\"2627\",14.4583,null],[498,3,\"Shellard, Mr. Frederick William\",\"male\",null,0,0,\"C.A. 6212\",15.1,null],[500,3,\"Svensson, Mr. Olof\",\"male\",24.0,0,0,\"350035\",7.7958,null],[501,3,\"Calic, Mr. Petar\",\"male\",17.0,0,0,\"315086\",8.6625,null],[506,1,\"Penasco y Castellana, Mr. Victor de Satode\",\"male\",18.0,1,0,\"PC 17758\",108.9,\"C65\"],[508,1,\"Bradley, Mr. George (\\\"George Arthur Brayton\\\")\",\"male\",null,0,0,\"111427\",26.55,null],[509,3,\"Olsen, Mr. Henry Margido\",\"male\",28.0,0,0,\"C 4001\",22.525,null],[510,3,\"Lang, Mr. Fang\",\"male\",26.0,0,0,\"1601\",56.4958,null],[511,3,\"Daly, Mr. Eugene Patrick\",\"male\",29.0,0,0,\"382651\",7.75,null],[512,3,\"Webber, Mr. James\",\"male\",null,0,0,\"SOTON\\u002fOQ 3101316\",8.05,null],[513,1,\"McGough, Mr. James Robert\",\"male\",36.0,0,0,\"PC 17473\",26.2875,\"E25\"],[515,3,\"Coleff, Mr. Satio\",\"male\",24.0,0,0,\"349209\",7.4958,null],[516,1,\"Walker, Mr. William Anderson\",\"male\",47.0,0,0,\"36967\",34.0208,\"D46\"],[518,3,\"Ryan, Mr. Patrick\",\"male\",null,0,0,\"371110\",24.15,null],[520,3,\"Pavlovic, Mr. Stefo\",\"male\",32.0,0,0,\"349242\",7.8958,null],[522,3,\"Vovk, Mr. Janko\",\"male\",22.0,0,0,\"349252\",7.8958,null],[523,3,\"Lahoud, Mr. Sarkis\",\"male\",null,0,0,\"2624\",7.225,null],[525,3,\"Kassem, Mr. Fared\",\"male\",null,0,0,\"2700\",7.2292,null],[526,3,\"Farrell, Mr. James\",\"male\",40.5,0,0,\"367232\",7.75,null],[528,1,\"Farthing, Mr. John\",\"male\",null,0,0,\"PC 17483\",221.7792,\"C95\"],[529,3,\"Salonen, Mr. Johan Werner\",\"male\",39.0,0,0,\"3101296\",7.925,null],[530,2,\"Hocking, Mr. Richard George\",\"male\",23.0,2,1,\"29104\",11.5,null],[532,3,\"Toufik, Mr. Nakli\",\"male\",null,0,0,\"2641\",7.2292,null],[533,3,\"Elias, Mr. Joseph Jr\",\"male\",17.0,1,1,\"2690\",7.2292,null],[537,1,\"Butt, Major. Archibald Willingham\",\"male\",45.0,0,0,\"113050\",26.55,\"B38\"],[539,3,\"Risien, Mr. Samuel Beard\",\"male\",null,0,0,\"364498\",14.5,null],[544,2,\"Beane, Mr. Edward\",\"male\",32.0,1,0,\"2908\",26.0,null],[545,1,\"Douglas, Mr. Walter Donald\",\"male\",50.0,1,0,\"PC 17761\",106.425,\"C86\"],[546,1,\"Nicholson, Mr. Arthur Ernest\",\"male\",64.0,0,0,\"693\",26.0,null],[548,2,\"Padro y Manent, Mr. Julian\",\"male\",null,0,0,\"SC\\u002fPARIS 2146\",13.8625,null],[549,3,\"Goldsmith, Mr. Frank John\",\"male\",33.0,1,1,\"363291\",20.525,null],[550,2,\"Davies, Master. John Morgan Jr\",\"male\",8.0,1,1,\"C.A. 33112\",36.75,null],[551,1,\"Thayer, Mr. John Borland Jr\",\"male\",17.0,0,2,\"17421\",110.8833,\"C70\"],[552,2,\"Sharp, Mr. Percival James R\",\"male\",27.0,0,0,\"244358\",26.0,null],[553,3,\"O'Brien, Mr. Timothy\",\"male\",null,0,0,\"330979\",7.8292,null],[554,3,\"Leeni, Mr. Fahim (\\\"Philip Zenni\\\")\",\"male\",22.0,0,0,\"2620\",7.225,null],[556,1,\"Wright, Mr. George\",\"male\",62.0,0,0,\"113807\",26.55,null],[558,1,\"Robbins, Mr. Victor\",\"male\",null,0,0,\"PC 17757\",227.525,null],[561,3,\"Morrow, Mr. Thomas Rowan\",\"male\",null,0,0,\"372622\",7.75,null],[562,3,\"Sivic, Mr. Husein\",\"male\",40.0,0,0,\"349251\",7.8958,null],[563,2,\"Norman, Mr. Robert Douglas\",\"male\",28.0,0,0,\"218629\",13.5,null],[564,3,\"Simmons, Mr. John\",\"male\",null,0,0,\"SOTON\\u002fOQ 392082\",8.05,null],[566,3,\"Davies, Mr. Alfred J\",\"male\",24.0,2,0,\"A\\u002f4 48871\",24.15,null],[567,3,\"Stoytcheff, Mr. Ilia\",\"male\",19.0,0,0,\"349205\",7.8958,null],[569,3,\"Doharr, Mr. Tannous\",\"male\",null,0,0,\"2686\",7.2292,null],[570,3,\"Jonsson, Mr. Carl\",\"male\",32.0,0,0,\"350417\",7.8542,null],[571,2,\"Harris, Mr. George\",\"male\",62.0,0,0,\"S.W.\\u002fPP 752\",10.5,null],[573,1,\"Flynn, Mr. John Irwin (\\\"Irving\\\")\",\"male\",36.0,0,0,\"PC 17474\",26.3875,\"E25\"],[575,3,\"Rush, Mr. Alfred George John\",\"male\",16.0,0,0,\"A\\u002f4. 20589\",8.05,null],[576,3,\"Patchett, Mr. George\",\"male\",19.0,0,0,\"358585\",14.5,null],[580,3,\"Jussila, Mr. Eiriik\",\"male\",32.0,0,0,\"STON\\u002fO 2. 3101286\",7.925,null],[583,2,\"Downton, Mr. William James\",\"male\",54.0,0,0,\"28403\",26.0,null],[584,1,\"Ross, Mr. John Hugo\",\"male\",36.0,0,0,\"13049\",40.125,\"A10\"],[585,3,\"Paulner, Mr. Uscher\",\"male\",null,0,0,\"3411\",8.7125,null],[587,2,\"Jarvis, Mr. John Denzil\",\"male\",47.0,0,0,\"237565\",15.0,null],[588,1,\"Frolicher-Stehli, Mr. Maxmillian\",\"male\",60.0,1,1,\"13567\",79.2,\"B41\"],[589,3,\"Gilinski, Mr. Eliezer\",\"male\",22.0,0,0,\"14973\",8.05,null],[590,3,\"Murdlin, Mr. Joseph\",\"male\",null,0,0,\"A.\\u002f5. 3235\",8.05,null],[591,3,\"Rintamaki, Mr. Matti\",\"male\",35.0,0,0,\"STON\\u002fO 2. 3101273\",7.125,null],[593,3,\"Elsbury, Mr. William James\",\"male\",47.0,0,0,\"A\\u002f5 3902\",7.25,null],[595,2,\"Chapman, Mr. John Henry\",\"male\",37.0,1,0,\"SC\\u002fAH 29037\",26.0,null],[596,3,\"Van Impe, Mr. Jean Baptiste\",\"male\",36.0,1,1,\"345773\",24.15,null],[598,3,\"Johnson, Mr. Alfred\",\"male\",49.0,0,0,\"LINE\",0.0,null],[599,3,\"Boulos, Mr. Hanna\",\"male\",null,0,0,\"2664\",7.225,null],[600,1,\"Duff Gordon, Sir. Cosmo Edmund (\\\"Mr Morgan\\\")\",\"male\",49.0,1,0,\"PC 17485\",56.9292,\"A20\"],[602,3,\"Slabenoff, Mr. Petco\",\"male\",null,0,0,\"349214\",7.8958,null],[603,1,\"Harrington, Mr. Charles H\",\"male\",null,0,0,\"113796\",42.4,null],[604,3,\"Torber, Mr. Ernst William\",\"male\",44.0,0,0,\"364511\",8.05,null],[605,1,\"Homer, Mr. Harry (\\\"Mr E Haven\\\")\",\"male\",35.0,0,0,\"111426\",26.55,null],[606,3,\"Lindell, Mr. Edvard Bengtsson\",\"male\",36.0,1,0,\"349910\",15.55,null],[607,3,\"Karaic, Mr. Milan\",\"male\",30.0,0,0,\"349246\",7.8958,null],[608,1,\"Daniel, Mr. Robert Williams\",\"male\",27.0,0,0,\"113804\",30.5,null],[612,3,\"Jardin, Mr. Jose Neto\",\"male\",null,0,0,\"SOTON\\u002fO.Q. 3101305\",7.05,null],[614,3,\"Horgan, Mr. John\",\"male\",null,0,0,\"370377\",7.75,null],[615,3,\"Brocklebank, Mr. William Alfred\",\"male\",35.0,0,0,\"364512\",8.05,null],[617,3,\"Danbom, Mr. Ernst Gilbert\",\"male\",34.0,1,1,\"347080\",14.4,null],[620,2,\"Gavey, Mr. Lawrence\",\"male\",26.0,0,0,\"31028\",10.5,null],[621,3,\"Yasbeck, Mr. Antoni\",\"male\",27.0,1,0,\"2659\",14.4542,null],[622,1,\"Kimball, Mr. Edwin Nelson Jr\",\"male\",42.0,1,0,\"11753\",52.5542,\"D19\"],[623,3,\"Nakid, Mr. Sahid\",\"male\",20.0,1,1,\"2653\",15.7417,null],[624,3,\"Hansen, Mr. Henry Damsgaard\",\"male\",21.0,0,0,\"350029\",7.8542,null],[625,3,\"Bowen, Mr. David John \\\"Dai\\\"\",\"male\",21.0,0,0,\"54636\",16.1,null],[626,1,\"Sutton, Mr. Frederick\",\"male\",61.0,0,0,\"36963\",32.3208,\"D50\"],[627,2,\"Kirkland, Rev. Charles Leonard\",\"male\",57.0,0,0,\"219533\",12.35,null],[629,3,\"Bostandyeff, Mr. Guentcho\",\"male\",26.0,0,0,\"349224\",7.8958,null],[630,3,\"O'Connell, Mr. Patrick D\",\"male\",null,0,0,\"334912\",7.7333,null],[631,1,\"Barkworth, Mr. Algernon Henry Wilson\",\"male\",80.0,0,0,\"27042\",30.0,\"A23\"],[632,3,\"Lundahl, Mr. Johan Svensson\",\"male\",51.0,0,0,\"347743\",7.0542,null],[633,1,\"Stahelin-Maeglin, Dr. Max\",\"male\",32.0,0,0,\"13214\",30.5,\"B50\"],[634,1,\"Parr, Mr. William Henry Marsh\",\"male\",null,0,0,\"112052\",0.0,null],[637,3,\"Leinonen, Mr. Antti Gustaf\",\"male\",32.0,0,0,\"STON\\u002fO 2. 3101292\",7.925,null],[638,2,\"Collyer, Mr. Harvey\",\"male\",31.0,1,1,\"C.A. 31921\",26.25,null],[640,3,\"Thorneycroft, Mr. Percival\",\"male\",null,1,0,\"376564\",16.1,null],[641,3,\"Jensen, Mr. Hans Peder\",\"male\",20.0,0,0,\"350050\",7.8542,null],[644,3,\"Foo, Mr. Choong\",\"male\",null,0,0,\"1601\",56.4958,null],[646,1,\"Harper, Mr. Henry Sleeper\",\"male\",48.0,1,0,\"PC 17572\",76.7292,\"D33\"],[647,3,\"Cor, Mr. Liudevit\",\"male\",19.0,0,0,\"349231\",7.8958,null],[648,1,\"Simonius-Blumer, Col. Oberst Alfons\",\"male\",56.0,0,0,\"13213\",35.5,\"A26\"],[649,3,\"Willey, Mr. Edward\",\"male\",null,0,0,\"S.O.\\u002fP.P. 751\",7.55,null],[651,3,\"Mitkoff, Mr. Mito\",\"male\",null,0,0,\"349221\",7.8958,null],[653,3,\"Kalvik, Mr. Johannes Halvorsen\",\"male\",21.0,0,0,\"8475\",8.4333,null],[656,2,\"Hickman, Mr. Leonard Mark\",\"male\",24.0,2,0,\"S.O.C. 14879\",73.5,null],[657,3,\"Radeff, Mr. Alexander\",\"male\",null,0,0,\"349223\",7.8958,null],[659,2,\"Eitemiller, Mr. George Floyd\",\"male\",23.0,0,0,\"29751\",13.0,null],[660,1,\"Newell, Mr. Arthur Webster\",\"male\",58.0,0,2,\"35273\",113.275,\"D48\"],[661,1,\"Frauenthal, Dr. Henry William\",\"male\",50.0,2,0,\"PC 17611\",133.65,null],[662,3,\"Badt, Mr. Mohamed\",\"male\",40.0,0,0,\"2623\",7.225,null],[663,1,\"Colley, Mr. Edward Pomeroy\",\"male\",47.0,0,0,\"5727\",25.5875,\"E58\"],[664,3,\"Coleff, Mr. Peju\",\"male\",36.0,0,0,\"349210\",7.4958,null],[665,3,\"Lindqvist, Mr. Eino William\",\"male\",20.0,1,0,\"STON\\u002fO 2. 3101285\",7.925,null],[666,2,\"Hickman, Mr. Lewis\",\"male\",32.0,2,0,\"S.O.C. 14879\",73.5,null],[667,2,\"Butler, Mr. Reginald Fenton\",\"male\",25.0,0,0,\"234686\",13.0,null],[668,3,\"Rommetvedt, Mr. Knud Paust\",\"male\",null,0,0,\"312993\",7.775,null],[669,3,\"Cook, Mr. Jacob\",\"male\",43.0,0,0,\"A\\u002f5 3536\",8.05,null],[672,1,\"Davidson, Mr. Thornton\",\"male\",31.0,1,0,\"F.C. 12750\",52.0,\"B71\"],[673,2,\"Mitchell, Mr. Henry Michael\",\"male\",70.0,0,0,\"C.A. 24580\",10.5,null],[674,2,\"Wilhelms, Mr. Charles\",\"male\",31.0,0,0,\"244270\",13.0,null],[675,2,\"Watson, Mr. Ennis Hastings\",\"male\",null,0,0,\"239856\",0.0,null],[676,3,\"Edvardsson, Mr. Gustaf Hjalmar\",\"male\",18.0,0,0,\"349912\",7.775,null],[677,3,\"Sawyer, Mr. Frederick Charles\",\"male\",24.5,0,0,\"342826\",8.05,null],[680,1,\"Cardeza, Mr. Thomas Drake Martinez\",\"male\",36.0,0,1,\"PC 17755\",512.3292,\"B51 B53 B55\"],[682,1,\"Hassab, Mr. Hammad\",\"male\",27.0,0,0,\"PC 17572\",76.7292,\"D49\"],[683,3,\"Olsvigen, Mr. Thor Anderson\",\"male\",20.0,0,0,\"6563\",9.225,null],[684,3,\"Goodwin, Mr. Charles Edward\",\"male\",14.0,5,2,\"CA 2144\",46.9,null],[685,2,\"Brown, Mr. Thomas William Solomon\",\"male\",60.0,1,1,\"29750\",39.0,null],[686,2,\"Laroche, Mr. Joseph Philippe Lemercier\",\"male\",25.0,1,2,\"SC\\u002fParis 2123\",41.5792,null],[687,3,\"Panula, Mr. Jaako Arnold\",\"male\",14.0,4,1,\"3101295\",39.6875,null],[688,3,\"Dakic, Mr. Branko\",\"male\",19.0,0,0,\"349228\",10.1708,null],[689,3,\"Fischer, Mr. Eberhard Thelander\",\"male\",18.0,0,0,\"350036\",7.7958,null],[691,1,\"Dick, Mr. Albert Adrian\",\"male\",31.0,1,0,\"17474\",57.0,\"B20\"],[693,3,\"Lam, Mr. Ali\",\"male\",null,0,0,\"1601\",56.4958,null],[694,3,\"Saad, Mr. Khalil\",\"male\",25.0,0,0,\"2672\",7.225,null],[695,1,\"Weir, Col. John\",\"male\",60.0,0,0,\"113800\",26.55,null],[696,2,\"Chapman, Mr. Charles Henry\",\"male\",52.0,0,0,\"248731\",13.5,null],[697,3,\"Kelly, Mr. James\",\"male\",44.0,0,0,\"363592\",8.05,null],[699,1,\"Thayer, Mr. John Borland\",\"male\",49.0,1,1,\"17421\",110.8833,\"C68\"],[700,3,\"Humblen, Mr. Adolf Mathias Nicolai Olsen\",\"male\",42.0,0,0,\"348121\",7.65,\"F G63\"],[702,1,\"Silverthorne, Mr. Spencer Victor\",\"male\",35.0,0,0,\"PC 17475\",26.2875,\"E24\"],[704,3,\"Gallagher, Mr. Martin\",\"male\",25.0,0,0,\"36864\",7.7417,null],[705,3,\"Hansen, Mr. Henrik Juul\",\"male\",26.0,1,0,\"350025\",7.8542,null],[706,2,\"Morley, Mr. Henry Samuel (\\\"Mr Henry Marshall\\\")\",\"male\",39.0,0,0,\"250655\",26.0,null],[708,1,\"Calderhead, Mr. Edward Pennington\",\"male\",42.0,0,0,\"PC 17476\",26.2875,\"E24\"],[710,3,\"Moubarek, Master. Halim Gonios (\\\"William George\\\")\",\"male\",null,1,1,\"2661\",15.2458,null],[712,1,\"Klaber, Mr. Herman\",\"male\",null,0,0,\"113028\",26.55,\"C124\"],[713,1,\"Taylor, Mr. Elmer Zebley\",\"male\",48.0,1,0,\"19996\",52.0,\"C126\"],[714,3,\"Larsson, Mr. August Viktor\",\"male\",29.0,0,0,\"7545\",9.4833,null],[715,2,\"Greenberg, Mr. Samuel\",\"male\",52.0,0,0,\"250647\",13.0,null],[716,3,\"Soholt, Mr. Peter Andreas Lauritz Andersen\",\"male\",19.0,0,0,\"348124\",7.65,\"F G73\"],[719,3,\"McEvoy, Mr. Michael\",\"male\",null,0,0,\"36568\",15.5,null],[720,3,\"Johnson, Mr. Malkolm Joackim\",\"male\",33.0,0,0,\"347062\",7.775,null],[722,3,\"Jensen, Mr. Svend Lauritz\",\"male\",17.0,1,0,\"350048\",7.0542,null],[723,2,\"Gillespie, Mr. William Henry\",\"male\",34.0,0,0,\"12233\",13.0,null],[724,2,\"Hodges, Mr. Henry Price\",\"male\",50.0,0,0,\"250643\",13.0,null],[725,1,\"Chambers, Mr. Norman Campbell\",\"male\",27.0,1,0,\"113806\",53.1,\"E8\"],[726,3,\"Oreskovic, Mr. Luka\",\"male\",20.0,0,0,\"315094\",8.6625,null],[729,2,\"Bryhl, Mr. Kurt Arnold Gottfrid\",\"male\",25.0,1,0,\"236853\",26.0,null],[732,3,\"Hassan, Mr. Houssein G N\",\"male\",11.0,0,0,\"2699\",18.7875,null],[733,2,\"Knight, Mr. Robert J\",\"male\",null,0,0,\"239855\",0.0,null],[734,2,\"Berriman, Mr. William John\",\"male\",23.0,0,0,\"28425\",13.0,null],[735,2,\"Troupiansky, Mr. Moses Aaron\",\"male\",23.0,0,0,\"233639\",13.0,null],[736,3,\"Williams, Mr. Leslie\",\"male\",28.5,0,0,\"54636\",16.1,null],[738,1,\"Lesurer, Mr. Gustave J\",\"male\",35.0,0,0,\"PC 17755\",512.3292,\"B101\"],[739,3,\"Ivanoff, Mr. Kanio\",\"male\",null,0,0,\"349201\",7.8958,null],[740,3,\"Nankoff, Mr. Minko\",\"male\",null,0,0,\"349218\",7.8958,null],[741,1,\"Hawksford, Mr. Walter James\",\"male\",null,0,0,\"16988\",30.0,\"D45\"],[742,1,\"Cavendish, Mr. Tyrell William\",\"male\",36.0,1,0,\"19877\",78.85,\"C46\"],[744,3,\"McNamee, Mr. Neal\",\"male\",24.0,1,0,\"376566\",16.1,null],[745,3,\"Stranden, Mr. Juho\",\"male\",31.0,0,0,\"STON\\u002fO 2. 3101288\",7.925,null],[746,1,\"Crosby, Capt. Edward Gifford\",\"male\",70.0,1,1,\"WE\\u002fP 5735\",71.0,\"B22\"],[747,3,\"Abbott, Mr. Rossmore Edward\",\"male\",16.0,1,1,\"C.A. 2673\",20.25,null],[749,1,\"Marvin, Mr. Daniel Warner\",\"male\",19.0,1,0,\"113773\",53.1,\"D30\"],[750,3,\"Connaghton, Mr. Michael\",\"male\",31.0,0,0,\"335097\",7.75,null],[752,3,\"Moor, Master. Meier\",\"male\",6.0,0,1,\"392096\",12.475,\"E121\"],[753,3,\"Vande Velde, Mr. Johannes Joseph\",\"male\",33.0,0,0,\"345780\",9.5,null],[754,3,\"Jonkoff, Mr. Lalio\",\"male\",23.0,0,0,\"349204\",7.8958,null],[756,2,\"Hamalainen, Master. Viljo\",\"male\",0.67,1,1,\"250649\",14.5,null],[757,3,\"Carlsson, Mr. August Sigfrid\",\"male\",28.0,0,0,\"350042\",7.7958,null],[758,2,\"Bailey, Mr. Percy Andrew\",\"male\",18.0,0,0,\"29108\",11.5,null],[759,3,\"Theobald, Mr. Thomas Leonard\",\"male\",34.0,0,0,\"363294\",8.05,null],[761,3,\"Garfirth, Mr. John\",\"male\",null,0,0,\"358585\",14.5,null],[762,3,\"Nirva, Mr. Iisakki Antino Aijo\",\"male\",41.0,0,0,\"SOTON\\u002fO2 3101272\",7.125,null],[763,3,\"Barah, Mr. Hanna Assi\",\"male\",20.0,0,0,\"2663\",7.2292,null],[765,3,\"Eklund, Mr. Hans Linus\",\"male\",16.0,0,0,\"347074\",7.775,null],[767,1,\"Brewe, Dr. Arthur Jackson\",\"male\",null,0,0,\"112379\",39.6,null],[769,3,\"Moran, Mr. Daniel J\",\"male\",null,1,0,\"371110\",24.15,null],[770,3,\"Gronnestad, Mr. Daniel Danielsen\",\"male\",32.0,0,0,\"8471\",8.3625,null],[771,3,\"Lievens, Mr. Rene Aime\",\"male\",24.0,0,0,\"345781\",9.5,null],[772,3,\"Jensen, Mr. Niels Peder\",\"male\",48.0,0,0,\"350047\",7.8542,null],[774,3,\"Elias, Mr. Dibo\",\"male\",null,0,0,\"2674\",7.225,null],[776,3,\"Myhrman, Mr. Pehr Fabian Oliver Malkolm\",\"male\",18.0,0,0,\"347078\",7.75,null],[777,3,\"Tobin, Mr. Roger\",\"male\",null,0,0,\"383121\",7.75,\"F38\"],[779,3,\"Kilgannon, Mr. Thomas J\",\"male\",null,0,0,\"36865\",7.7375,null],[783,1,\"Long, Mr. Milton Clyde\",\"male\",29.0,0,0,\"113501\",30.0,\"D6\"],[784,3,\"Johnston, Mr. Andrew G\",\"male\",null,1,2,\"W.\\u002fC. 6607\",23.45,null],[785,3,\"Ali, Mr. William\",\"male\",25.0,0,0,\"SOTON\\u002fO.Q. 3101312\",7.05,null],[786,3,\"Harmer, Mr. Abraham (David Lishin)\",\"male\",25.0,0,0,\"374887\",7.25,null],[788,3,\"Rice, Master. George Hugh\",\"male\",8.0,4,1,\"382652\",29.125,null],[789,3,\"Dean, Master. Bertram Vere\",\"male\",1.0,1,2,\"C.A. 2315\",20.575,null],[790,1,\"Guggenheim, Mr. Benjamin\",\"male\",46.0,0,0,\"PC 17593\",79.2,\"B82 B84\"],[791,3,\"Keane, Mr. Andrew \\\"Andy\\\"\",\"male\",null,0,0,\"12460\",7.75,null],[792,2,\"Gaskell, Mr. Alfred\",\"male\",16.0,0,0,\"239865\",26.0,null],[794,1,\"Hoyt, Mr. William Fisher\",\"male\",null,0,0,\"PC 17600\",30.6958,null],[795,3,\"Dantcheff, Mr. Ristiu\",\"male\",25.0,0,0,\"349203\",7.8958,null],[796,2,\"Otter, Mr. Richard\",\"male\",39.0,0,0,\"28213\",13.0,null],[799,3,\"Ibrahim Shawah, Mr. Yousseff\",\"male\",30.0,0,0,\"2685\",7.2292,null],[801,2,\"Ponesell, Mr. Martin\",\"male\",34.0,0,0,\"250647\",13.0,null],[803,1,\"Carter, Master. William Thornton II\",\"male\",11.0,1,2,\"113760\",120.0,\"B96 B98\"],[804,3,\"Thomas, Master. Assad Alexander\",\"male\",0.42,0,1,\"2625\",8.5167,null],[805,3,\"Hedman, Mr. Oskar Arvid\",\"male\",27.0,0,0,\"347089\",6.975,null],[806,3,\"Johansson, Mr. Karl Johan\",\"male\",31.0,0,0,\"347063\",7.775,null],[807,1,\"Andrews, Mr. Thomas Jr\",\"male\",39.0,0,0,\"112050\",0.0,\"A36\"],[809,2,\"Meyer, Mr. August\",\"male\",39.0,0,0,\"248723\",13.0,null],[811,3,\"Alexander, Mr. William\",\"male\",26.0,0,0,\"3474\",7.8875,null],[812,3,\"Lester, Mr. James\",\"male\",39.0,0,0,\"A\\u002f4 48871\",24.15,null],[813,2,\"Slemen, Mr. Richard James\",\"male\",35.0,0,0,\"28206\",10.5,null],[815,3,\"Tomlin, Mr. Ernest Portage\",\"male\",30.5,0,0,\"364499\",8.05,null],[816,1,\"Fry, Mr. Richard\",\"male\",null,0,0,\"112058\",0.0,\"B102\"],[818,2,\"Mallet, Mr. Albert\",\"male\",31.0,1,1,\"S.C.\\u002fPARIS 2079\",37.0042,null],[819,3,\"Holm, Mr. John Fredrik Alexander\",\"male\",43.0,0,0,\"C 7075\",6.45,null],[820,3,\"Skoog, Master. Karl Thorsten\",\"male\",10.0,3,2,\"347088\",27.9,null],[822,3,\"Lulic, Mr. Nikola\",\"male\",27.0,0,0,\"315098\",8.6625,null],[823,1,\"Reuchlin, Jonkheer. John George\",\"male\",38.0,0,0,\"19972\",0.0,null],[825,3,\"Panula, Master. Urho Abraham\",\"male\",2.0,4,1,\"3101295\",39.6875,null],[826,3,\"Flynn, Mr. John\",\"male\",null,0,0,\"368323\",6.95,null],[827,3,\"Lam, Mr. Len\",\"male\",null,0,0,\"1601\",56.4958,null],[828,2,\"Mallet, Master. Andre\",\"male\",1.0,0,2,\"S.C.\\u002fPARIS 2079\",37.0042,null],[829,3,\"McCormack, Mr. Thomas Joseph\",\"male\",null,0,0,\"367228\",7.75,null],[832,2,\"Richards, Master. George Sibley\",\"male\",0.83,1,1,\"29106\",18.75,null],[833,3,\"Saad, Mr. Amin\",\"male\",null,0,0,\"2671\",7.2292,null],[834,3,\"Augustsson, Mr. Albert\",\"male\",23.0,0,0,\"347468\",7.8542,null],[835,3,\"Allum, Mr. Owen George\",\"male\",18.0,0,0,\"2223\",8.3,null],[837,3,\"Pasic, Mr. Jakob\",\"male\",21.0,0,0,\"315097\",8.6625,null],[838,3,\"Sirota, Mr. Maurice\",\"male\",null,0,0,\"392092\",8.05,null],[839,3,\"Chip, Mr. Chang\",\"male\",32.0,0,0,\"1601\",56.4958,null],[840,1,\"Marechal, Mr. Pierre\",\"male\",null,0,0,\"11774\",29.7,\"C47\"],[841,3,\"Alhomaki, Mr. Ilmari Rudolf\",\"male\",20.0,0,0,\"SOTON\\u002fO2 3101287\",7.925,null],[842,2,\"Mudd, Mr. Thomas Charles\",\"male\",16.0,0,0,\"S.O.\\u002fP.P. 3\",10.5,null],[844,3,\"Lemberopolous, Mr. Peter L\",\"male\",34.5,0,0,\"2683\",6.4375,null],[845,3,\"Culumovic, Mr. Jeso\",\"male\",17.0,0,0,\"315090\",8.6625,null],[846,3,\"Abbing, Mr. Anthony\",\"male\",42.0,0,0,\"C.A. 5547\",7.55,null],[847,3,\"Sage, Mr. Douglas Bullen\",\"male\",null,8,2,\"CA. 2343\",69.55,null],[848,3,\"Markoff, Mr. Marin\",\"male\",35.0,0,0,\"349213\",7.8958,null],[849,2,\"Harper, Rev. John\",\"male\",28.0,0,1,\"248727\",33.0,null],[851,3,\"Andersson, Master. Sigvard Harald Elias\",\"male\",4.0,4,2,\"347082\",31.275,null],[852,3,\"Svensson, Mr. Johan\",\"male\",74.0,0,0,\"347060\",7.775,null],[858,1,\"Daly, Mr. Peter Denis \",\"male\",51.0,0,0,\"113055\",26.55,\"E17\"],[860,3,\"Razi, Mr. Raihed\",\"male\",null,0,0,\"2629\",7.2292,null],[861,3,\"Hansen, Mr. Claus Peter\",\"male\",41.0,2,0,\"350026\",14.1083,null],[862,2,\"Giles, Mr. Frederick Edward\",\"male\",21.0,1,0,\"28134\",11.5,null],[865,2,\"Gill, Mr. John William\",\"male\",24.0,0,0,\"233866\",13.0,null],[868,1,\"Roebling, Mr. Washington Augustus II\",\"male\",31.0,0,0,\"PC 17590\",50.4958,\"A24\"],[869,3,\"van Melkebeke, Mr. Philemon\",\"male\",null,0,0,\"345777\",9.5,null],[870,3,\"Johnson, Master. Harold Theodor\",\"male\",4.0,1,1,\"347742\",11.1333,null],[871,3,\"Balkic, Mr. Cerin\",\"male\",26.0,0,0,\"349248\",7.8958,null],[873,1,\"Carlsson, Mr. Frans Olof\",\"male\",33.0,0,0,\"695\",5.0,\"B51 B53 B55\"],[874,3,\"Vander Cruyssen, Mr. Victor\",\"male\",47.0,0,0,\"345765\",9.0,null],[877,3,\"Gustafsson, Mr. Alfred Ossian\",\"male\",20.0,0,0,\"7534\",9.8458,null],[878,3,\"Petroff, Mr. Nedelio\",\"male\",19.0,0,0,\"349212\",7.8958,null],[879,3,\"Laleff, Mr. Kristo\",\"male\",null,0,0,\"349217\",7.8958,null],[882,3,\"Markun, Mr. Johann\",\"male\",33.0,0,0,\"349257\",7.8958,null],[884,2,\"Banfield, Mr. Frederick James\",\"male\",28.0,0,0,\"C.A.\\u002fSOTON 34068\",10.5,null],[885,3,\"Sutehall, Mr. Henry Jr\",\"male\",25.0,0,0,\"SOTON\\u002fOQ 392076\",7.05,null],[887,2,\"Montvila, Rev. Juozas\",\"male\",27.0,0,0,\"211536\",13.0,null],[890,1,\"Behr, Mr. Karl Howell\",\"male\",26.0,0,0,\"111369\",30.0,\"C148\"],[891,3,\"Dooley, Mr. Patrick\",\"male\",32.0,0,0,\"370376\",7.75,null]],\"hovertemplate\":\"Sex=%{customdata[3]}\\u003cbr\\u003eEmbarked=%{x}\\u003cbr\\u003eSurvived=%{y}\\u003cbr\\u003ePassengerId=%{customdata[0]}\\u003cbr\\u003ePclass=%{customdata[1]}\\u003cbr\\u003eName=%{customdata[2]}\\u003cbr\\u003eAge=%{customdata[4]}\\u003cbr\\u003eSibSp=%{customdata[5]}\\u003cbr\\u003eParch=%{customdata[6]}\\u003cbr\\u003eTicket=%{customdata[7]}\\u003cbr\\u003eFare=%{customdata[8]}\\u003cbr\\u003eCabin=%{customdata[9]}\\u003cextra\\u003e\\u003c\\u002fextra\\u003e\",\"legendgroup\":\"male\",\"marker\":{\"color\":\"#636efa\"},\"name\":\"male\",\"offsetgroup\":\"male\",\"orientation\":\"v\",\"points\":\"all\",\"scalegroup\":\"True\",\"showlegend\":true,\"x\":[\"S\",\"S\",\"Q\",\"S\",\"S\",\"S\",\"S\",\"Q\",\"S\",\"S\",\"S\",\"S\",\"C\",\"S\",\"S\",\"C\",\"S\",\"C\",\"S\",\"C\",\"S\",\"C\",\"S\",\"Q\",\"C\",\"S\",\"S\",\"C\",\"S\",\"C\",\"S\",\"C\",\"S\",\"S\",\"C\",\"C\",\"S\",\"S\",\"S\",\"S\",\"C\",\"S\",\"S\",\"S\",\"S\",\"S\",\"S\",\"S\",\"S\",\"S\",\"S\",\"S\",\"S\",\"S\",\"S\",\"S\",\"S\",\"S\",\"C\",\"C\",\"S\",\"S\",\"S\",\"S\",\"S\",\"S\",\"S\",\"S\",\"S\",\"S\",\"S\",\"Q\",\"S\",\"C\",\"S\",\"S\",\"C\",\"S\",\"C\",\"Q\",\"S\",\"S\",\"C\",\"S\",\"S\",\"C\",\"S\",\"S\",\"C\",\"Q\",\"S\",\"S\",\"S\",\"S\",\"S\",\"S\",\"S\",\"S\",\"S\",\"C\",\"S\",\"S\",\"S\",\"S\",\"S\",\"S\",\"S\",\"S\",\"S\",\"S\",\"S\",\"Q\",\"S\",\"C\",\"S\",\"S\",\"S\",\"S\",\"C\",\"S\",\"S\",\"S\",\"S\",\"Q\",\"S\",\"S\",\"S\",\"Q\",\"S\",\"S\",\"S\",\"S\",\"C\",\"S\",\"S\",\"C\",\"C\",\"S\",\"S\",\"S\",\"Q\",\"S\",\"S\",\"S\",\"S\",\"S\",\"S\",\"S\",\"S\",\"S\",\"S\",\"S\",\"S\",\"S\",\"S\",\"S\",\"S\",\"S\",\"S\",\"S\",\"C\",\"Q\",\"S\",\"S\",\"S\",\"S\",\"S\",\"Q\",\"S\",\"S\",\"S\",\"S\",\"S\",\"S\",\"S\",\"S\",\"C\",\"S\",\"Q\",\"Q\",\"S\",\"S\",\"S\",\"S\",\"C\",\"S\",\"S\",\"S\",\"C\",\"S\",\"C\",\"C\",\"S\",\"Q\",\"S\",\"S\",\"S\",\"C\",\"S\",\"S\",\"S\",\"S\",\"S\",\"S\",\"S\",\"S\",\"S\",\"S\",\"S\",\"S\",\"S\",\"S\",\"S\",\"S\",\"S\",\"S\",\"S\",\"S\",\"S\",\"S\",\"C\",\"S\",\"C\",\"S\",\"S\",\"C\",\"S\",\"Q\",\"S\",\"C\",\"S\",\"S\",\"C\",\"C\",\"C\",\"S\",\"S\",\"S\",\"S\",\"S\",\"Q\",\"S\",\"S\",\"S\",\"S\",\"S\",\"S\",\"S\",\"S\",\"S\",\"S\",\"S\",\"S\",\"S\",\"S\",\"Q\",\"S\",\"S\",\"S\",\"C\",\"Q\",\"S\",\"S\",\"S\",\"Q\",\"S\",\"S\",\"S\",\"S\",\"S\",\"S\",\"S\",\"S\",\"S\",\"S\",\"S\",\"S\",\"S\",\"S\",\"C\",\"C\",\"S\",\"C\",\"S\",\"Q\",\"S\",\"S\",\"S\",\"S\",\"S\",\"S\",\"S\",\"S\",\"Q\",\"S\",\"S\",\"S\",\"S\",\"S\",\"S\",\"S\",\"S\",\"S\",\"C\",\"C\",\"S\",\"S\",\"S\",\"S\",\"S\",\"C\",\"S\",\"C\",\"S\",\"S\",\"S\",\"C\",\"S\",\"S\",\"S\",\"Q\",\"S\",\"S\",\"S\",\"S\",\"Q\",\"S\",\"S\",\"C\",\"C\",\"Q\",\"S\",\"S\",\"S\",\"C\",\"C\",\"S\",\"S\",\"S\",\"C\",\"S\",\"C\",\"S\",\"S\",\"C\",\"S\",\"Q\",\"C\",\"S\",\"C\",\"Q\",\"S\",\"S\",\"S\",\"S\",\"S\",\"C\",\"S\",\"S\",\"S\",\"S\",\"S\",\"S\",\"S\",\"C\",\"C\",\"S\",\"C\",\"S\",\"S\",\"S\",\"S\",\"S\",\"S\",\"S\",\"C\",\"C\",\"S\",\"S\",\"S\",\"C\",\"S\",\"S\",\"S\",\"S\",\"Q\",\"S\",\"S\",\"S\",\"C\",\"S\",\"C\",\"S\",\"S\",\"S\",\"Q\",\"S\",\"Q\",\"S\",\"S\",\"C\",\"S\",\"S\",\"S\",\"S\",\"S\",\"S\",\"C\",\"S\",\"C\",\"S\",\"S\",\"S\",\"S\",\"S\",\"S\",\"C\",\"S\",\"C\",\"S\",\"S\",\"S\",\"S\",\"S\",\"S\",\"S\",\"S\",\"S\",\"S\",\"S\",\"S\",\"S\",\"C\",\"C\",\"S\",\"S\",\"S\",\"C\",\"S\",\"S\",\"S\",\"S\",\"S\",\"C\",\"S\",\"S\",\"S\",\"C\",\"S\",\"S\",\"Q\",\"S\",\"S\",\"S\",\"C\",\"S\",\"S\",\"S\",\"S\",\"S\",\"Q\",\"S\",\"S\",\"S\",\"S\",\"S\",\"S\",\"S\",\"C\",\"S\",\"S\",\"S\",\"S\",\"C\",\"S\",\"S\",\"S\",\"S\",\"S\",\"S\",\"S\",\"S\",\"S\",\"Q\",\"S\",\"S\",\"S\",\"S\",\"S\",\"S\",\"S\",\"S\",\"S\",\"C\",\"S\",\"C\",\"Q\",\"S\",\"S\",\"S\",\"C\",\"S\",\"Q\",\"Q\",\"S\",\"S\",\"S\",\"S\",\"Q\",\"S\",\"C\",\"Q\",\"S\",\"C\",\"S\",\"S\",\"C\",\"S\",\"S\",\"C\",\"S\",\"S\",\"S\",\"S\",\"S\",\"S\",\"S\",\"S\",\"S\",\"C\",\"S\",\"S\",\"S\",\"S\",\"S\",\"Q\",\"S\",\"C\",\"Q\",\"S\",\"C\",\"S\",\"S\",\"S\",\"S\",\"S\",\"C\",\"S\",\"S\",\"C\",\"S\",\"S\",\"S\",\"C\",\"S\",\"S\",\"S\",\"S\",\"C\",\"S\",\"S\",\"S\",\"S\",\"S\",\"S\",\"S\",\"S\",\"S\",\"S\",\"S\",\"S\",\"S\",\"S\",\"S\",\"S\",\"C\",\"Q\"],\"x0\":\" \",\"xaxis\":\"x\",\"y\":[0,0,0,0,0,0,0,0,1,0,1,1,0,0,0,0,0,0,0,1,0,0,0,0,0,0,0,0,1,0,0,0,0,0,0,1,0,0,0,0,0,1,0,0,0,1,0,1,0,0,0,0,0,0,0,0,0,0,0,1,0,0,0,0,0,0,1,0,0,0,0,0,0,0,0,0,0,0,1,0,1,0,0,0,0,0,0,0,0,0,0,0,1,0,0,0,0,0,0,0,0,0,0,0,0,0,0,1,0,0,0,0,0,0,0,0,0,0,0,0,1,0,1,0,0,0,1,0,0,0,0,0,0,1,0,1,1,0,0,0,0,0,0,1,0,0,0,1,0,1,0,0,0,0,0,0,0,0,0,0,0,0,1,0,0,0,0,0,1,0,0,0,0,1,0,1,0,0,0,0,0,0,1,0,0,1,0,1,0,0,0,0,1,1,0,0,1,0,0,0,0,0,0,0,0,0,0,0,0,0,1,0,1,0,0,0,1,0,0,0,0,0,0,0,0,0,0,0,0,1,0,0,0,0,0,0,0,0,0,0,0,1,1,0,0,0,0,1,0,0,0,0,1,0,0,0,0,1,0,0,0,0,0,0,0,1,1,0,0,0,0,0,0,1,1,1,1,0,0,0,1,0,1,0,0,1,0,0,0,0,0,0,0,0,0,0,0,0,0,0,0,0,0,1,0,0,1,0,0,0,0,0,0,0,0,0,0,1,0,1,1,0,1,0,0,0,0,0,0,0,0,0,0,0,0,0,0,0,1,0,0,1,0,1,1,0,0,1,0,0,0,0,0,0,0,0,0,1,1,1,0,0,1,0,0,0,0,1,0,0,0,0,0,0,0,0,1,0,0,0,1,0,0,1,0,0,0,0,0,0,1,1,0,0,0,0,0,0,1,0,1,0,0,0,0,0,1,1,0,1,0,0,0,0,0,0,0,1,0,0,0,1,0,0,0,0,0,0,1,0,0,0,1,1,0,0,0,0,0,0,0,1,1,0,0,0,0,0,0,1,0,0,0,1,1,0,1,0,0,0,0,0,0,0,0,1,0,0,0,0,0,0,0,1,0,0,1,0,0,1,0,0,0,0,1,0,0,1,0,0,0,0,0,1,0,0,0,0,0,0,0,0,0,0,0,0,0,0,0,1,0,0,0,0,0,0,0,0,1,1,1,0,0,0,0,0,0,0,0,0,0,0,1,0,0,0,0,1,1,1,0,0,0,0,0,1,1,0,0,0,0,0,0,0,0,0,0,1,0,0,0,0,0,0,1,0,0,0,0,0,0,0,0,0,0,1,0],\"y0\":\" \",\"yaxis\":\"y\",\"type\":\"violin\"},{\"alignmentgroup\":\"True\",\"box\":{\"visible\":true},\"customdata\":[[2,1,\"Cumings, Mrs. John Bradley (Florence Briggs Thayer)\",\"female\",38.0,1,0,\"PC 17599\",71.2833,\"C85\"],[3,3,\"Heikkinen, Miss. Laina\",\"female\",26.0,0,0,\"STON\\u002fO2. 3101282\",7.925,null],[4,1,\"Futrelle, Mrs. Jacques Heath (Lily May Peel)\",\"female\",35.0,1,0,\"113803\",53.1,\"C123\"],[9,3,\"Johnson, Mrs. Oscar W (Elisabeth Vilhelmina Berg)\",\"female\",27.0,0,2,\"347742\",11.1333,null],[10,2,\"Nasser, Mrs. Nicholas (Adele Achem)\",\"female\",14.0,1,0,\"237736\",30.0708,null],[11,3,\"Sandstrom, Miss. Marguerite Rut\",\"female\",4.0,1,1,\"PP 9549\",16.7,\"G6\"],[12,1,\"Bonnell, Miss. Elizabeth\",\"female\",58.0,0,0,\"113783\",26.55,\"C103\"],[15,3,\"Vestrom, Miss. Hulda Amanda Adolfina\",\"female\",14.0,0,0,\"350406\",7.8542,null],[16,2,\"Hewlett, Mrs. (Mary D Kingcome) \",\"female\",55.0,0,0,\"248706\",16.0,null],[19,3,\"Vander Planke, Mrs. Julius (Emelia Maria Vandemoortele)\",\"female\",31.0,1,0,\"345763\",18.0,null],[20,3,\"Masselmani, Mrs. Fatima\",\"female\",null,0,0,\"2649\",7.225,null],[23,3,\"McGowan, Miss. Anna \\\"Annie\\\"\",\"female\",15.0,0,0,\"330923\",8.0292,null],[25,3,\"Palsson, Miss. Torborg Danira\",\"female\",8.0,3,1,\"349909\",21.075,null],[26,3,\"Asplund, Mrs. Carl Oscar (Selma Augusta Emilia Johansson)\",\"female\",38.0,1,5,\"347077\",31.3875,null],[29,3,\"O'Dwyer, Miss. Ellen \\\"Nellie\\\"\",\"female\",null,0,0,\"330959\",7.8792,null],[32,1,\"Spencer, Mrs. William Augustus (Marie Eugenie)\",\"female\",null,1,0,\"PC 17569\",146.5208,\"B78\"],[33,3,\"Glynn, Miss. Mary Agatha\",\"female\",null,0,0,\"335677\",7.75,null],[39,3,\"Vander Planke, Miss. Augusta Maria\",\"female\",18.0,2,0,\"345764\",18.0,null],[40,3,\"Nicola-Yarred, Miss. Jamila\",\"female\",14.0,1,0,\"2651\",11.2417,null],[41,3,\"Ahlin, Mrs. Johan (Johanna Persdotter Larsson)\",\"female\",40.0,1,0,\"7546\",9.475,null],[42,2,\"Turpin, Mrs. William John Robert (Dorothy Ann Wonnacott)\",\"female\",27.0,1,0,\"11668\",21.0,null],[44,2,\"Laroche, Miss. Simonne Marie Anne Andree\",\"female\",3.0,1,2,\"SC\\u002fParis 2123\",41.5792,null],[45,3,\"Devaney, Miss. Margaret Delia\",\"female\",19.0,0,0,\"330958\",7.8792,null],[48,3,\"O'Driscoll, Miss. Bridget\",\"female\",null,0,0,\"14311\",7.75,null],[50,3,\"Arnold-Franchi, Mrs. Josef (Josefine Franchi)\",\"female\",18.0,1,0,\"349237\",17.8,null],[53,1,\"Harper, Mrs. Henry Sleeper (Myna Haxtun)\",\"female\",49.0,1,0,\"PC 17572\",76.7292,\"D33\"],[54,2,\"Faunthorpe, Mrs. Lizzie (Elizabeth Anne Wilkinson)\",\"female\",29.0,1,0,\"2926\",26.0,null],[57,2,\"Rugg, Miss. Emily\",\"female\",21.0,0,0,\"C.A. 31026\",10.5,null],[59,2,\"West, Miss. Constance Mirium\",\"female\",5.0,1,2,\"C.A. 34651\",27.75,null],[62,1,\"Icard, Miss. Amelie\",\"female\",38.0,0,0,\"113572\",80.0,\"B28\"],[67,2,\"Nye, Mrs. (Elizabeth Ramell)\",\"female\",29.0,0,0,\"C.A. 29395\",10.5,\"F33\"],[69,3,\"Andersson, Miss. Erna Alexandra\",\"female\",17.0,4,2,\"3101281\",7.925,null],[72,3,\"Goodwin, Miss. Lillian Amy\",\"female\",16.0,5,2,\"CA 2144\",46.9,null],[80,3,\"Dowdell, Miss. Elizabeth\",\"female\",30.0,0,0,\"364516\",12.475,null],[83,3,\"McDermott, Miss. Brigdet Delia\",\"female\",null,0,0,\"330932\",7.7875,null],[85,2,\"Ilett, Miss. Bertha\",\"female\",17.0,0,0,\"SO\\u002fC 14885\",10.5,null],[86,3,\"Backstrom, Mrs. Karl Alfred (Maria Mathilda Gustafsson)\",\"female\",33.0,3,0,\"3101278\",15.85,null],[89,1,\"Fortune, Miss. Mabel Helen\",\"female\",23.0,3,2,\"19950\",263.0,\"C23 C25 C27\"],[99,2,\"Doling, Mrs. John T (Ada Julia Bone)\",\"female\",34.0,0,1,\"231919\",23.0,null],[101,3,\"Petranec, Miss. Matilda\",\"female\",28.0,0,0,\"349245\",7.8958,null],[107,3,\"Salkjelsvik, Miss. Anna Kristine\",\"female\",21.0,0,0,\"343120\",7.65,null],[110,3,\"Moran, Miss. Bertha\",\"female\",null,1,0,\"371110\",24.15,null],[112,3,\"Zabour, Miss. Hileni\",\"female\",14.5,1,0,\"2665\",14.4542,null],[114,3,\"Jussila, Miss. Katriina\",\"female\",20.0,1,0,\"4136\",9.825,null],[115,3,\"Attalah, Miss. Malake\",\"female\",17.0,0,0,\"2627\",14.4583,null],[120,3,\"Andersson, Miss. Ellis Anna Maria\",\"female\",2.0,4,2,\"347082\",31.275,null],[124,2,\"Webber, Miss. Susan\",\"female\",32.5,0,0,\"27267\",13.0,\"E101\"],[129,3,\"Peter, Miss. Anna\",\"female\",null,1,1,\"2668\",22.3583,\"F E69\"],[133,3,\"Robins, Mrs. Alexander A (Grace Charity Laury)\",\"female\",47.0,1,0,\"A\\u002f5. 3337\",14.5,null],[134,2,\"Weisz, Mrs. Leopold (Mathilde Francoise Pede)\",\"female\",29.0,1,0,\"228414\",26.0,null],[137,1,\"Newsom, Miss. Helen Monypeny\",\"female\",19.0,0,2,\"11752\",26.2833,\"D47\"],[141,3,\"Boulos, Mrs. Joseph (Sultana)\",\"female\",null,0,2,\"2678\",15.2458,null],[142,3,\"Nysten, Miss. Anna Sofia\",\"female\",22.0,0,0,\"347081\",7.75,null],[143,3,\"Hakkarainen, Mrs. Pekka Pietari (Elin Matilda Dolck)\",\"female\",24.0,1,0,\"STON\\u002fO2. 3101279\",15.85,null],[148,3,\"Ford, Miss. Robina Maggie \\\"Ruby\\\"\",\"female\",9.0,2,2,\"W.\\u002fC. 6608\",34.375,null],[152,1,\"Pears, Mrs. Thomas (Edith Wearne)\",\"female\",22.0,1,0,\"113776\",66.6,\"C2\"],[157,3,\"Gilnagh, Miss. Katherine \\\"Katie\\\"\",\"female\",16.0,0,0,\"35851\",7.7333,null],[162,2,\"Watt, Mrs. James (Elizabeth \\\"Bessie\\\" Inglis Milne)\",\"female\",40.0,0,0,\"C.A. 33595\",15.75,null],[167,1,\"Chibnall, Mrs. (Edith Martha Bowerman)\",\"female\",null,0,1,\"113505\",55.0,\"E33\"],[168,3,\"Skoog, Mrs. William (Anna Bernhardina Karlsson)\",\"female\",45.0,1,4,\"347088\",27.9,null],[173,3,\"Johnson, Miss. Eleanor Ileen\",\"female\",1.0,1,1,\"347742\",11.1333,null],[178,1,\"Isham, Miss. Ann Elizabeth\",\"female\",50.0,0,0,\"PC 17595\",28.7125,\"C49\"],[181,3,\"Sage, Miss. Constance Gladys\",\"female\",null,8,2,\"CA. 2343\",69.55,null],[185,3,\"Kink-Heilmann, Miss. Luise Gretchen\",\"female\",4.0,0,2,\"315153\",22.025,null],[187,3,\"O'Brien, Mrs. Thomas (Johanna \\\"Hannah\\\" Godfrey)\",\"female\",null,1,0,\"370365\",15.5,null],[191,2,\"Pinsky, Mrs. (Rosa)\",\"female\",32.0,0,0,\"234604\",13.0,null],[193,3,\"Andersen-Jensen, Miss. Carla Christine Nielsine\",\"female\",19.0,1,0,\"350046\",7.8542,null],[195,1,\"Brown, Mrs. James Joseph (Margaret Tobin)\",\"female\",44.0,0,0,\"PC 17610\",27.7208,\"B4\"],[196,1,\"Lurette, Miss. Elise\",\"female\",58.0,0,0,\"PC 17569\",146.5208,\"B80\"],[199,3,\"Madigan, Miss. Margaret \\\"Maggie\\\"\",\"female\",null,0,0,\"370370\",7.75,null],[200,2,\"Yrois, Miss. Henriette (\\\"Mrs Harbeck\\\")\",\"female\",24.0,0,0,\"248747\",13.0,null],[206,3,\"Strom, Miss. Telma Matilda\",\"female\",2.0,0,1,\"347054\",10.4625,\"G6\"],[209,3,\"Carr, Miss. Helen \\\"Ellen\\\"\",\"female\",16.0,0,0,\"367231\",7.75,null],[212,2,\"Cameron, Miss. Clear Annie\",\"female\",35.0,0,0,\"F.C.C. 13528\",21.0,null],[216,1,\"Newell, Miss. Madeleine\",\"female\",31.0,1,0,\"35273\",113.275,\"D36\"],[217,3,\"Honkanen, Miss. Eliina\",\"female\",27.0,0,0,\"STON\\u002fO2. 3101283\",7.925,null],[219,1,\"Bazzani, Miss. Albina\",\"female\",32.0,0,0,\"11813\",76.2917,\"D15\"],[230,3,\"Lefebre, Miss. Mathilde\",\"female\",null,3,1,\"4133\",25.4667,null],[231,1,\"Harris, Mrs. Henry Birkhardt (Irene Wallach)\",\"female\",35.0,1,0,\"36973\",83.475,\"C83\"],[234,3,\"Asplund, Miss. Lillian Gertrud\",\"female\",5.0,4,2,\"347077\",31.3875,null],[236,3,\"Harknett, Miss. Alice Phoebe\",\"female\",null,0,0,\"W.\\u002fC. 6609\",7.55,null],[238,2,\"Collyer, Miss. Marjorie \\\"Lottie\\\"\",\"female\",8.0,0,2,\"C.A. 31921\",26.25,null],[241,3,\"Zabour, Miss. Thamine\",\"female\",null,1,0,\"2665\",14.4542,null],[242,3,\"Murphy, Miss. Katherine \\\"Kate\\\"\",\"female\",null,1,0,\"367230\",15.5,null],[247,3,\"Lindahl, Miss. Agda Thorilda Viktoria\",\"female\",25.0,0,0,\"347071\",7.775,null],[248,2,\"Hamalainen, Mrs. William (Anna)\",\"female\",24.0,0,2,\"250649\",14.5,null],[252,3,\"Strom, Mrs. Wilhelm (Elna Matilda Persson)\",\"female\",29.0,1,1,\"347054\",10.4625,\"G6\"],[255,3,\"Rosblom, Mrs. Viktor (Helena Wilhelmina)\",\"female\",41.0,0,2,\"370129\",20.2125,null],[256,3,\"Touma, Mrs. Darwis (Hanne Youssef Razi)\",\"female\",29.0,0,2,\"2650\",15.2458,null],[257,1,\"Thorne, Mrs. Gertrude Maybelle\",\"female\",null,0,0,\"PC 17585\",79.2,null],[258,1,\"Cherry, Miss. Gladys\",\"female\",30.0,0,0,\"110152\",86.5,\"B77\"],[259,1,\"Ward, Miss. Anna\",\"female\",35.0,0,0,\"PC 17755\",512.3292,null],[260,2,\"Parrish, Mrs. (Lutie Davis)\",\"female\",50.0,0,1,\"230433\",26.0,null],[265,3,\"Henry, Miss. Delia\",\"female\",null,0,0,\"382649\",7.75,null],[269,1,\"Graham, Mrs. William Thompson (Edith Junkins)\",\"female\",58.0,0,1,\"PC 17582\",153.4625,\"C125\"],[270,1,\"Bissette, Miss. Amelia\",\"female\",35.0,0,0,\"PC 17760\",135.6333,\"C99\"],[273,2,\"Mellinger, Mrs. (Elizabeth Anne Maidment)\",\"female\",41.0,0,1,\"250644\",19.5,null],[275,3,\"Healy, Miss. Hanora \\\"Nora\\\"\",\"female\",null,0,0,\"370375\",7.75,null],[276,1,\"Andrews, Miss. Kornelia Theodosia\",\"female\",63.0,1,0,\"13502\",77.9583,\"D7\"],[277,3,\"Lindblom, Miss. Augusta Charlotta\",\"female\",45.0,0,0,\"347073\",7.75,null],[280,3,\"Abbott, Mrs. Stanton (Rosa Hunt)\",\"female\",35.0,1,1,\"C.A. 2673\",20.25,null],[290,3,\"Connolly, Miss. Kate\",\"female\",22.0,0,0,\"370373\",7.75,null],[291,1,\"Barber, Miss. Ellen \\\"Nellie\\\"\",\"female\",26.0,0,0,\"19877\",78.85,null],[292,1,\"Bishop, Mrs. Dickinson H (Helen Walton)\",\"female\",19.0,1,0,\"11967\",91.0792,\"B49\"],[294,3,\"Haas, Miss. Aloisia\",\"female\",24.0,0,0,\"349236\",8.85,null],[298,1,\"Allison, Miss. Helen Loraine\",\"female\",2.0,1,2,\"113781\",151.55,\"C22 C26\"],[300,1,\"Baxter, Mrs. James (Helene DeLaudeniere Chaput)\",\"female\",50.0,0,1,\"PC 17558\",247.5208,\"B58 B60\"],[301,3,\"Kelly, Miss. Anna Katherine \\\"Annie Kate\\\"\",\"female\",null,0,0,\"9234\",7.75,null],[304,2,\"Keane, Miss. Nora A\",\"female\",null,0,0,\"226593\",12.35,\"E101\"],[307,1,\"Fleming, Miss. Margaret\",\"female\",null,0,0,\"17421\",110.8833,null],[308,1,\"Penasco y Castellana, Mrs. Victor de Satode (Maria Josefa Perez de Soto y Vallejo)\",\"female\",17.0,1,0,\"PC 17758\",108.9,\"C65\"],[310,1,\"Francatelli, Miss. Laura Mabel\",\"female\",30.0,0,0,\"PC 17485\",56.9292,\"E36\"],[311,1,\"Hays, Miss. Margaret Bechstein\",\"female\",24.0,0,0,\"11767\",83.1583,\"C54\"],[312,1,\"Ryerson, Miss. Emily Borie\",\"female\",18.0,2,2,\"PC 17608\",262.375,\"B57 B59 B63 B66\"],[313,2,\"Lahtinen, Mrs. William (Anna Sylfven)\",\"female\",26.0,1,1,\"250651\",26.0,null],[316,3,\"Nilsson, Miss. Helmina Josefina\",\"female\",26.0,0,0,\"347470\",7.8542,null],[317,2,\"Kantor, Mrs. Sinai (Miriam Sternin)\",\"female\",24.0,1,0,\"244367\",26.0,null],[319,1,\"Wick, Miss. Mary Natalie\",\"female\",31.0,0,2,\"36928\",164.8667,\"C7\"],[320,1,\"Spedden, Mrs. Frederic Oakley (Margaretta Corning Stone)\",\"female\",40.0,1,1,\"16966\",134.5,\"E34\"],[323,2,\"Slayter, Miss. Hilda Mary\",\"female\",30.0,0,0,\"234818\",12.35,null],[324,2,\"Caldwell, Mrs. Albert Francis (Sylvia Mae Harbaugh)\",\"female\",22.0,1,1,\"248738\",29.0,null],[326,1,\"Young, Miss. Marie Grice\",\"female\",36.0,0,0,\"PC 17760\",135.6333,\"C32\"],[328,2,\"Ball, Mrs. (Ada E Hall)\",\"female\",36.0,0,0,\"28551\",13.0,\"D\"],[329,3,\"Goldsmith, Mrs. Frank John (Emily Alice Brown)\",\"female\",31.0,1,1,\"363291\",20.525,null],[330,1,\"Hippach, Miss. Jean Gertrude\",\"female\",16.0,0,1,\"111361\",57.9792,\"B18\"],[331,3,\"McCoy, Miss. Agnes\",\"female\",null,2,0,\"367226\",23.25,null],[335,1,\"Frauenthal, Mrs. Henry William (Clara Heinsheimer)\",\"female\",null,1,0,\"PC 17611\",133.65,null],[338,1,\"Burns, Miss. Elizabeth Margaret\",\"female\",41.0,0,0,\"16966\",134.5,\"E40\"],[342,1,\"Fortune, Miss. Alice Elizabeth\",\"female\",24.0,3,2,\"19950\",263.0,\"C23 C25 C27\"],[346,2,\"Brown, Miss. Amelia \\\"Mildred\\\"\",\"female\",24.0,0,0,\"248733\",13.0,\"F33\"],[347,2,\"Smith, Miss. Marion Elsie\",\"female\",40.0,0,0,\"31418\",13.0,null],[348,3,\"Davison, Mrs. Thomas Henry (Mary E Finck)\",\"female\",null,1,0,\"386525\",16.1,null],[357,1,\"Bowerman, Miss. Elsie Edith\",\"female\",22.0,0,1,\"113505\",55.0,\"E33\"],[358,2,\"Funk, Miss. Annie Clemmer\",\"female\",38.0,0,0,\"237671\",13.0,null],[359,3,\"McGovern, Miss. Mary\",\"female\",null,0,0,\"330931\",7.8792,null],[360,3,\"Mockler, Miss. Helen Mary \\\"Ellie\\\"\",\"female\",null,0,0,\"330980\",7.8792,null],[363,3,\"Barbara, Mrs. (Catherine David)\",\"female\",45.0,0,1,\"2691\",14.4542,null],[367,1,\"Warren, Mrs. Frank Manley (Anna Sophia Atkinson)\",\"female\",60.0,1,0,\"110813\",75.25,\"D37\"],[368,3,\"Moussa, Mrs. (Mantoura Boulos)\",\"female\",null,0,0,\"2626\",7.2292,null],[369,3,\"Jermyn, Miss. Annie\",\"female\",null,0,0,\"14313\",7.75,null],[370,1,\"Aubart, Mme. Leontine Pauline\",\"female\",24.0,0,0,\"PC 17477\",69.3,\"B35\"],[375,3,\"Palsson, Miss. Stina Viola\",\"female\",3.0,3,1,\"349909\",21.075,null],[376,1,\"Meyer, Mrs. Edgar Joseph (Leila Saks)\",\"female\",null,1,0,\"PC 17604\",82.1708,null],[377,3,\"Landergren, Miss. Aurora Adelia\",\"female\",22.0,0,0,\"C 7077\",7.25,null],[381,1,\"Bidois, Miss. Rosalie\",\"female\",42.0,0,0,\"PC 17757\",227.525,null],[382,3,\"Nakid, Miss. Maria (\\\"Mary\\\")\",\"female\",1.0,0,2,\"2653\",15.7417,null],[384,1,\"Holverson, Mrs. Alexander Oskar (Mary Aline Towner)\",\"female\",35.0,1,0,\"113789\",52.0,null],[388,2,\"Buss, Miss. Kate\",\"female\",36.0,0,0,\"27849\",13.0,null],[390,2,\"Lehmann, Miss. Bertha\",\"female\",17.0,0,0,\"SC 1748\",12.0,null],[394,1,\"Newell, Miss. Marjorie\",\"female\",23.0,1,0,\"35273\",113.275,\"D36\"],[395,3,\"Sandstrom, Mrs. Hjalmar (Agnes Charlotta Bengtsson)\",\"female\",24.0,0,2,\"PP 9549\",16.7,\"G6\"],[397,3,\"Olsson, Miss. Elina\",\"female\",31.0,0,0,\"350407\",7.8542,null],[400,2,\"Trout, Mrs. William H (Jessie L)\",\"female\",28.0,0,0,\"240929\",12.65,null],[403,3,\"Jussila, Miss. Mari Aina\",\"female\",21.0,1,0,\"4137\",9.825,null],[405,3,\"Oreskovic, Miss. Marija\",\"female\",20.0,0,0,\"315096\",8.6625,null],[410,3,\"Lefebre, Miss. Ida\",\"female\",null,3,1,\"4133\",25.4667,null],[413,1,\"Minahan, Miss. Daisy E\",\"female\",33.0,1,0,\"19928\",90.0,\"C78\"],[416,3,\"Meek, Mrs. Thomas (Annie Louise Rowley)\",\"female\",null,0,0,\"343095\",8.05,null],[417,2,\"Drew, Mrs. James Vivian (Lulu Thorne Christian)\",\"female\",34.0,1,1,\"28220\",32.5,null],[418,2,\"Silven, Miss. Lyyli Karoliina\",\"female\",18.0,0,2,\"250652\",13.0,null],[420,3,\"Van Impe, Miss. Catharina\",\"female\",10.0,0,2,\"345773\",24.15,null],[424,3,\"Danbom, Mrs. Ernst Gilbert (Anna Sigrid Maria Brogren)\",\"female\",28.0,1,1,\"347080\",14.4,null],[427,2,\"Clarke, Mrs. Charles V (Ada Maria Winfield)\",\"female\",28.0,1,0,\"2003\",26.0,null],[428,2,\"Phillips, Miss. Kate Florence (\\\"Mrs Kate Louise Phillips Marshall\\\")\",\"female\",19.0,0,0,\"250655\",26.0,null],[432,3,\"Thorneycroft, Mrs. Percival (Florence Kate White)\",\"female\",null,1,0,\"376564\",16.1,null],[433,2,\"Louch, Mrs. Charles Alexander (Alice Adelaide Slow)\",\"female\",42.0,1,0,\"SC\\u002fAH 3085\",26.0,null],[436,1,\"Carter, Miss. Lucile Polk\",\"female\",14.0,1,2,\"113760\",120.0,\"B96 B98\"],[437,3,\"Ford, Miss. Doolina Margaret \\\"Daisy\\\"\",\"female\",21.0,2,2,\"W.\\u002fC. 6608\",34.375,null],[438,2,\"Richards, Mrs. Sidney (Emily Hocking)\",\"female\",24.0,2,3,\"29106\",18.75,null],[441,2,\"Hart, Mrs. Benjamin (Esther Ada Bloomfield)\",\"female\",45.0,1,1,\"F.C.C. 13529\",26.25,null],[444,2,\"Reynaldo, Ms. Encarnacion\",\"female\",28.0,0,0,\"230434\",13.0,null],[447,2,\"Mellinger, Miss. Madeleine Violet\",\"female\",13.0,0,1,\"250644\",19.5,null],[449,3,\"Baclini, Miss. Marie Catherine\",\"female\",5.0,2,1,\"2666\",19.2583,null],[458,1,\"Kenyon, Mrs. Frederick R (Marion)\",\"female\",null,1,0,\"17464\",51.8625,\"D21\"],[459,2,\"Toomey, Miss. Ellen\",\"female\",50.0,0,0,\"F.C.C. 13531\",10.5,null],[470,3,\"Baclini, Miss. Helene Barbara\",\"female\",0.75,2,1,\"2666\",19.2583,null],[473,2,\"West, Mrs. Edwy Arthur (Ada Mary Worth)\",\"female\",33.0,1,2,\"C.A. 34651\",27.75,null],[474,2,\"Jerwan, Mrs. Amin S (Marie Marthe Thuillard)\",\"female\",23.0,0,0,\"SC\\u002fAH Basle 541\",13.7917,\"D\"],[475,3,\"Strandberg, Miss. Ida Sofia\",\"female\",22.0,0,0,\"7553\",9.8375,null],[480,3,\"Hirvonen, Miss. Hildur E\",\"female\",2.0,0,1,\"3101298\",12.2875,null],[484,3,\"Turkula, Mrs. (Hedwig)\",\"female\",63.0,0,0,\"4134\",9.5875,null],[486,3,\"Lefebre, Miss. Jeannie\",\"female\",null,3,1,\"4133\",25.4667,null],[487,1,\"Hoyt, Mrs. Frederick Maxfield (Jane Anne Forby)\",\"female\",35.0,1,0,\"19943\",90.0,\"C93\"],[497,1,\"Eustis, Miss. Elizabeth Mussey\",\"female\",54.0,1,0,\"36947\",78.2667,\"D20\"],[499,1,\"Allison, Mrs. Hudson J C (Bessie Waldo Daniels)\",\"female\",25.0,1,2,\"113781\",151.55,\"C22 C26\"],[502,3,\"Canavan, Miss. Mary\",\"female\",21.0,0,0,\"364846\",7.75,null],[503,3,\"O'Sullivan, Miss. Bridget Mary\",\"female\",null,0,0,\"330909\",7.6292,null],[504,3,\"Laitinen, Miss. Kristina Sofia\",\"female\",37.0,0,0,\"4135\",9.5875,null],[505,1,\"Maioni, Miss. Roberta\",\"female\",16.0,0,0,\"110152\",86.5,\"B79\"],[507,2,\"Quick, Mrs. Frederick Charles (Jane Richards)\",\"female\",33.0,0,2,\"26360\",26.0,null],[514,1,\"Rothschild, Mrs. Martin (Elizabeth L. Barrett)\",\"female\",54.0,1,0,\"PC 17603\",59.4,null],[517,2,\"Lemore, Mrs. (Amelia Milley)\",\"female\",34.0,0,0,\"C.A. 34260\",10.5,\"F33\"],[519,2,\"Angle, Mrs. William A (Florence \\\"Mary\\\" Agnes Hughes)\",\"female\",36.0,1,0,\"226875\",26.0,null],[521,1,\"Perreault, Miss. Anne\",\"female\",30.0,0,0,\"12749\",93.5,\"B73\"],[524,1,\"Hippach, Mrs. Louis Albert (Ida Sophia Fischer)\",\"female\",44.0,0,1,\"111361\",57.9792,\"B18\"],[527,2,\"Ridsdale, Miss. Lucy\",\"female\",50.0,0,0,\"W.\\u002fC. 14258\",10.5,null],[531,2,\"Quick, Miss. Phyllis May\",\"female\",2.0,1,1,\"26360\",26.0,null],[534,3,\"Peter, Mrs. Catherine (Catherine Rizk)\",\"female\",null,0,2,\"2668\",22.3583,null],[535,3,\"Cacic, Miss. Marija\",\"female\",30.0,0,0,\"315084\",8.6625,null],[536,2,\"Hart, Miss. Eva Miriam\",\"female\",7.0,0,2,\"F.C.C. 13529\",26.25,null],[538,1,\"LeRoy, Miss. Bertha\",\"female\",30.0,0,0,\"PC 17761\",106.425,null],[540,1,\"Frolicher, Miss. Hedwig Margaritha\",\"female\",22.0,0,2,\"13568\",49.5,\"B39\"],[541,1,\"Crosby, Miss. Harriet R\",\"female\",36.0,0,2,\"WE\\u002fP 5735\",71.0,\"B22\"],[542,3,\"Andersson, Miss. Ingeborg Constanzia\",\"female\",9.0,4,2,\"347082\",31.275,null],[543,3,\"Andersson, Miss. Sigrid Elisabeth\",\"female\",11.0,4,2,\"347082\",31.275,null],[547,2,\"Beane, Mrs. Edward (Ethel Clarke)\",\"female\",19.0,1,0,\"2908\",26.0,null],[555,3,\"Ohman, Miss. Velin\",\"female\",22.0,0,0,\"347085\",7.775,null],[557,1,\"Duff Gordon, Lady. (Lucille Christiana Sutherland) (\\\"Mrs Morgan\\\")\",\"female\",48.0,1,0,\"11755\",39.6,\"A16\"],[559,1,\"Taussig, Mrs. Emil (Tillie Mandelbaum)\",\"female\",39.0,1,1,\"110413\",79.65,\"E67\"],[560,3,\"de Messemaeker, Mrs. Guillaume Joseph (Emma)\",\"female\",36.0,1,0,\"345572\",17.4,null],[565,3,\"Meanwell, Miss. (Marion Ogden)\",\"female\",null,0,0,\"SOTON\\u002fO.Q. 392087\",8.05,null],[568,3,\"Palsson, Mrs. Nils (Alma Cornelia Berglund)\",\"female\",29.0,0,4,\"349909\",21.075,null],[572,1,\"Appleton, Mrs. Edward Dale (Charlotte Lamson)\",\"female\",53.0,2,0,\"11769\",51.4792,\"C101\"],[574,3,\"Kelly, Miss. Mary\",\"female\",null,0,0,\"14312\",7.75,null],[577,2,\"Garside, Miss. Ethel\",\"female\",34.0,0,0,\"243880\",13.0,null],[578,1,\"Silvey, Mrs. William Baird (Alice Munger)\",\"female\",39.0,1,0,\"13507\",55.9,\"E44\"],[579,3,\"Caram, Mrs. Joseph (Maria Elias)\",\"female\",null,1,0,\"2689\",14.4583,null],[581,2,\"Christy, Miss. Julie Rachel\",\"female\",25.0,1,1,\"237789\",30.0,null],[582,1,\"Thayer, Mrs. John Borland (Marian Longstreth Morris)\",\"female\",39.0,1,1,\"17421\",110.8833,\"C68\"],[586,1,\"Taussig, Miss. Ruth\",\"female\",18.0,0,2,\"110413\",79.65,\"E68\"],[592,1,\"Stephenson, Mrs. Walter Bertram (Martha Eustis)\",\"female\",52.0,1,0,\"36947\",78.2667,\"D20\"],[594,3,\"Bourke, Miss. Mary\",\"female\",null,0,2,\"364848\",7.75,null],[597,2,\"Leitch, Miss. Jessie Wills\",\"female\",null,0,0,\"248727\",33.0,null],[601,2,\"Jacobsohn, Mrs. Sidney Samuel (Amy Frances Christy)\",\"female\",24.0,2,1,\"243847\",27.0,null],[609,2,\"Laroche, Mrs. Joseph (Juliette Marie Louise Lafargue)\",\"female\",22.0,1,2,\"SC\\u002fParis 2123\",41.5792,null],[610,1,\"Shutes, Miss. Elizabeth W\",\"female\",40.0,0,0,\"PC 17582\",153.4625,\"C125\"],[611,3,\"Andersson, Mrs. Anders Johan (Alfrida Konstantia Brogren)\",\"female\",39.0,1,5,\"347082\",31.275,null],[613,3,\"Murphy, Miss. Margaret Jane\",\"female\",null,1,0,\"367230\",15.5,null],[616,2,\"Herman, Miss. Alice\",\"female\",24.0,1,2,\"220845\",65.0,null],[618,3,\"Lobb, Mrs. William Arthur (Cordelia K Stanlick)\",\"female\",26.0,1,0,\"A\\u002f5. 3336\",16.1,null],[619,2,\"Becker, Miss. Marion Louise\",\"female\",4.0,2,1,\"230136\",39.0,\"F4\"],[628,1,\"Longley, Miss. Gretchen Fiske\",\"female\",21.0,0,0,\"13502\",77.9583,\"D9\"],[635,3,\"Skoog, Miss. Mabel\",\"female\",9.0,3,2,\"347088\",27.9,null],[636,2,\"Davis, Miss. Mary\",\"female\",28.0,0,0,\"237668\",13.0,null],[639,3,\"Panula, Mrs. Juha (Maria Emilia Ojala)\",\"female\",41.0,0,5,\"3101295\",39.6875,null],[642,1,\"Sagesser, Mlle. Emma\",\"female\",24.0,0,0,\"PC 17477\",69.3,\"B35\"],[643,3,\"Skoog, Miss. Margit Elizabeth\",\"female\",2.0,3,2,\"347088\",27.9,null],[645,3,\"Baclini, Miss. Eugenie\",\"female\",0.75,2,1,\"2666\",19.2583,null],[650,3,\"Stanley, Miss. Amy Zillah Elsie\",\"female\",23.0,0,0,\"CA. 2314\",7.55,null],[652,2,\"Doling, Miss. Elsie\",\"female\",18.0,0,1,\"231919\",23.0,null],[654,3,\"O'Leary, Miss. Hanora \\\"Norah\\\"\",\"female\",null,0,0,\"330919\",7.8292,null],[655,3,\"Hegarty, Miss. Hanora \\\"Nora\\\"\",\"female\",18.0,0,0,\"365226\",6.75,null],[658,3,\"Bourke, Mrs. John (Catherine)\",\"female\",32.0,1,1,\"364849\",15.5,null],[670,1,\"Taylor, Mrs. Elmer Zebley (Juliet Cummins Wright)\",\"female\",null,1,0,\"19996\",52.0,\"C126\"],[671,2,\"Brown, Mrs. Thomas William Solomon (Elizabeth Catherine Ford)\",\"female\",40.0,1,1,\"29750\",39.0,null],[678,3,\"Turja, Miss. Anna Sofia\",\"female\",18.0,0,0,\"4138\",9.8417,null],[679,3,\"Goodwin, Mrs. Frederick (Augusta Tyler)\",\"female\",43.0,1,6,\"CA 2144\",46.9,null],[681,3,\"Peters, Miss. Katie\",\"female\",null,0,0,\"330935\",8.1375,null],[690,1,\"Madill, Miss. Georgette Alexandra\",\"female\",15.0,0,1,\"24160\",211.3375,\"B5\"],[692,3,\"Karun, Miss. Manca\",\"female\",4.0,0,1,\"349256\",13.4167,null],[698,3,\"Mullens, Miss. Katherine \\\"Katie\\\"\",\"female\",null,0,0,\"35852\",7.7333,null],[701,1,\"Astor, Mrs. John Jacob (Madeleine Talmadge Force)\",\"female\",18.0,1,0,\"PC 17757\",227.525,\"C62 C64\"],[703,3,\"Barbara, Miss. Saiide\",\"female\",18.0,0,1,\"2691\",14.4542,null],[707,2,\"Kelly, Mrs. Florence \\\"Fannie\\\"\",\"female\",45.0,0,0,\"223596\",13.5,null],[709,1,\"Cleaver, Miss. Alice\",\"female\",22.0,0,0,\"113781\",151.55,null],[711,1,\"Mayne, Mlle. Berthe Antonine (\\\"Mrs de Villiers\\\")\",\"female\",24.0,0,0,\"PC 17482\",49.5042,\"C90\"],[717,1,\"Endres, Miss. Caroline Louise\",\"female\",38.0,0,0,\"PC 17757\",227.525,\"C45\"],[718,2,\"Troutt, Miss. Edwina Celia \\\"Winnie\\\"\",\"female\",27.0,0,0,\"34218\",10.5,\"E101\"],[721,2,\"Harper, Miss. Annie Jessie \\\"Nina\\\"\",\"female\",6.0,0,1,\"248727\",33.0,null],[727,2,\"Renouf, Mrs. Peter Henry (Lillian Jefferys)\",\"female\",30.0,3,0,\"31027\",21.0,null],[728,3,\"Mannion, Miss. Margareth\",\"female\",null,0,0,\"36866\",7.7375,null],[730,3,\"Ilmakangas, Miss. Pieta Sofia\",\"female\",25.0,1,0,\"STON\\u002fO2. 3101271\",7.925,null],[731,1,\"Allen, Miss. Elisabeth Walton\",\"female\",29.0,0,0,\"24160\",211.3375,\"B5\"],[737,3,\"Ford, Mrs. Edward (Margaret Ann Watson)\",\"female\",48.0,1,3,\"W.\\u002fC. 6608\",34.375,null],[743,1,\"Ryerson, Miss. Susan Parker \\\"Suzette\\\"\",\"female\",21.0,2,2,\"PC 17608\",262.375,\"B57 B59 B63 B66\"],[748,2,\"Sinkkonen, Miss. Anna\",\"female\",30.0,0,0,\"250648\",13.0,null],[751,2,\"Wells, Miss. Joan\",\"female\",4.0,1,1,\"29103\",23.0,null],[755,2,\"Herman, Mrs. Samuel (Jane Laver)\",\"female\",48.0,1,2,\"220845\",65.0,null],[760,1,\"Rothes, the Countess. of (Lucy Noel Martha Dyer-Edwards)\",\"female\",33.0,0,0,\"110152\",86.5,\"B77\"],[764,1,\"Carter, Mrs. William Ernest (Lucile Polk)\",\"female\",36.0,1,2,\"113760\",120.0,\"B96 B98\"],[766,1,\"Hogeboom, Mrs. John C (Anna Andrews)\",\"female\",51.0,1,0,\"13502\",77.9583,\"D11\"],[768,3,\"Mangan, Miss. Mary\",\"female\",30.5,0,0,\"364850\",7.75,null],[773,2,\"Mack, Mrs. (Mary)\",\"female\",57.0,0,0,\"S.O.\\u002fP.P. 3\",10.5,\"E77\"],[775,2,\"Hocking, Mrs. Elizabeth (Eliza Needs)\",\"female\",54.0,1,3,\"29105\",23.0,null],[778,3,\"Emanuel, Miss. Virginia Ethel\",\"female\",5.0,0,0,\"364516\",12.475,null],[780,1,\"Robert, Mrs. Edward Scott (Elisabeth Walton McMillan)\",\"female\",43.0,0,1,\"24160\",211.3375,\"B3\"],[781,3,\"Ayoub, Miss. Banoura\",\"female\",13.0,0,0,\"2687\",7.2292,null],[782,1,\"Dick, Mrs. Albert Adrian (Vera Gillespie)\",\"female\",17.0,1,0,\"17474\",57.0,\"B20\"],[787,3,\"Sjoblom, Miss. Anna Sofia\",\"female\",18.0,0,0,\"3101265\",7.4958,null],[793,3,\"Sage, Miss. Stella Anna\",\"female\",null,8,2,\"CA. 2343\",69.55,null],[797,1,\"Leader, Dr. Alice (Farnham)\",\"female\",49.0,0,0,\"17465\",25.9292,\"D17\"],[798,3,\"Osman, Mrs. Mara\",\"female\",31.0,0,0,\"349244\",8.6833,null],[800,3,\"Van Impe, Mrs. Jean Baptiste (Rosalie Paula Govaert)\",\"female\",30.0,1,1,\"345773\",24.15,null],[802,2,\"Collyer, Mrs. Harvey (Charlotte Annie Tate)\",\"female\",31.0,1,1,\"C.A. 31921\",26.25,null],[808,3,\"Pettersson, Miss. Ellen Natalia\",\"female\",18.0,0,0,\"347087\",7.775,null],[810,1,\"Chambers, Mrs. Norman Campbell (Bertha Griggs)\",\"female\",33.0,1,0,\"113806\",53.1,\"E8\"],[814,3,\"Andersson, Miss. Ebba Iris Alfrida\",\"female\",6.0,4,2,\"347082\",31.275,null],[817,3,\"Heininen, Miss. Wendla Maria\",\"female\",23.0,0,0,\"STON\\u002fO2. 3101290\",7.925,null],[821,1,\"Hays, Mrs. Charles Melville (Clara Jennings Gregg)\",\"female\",52.0,1,1,\"12749\",93.5,\"B69\"],[824,3,\"Moor, Mrs. (Beila)\",\"female\",27.0,0,1,\"392096\",12.475,\"E121\"],[830,1,\"Stone, Mrs. George Nelson (Martha Evelyn)\",\"female\",62.0,0,0,\"113572\",80.0,\"B28\"],[831,3,\"Yasbeck, Mrs. Antoni (Selini Alexander)\",\"female\",15.0,1,0,\"2659\",14.4542,null],[836,1,\"Compton, Miss. Sara Rebecca\",\"female\",39.0,1,1,\"PC 17756\",83.1583,\"E49\"],[843,1,\"Serepeca, Miss. Augusta\",\"female\",30.0,0,0,\"113798\",31.0,null],[850,1,\"Goldenberg, Mrs. Samuel L (Edwiga Grabowska)\",\"female\",null,1,0,\"17453\",89.1042,\"C92\"],[853,3,\"Boulos, Miss. Nourelain\",\"female\",9.0,1,1,\"2678\",15.2458,null],[854,1,\"Lines, Miss. Mary Conover\",\"female\",16.0,0,1,\"PC 17592\",39.4,\"D28\"],[855,2,\"Carter, Mrs. Ernest Courtenay (Lilian Hughes)\",\"female\",44.0,1,0,\"244252\",26.0,null],[856,3,\"Aks, Mrs. Sam (Leah Rosen)\",\"female\",18.0,0,1,\"392091\",9.35,null],[857,1,\"Wick, Mrs. George Dennick (Mary Hitchcock)\",\"female\",45.0,1,1,\"36928\",164.8667,null],[859,3,\"Baclini, Mrs. Solomon (Latifa Qurban)\",\"female\",24.0,0,3,\"2666\",19.2583,null],[863,1,\"Swift, Mrs. Frederick Joel (Margaret Welles Barron)\",\"female\",48.0,0,0,\"17466\",25.9292,\"D17\"],[864,3,\"Sage, Miss. Dorothy Edith \\\"Dolly\\\"\",\"female\",null,8,2,\"CA. 2343\",69.55,null],[866,2,\"Bystrom, Mrs. (Karolina)\",\"female\",42.0,0,0,\"236852\",13.0,null],[867,2,\"Duran y More, Miss. Asuncion\",\"female\",27.0,1,0,\"SC\\u002fPARIS 2149\",13.8583,null],[872,1,\"Beckwith, Mrs. Richard Leonard (Sallie Monypeny)\",\"female\",47.0,1,1,\"11751\",52.5542,\"D35\"],[875,2,\"Abelson, Mrs. Samuel (Hannah Wizosky)\",\"female\",28.0,1,0,\"P\\u002fPP 3381\",24.0,null],[876,3,\"Najib, Miss. Adele Kiamie \\\"Jane\\\"\",\"female\",15.0,0,0,\"2667\",7.225,null],[880,1,\"Potter, Mrs. Thomas Jr (Lily Alexenia Wilson)\",\"female\",56.0,0,1,\"11767\",83.1583,\"C50\"],[881,2,\"Shelley, Mrs. William (Imanita Parrish Hall)\",\"female\",25.0,0,1,\"230433\",26.0,null],[883,3,\"Dahlberg, Miss. Gerda Ulrika\",\"female\",22.0,0,0,\"7552\",10.5167,null],[886,3,\"Rice, Mrs. William (Margaret Norton)\",\"female\",39.0,0,5,\"382652\",29.125,null],[888,1,\"Graham, Miss. Margaret Edith\",\"female\",19.0,0,0,\"112053\",30.0,\"B42\"],[889,3,\"Johnston, Miss. Catherine Helen \\\"Carrie\\\"\",\"female\",null,1,2,\"W.\\u002fC. 6607\",23.45,null]],\"hovertemplate\":\"Sex=%{customdata[3]}\\u003cbr\\u003eEmbarked=%{x}\\u003cbr\\u003eSurvived=%{y}\\u003cbr\\u003ePassengerId=%{customdata[0]}\\u003cbr\\u003ePclass=%{customdata[1]}\\u003cbr\\u003eName=%{customdata[2]}\\u003cbr\\u003eAge=%{customdata[4]}\\u003cbr\\u003eSibSp=%{customdata[5]}\\u003cbr\\u003eParch=%{customdata[6]}\\u003cbr\\u003eTicket=%{customdata[7]}\\u003cbr\\u003eFare=%{customdata[8]}\\u003cbr\\u003eCabin=%{customdata[9]}\\u003cextra\\u003e\\u003c\\u002fextra\\u003e\",\"legendgroup\":\"female\",\"marker\":{\"color\":\"#EF553B\"},\"name\":\"female\",\"offsetgroup\":\"female\",\"orientation\":\"v\",\"points\":\"all\",\"scalegroup\":\"True\",\"showlegend\":true,\"x\":[\"C\",\"S\",\"S\",\"S\",\"C\",\"S\",\"S\",\"S\",\"S\",\"S\",\"C\",\"Q\",\"S\",\"S\",\"Q\",\"C\",\"Q\",\"S\",\"C\",\"S\",\"S\",\"C\",\"Q\",\"Q\",\"S\",\"C\",\"S\",\"S\",\"S\",null,\"S\",\"S\",\"S\",\"S\",\"Q\",\"S\",\"S\",\"S\",\"S\",\"S\",\"S\",\"Q\",\"C\",\"S\",\"C\",\"S\",\"S\",\"C\",\"S\",\"S\",\"S\",\"C\",\"S\",\"S\",\"S\",\"S\",\"Q\",\"S\",\"S\",\"S\",\"S\",\"C\",\"S\",\"S\",\"Q\",\"S\",\"S\",\"C\",\"C\",\"Q\",\"S\",\"S\",\"Q\",\"S\",\"C\",\"S\",\"C\",\"S\",\"S\",\"S\",\"S\",\"S\",\"C\",\"Q\",\"S\",\"S\",\"S\",\"S\",\"C\",\"C\",\"S\",\"C\",\"S\",\"Q\",\"S\",\"S\",\"S\",\"Q\",\"S\",\"S\",\"S\",\"Q\",\"S\",\"C\",\"S\",\"S\",\"C\",\"Q\",\"Q\",\"C\",\"C\",\"C\",\"C\",\"C\",\"S\",\"S\",\"S\",\"S\",\"C\",\"Q\",\"S\",\"C\",\"S\",\"S\",\"C\",\"Q\",\"S\",\"C\",\"S\",\"S\",\"S\",\"S\",\"S\",\"S\",\"Q\",\"Q\",\"C\",\"C\",\"C\",\"Q\",\"C\",\"S\",\"C\",\"S\",\"C\",\"C\",\"S\",\"S\",\"C\",\"C\",\"S\",\"S\",\"S\",\"S\",\"S\",\"S\",\"Q\",\"S\",\"S\",\"S\",\"S\",\"S\",\"S\",\"S\",\"S\",\"S\",\"S\",\"S\",\"S\",\"S\",\"S\",\"S\",\"C\",\"S\",\"S\",\"C\",\"S\",\"C\",\"S\",\"S\",\"S\",\"S\",\"S\",\"C\",\"S\",\"Q\",\"Q\",\"S\",\"S\",\"S\",\"C\",\"S\",\"S\",\"S\",\"C\",\"S\",\"S\",\"C\",\"S\",\"S\",\"C\",\"C\",\"S\",\"S\",\"S\",\"S\",\"S\",\"C\",\"S\",\"S\",\"S\",\"S\",\"S\",\"Q\",\"S\",\"S\",\"C\",\"S\",\"C\",\"S\",\"C\",\"Q\",\"S\",\"S\",\"C\",\"S\",\"S\",\"Q\",\"S\",\"S\",\"S\",\"S\",\"S\",\"S\",\"S\",\"C\",\"S\",\"C\",\"S\",\"S\",\"Q\",\"Q\",\"Q\",\"S\",\"S\",\"S\",\"S\",\"Q\",\"S\",\"C\",\"Q\",\"C\",\"C\",\"S\",\"S\",\"C\",\"C\",\"S\",\"S\",\"S\",\"Q\",\"S\",\"S\",\"S\",\"C\",\"S\",\"S\",\"S\",\"S\",\"S\",\"S\",\"Q\",\"S\",\"S\",\"S\",\"S\",\"C\",\"S\",\"S\",\"S\",\"S\",\"S\",\"S\",\"S\",\"S\",\"S\",\"S\",\"S\",\"S\",\"S\",null,\"C\",\"C\",\"C\",\"C\",\"C\",\"S\",\"S\",\"S\",\"S\",\"C\",\"S\",\"S\",\"S\",\"C\",\"S\",\"C\",\"C\",\"C\",\"S\",\"S\",\"Q\",\"S\",\"S\"],\"x0\":\" \",\"xaxis\":\"x\",\"y\":[1,1,1,1,1,1,1,0,1,0,1,1,0,1,1,1,1,0,1,0,0,1,1,1,0,1,1,1,1,1,1,1,0,1,1,1,1,1,1,0,1,1,0,0,0,0,1,1,0,1,1,0,1,1,0,1,1,1,1,0,1,0,0,1,1,1,1,1,1,1,0,0,1,1,1,1,1,0,1,1,0,1,0,1,0,1,0,0,1,1,1,1,1,0,1,1,1,1,1,0,1,1,1,1,0,0,1,1,1,1,1,1,1,1,0,1,1,1,1,1,1,1,1,1,1,1,1,1,1,1,1,1,1,0,1,1,0,1,1,1,1,0,1,1,1,1,1,1,1,1,1,0,1,0,0,0,1,0,1,1,0,0,1,1,1,1,1,0,1,1,1,1,1,1,1,1,1,1,0,1,1,0,1,1,0,0,0,0,1,1,1,1,1,1,1,1,1,1,0,1,1,1,1,0,0,1,1,1,1,1,0,0,1,1,1,1,0,1,1,1,1,0,1,1,1,1,0,1,1,0,1,1,0,1,0,1,0,1,1,1,1,0,0,1,1,1,0,0,1,1,1,1,0,1,1,1,1,1,1,1,1,0,1,0,1,1,1,1,1,1,1,0,0,1,1,1,1,1,1,0,1,1,0,1,0,1,0,0,1,1,1,1,1,1,1,0,1,0,1,1,1,1,0,1,1,1,1,1,1,1,0,0,1,0],\"y0\":\" \",\"yaxis\":\"y\",\"type\":\"violin\"}],                        {\"template\":{\"data\":{\"histogram2dcontour\":[{\"type\":\"histogram2dcontour\",\"colorbar\":{\"outlinewidth\":0,\"ticks\":\"\"},\"colorscale\":[[0.0,\"#0d0887\"],[0.1111111111111111,\"#46039f\"],[0.2222222222222222,\"#7201a8\"],[0.3333333333333333,\"#9c179e\"],[0.4444444444444444,\"#bd3786\"],[0.5555555555555556,\"#d8576b\"],[0.6666666666666666,\"#ed7953\"],[0.7777777777777778,\"#fb9f3a\"],[0.8888888888888888,\"#fdca26\"],[1.0,\"#f0f921\"]]}],\"choropleth\":[{\"type\":\"choropleth\",\"colorbar\":{\"outlinewidth\":0,\"ticks\":\"\"}}],\"histogram2d\":[{\"type\":\"histogram2d\",\"colorbar\":{\"outlinewidth\":0,\"ticks\":\"\"},\"colorscale\":[[0.0,\"#0d0887\"],[0.1111111111111111,\"#46039f\"],[0.2222222222222222,\"#7201a8\"],[0.3333333333333333,\"#9c179e\"],[0.4444444444444444,\"#bd3786\"],[0.5555555555555556,\"#d8576b\"],[0.6666666666666666,\"#ed7953\"],[0.7777777777777778,\"#fb9f3a\"],[0.8888888888888888,\"#fdca26\"],[1.0,\"#f0f921\"]]}],\"heatmap\":[{\"type\":\"heatmap\",\"colorbar\":{\"outlinewidth\":0,\"ticks\":\"\"},\"colorscale\":[[0.0,\"#0d0887\"],[0.1111111111111111,\"#46039f\"],[0.2222222222222222,\"#7201a8\"],[0.3333333333333333,\"#9c179e\"],[0.4444444444444444,\"#bd3786\"],[0.5555555555555556,\"#d8576b\"],[0.6666666666666666,\"#ed7953\"],[0.7777777777777778,\"#fb9f3a\"],[0.8888888888888888,\"#fdca26\"],[1.0,\"#f0f921\"]]}],\"heatmapgl\":[{\"type\":\"heatmapgl\",\"colorbar\":{\"outlinewidth\":0,\"ticks\":\"\"},\"colorscale\":[[0.0,\"#0d0887\"],[0.1111111111111111,\"#46039f\"],[0.2222222222222222,\"#7201a8\"],[0.3333333333333333,\"#9c179e\"],[0.4444444444444444,\"#bd3786\"],[0.5555555555555556,\"#d8576b\"],[0.6666666666666666,\"#ed7953\"],[0.7777777777777778,\"#fb9f3a\"],[0.8888888888888888,\"#fdca26\"],[1.0,\"#f0f921\"]]}],\"contourcarpet\":[{\"type\":\"contourcarpet\",\"colorbar\":{\"outlinewidth\":0,\"ticks\":\"\"}}],\"contour\":[{\"type\":\"contour\",\"colorbar\":{\"outlinewidth\":0,\"ticks\":\"\"},\"colorscale\":[[0.0,\"#0d0887\"],[0.1111111111111111,\"#46039f\"],[0.2222222222222222,\"#7201a8\"],[0.3333333333333333,\"#9c179e\"],[0.4444444444444444,\"#bd3786\"],[0.5555555555555556,\"#d8576b\"],[0.6666666666666666,\"#ed7953\"],[0.7777777777777778,\"#fb9f3a\"],[0.8888888888888888,\"#fdca26\"],[1.0,\"#f0f921\"]]}],\"surface\":[{\"type\":\"surface\",\"colorbar\":{\"outlinewidth\":0,\"ticks\":\"\"},\"colorscale\":[[0.0,\"#0d0887\"],[0.1111111111111111,\"#46039f\"],[0.2222222222222222,\"#7201a8\"],[0.3333333333333333,\"#9c179e\"],[0.4444444444444444,\"#bd3786\"],[0.5555555555555556,\"#d8576b\"],[0.6666666666666666,\"#ed7953\"],[0.7777777777777778,\"#fb9f3a\"],[0.8888888888888888,\"#fdca26\"],[1.0,\"#f0f921\"]]}],\"mesh3d\":[{\"type\":\"mesh3d\",\"colorbar\":{\"outlinewidth\":0,\"ticks\":\"\"}}],\"scatter\":[{\"fillpattern\":{\"fillmode\":\"overlay\",\"size\":10,\"solidity\":0.2},\"type\":\"scatter\"}],\"parcoords\":[{\"type\":\"parcoords\",\"line\":{\"colorbar\":{\"outlinewidth\":0,\"ticks\":\"\"}}}],\"scatterpolargl\":[{\"type\":\"scatterpolargl\",\"marker\":{\"colorbar\":{\"outlinewidth\":0,\"ticks\":\"\"}}}],\"bar\":[{\"error_x\":{\"color\":\"#2a3f5f\"},\"error_y\":{\"color\":\"#2a3f5f\"},\"marker\":{\"line\":{\"color\":\"#E5ECF6\",\"width\":0.5},\"pattern\":{\"fillmode\":\"overlay\",\"size\":10,\"solidity\":0.2}},\"type\":\"bar\"}],\"scattergeo\":[{\"type\":\"scattergeo\",\"marker\":{\"colorbar\":{\"outlinewidth\":0,\"ticks\":\"\"}}}],\"scatterpolar\":[{\"type\":\"scatterpolar\",\"marker\":{\"colorbar\":{\"outlinewidth\":0,\"ticks\":\"\"}}}],\"histogram\":[{\"marker\":{\"pattern\":{\"fillmode\":\"overlay\",\"size\":10,\"solidity\":0.2}},\"type\":\"histogram\"}],\"scattergl\":[{\"type\":\"scattergl\",\"marker\":{\"colorbar\":{\"outlinewidth\":0,\"ticks\":\"\"}}}],\"scatter3d\":[{\"type\":\"scatter3d\",\"line\":{\"colorbar\":{\"outlinewidth\":0,\"ticks\":\"\"}},\"marker\":{\"colorbar\":{\"outlinewidth\":0,\"ticks\":\"\"}}}],\"scattermapbox\":[{\"type\":\"scattermapbox\",\"marker\":{\"colorbar\":{\"outlinewidth\":0,\"ticks\":\"\"}}}],\"scatterternary\":[{\"type\":\"scatterternary\",\"marker\":{\"colorbar\":{\"outlinewidth\":0,\"ticks\":\"\"}}}],\"scattercarpet\":[{\"type\":\"scattercarpet\",\"marker\":{\"colorbar\":{\"outlinewidth\":0,\"ticks\":\"\"}}}],\"carpet\":[{\"aaxis\":{\"endlinecolor\":\"#2a3f5f\",\"gridcolor\":\"white\",\"linecolor\":\"white\",\"minorgridcolor\":\"white\",\"startlinecolor\":\"#2a3f5f\"},\"baxis\":{\"endlinecolor\":\"#2a3f5f\",\"gridcolor\":\"white\",\"linecolor\":\"white\",\"minorgridcolor\":\"white\",\"startlinecolor\":\"#2a3f5f\"},\"type\":\"carpet\"}],\"table\":[{\"cells\":{\"fill\":{\"color\":\"#EBF0F8\"},\"line\":{\"color\":\"white\"}},\"header\":{\"fill\":{\"color\":\"#C8D4E3\"},\"line\":{\"color\":\"white\"}},\"type\":\"table\"}],\"barpolar\":[{\"marker\":{\"line\":{\"color\":\"#E5ECF6\",\"width\":0.5},\"pattern\":{\"fillmode\":\"overlay\",\"size\":10,\"solidity\":0.2}},\"type\":\"barpolar\"}],\"pie\":[{\"automargin\":true,\"type\":\"pie\"}]},\"layout\":{\"autotypenumbers\":\"strict\",\"colorway\":[\"#636efa\",\"#EF553B\",\"#00cc96\",\"#ab63fa\",\"#FFA15A\",\"#19d3f3\",\"#FF6692\",\"#B6E880\",\"#FF97FF\",\"#FECB52\"],\"font\":{\"color\":\"#2a3f5f\"},\"hovermode\":\"closest\",\"hoverlabel\":{\"align\":\"left\"},\"paper_bgcolor\":\"white\",\"plot_bgcolor\":\"#E5ECF6\",\"polar\":{\"bgcolor\":\"#E5ECF6\",\"angularaxis\":{\"gridcolor\":\"white\",\"linecolor\":\"white\",\"ticks\":\"\"},\"radialaxis\":{\"gridcolor\":\"white\",\"linecolor\":\"white\",\"ticks\":\"\"}},\"ternary\":{\"bgcolor\":\"#E5ECF6\",\"aaxis\":{\"gridcolor\":\"white\",\"linecolor\":\"white\",\"ticks\":\"\"},\"baxis\":{\"gridcolor\":\"white\",\"linecolor\":\"white\",\"ticks\":\"\"},\"caxis\":{\"gridcolor\":\"white\",\"linecolor\":\"white\",\"ticks\":\"\"}},\"coloraxis\":{\"colorbar\":{\"outlinewidth\":0,\"ticks\":\"\"}},\"colorscale\":{\"sequential\":[[0.0,\"#0d0887\"],[0.1111111111111111,\"#46039f\"],[0.2222222222222222,\"#7201a8\"],[0.3333333333333333,\"#9c179e\"],[0.4444444444444444,\"#bd3786\"],[0.5555555555555556,\"#d8576b\"],[0.6666666666666666,\"#ed7953\"],[0.7777777777777778,\"#fb9f3a\"],[0.8888888888888888,\"#fdca26\"],[1.0,\"#f0f921\"]],\"sequentialminus\":[[0.0,\"#0d0887\"],[0.1111111111111111,\"#46039f\"],[0.2222222222222222,\"#7201a8\"],[0.3333333333333333,\"#9c179e\"],[0.4444444444444444,\"#bd3786\"],[0.5555555555555556,\"#d8576b\"],[0.6666666666666666,\"#ed7953\"],[0.7777777777777778,\"#fb9f3a\"],[0.8888888888888888,\"#fdca26\"],[1.0,\"#f0f921\"]],\"diverging\":[[0,\"#8e0152\"],[0.1,\"#c51b7d\"],[0.2,\"#de77ae\"],[0.3,\"#f1b6da\"],[0.4,\"#fde0ef\"],[0.5,\"#f7f7f7\"],[0.6,\"#e6f5d0\"],[0.7,\"#b8e186\"],[0.8,\"#7fbc41\"],[0.9,\"#4d9221\"],[1,\"#276419\"]]},\"xaxis\":{\"gridcolor\":\"white\",\"linecolor\":\"white\",\"ticks\":\"\",\"title\":{\"standoff\":15},\"zerolinecolor\":\"white\",\"automargin\":true,\"zerolinewidth\":2},\"yaxis\":{\"gridcolor\":\"white\",\"linecolor\":\"white\",\"ticks\":\"\",\"title\":{\"standoff\":15},\"zerolinecolor\":\"white\",\"automargin\":true,\"zerolinewidth\":2},\"scene\":{\"xaxis\":{\"backgroundcolor\":\"#E5ECF6\",\"gridcolor\":\"white\",\"linecolor\":\"white\",\"showbackground\":true,\"ticks\":\"\",\"zerolinecolor\":\"white\",\"gridwidth\":2},\"yaxis\":{\"backgroundcolor\":\"#E5ECF6\",\"gridcolor\":\"white\",\"linecolor\":\"white\",\"showbackground\":true,\"ticks\":\"\",\"zerolinecolor\":\"white\",\"gridwidth\":2},\"zaxis\":{\"backgroundcolor\":\"#E5ECF6\",\"gridcolor\":\"white\",\"linecolor\":\"white\",\"showbackground\":true,\"ticks\":\"\",\"zerolinecolor\":\"white\",\"gridwidth\":2}},\"shapedefaults\":{\"line\":{\"color\":\"#2a3f5f\"}},\"annotationdefaults\":{\"arrowcolor\":\"#2a3f5f\",\"arrowhead\":0,\"arrowwidth\":1},\"geo\":{\"bgcolor\":\"white\",\"landcolor\":\"#E5ECF6\",\"subunitcolor\":\"white\",\"showland\":true,\"showlakes\":true,\"lakecolor\":\"white\"},\"title\":{\"x\":0.05},\"mapbox\":{\"style\":\"light\"}}},\"xaxis\":{\"anchor\":\"y\",\"domain\":[0.0,1.0],\"title\":{\"text\":\"Embarked\"}},\"yaxis\":{\"anchor\":\"x\",\"domain\":[0.0,1.0],\"title\":{\"text\":\"Survived\"}},\"legend\":{\"title\":{\"text\":\"Sex\"},\"tracegroupgap\":0},\"margin\":{\"t\":60},\"violinmode\":\"group\"},                        {\"responsive\": true}                    ).then(function(){\n",
              "                            \n",
              "var gd = document.getElementById('0df61fd9-5112-4d65-b72a-5b233a482017');\n",
              "var x = new MutationObserver(function (mutations, observer) {{\n",
              "        var display = window.getComputedStyle(gd).display;\n",
              "        if (!display || display === 'none') {{\n",
              "            console.log([gd, 'removed!']);\n",
              "            Plotly.purge(gd);\n",
              "            observer.disconnect();\n",
              "        }}\n",
              "}});\n",
              "\n",
              "// Listen for the removal of the full notebook cells\n",
              "var notebookContainer = gd.closest('#notebook-container');\n",
              "if (notebookContainer) {{\n",
              "    x.observe(notebookContainer, {childList: true});\n",
              "}}\n",
              "\n",
              "// Listen for the clearing of the current output cell\n",
              "var outputEl = gd.closest('.output');\n",
              "if (outputEl) {{\n",
              "    x.observe(outputEl, {childList: true});\n",
              "}}\n",
              "\n",
              "                        })                };                            </script>        </div>\n",
              "</body>\n",
              "</html>"
            ]
          },
          "metadata": {}
        }
      ]
    },
    {
      "cell_type": "code",
      "source": [
        "fig = px.density_heatmap(df, x=\"Survived\", y=\"Fare\", marginal_x=\"rug\", marginal_y=\"histogram\")\n",
        "fig.show()"
      ],
      "metadata": {
        "colab": {
          "base_uri": "https://localhost:8080/",
          "height": 0
        },
        "id": "YEfGo_7Wa6bC",
        "outputId": "5c03dd98-caf5-4f7c-f9da-d5375e94b4fb"
      },
      "execution_count": 548,
      "outputs": [
        {
          "output_type": "display_data",
          "data": {
            "text/html": [
              "<html>\n",
              "<head><meta charset=\"utf-8\" /></head>\n",
              "<body>\n",
              "    <div>            <script src=\"https://cdnjs.cloudflare.com/ajax/libs/mathjax/2.7.5/MathJax.js?config=TeX-AMS-MML_SVG\"></script><script type=\"text/javascript\">if (window.MathJax && window.MathJax.Hub && window.MathJax.Hub.Config) {window.MathJax.Hub.Config({SVG: {font: \"STIX-Web\"}});}</script>                <script type=\"text/javascript\">window.PlotlyConfig = {MathJaxConfig: 'local'};</script>\n",
              "        <script charset=\"utf-8\" src=\"https://cdn.plot.ly/plotly-2.24.1.min.js\"></script>                <div id=\"f8728a00-bb69-4192-9659-17b32c3c668a\" class=\"plotly-graph-div\" style=\"height:525px; width:100%;\"></div>            <script type=\"text/javascript\">                                    window.PLOTLYENV=window.PLOTLYENV || {};                                    if (document.getElementById(\"f8728a00-bb69-4192-9659-17b32c3c668a\")) {                    Plotly.newPlot(                        \"f8728a00-bb69-4192-9659-17b32c3c668a\",                        [{\"coloraxis\":\"coloraxis\",\"hovertemplate\":\"Survived=%{x}\\u003cbr\\u003eFare=%{y}\\u003cbr\\u003ecount=%{z}\\u003cextra\\u003e\\u003c\\u002fextra\\u003e\",\"name\":\"\",\"x\":[0,1,1,1,0,0,0,0,1,1,1,1,0,0,0,1,0,1,0,1,0,1,1,1,0,1,0,0,1,0,0,1,1,0,0,0,1,0,0,1,0,0,0,1,1,0,0,1,0,0,0,0,1,1,0,1,1,0,1,0,0,1,0,0,0,1,1,0,1,0,0,0,0,0,1,0,0,0,1,1,0,1,1,0,1,1,0,0,1,0,0,0,0,0,0,0,0,1,1,0,0,0,0,0,0,0,1,1,0,1,0,0,0,0,0,0,0,0,0,0,0,0,0,1,0,1,0,1,1,0,0,0,0,1,0,0,1,0,0,0,0,1,1,0,0,0,1,0,0,0,0,1,0,0,0,0,1,0,0,0,0,1,0,0,0,1,1,0,0,0,0,0,1,0,0,0,0,0,0,0,0,0,0,1,1,0,1,1,0,0,1,0,1,1,1,1,0,0,1,0,0,0,0,0,1,0,0,1,1,1,0,1,0,0,0,1,1,0,1,0,1,0,0,0,1,0,1,0,0,0,1,0,0,1,0,0,0,1,0,0,0,1,0,0,0,0,0,1,1,0,0,0,0,0,0,1,1,1,1,1,0,1,0,0,0,0,0,1,1,1,0,1,1,0,1,1,0,0,0,1,0,0,0,1,0,0,1,0,1,1,1,1,0,0,0,0,0,0,1,1,1,1,0,1,0,1,1,1,0,1,1,1,0,0,0,1,1,0,1,1,0,0,1,1,0,1,0,1,1,1,1,0,0,0,1,0,0,1,1,0,1,1,0,0,0,1,1,1,1,0,0,0,0,0,0,0,1,0,1,1,0,0,0,0,0,0,1,1,1,1,1,0,0,0,0,1,1,0,0,0,1,1,0,1,0,0,0,1,0,1,1,1,0,1,1,0,0,0,0,1,1,0,0,0,0,0,0,1,0,0,0,0,1,0,1,0,1,1,0,0,0,0,0,0,0,0,1,1,0,1,1,1,1,0,0,1,0,1,0,0,1,0,0,1,1,1,1,1,1,1,0,0,0,1,0,1,0,1,1,0,1,0,0,0,0,0,0,0,0,1,0,0,1,1,0,0,0,0,0,1,0,0,0,1,1,0,1,0,0,1,0,0,0,0,0,0,1,0,0,0,0,0,0,0,1,0,1,1,0,1,1,0,1,1,0,0,1,0,1,0,1,0,0,1,0,0,1,0,0,0,1,0,0,1,0,1,0,1,0,1,1,0,0,1,0,0,1,1,0,1,1,0,0,1,1,0,1,0,1,1,0,0,0,0,0,0,0,0,0,1,1,1,1,1,0,0,1,1,0,1,1,1,0,0,0,1,0,1,0,0,0,1,0,0,0,0,1,0,0,1,1,0,0,0,1,0,0,1,1,1,0,0,1,0,0,1,0,0,1,0,0,1,1,0,0,0,0,1,0,0,1,0,1,0,0,1,0,0,0,0,0,1,0,1,1,1,0,1,0,1,0,1,0,1,0,0,0,0,0,0,1,0,0,0,1,0,0,0,0,1,1,0,0,1,0,0,0,1,0,1,0,1,0,0,0,0,0,0,0,1,1,1,1,0,0,0,0,1,0,0,1,1,0,0,0,0,1,1,1,1,1,0,1,0,0,0,1,1,0,0,1,0,0,0,1,0,1,1,0,0,1,0,0,0,0,0,0,1,0,0,1,0,1,0,1,0,0,1,0,0,1,1,0,0,1,1,0,0,0,1,0,0,1,1,0,1,0,0,0,0,0,0,0,0,1,0,0,1,0,1,1,1,0,0,0,0,1,0,1,0,0,0,0,0,0,0,1,1,0,0,0,1,1,1,1,0,0,0,0,1,0,0,0,0,0,0,0,0,0,0,1,1,0,1,0,0,0,1,1,1,1,1,0,0,0,1,0,0,1,1,0,0,1,0,0,0,0,0,0,1,0,0,0,1,0,1,1,1,1,0,0,0,1,0,0,1,1,0,0,1,0,1,0,0,1,1,0,0,0,1,1,0,0,0,0,0,0,1,0,1,0],\"xaxis\":\"x\",\"xbingroup\":\"x\",\"y\":[7.25,71.2833,7.925,53.1,8.05,8.4583,51.8625,21.075,11.1333,30.0708,16.7,26.55,8.05,31.275,7.8542,16.0,29.125,13.0,18.0,7.225,26.0,13.0,8.0292,35.5,21.075,31.3875,7.225,263.0,7.8792,7.8958,27.7208,146.5208,7.75,10.5,82.1708,52.0,7.2292,8.05,18.0,11.2417,9.475,21.0,7.8958,41.5792,7.8792,8.05,15.5,7.75,21.6792,17.8,39.6875,7.8,76.7292,26.0,61.9792,35.5,10.5,7.2292,27.75,46.9,7.2292,80.0,83.475,27.9,27.7208,15.2458,10.5,8.1583,7.925,8.6625,10.5,46.9,73.5,14.4542,56.4958,7.65,7.8958,8.05,29.0,12.475,9.0,9.5,7.7875,47.1,10.5,15.85,34.375,8.05,263.0,8.05,8.05,7.8542,61.175,20.575,7.25,8.05,34.6542,63.3583,23.0,26.0,7.8958,7.8958,77.2875,8.6542,7.925,7.8958,7.65,7.775,7.8958,24.15,52.0,14.4542,8.05,9.825,14.4583,7.925,7.75,21.0,247.5208,31.275,73.5,8.05,30.0708,13.0,77.2875,11.2417,7.75,7.1417,22.3583,6.975,7.8958,7.05,14.5,26.0,13.0,15.0458,26.2833,53.1,9.2167,79.2,15.2458,7.75,15.85,6.75,11.5,36.75,7.7958,34.375,26.0,13.0,12.525,66.6,8.05,14.5,7.3125,61.3792,7.7333,8.05,8.6625,69.55,16.1,15.75,7.775,8.6625,39.6875,20.525,55.0,27.9,25.925,56.4958,33.5,29.125,11.1333,7.925,30.6958,7.8542,25.4667,28.7125,13.0,0.0,69.55,15.05,31.3875,39.0,22.025,50.0,15.5,26.55,15.5,7.8958,13.0,13.0,7.8542,26.0,27.7208,146.5208,7.75,8.4042,7.75,13.0,9.5,69.55,6.4958,7.225,8.05,10.4625,15.85,18.7875,7.75,31.0,7.05,21.0,7.25,13.0,7.75,113.275,7.925,27.0,76.2917,10.5,8.05,13.0,8.05,7.8958,90.0,9.35,10.5,7.25,13.0,25.4667,83.475,7.775,13.5,31.3875,10.5,7.55,26.0,26.25,10.5,12.275,14.4542,15.5,10.5,7.125,7.225,90.0,7.775,14.5,52.5542,26.0,7.25,10.4625,26.55,16.1,20.2125,15.2458,79.2,86.5,512.3292,26.0,7.75,31.3875,79.65,0.0,7.75,10.5,39.6875,7.775,153.4625,135.6333,31.0,0.0,19.5,29.7,7.75,77.9583,7.75,0.0,29.125,20.25,7.75,7.8542,9.5,8.05,26.0,8.6625,9.5,7.8958,13.0,7.75,78.85,91.0792,12.875,8.85,7.8958,27.7208,7.2292,151.55,30.5,247.5208,7.75,23.25,0.0,12.35,8.05,151.55,110.8833,108.9,24.0,56.9292,83.1583,262.375,26.0,7.8958,26.25,7.8542,26.0,14.0,164.8667,134.5,7.25,7.8958,12.35,29.0,69.55,135.6333,6.2375,13.0,20.525,57.9792,23.25,28.5,153.4625,18.0,133.65,7.8958,66.6,134.5,8.05,35.5,26.0,263.0,13.0,13.0,13.0,13.0,13.0,16.1,15.9,8.6625,9.225,35.0,7.2292,17.8,7.225,9.5,55.0,13.0,7.8792,7.8792,27.9,27.7208,14.4542,7.05,15.5,7.25,75.25,7.2292,7.75,69.3,55.4417,6.4958,8.05,135.6333,21.075,82.1708,7.25,211.5,4.0125,7.775,227.525,15.7417,7.925,52.0,7.8958,73.5,46.9,13.0,7.7292,12.0,120.0,7.7958,7.925,113.275,16.7,7.7958,7.8542,26.0,10.5,12.65,7.925,8.05,9.825,15.85,8.6625,21.0,7.75,18.75,7.775,25.4667,7.8958,6.8583,90.0,0.0,7.925,8.05,32.5,13.0,13.0,24.15,7.8958,7.7333,7.875,14.4,20.2125,7.25,26.0,26.0,7.75,8.05,26.55,16.1,26.0,7.125,55.9,120.0,34.375,18.75,263.0,10.5,26.25,9.5,7.775,13.0,8.1125,81.8583,19.5,26.55,19.2583,30.5,27.75,19.9667,27.75,89.1042,8.05,7.8958,26.55,51.8625,10.5,7.75,26.55,8.05,38.5,13.0,8.05,7.05,0.0,26.55,7.725,19.2583,7.25,8.6625,27.75,13.7917,9.8375,52.0,21.0,7.0458,7.5208,12.2875,46.9,0.0,8.05,9.5875,91.0792,25.4667,90.0,29.7,8.05,15.9,19.9667,7.25,30.5,49.5042,8.05,14.4583,78.2667,15.1,151.55,7.7958,8.6625,7.75,7.6292,9.5875,86.5,108.9,26.0,26.55,22.525,56.4958,7.75,8.05,26.2875,59.4,7.4958,34.0208,10.5,24.15,26.0,7.8958,93.5,7.8958,7.225,57.9792,7.2292,7.75,10.5,221.7792,7.925,11.5,26.0,7.2292,7.2292,22.3583,8.6625,26.25,26.55,106.425,14.5,49.5,71.0,31.275,31.275,26.0,106.425,26.0,26.0,13.8625,20.525,36.75,110.8833,26.0,7.8292,7.225,7.775,26.55,39.6,227.525,79.65,17.4,7.75,7.8958,13.5,8.05,8.05,24.15,7.8958,21.075,7.2292,7.8542,10.5,51.4792,26.3875,7.75,8.05,14.5,13.0,55.9,14.4583,7.925,30.0,110.8833,26.0,40.125,8.7125,79.65,15.0,79.2,8.05,8.05,7.125,78.2667,7.25,7.75,26.0,24.15,33.0,0.0,7.225,56.9292,27.0,7.8958,42.4,8.05,26.55,15.55,7.8958,30.5,41.5792,153.4625,31.275,7.05,15.5,7.75,8.05,65.0,14.4,16.1,39.0,10.5,14.4542,52.5542,15.7417,7.8542,16.1,32.3208,12.35,77.9583,7.8958,7.7333,30.0,7.0542,30.5,0.0,27.9,13.0,7.925,26.25,39.6875,16.1,7.8542,69.3,27.9,56.4958,19.2583,76.7292,7.8958,35.5,7.55,7.55,7.8958,23.0,8.4333,7.8292,6.75,73.5,7.8958,15.5,13.0,113.275,133.65,7.225,25.5875,7.4958,7.925,73.5,13.0,7.775,8.05,52.0,39.0,52.0,10.5,13.0,0.0,7.775,8.05,9.8417,46.9,512.3292,8.1375,76.7292,9.225,46.9,39.0,41.5792,39.6875,10.1708,7.7958,211.3375,57.0,13.4167,56.4958,7.225,26.55,13.5,8.05,7.7333,110.8833,7.65,227.525,26.2875,14.4542,7.7417,7.8542,26.0,13.5,26.2875,151.55,15.2458,49.5042,26.55,52.0,9.4833,13.0,7.65,227.525,10.5,15.5,7.775,33.0,7.0542,13.0,13.0,53.1,8.6625,21.0,7.7375,26.0,7.925,211.3375,18.7875,0.0,13.0,13.0,16.1,34.375,512.3292,7.8958,7.8958,30.0,78.85,262.375,16.1,7.925,71.0,20.25,13.0,53.1,7.75,23.0,12.475,9.5,7.8958,65.0,14.5,7.7958,11.5,8.05,86.5,14.5,7.125,7.2292,120.0,7.775,77.9583,39.6,7.75,24.15,8.3625,9.5,7.8542,10.5,7.225,23.0,7.75,7.75,12.475,7.7375,211.3375,7.2292,57.0,30.0,23.45,7.05,7.25,7.4958,29.125,20.575,79.2,7.75,26.0,69.55,30.6958,7.8958,13.0,25.9292,8.6833,7.2292,24.15,13.0,26.25,120.0,8.5167,6.975,7.775,0.0,7.775,13.0,53.1,7.8875,24.15,10.5,31.275,8.05,0.0,7.925,37.0042,6.45,27.9,93.5,8.6625,0.0,12.475,39.6875,6.95,56.4958,37.0042,7.75,80.0,14.4542,18.75,7.2292,7.8542,8.3,83.1583,8.6625,8.05,56.4958,29.7,7.925,10.5,31.0,6.4375,8.6625,7.55,69.55,7.8958,33.0,89.1042,31.275,7.775,15.2458,39.4,26.0,9.35,164.8667,26.55,19.2583,7.2292,14.1083,11.5,25.9292,69.55,13.0,13.0,13.8583,50.4958,9.5,11.1333,7.8958,52.5542,5.0,9.0,24.0,7.225,9.8458,7.8958,7.8958,83.1583,26.0,7.8958,10.5167,10.5,7.05,29.125,13.0,30.0,23.45,30.0,7.75],\"yaxis\":\"y\",\"ybingroup\":\"y\",\"type\":\"histogram2d\"},{\"alignmentgroup\":\"True\",\"boxpoints\":\"all\",\"fillcolor\":\"rgba(255,255,255,0)\",\"hoveron\":\"points\",\"hovertemplate\":\"Survived=%{x}\\u003cextra\\u003e\\u003c\\u002fextra\\u003e\",\"jitter\":0,\"legendgroup\":\"\",\"line\":{\"color\":\"rgba(255,255,255,0)\"},\"marker\":{\"color\":\"#0d0887\",\"symbol\":\"line-ns-open\"},\"name\":\"\",\"offsetgroup\":\"\",\"showlegend\":false,\"x\":[0,1,1,1,0,0,0,0,1,1,1,1,0,0,0,1,0,1,0,1,0,1,1,1,0,1,0,0,1,0,0,1,1,0,0,0,1,0,0,1,0,0,0,1,1,0,0,1,0,0,0,0,1,1,0,1,1,0,1,0,0,1,0,0,0,1,1,0,1,0,0,0,0,0,1,0,0,0,1,1,0,1,1,0,1,1,0,0,1,0,0,0,0,0,0,0,0,1,1,0,0,0,0,0,0,0,1,1,0,1,0,0,0,0,0,0,0,0,0,0,0,0,0,1,0,1,0,1,1,0,0,0,0,1,0,0,1,0,0,0,0,1,1,0,0,0,1,0,0,0,0,1,0,0,0,0,1,0,0,0,0,1,0,0,0,1,1,0,0,0,0,0,1,0,0,0,0,0,0,0,0,0,0,1,1,0,1,1,0,0,1,0,1,1,1,1,0,0,1,0,0,0,0,0,1,0,0,1,1,1,0,1,0,0,0,1,1,0,1,0,1,0,0,0,1,0,1,0,0,0,1,0,0,1,0,0,0,1,0,0,0,1,0,0,0,0,0,1,1,0,0,0,0,0,0,1,1,1,1,1,0,1,0,0,0,0,0,1,1,1,0,1,1,0,1,1,0,0,0,1,0,0,0,1,0,0,1,0,1,1,1,1,0,0,0,0,0,0,1,1,1,1,0,1,0,1,1,1,0,1,1,1,0,0,0,1,1,0,1,1,0,0,1,1,0,1,0,1,1,1,1,0,0,0,1,0,0,1,1,0,1,1,0,0,0,1,1,1,1,0,0,0,0,0,0,0,1,0,1,1,0,0,0,0,0,0,1,1,1,1,1,0,0,0,0,1,1,0,0,0,1,1,0,1,0,0,0,1,0,1,1,1,0,1,1,0,0,0,0,1,1,0,0,0,0,0,0,1,0,0,0,0,1,0,1,0,1,1,0,0,0,0,0,0,0,0,1,1,0,1,1,1,1,0,0,1,0,1,0,0,1,0,0,1,1,1,1,1,1,1,0,0,0,1,0,1,0,1,1,0,1,0,0,0,0,0,0,0,0,1,0,0,1,1,0,0,0,0,0,1,0,0,0,1,1,0,1,0,0,1,0,0,0,0,0,0,1,0,0,0,0,0,0,0,1,0,1,1,0,1,1,0,1,1,0,0,1,0,1,0,1,0,0,1,0,0,1,0,0,0,1,0,0,1,0,1,0,1,0,1,1,0,0,1,0,0,1,1,0,1,1,0,0,1,1,0,1,0,1,1,0,0,0,0,0,0,0,0,0,1,1,1,1,1,0,0,1,1,0,1,1,1,0,0,0,1,0,1,0,0,0,1,0,0,0,0,1,0,0,1,1,0,0,0,1,0,0,1,1,1,0,0,1,0,0,1,0,0,1,0,0,1,1,0,0,0,0,1,0,0,1,0,1,0,0,1,0,0,0,0,0,1,0,1,1,1,0,1,0,1,0,1,0,1,0,0,0,0,0,0,1,0,0,0,1,0,0,0,0,1,1,0,0,1,0,0,0,1,0,1,0,1,0,0,0,0,0,0,0,1,1,1,1,0,0,0,0,1,0,0,1,1,0,0,0,0,1,1,1,1,1,0,1,0,0,0,1,1,0,0,1,0,0,0,1,0,1,1,0,0,1,0,0,0,0,0,0,1,0,0,1,0,1,0,1,0,0,1,0,0,1,1,0,0,1,1,0,0,0,1,0,0,1,1,0,1,0,0,0,0,0,0,0,0,1,0,0,1,0,1,1,1,0,0,0,0,1,0,1,0,0,0,0,0,0,0,1,1,0,0,0,1,1,1,1,0,0,0,0,1,0,0,0,0,0,0,0,0,0,0,1,1,0,1,0,0,0,1,1,1,1,1,0,0,0,1,0,0,1,1,0,0,1,0,0,0,0,0,0,1,0,0,0,1,0,1,1,1,1,0,0,0,1,0,0,1,1,0,0,1,0,1,0,0,1,1,0,0,0,1,1,0,0,0,0,0,0,1,0,1,0],\"xaxis\":\"x3\",\"yaxis\":\"y3\",\"type\":\"box\"},{\"alignmentgroup\":\"True\",\"bingroup\":\"y\",\"hovertemplate\":\"Fare=%{y}\\u003cbr\\u003ecount=%{x}\\u003cextra\\u003e\\u003c\\u002fextra\\u003e\",\"legendgroup\":\"\",\"marker\":{\"color\":\"#0d0887\"},\"name\":\"\",\"offsetgroup\":\"\",\"opacity\":0.5,\"showlegend\":false,\"xaxis\":\"x2\",\"y\":[7.25,71.2833,7.925,53.1,8.05,8.4583,51.8625,21.075,11.1333,30.0708,16.7,26.55,8.05,31.275,7.8542,16.0,29.125,13.0,18.0,7.225,26.0,13.0,8.0292,35.5,21.075,31.3875,7.225,263.0,7.8792,7.8958,27.7208,146.5208,7.75,10.5,82.1708,52.0,7.2292,8.05,18.0,11.2417,9.475,21.0,7.8958,41.5792,7.8792,8.05,15.5,7.75,21.6792,17.8,39.6875,7.8,76.7292,26.0,61.9792,35.5,10.5,7.2292,27.75,46.9,7.2292,80.0,83.475,27.9,27.7208,15.2458,10.5,8.1583,7.925,8.6625,10.5,46.9,73.5,14.4542,56.4958,7.65,7.8958,8.05,29.0,12.475,9.0,9.5,7.7875,47.1,10.5,15.85,34.375,8.05,263.0,8.05,8.05,7.8542,61.175,20.575,7.25,8.05,34.6542,63.3583,23.0,26.0,7.8958,7.8958,77.2875,8.6542,7.925,7.8958,7.65,7.775,7.8958,24.15,52.0,14.4542,8.05,9.825,14.4583,7.925,7.75,21.0,247.5208,31.275,73.5,8.05,30.0708,13.0,77.2875,11.2417,7.75,7.1417,22.3583,6.975,7.8958,7.05,14.5,26.0,13.0,15.0458,26.2833,53.1,9.2167,79.2,15.2458,7.75,15.85,6.75,11.5,36.75,7.7958,34.375,26.0,13.0,12.525,66.6,8.05,14.5,7.3125,61.3792,7.7333,8.05,8.6625,69.55,16.1,15.75,7.775,8.6625,39.6875,20.525,55.0,27.9,25.925,56.4958,33.5,29.125,11.1333,7.925,30.6958,7.8542,25.4667,28.7125,13.0,0.0,69.55,15.05,31.3875,39.0,22.025,50.0,15.5,26.55,15.5,7.8958,13.0,13.0,7.8542,26.0,27.7208,146.5208,7.75,8.4042,7.75,13.0,9.5,69.55,6.4958,7.225,8.05,10.4625,15.85,18.7875,7.75,31.0,7.05,21.0,7.25,13.0,7.75,113.275,7.925,27.0,76.2917,10.5,8.05,13.0,8.05,7.8958,90.0,9.35,10.5,7.25,13.0,25.4667,83.475,7.775,13.5,31.3875,10.5,7.55,26.0,26.25,10.5,12.275,14.4542,15.5,10.5,7.125,7.225,90.0,7.775,14.5,52.5542,26.0,7.25,10.4625,26.55,16.1,20.2125,15.2458,79.2,86.5,512.3292,26.0,7.75,31.3875,79.65,0.0,7.75,10.5,39.6875,7.775,153.4625,135.6333,31.0,0.0,19.5,29.7,7.75,77.9583,7.75,0.0,29.125,20.25,7.75,7.8542,9.5,8.05,26.0,8.6625,9.5,7.8958,13.0,7.75,78.85,91.0792,12.875,8.85,7.8958,27.7208,7.2292,151.55,30.5,247.5208,7.75,23.25,0.0,12.35,8.05,151.55,110.8833,108.9,24.0,56.9292,83.1583,262.375,26.0,7.8958,26.25,7.8542,26.0,14.0,164.8667,134.5,7.25,7.8958,12.35,29.0,69.55,135.6333,6.2375,13.0,20.525,57.9792,23.25,28.5,153.4625,18.0,133.65,7.8958,66.6,134.5,8.05,35.5,26.0,263.0,13.0,13.0,13.0,13.0,13.0,16.1,15.9,8.6625,9.225,35.0,7.2292,17.8,7.225,9.5,55.0,13.0,7.8792,7.8792,27.9,27.7208,14.4542,7.05,15.5,7.25,75.25,7.2292,7.75,69.3,55.4417,6.4958,8.05,135.6333,21.075,82.1708,7.25,211.5,4.0125,7.775,227.525,15.7417,7.925,52.0,7.8958,73.5,46.9,13.0,7.7292,12.0,120.0,7.7958,7.925,113.275,16.7,7.7958,7.8542,26.0,10.5,12.65,7.925,8.05,9.825,15.85,8.6625,21.0,7.75,18.75,7.775,25.4667,7.8958,6.8583,90.0,0.0,7.925,8.05,32.5,13.0,13.0,24.15,7.8958,7.7333,7.875,14.4,20.2125,7.25,26.0,26.0,7.75,8.05,26.55,16.1,26.0,7.125,55.9,120.0,34.375,18.75,263.0,10.5,26.25,9.5,7.775,13.0,8.1125,81.8583,19.5,26.55,19.2583,30.5,27.75,19.9667,27.75,89.1042,8.05,7.8958,26.55,51.8625,10.5,7.75,26.55,8.05,38.5,13.0,8.05,7.05,0.0,26.55,7.725,19.2583,7.25,8.6625,27.75,13.7917,9.8375,52.0,21.0,7.0458,7.5208,12.2875,46.9,0.0,8.05,9.5875,91.0792,25.4667,90.0,29.7,8.05,15.9,19.9667,7.25,30.5,49.5042,8.05,14.4583,78.2667,15.1,151.55,7.7958,8.6625,7.75,7.6292,9.5875,86.5,108.9,26.0,26.55,22.525,56.4958,7.75,8.05,26.2875,59.4,7.4958,34.0208,10.5,24.15,26.0,7.8958,93.5,7.8958,7.225,57.9792,7.2292,7.75,10.5,221.7792,7.925,11.5,26.0,7.2292,7.2292,22.3583,8.6625,26.25,26.55,106.425,14.5,49.5,71.0,31.275,31.275,26.0,106.425,26.0,26.0,13.8625,20.525,36.75,110.8833,26.0,7.8292,7.225,7.775,26.55,39.6,227.525,79.65,17.4,7.75,7.8958,13.5,8.05,8.05,24.15,7.8958,21.075,7.2292,7.8542,10.5,51.4792,26.3875,7.75,8.05,14.5,13.0,55.9,14.4583,7.925,30.0,110.8833,26.0,40.125,8.7125,79.65,15.0,79.2,8.05,8.05,7.125,78.2667,7.25,7.75,26.0,24.15,33.0,0.0,7.225,56.9292,27.0,7.8958,42.4,8.05,26.55,15.55,7.8958,30.5,41.5792,153.4625,31.275,7.05,15.5,7.75,8.05,65.0,14.4,16.1,39.0,10.5,14.4542,52.5542,15.7417,7.8542,16.1,32.3208,12.35,77.9583,7.8958,7.7333,30.0,7.0542,30.5,0.0,27.9,13.0,7.925,26.25,39.6875,16.1,7.8542,69.3,27.9,56.4958,19.2583,76.7292,7.8958,35.5,7.55,7.55,7.8958,23.0,8.4333,7.8292,6.75,73.5,7.8958,15.5,13.0,113.275,133.65,7.225,25.5875,7.4958,7.925,73.5,13.0,7.775,8.05,52.0,39.0,52.0,10.5,13.0,0.0,7.775,8.05,9.8417,46.9,512.3292,8.1375,76.7292,9.225,46.9,39.0,41.5792,39.6875,10.1708,7.7958,211.3375,57.0,13.4167,56.4958,7.225,26.55,13.5,8.05,7.7333,110.8833,7.65,227.525,26.2875,14.4542,7.7417,7.8542,26.0,13.5,26.2875,151.55,15.2458,49.5042,26.55,52.0,9.4833,13.0,7.65,227.525,10.5,15.5,7.775,33.0,7.0542,13.0,13.0,53.1,8.6625,21.0,7.7375,26.0,7.925,211.3375,18.7875,0.0,13.0,13.0,16.1,34.375,512.3292,7.8958,7.8958,30.0,78.85,262.375,16.1,7.925,71.0,20.25,13.0,53.1,7.75,23.0,12.475,9.5,7.8958,65.0,14.5,7.7958,11.5,8.05,86.5,14.5,7.125,7.2292,120.0,7.775,77.9583,39.6,7.75,24.15,8.3625,9.5,7.8542,10.5,7.225,23.0,7.75,7.75,12.475,7.7375,211.3375,7.2292,57.0,30.0,23.45,7.05,7.25,7.4958,29.125,20.575,79.2,7.75,26.0,69.55,30.6958,7.8958,13.0,25.9292,8.6833,7.2292,24.15,13.0,26.25,120.0,8.5167,6.975,7.775,0.0,7.775,13.0,53.1,7.8875,24.15,10.5,31.275,8.05,0.0,7.925,37.0042,6.45,27.9,93.5,8.6625,0.0,12.475,39.6875,6.95,56.4958,37.0042,7.75,80.0,14.4542,18.75,7.2292,7.8542,8.3,83.1583,8.6625,8.05,56.4958,29.7,7.925,10.5,31.0,6.4375,8.6625,7.55,69.55,7.8958,33.0,89.1042,31.275,7.775,15.2458,39.4,26.0,9.35,164.8667,26.55,19.2583,7.2292,14.1083,11.5,25.9292,69.55,13.0,13.0,13.8583,50.4958,9.5,11.1333,7.8958,52.5542,5.0,9.0,24.0,7.225,9.8458,7.8958,7.8958,83.1583,26.0,7.8958,10.5167,10.5,7.05,29.125,13.0,30.0,23.45,30.0,7.75],\"yaxis\":\"y2\",\"type\":\"histogram\"}],                        {\"template\":{\"data\":{\"histogram2dcontour\":[{\"type\":\"histogram2dcontour\",\"colorbar\":{\"outlinewidth\":0,\"ticks\":\"\"},\"colorscale\":[[0.0,\"#0d0887\"],[0.1111111111111111,\"#46039f\"],[0.2222222222222222,\"#7201a8\"],[0.3333333333333333,\"#9c179e\"],[0.4444444444444444,\"#bd3786\"],[0.5555555555555556,\"#d8576b\"],[0.6666666666666666,\"#ed7953\"],[0.7777777777777778,\"#fb9f3a\"],[0.8888888888888888,\"#fdca26\"],[1.0,\"#f0f921\"]]}],\"choropleth\":[{\"type\":\"choropleth\",\"colorbar\":{\"outlinewidth\":0,\"ticks\":\"\"}}],\"histogram2d\":[{\"type\":\"histogram2d\",\"colorbar\":{\"outlinewidth\":0,\"ticks\":\"\"},\"colorscale\":[[0.0,\"#0d0887\"],[0.1111111111111111,\"#46039f\"],[0.2222222222222222,\"#7201a8\"],[0.3333333333333333,\"#9c179e\"],[0.4444444444444444,\"#bd3786\"],[0.5555555555555556,\"#d8576b\"],[0.6666666666666666,\"#ed7953\"],[0.7777777777777778,\"#fb9f3a\"],[0.8888888888888888,\"#fdca26\"],[1.0,\"#f0f921\"]]}],\"heatmap\":[{\"type\":\"heatmap\",\"colorbar\":{\"outlinewidth\":0,\"ticks\":\"\"},\"colorscale\":[[0.0,\"#0d0887\"],[0.1111111111111111,\"#46039f\"],[0.2222222222222222,\"#7201a8\"],[0.3333333333333333,\"#9c179e\"],[0.4444444444444444,\"#bd3786\"],[0.5555555555555556,\"#d8576b\"],[0.6666666666666666,\"#ed7953\"],[0.7777777777777778,\"#fb9f3a\"],[0.8888888888888888,\"#fdca26\"],[1.0,\"#f0f921\"]]}],\"heatmapgl\":[{\"type\":\"heatmapgl\",\"colorbar\":{\"outlinewidth\":0,\"ticks\":\"\"},\"colorscale\":[[0.0,\"#0d0887\"],[0.1111111111111111,\"#46039f\"],[0.2222222222222222,\"#7201a8\"],[0.3333333333333333,\"#9c179e\"],[0.4444444444444444,\"#bd3786\"],[0.5555555555555556,\"#d8576b\"],[0.6666666666666666,\"#ed7953\"],[0.7777777777777778,\"#fb9f3a\"],[0.8888888888888888,\"#fdca26\"],[1.0,\"#f0f921\"]]}],\"contourcarpet\":[{\"type\":\"contourcarpet\",\"colorbar\":{\"outlinewidth\":0,\"ticks\":\"\"}}],\"contour\":[{\"type\":\"contour\",\"colorbar\":{\"outlinewidth\":0,\"ticks\":\"\"},\"colorscale\":[[0.0,\"#0d0887\"],[0.1111111111111111,\"#46039f\"],[0.2222222222222222,\"#7201a8\"],[0.3333333333333333,\"#9c179e\"],[0.4444444444444444,\"#bd3786\"],[0.5555555555555556,\"#d8576b\"],[0.6666666666666666,\"#ed7953\"],[0.7777777777777778,\"#fb9f3a\"],[0.8888888888888888,\"#fdca26\"],[1.0,\"#f0f921\"]]}],\"surface\":[{\"type\":\"surface\",\"colorbar\":{\"outlinewidth\":0,\"ticks\":\"\"},\"colorscale\":[[0.0,\"#0d0887\"],[0.1111111111111111,\"#46039f\"],[0.2222222222222222,\"#7201a8\"],[0.3333333333333333,\"#9c179e\"],[0.4444444444444444,\"#bd3786\"],[0.5555555555555556,\"#d8576b\"],[0.6666666666666666,\"#ed7953\"],[0.7777777777777778,\"#fb9f3a\"],[0.8888888888888888,\"#fdca26\"],[1.0,\"#f0f921\"]]}],\"mesh3d\":[{\"type\":\"mesh3d\",\"colorbar\":{\"outlinewidth\":0,\"ticks\":\"\"}}],\"scatter\":[{\"fillpattern\":{\"fillmode\":\"overlay\",\"size\":10,\"solidity\":0.2},\"type\":\"scatter\"}],\"parcoords\":[{\"type\":\"parcoords\",\"line\":{\"colorbar\":{\"outlinewidth\":0,\"ticks\":\"\"}}}],\"scatterpolargl\":[{\"type\":\"scatterpolargl\",\"marker\":{\"colorbar\":{\"outlinewidth\":0,\"ticks\":\"\"}}}],\"bar\":[{\"error_x\":{\"color\":\"#2a3f5f\"},\"error_y\":{\"color\":\"#2a3f5f\"},\"marker\":{\"line\":{\"color\":\"#E5ECF6\",\"width\":0.5},\"pattern\":{\"fillmode\":\"overlay\",\"size\":10,\"solidity\":0.2}},\"type\":\"bar\"}],\"scattergeo\":[{\"type\":\"scattergeo\",\"marker\":{\"colorbar\":{\"outlinewidth\":0,\"ticks\":\"\"}}}],\"scatterpolar\":[{\"type\":\"scatterpolar\",\"marker\":{\"colorbar\":{\"outlinewidth\":0,\"ticks\":\"\"}}}],\"histogram\":[{\"marker\":{\"pattern\":{\"fillmode\":\"overlay\",\"size\":10,\"solidity\":0.2}},\"type\":\"histogram\"}],\"scattergl\":[{\"type\":\"scattergl\",\"marker\":{\"colorbar\":{\"outlinewidth\":0,\"ticks\":\"\"}}}],\"scatter3d\":[{\"type\":\"scatter3d\",\"line\":{\"colorbar\":{\"outlinewidth\":0,\"ticks\":\"\"}},\"marker\":{\"colorbar\":{\"outlinewidth\":0,\"ticks\":\"\"}}}],\"scattermapbox\":[{\"type\":\"scattermapbox\",\"marker\":{\"colorbar\":{\"outlinewidth\":0,\"ticks\":\"\"}}}],\"scatterternary\":[{\"type\":\"scatterternary\",\"marker\":{\"colorbar\":{\"outlinewidth\":0,\"ticks\":\"\"}}}],\"scattercarpet\":[{\"type\":\"scattercarpet\",\"marker\":{\"colorbar\":{\"outlinewidth\":0,\"ticks\":\"\"}}}],\"carpet\":[{\"aaxis\":{\"endlinecolor\":\"#2a3f5f\",\"gridcolor\":\"white\",\"linecolor\":\"white\",\"minorgridcolor\":\"white\",\"startlinecolor\":\"#2a3f5f\"},\"baxis\":{\"endlinecolor\":\"#2a3f5f\",\"gridcolor\":\"white\",\"linecolor\":\"white\",\"minorgridcolor\":\"white\",\"startlinecolor\":\"#2a3f5f\"},\"type\":\"carpet\"}],\"table\":[{\"cells\":{\"fill\":{\"color\":\"#EBF0F8\"},\"line\":{\"color\":\"white\"}},\"header\":{\"fill\":{\"color\":\"#C8D4E3\"},\"line\":{\"color\":\"white\"}},\"type\":\"table\"}],\"barpolar\":[{\"marker\":{\"line\":{\"color\":\"#E5ECF6\",\"width\":0.5},\"pattern\":{\"fillmode\":\"overlay\",\"size\":10,\"solidity\":0.2}},\"type\":\"barpolar\"}],\"pie\":[{\"automargin\":true,\"type\":\"pie\"}]},\"layout\":{\"autotypenumbers\":\"strict\",\"colorway\":[\"#636efa\",\"#EF553B\",\"#00cc96\",\"#ab63fa\",\"#FFA15A\",\"#19d3f3\",\"#FF6692\",\"#B6E880\",\"#FF97FF\",\"#FECB52\"],\"font\":{\"color\":\"#2a3f5f\"},\"hovermode\":\"closest\",\"hoverlabel\":{\"align\":\"left\"},\"paper_bgcolor\":\"white\",\"plot_bgcolor\":\"#E5ECF6\",\"polar\":{\"bgcolor\":\"#E5ECF6\",\"angularaxis\":{\"gridcolor\":\"white\",\"linecolor\":\"white\",\"ticks\":\"\"},\"radialaxis\":{\"gridcolor\":\"white\",\"linecolor\":\"white\",\"ticks\":\"\"}},\"ternary\":{\"bgcolor\":\"#E5ECF6\",\"aaxis\":{\"gridcolor\":\"white\",\"linecolor\":\"white\",\"ticks\":\"\"},\"baxis\":{\"gridcolor\":\"white\",\"linecolor\":\"white\",\"ticks\":\"\"},\"caxis\":{\"gridcolor\":\"white\",\"linecolor\":\"white\",\"ticks\":\"\"}},\"coloraxis\":{\"colorbar\":{\"outlinewidth\":0,\"ticks\":\"\"}},\"colorscale\":{\"sequential\":[[0.0,\"#0d0887\"],[0.1111111111111111,\"#46039f\"],[0.2222222222222222,\"#7201a8\"],[0.3333333333333333,\"#9c179e\"],[0.4444444444444444,\"#bd3786\"],[0.5555555555555556,\"#d8576b\"],[0.6666666666666666,\"#ed7953\"],[0.7777777777777778,\"#fb9f3a\"],[0.8888888888888888,\"#fdca26\"],[1.0,\"#f0f921\"]],\"sequentialminus\":[[0.0,\"#0d0887\"],[0.1111111111111111,\"#46039f\"],[0.2222222222222222,\"#7201a8\"],[0.3333333333333333,\"#9c179e\"],[0.4444444444444444,\"#bd3786\"],[0.5555555555555556,\"#d8576b\"],[0.6666666666666666,\"#ed7953\"],[0.7777777777777778,\"#fb9f3a\"],[0.8888888888888888,\"#fdca26\"],[1.0,\"#f0f921\"]],\"diverging\":[[0,\"#8e0152\"],[0.1,\"#c51b7d\"],[0.2,\"#de77ae\"],[0.3,\"#f1b6da\"],[0.4,\"#fde0ef\"],[0.5,\"#f7f7f7\"],[0.6,\"#e6f5d0\"],[0.7,\"#b8e186\"],[0.8,\"#7fbc41\"],[0.9,\"#4d9221\"],[1,\"#276419\"]]},\"xaxis\":{\"gridcolor\":\"white\",\"linecolor\":\"white\",\"ticks\":\"\",\"title\":{\"standoff\":15},\"zerolinecolor\":\"white\",\"automargin\":true,\"zerolinewidth\":2},\"yaxis\":{\"gridcolor\":\"white\",\"linecolor\":\"white\",\"ticks\":\"\",\"title\":{\"standoff\":15},\"zerolinecolor\":\"white\",\"automargin\":true,\"zerolinewidth\":2},\"scene\":{\"xaxis\":{\"backgroundcolor\":\"#E5ECF6\",\"gridcolor\":\"white\",\"linecolor\":\"white\",\"showbackground\":true,\"ticks\":\"\",\"zerolinecolor\":\"white\",\"gridwidth\":2},\"yaxis\":{\"backgroundcolor\":\"#E5ECF6\",\"gridcolor\":\"white\",\"linecolor\":\"white\",\"showbackground\":true,\"ticks\":\"\",\"zerolinecolor\":\"white\",\"gridwidth\":2},\"zaxis\":{\"backgroundcolor\":\"#E5ECF6\",\"gridcolor\":\"white\",\"linecolor\":\"white\",\"showbackground\":true,\"ticks\":\"\",\"zerolinecolor\":\"white\",\"gridwidth\":2}},\"shapedefaults\":{\"line\":{\"color\":\"#2a3f5f\"}},\"annotationdefaults\":{\"arrowcolor\":\"#2a3f5f\",\"arrowhead\":0,\"arrowwidth\":1},\"geo\":{\"bgcolor\":\"white\",\"landcolor\":\"#E5ECF6\",\"subunitcolor\":\"white\",\"showland\":true,\"showlakes\":true,\"lakecolor\":\"white\"},\"title\":{\"x\":0.05},\"mapbox\":{\"style\":\"light\"}}},\"xaxis\":{\"anchor\":\"y\",\"domain\":[0.0,0.7363],\"title\":{\"text\":\"Survived\"}},\"yaxis\":{\"anchor\":\"x\",\"domain\":[0.0,0.8316],\"title\":{\"text\":\"Fare\"}},\"xaxis2\":{\"anchor\":\"y2\",\"domain\":[0.7413,1.0],\"matches\":\"x2\",\"showticklabels\":false,\"showline\":false,\"ticks\":\"\",\"showgrid\":true},\"yaxis2\":{\"anchor\":\"x2\",\"domain\":[0.0,0.8316],\"matches\":\"y\",\"showticklabels\":false,\"showgrid\":true},\"xaxis3\":{\"anchor\":\"y3\",\"domain\":[0.0,0.7363],\"matches\":\"x\",\"showticklabels\":false,\"showgrid\":true},\"yaxis3\":{\"anchor\":\"x3\",\"domain\":[0.8416,1.0],\"matches\":\"y3\",\"showticklabels\":false,\"showline\":false,\"ticks\":\"\",\"showgrid\":false},\"xaxis4\":{\"anchor\":\"y4\",\"domain\":[0.7413,1.0],\"matches\":\"x2\",\"showticklabels\":false,\"showgrid\":true,\"showline\":false,\"ticks\":\"\"},\"yaxis4\":{\"anchor\":\"x4\",\"domain\":[0.8416,1.0],\"matches\":\"y3\",\"showticklabels\":false,\"showline\":false,\"ticks\":\"\",\"showgrid\":true},\"coloraxis\":{\"colorbar\":{\"title\":{\"text\":\"count\"}},\"colorscale\":[[0.0,\"#0d0887\"],[0.1111111111111111,\"#46039f\"],[0.2222222222222222,\"#7201a8\"],[0.3333333333333333,\"#9c179e\"],[0.4444444444444444,\"#bd3786\"],[0.5555555555555556,\"#d8576b\"],[0.6666666666666666,\"#ed7953\"],[0.7777777777777778,\"#fb9f3a\"],[0.8888888888888888,\"#fdca26\"],[1.0,\"#f0f921\"]]},\"legend\":{\"tracegroupgap\":0},\"margin\":{\"t\":60},\"barmode\":\"overlay\"},                        {\"responsive\": true}                    ).then(function(){\n",
              "                            \n",
              "var gd = document.getElementById('f8728a00-bb69-4192-9659-17b32c3c668a');\n",
              "var x = new MutationObserver(function (mutations, observer) {{\n",
              "        var display = window.getComputedStyle(gd).display;\n",
              "        if (!display || display === 'none') {{\n",
              "            console.log([gd, 'removed!']);\n",
              "            Plotly.purge(gd);\n",
              "            observer.disconnect();\n",
              "        }}\n",
              "}});\n",
              "\n",
              "// Listen for the removal of the full notebook cells\n",
              "var notebookContainer = gd.closest('#notebook-container');\n",
              "if (notebookContainer) {{\n",
              "    x.observe(notebookContainer, {childList: true});\n",
              "}}\n",
              "\n",
              "// Listen for the clearing of the current output cell\n",
              "var outputEl = gd.closest('.output');\n",
              "if (outputEl) {{\n",
              "    x.observe(outputEl, {childList: true});\n",
              "}}\n",
              "\n",
              "                        })                };                            </script>        </div>\n",
              "</body>\n",
              "</html>"
            ]
          },
          "metadata": {}
        }
      ]
    },
    {
      "cell_type": "markdown",
      "source": [
        "#ENCODING"
      ],
      "metadata": {
        "id": "LVsCi21Ilx5B"
      }
    },
    {
      "cell_type": "code",
      "source": [
        "df = pd.get_dummies(df, columns=['Embarked', 'Sex']) # if multi features\n",
        "df.drop(['PassengerId','Cabin','Name','Ticket'],axis=1,inplace=True)\n",
        "df"
      ],
      "metadata": {
        "colab": {
          "base_uri": "https://localhost:8080/",
          "height": 0
        },
        "id": "fXnstRQFRM0t",
        "outputId": "1051a00e-bdcc-4d80-ada0-e0ca4d2c6597"
      },
      "execution_count": 549,
      "outputs": [
        {
          "output_type": "execute_result",
          "data": {
            "text/plain": [
              "     Survived  Pclass   Age  SibSp  Parch     Fare  Embarked_C  Embarked_Q  \\\n",
              "0           0       3  22.0      1      0   7.2500           0           0   \n",
              "1           1       1  38.0      1      0  71.2833           1           0   \n",
              "2           1       3  26.0      0      0   7.9250           0           0   \n",
              "3           1       1  35.0      1      0  53.1000           0           0   \n",
              "4           0       3  35.0      0      0   8.0500           0           0   \n",
              "..        ...     ...   ...    ...    ...      ...         ...         ...   \n",
              "886         0       2  27.0      0      0  13.0000           0           0   \n",
              "887         1       1  19.0      0      0  30.0000           0           0   \n",
              "888         0       3   NaN      1      2  23.4500           0           0   \n",
              "889         1       1  26.0      0      0  30.0000           1           0   \n",
              "890         0       3  32.0      0      0   7.7500           0           1   \n",
              "\n",
              "     Embarked_S  Sex_female  Sex_male  \n",
              "0             1           0         1  \n",
              "1             0           1         0  \n",
              "2             1           1         0  \n",
              "3             1           1         0  \n",
              "4             1           0         1  \n",
              "..          ...         ...       ...  \n",
              "886           1           0         1  \n",
              "887           1           1         0  \n",
              "888           1           1         0  \n",
              "889           0           0         1  \n",
              "890           0           0         1  \n",
              "\n",
              "[891 rows x 11 columns]"
            ],
            "text/html": [
              "\n",
              "  <div id=\"df-e04a4e48-5a94-4c65-b320-0d573af01a1c\" class=\"colab-df-container\">\n",
              "    <div>\n",
              "<style scoped>\n",
              "    .dataframe tbody tr th:only-of-type {\n",
              "        vertical-align: middle;\n",
              "    }\n",
              "\n",
              "    .dataframe tbody tr th {\n",
              "        vertical-align: top;\n",
              "    }\n",
              "\n",
              "    .dataframe thead th {\n",
              "        text-align: right;\n",
              "    }\n",
              "</style>\n",
              "<table border=\"1\" class=\"dataframe\">\n",
              "  <thead>\n",
              "    <tr style=\"text-align: right;\">\n",
              "      <th></th>\n",
              "      <th>Survived</th>\n",
              "      <th>Pclass</th>\n",
              "      <th>Age</th>\n",
              "      <th>SibSp</th>\n",
              "      <th>Parch</th>\n",
              "      <th>Fare</th>\n",
              "      <th>Embarked_C</th>\n",
              "      <th>Embarked_Q</th>\n",
              "      <th>Embarked_S</th>\n",
              "      <th>Sex_female</th>\n",
              "      <th>Sex_male</th>\n",
              "    </tr>\n",
              "  </thead>\n",
              "  <tbody>\n",
              "    <tr>\n",
              "      <th>0</th>\n",
              "      <td>0</td>\n",
              "      <td>3</td>\n",
              "      <td>22.0</td>\n",
              "      <td>1</td>\n",
              "      <td>0</td>\n",
              "      <td>7.2500</td>\n",
              "      <td>0</td>\n",
              "      <td>0</td>\n",
              "      <td>1</td>\n",
              "      <td>0</td>\n",
              "      <td>1</td>\n",
              "    </tr>\n",
              "    <tr>\n",
              "      <th>1</th>\n",
              "      <td>1</td>\n",
              "      <td>1</td>\n",
              "      <td>38.0</td>\n",
              "      <td>1</td>\n",
              "      <td>0</td>\n",
              "      <td>71.2833</td>\n",
              "      <td>1</td>\n",
              "      <td>0</td>\n",
              "      <td>0</td>\n",
              "      <td>1</td>\n",
              "      <td>0</td>\n",
              "    </tr>\n",
              "    <tr>\n",
              "      <th>2</th>\n",
              "      <td>1</td>\n",
              "      <td>3</td>\n",
              "      <td>26.0</td>\n",
              "      <td>0</td>\n",
              "      <td>0</td>\n",
              "      <td>7.9250</td>\n",
              "      <td>0</td>\n",
              "      <td>0</td>\n",
              "      <td>1</td>\n",
              "      <td>1</td>\n",
              "      <td>0</td>\n",
              "    </tr>\n",
              "    <tr>\n",
              "      <th>3</th>\n",
              "      <td>1</td>\n",
              "      <td>1</td>\n",
              "      <td>35.0</td>\n",
              "      <td>1</td>\n",
              "      <td>0</td>\n",
              "      <td>53.1000</td>\n",
              "      <td>0</td>\n",
              "      <td>0</td>\n",
              "      <td>1</td>\n",
              "      <td>1</td>\n",
              "      <td>0</td>\n",
              "    </tr>\n",
              "    <tr>\n",
              "      <th>4</th>\n",
              "      <td>0</td>\n",
              "      <td>3</td>\n",
              "      <td>35.0</td>\n",
              "      <td>0</td>\n",
              "      <td>0</td>\n",
              "      <td>8.0500</td>\n",
              "      <td>0</td>\n",
              "      <td>0</td>\n",
              "      <td>1</td>\n",
              "      <td>0</td>\n",
              "      <td>1</td>\n",
              "    </tr>\n",
              "    <tr>\n",
              "      <th>...</th>\n",
              "      <td>...</td>\n",
              "      <td>...</td>\n",
              "      <td>...</td>\n",
              "      <td>...</td>\n",
              "      <td>...</td>\n",
              "      <td>...</td>\n",
              "      <td>...</td>\n",
              "      <td>...</td>\n",
              "      <td>...</td>\n",
              "      <td>...</td>\n",
              "      <td>...</td>\n",
              "    </tr>\n",
              "    <tr>\n",
              "      <th>886</th>\n",
              "      <td>0</td>\n",
              "      <td>2</td>\n",
              "      <td>27.0</td>\n",
              "      <td>0</td>\n",
              "      <td>0</td>\n",
              "      <td>13.0000</td>\n",
              "      <td>0</td>\n",
              "      <td>0</td>\n",
              "      <td>1</td>\n",
              "      <td>0</td>\n",
              "      <td>1</td>\n",
              "    </tr>\n",
              "    <tr>\n",
              "      <th>887</th>\n",
              "      <td>1</td>\n",
              "      <td>1</td>\n",
              "      <td>19.0</td>\n",
              "      <td>0</td>\n",
              "      <td>0</td>\n",
              "      <td>30.0000</td>\n",
              "      <td>0</td>\n",
              "      <td>0</td>\n",
              "      <td>1</td>\n",
              "      <td>1</td>\n",
              "      <td>0</td>\n",
              "    </tr>\n",
              "    <tr>\n",
              "      <th>888</th>\n",
              "      <td>0</td>\n",
              "      <td>3</td>\n",
              "      <td>NaN</td>\n",
              "      <td>1</td>\n",
              "      <td>2</td>\n",
              "      <td>23.4500</td>\n",
              "      <td>0</td>\n",
              "      <td>0</td>\n",
              "      <td>1</td>\n",
              "      <td>1</td>\n",
              "      <td>0</td>\n",
              "    </tr>\n",
              "    <tr>\n",
              "      <th>889</th>\n",
              "      <td>1</td>\n",
              "      <td>1</td>\n",
              "      <td>26.0</td>\n",
              "      <td>0</td>\n",
              "      <td>0</td>\n",
              "      <td>30.0000</td>\n",
              "      <td>1</td>\n",
              "      <td>0</td>\n",
              "      <td>0</td>\n",
              "      <td>0</td>\n",
              "      <td>1</td>\n",
              "    </tr>\n",
              "    <tr>\n",
              "      <th>890</th>\n",
              "      <td>0</td>\n",
              "      <td>3</td>\n",
              "      <td>32.0</td>\n",
              "      <td>0</td>\n",
              "      <td>0</td>\n",
              "      <td>7.7500</td>\n",
              "      <td>0</td>\n",
              "      <td>1</td>\n",
              "      <td>0</td>\n",
              "      <td>0</td>\n",
              "      <td>1</td>\n",
              "    </tr>\n",
              "  </tbody>\n",
              "</table>\n",
              "<p>891 rows × 11 columns</p>\n",
              "</div>\n",
              "    <div class=\"colab-df-buttons\">\n",
              "\n",
              "  <div class=\"colab-df-container\">\n",
              "    <button class=\"colab-df-convert\" onclick=\"convertToInteractive('df-e04a4e48-5a94-4c65-b320-0d573af01a1c')\"\n",
              "            title=\"Convert this dataframe to an interactive table.\"\n",
              "            style=\"display:none;\">\n",
              "\n",
              "  <svg xmlns=\"http://www.w3.org/2000/svg\" height=\"24px\" viewBox=\"0 -960 960 960\">\n",
              "    <path d=\"M120-120v-720h720v720H120Zm60-500h600v-160H180v160Zm220 220h160v-160H400v160Zm0 220h160v-160H400v160ZM180-400h160v-160H180v160Zm440 0h160v-160H620v160ZM180-180h160v-160H180v160Zm440 0h160v-160H620v160Z\"/>\n",
              "  </svg>\n",
              "    </button>\n",
              "\n",
              "  <style>\n",
              "    .colab-df-container {\n",
              "      display:flex;\n",
              "      gap: 12px;\n",
              "    }\n",
              "\n",
              "    .colab-df-convert {\n",
              "      background-color: #E8F0FE;\n",
              "      border: none;\n",
              "      border-radius: 50%;\n",
              "      cursor: pointer;\n",
              "      display: none;\n",
              "      fill: #1967D2;\n",
              "      height: 32px;\n",
              "      padding: 0 0 0 0;\n",
              "      width: 32px;\n",
              "    }\n",
              "\n",
              "    .colab-df-convert:hover {\n",
              "      background-color: #E2EBFA;\n",
              "      box-shadow: 0px 1px 2px rgba(60, 64, 67, 0.3), 0px 1px 3px 1px rgba(60, 64, 67, 0.15);\n",
              "      fill: #174EA6;\n",
              "    }\n",
              "\n",
              "    .colab-df-buttons div {\n",
              "      margin-bottom: 4px;\n",
              "    }\n",
              "\n",
              "    [theme=dark] .colab-df-convert {\n",
              "      background-color: #3B4455;\n",
              "      fill: #D2E3FC;\n",
              "    }\n",
              "\n",
              "    [theme=dark] .colab-df-convert:hover {\n",
              "      background-color: #434B5C;\n",
              "      box-shadow: 0px 1px 3px 1px rgba(0, 0, 0, 0.15);\n",
              "      filter: drop-shadow(0px 1px 2px rgba(0, 0, 0, 0.3));\n",
              "      fill: #FFFFFF;\n",
              "    }\n",
              "  </style>\n",
              "\n",
              "    <script>\n",
              "      const buttonEl =\n",
              "        document.querySelector('#df-e04a4e48-5a94-4c65-b320-0d573af01a1c button.colab-df-convert');\n",
              "      buttonEl.style.display =\n",
              "        google.colab.kernel.accessAllowed ? 'block' : 'none';\n",
              "\n",
              "      async function convertToInteractive(key) {\n",
              "        const element = document.querySelector('#df-e04a4e48-5a94-4c65-b320-0d573af01a1c');\n",
              "        const dataTable =\n",
              "          await google.colab.kernel.invokeFunction('convertToInteractive',\n",
              "                                                    [key], {});\n",
              "        if (!dataTable) return;\n",
              "\n",
              "        const docLinkHtml = 'Like what you see? Visit the ' +\n",
              "          '<a target=\"_blank\" href=https://colab.research.google.com/notebooks/data_table.ipynb>data table notebook</a>'\n",
              "          + ' to learn more about interactive tables.';\n",
              "        element.innerHTML = '';\n",
              "        dataTable['output_type'] = 'display_data';\n",
              "        await google.colab.output.renderOutput(dataTable, element);\n",
              "        const docLink = document.createElement('div');\n",
              "        docLink.innerHTML = docLinkHtml;\n",
              "        element.appendChild(docLink);\n",
              "      }\n",
              "    </script>\n",
              "  </div>\n",
              "\n",
              "\n",
              "<div id=\"df-a373f293-47c6-49b4-bc0a-34c2db9f4868\">\n",
              "  <button class=\"colab-df-quickchart\" onclick=\"quickchart('df-a373f293-47c6-49b4-bc0a-34c2db9f4868')\"\n",
              "            title=\"Suggest charts\"\n",
              "            style=\"display:none;\">\n",
              "\n",
              "<svg xmlns=\"http://www.w3.org/2000/svg\" height=\"24px\"viewBox=\"0 0 24 24\"\n",
              "     width=\"24px\">\n",
              "    <g>\n",
              "        <path d=\"M19 3H5c-1.1 0-2 .9-2 2v14c0 1.1.9 2 2 2h14c1.1 0 2-.9 2-2V5c0-1.1-.9-2-2-2zM9 17H7v-7h2v7zm4 0h-2V7h2v10zm4 0h-2v-4h2v4z\"/>\n",
              "    </g>\n",
              "</svg>\n",
              "  </button>\n",
              "\n",
              "<style>\n",
              "  .colab-df-quickchart {\n",
              "      --bg-color: #E8F0FE;\n",
              "      --fill-color: #1967D2;\n",
              "      --hover-bg-color: #E2EBFA;\n",
              "      --hover-fill-color: #174EA6;\n",
              "      --disabled-fill-color: #AAA;\n",
              "      --disabled-bg-color: #DDD;\n",
              "  }\n",
              "\n",
              "  [theme=dark] .colab-df-quickchart {\n",
              "      --bg-color: #3B4455;\n",
              "      --fill-color: #D2E3FC;\n",
              "      --hover-bg-color: #434B5C;\n",
              "      --hover-fill-color: #FFFFFF;\n",
              "      --disabled-bg-color: #3B4455;\n",
              "      --disabled-fill-color: #666;\n",
              "  }\n",
              "\n",
              "  .colab-df-quickchart {\n",
              "    background-color: var(--bg-color);\n",
              "    border: none;\n",
              "    border-radius: 50%;\n",
              "    cursor: pointer;\n",
              "    display: none;\n",
              "    fill: var(--fill-color);\n",
              "    height: 32px;\n",
              "    padding: 0;\n",
              "    width: 32px;\n",
              "  }\n",
              "\n",
              "  .colab-df-quickchart:hover {\n",
              "    background-color: var(--hover-bg-color);\n",
              "    box-shadow: 0 1px 2px rgba(60, 64, 67, 0.3), 0 1px 3px 1px rgba(60, 64, 67, 0.15);\n",
              "    fill: var(--button-hover-fill-color);\n",
              "  }\n",
              "\n",
              "  .colab-df-quickchart-complete:disabled,\n",
              "  .colab-df-quickchart-complete:disabled:hover {\n",
              "    background-color: var(--disabled-bg-color);\n",
              "    fill: var(--disabled-fill-color);\n",
              "    box-shadow: none;\n",
              "  }\n",
              "\n",
              "  .colab-df-spinner {\n",
              "    border: 2px solid var(--fill-color);\n",
              "    border-color: transparent;\n",
              "    border-bottom-color: var(--fill-color);\n",
              "    animation:\n",
              "      spin 1s steps(1) infinite;\n",
              "  }\n",
              "\n",
              "  @keyframes spin {\n",
              "    0% {\n",
              "      border-color: transparent;\n",
              "      border-bottom-color: var(--fill-color);\n",
              "      border-left-color: var(--fill-color);\n",
              "    }\n",
              "    20% {\n",
              "      border-color: transparent;\n",
              "      border-left-color: var(--fill-color);\n",
              "      border-top-color: var(--fill-color);\n",
              "    }\n",
              "    30% {\n",
              "      border-color: transparent;\n",
              "      border-left-color: var(--fill-color);\n",
              "      border-top-color: var(--fill-color);\n",
              "      border-right-color: var(--fill-color);\n",
              "    }\n",
              "    40% {\n",
              "      border-color: transparent;\n",
              "      border-right-color: var(--fill-color);\n",
              "      border-top-color: var(--fill-color);\n",
              "    }\n",
              "    60% {\n",
              "      border-color: transparent;\n",
              "      border-right-color: var(--fill-color);\n",
              "    }\n",
              "    80% {\n",
              "      border-color: transparent;\n",
              "      border-right-color: var(--fill-color);\n",
              "      border-bottom-color: var(--fill-color);\n",
              "    }\n",
              "    90% {\n",
              "      border-color: transparent;\n",
              "      border-bottom-color: var(--fill-color);\n",
              "    }\n",
              "  }\n",
              "</style>\n",
              "\n",
              "  <script>\n",
              "    async function quickchart(key) {\n",
              "      const quickchartButtonEl =\n",
              "        document.querySelector('#' + key + ' button');\n",
              "      quickchartButtonEl.disabled = true;  // To prevent multiple clicks.\n",
              "      quickchartButtonEl.classList.add('colab-df-spinner');\n",
              "      try {\n",
              "        const charts = await google.colab.kernel.invokeFunction(\n",
              "            'suggestCharts', [key], {});\n",
              "      } catch (error) {\n",
              "        console.error('Error during call to suggestCharts:', error);\n",
              "      }\n",
              "      quickchartButtonEl.classList.remove('colab-df-spinner');\n",
              "      quickchartButtonEl.classList.add('colab-df-quickchart-complete');\n",
              "    }\n",
              "    (() => {\n",
              "      let quickchartButtonEl =\n",
              "        document.querySelector('#df-a373f293-47c6-49b4-bc0a-34c2db9f4868 button');\n",
              "      quickchartButtonEl.style.display =\n",
              "        google.colab.kernel.accessAllowed ? 'block' : 'none';\n",
              "    })();\n",
              "  </script>\n",
              "</div>\n",
              "\n",
              "  <div id=\"id_d2c54588-227c-4778-9578-8b5400b87a7c\">\n",
              "    <style>\n",
              "      .colab-df-generate {\n",
              "        background-color: #E8F0FE;\n",
              "        border: none;\n",
              "        border-radius: 50%;\n",
              "        cursor: pointer;\n",
              "        display: none;\n",
              "        fill: #1967D2;\n",
              "        height: 32px;\n",
              "        padding: 0 0 0 0;\n",
              "        width: 32px;\n",
              "      }\n",
              "\n",
              "      .colab-df-generate:hover {\n",
              "        background-color: #E2EBFA;\n",
              "        box-shadow: 0px 1px 2px rgba(60, 64, 67, 0.3), 0px 1px 3px 1px rgba(60, 64, 67, 0.15);\n",
              "        fill: #174EA6;\n",
              "      }\n",
              "\n",
              "      [theme=dark] .colab-df-generate {\n",
              "        background-color: #3B4455;\n",
              "        fill: #D2E3FC;\n",
              "      }\n",
              "\n",
              "      [theme=dark] .colab-df-generate:hover {\n",
              "        background-color: #434B5C;\n",
              "        box-shadow: 0px 1px 3px 1px rgba(0, 0, 0, 0.15);\n",
              "        filter: drop-shadow(0px 1px 2px rgba(0, 0, 0, 0.3));\n",
              "        fill: #FFFFFF;\n",
              "      }\n",
              "    </style>\n",
              "    <button class=\"colab-df-generate\" onclick=\"generateWithVariable('df')\"\n",
              "            title=\"Generate code using this dataframe.\"\n",
              "            style=\"display:none;\">\n",
              "\n",
              "  <svg xmlns=\"http://www.w3.org/2000/svg\" height=\"24px\"viewBox=\"0 0 24 24\"\n",
              "       width=\"24px\">\n",
              "    <path d=\"M7,19H8.4L18.45,9,17,7.55,7,17.6ZM5,21V16.75L18.45,3.32a2,2,0,0,1,2.83,0l1.4,1.43a1.91,1.91,0,0,1,.58,1.4,1.91,1.91,0,0,1-.58,1.4L9.25,21ZM18.45,9,17,7.55Zm-12,3A5.31,5.31,0,0,0,4.9,8.1,5.31,5.31,0,0,0,1,6.5,5.31,5.31,0,0,0,4.9,4.9,5.31,5.31,0,0,0,6.5,1,5.31,5.31,0,0,0,8.1,4.9,5.31,5.31,0,0,0,12,6.5,5.46,5.46,0,0,0,6.5,12Z\"/>\n",
              "  </svg>\n",
              "    </button>\n",
              "    <script>\n",
              "      (() => {\n",
              "      const buttonEl =\n",
              "        document.querySelector('#id_d2c54588-227c-4778-9578-8b5400b87a7c button.colab-df-generate');\n",
              "      buttonEl.style.display =\n",
              "        google.colab.kernel.accessAllowed ? 'block' : 'none';\n",
              "\n",
              "      buttonEl.onclick = () => {\n",
              "        google.colab.notebook.generateWithVariable('df');\n",
              "      }\n",
              "      })();\n",
              "    </script>\n",
              "  </div>\n",
              "\n",
              "    </div>\n",
              "  </div>\n"
            ]
          },
          "metadata": {},
          "execution_count": 549
        }
      ]
    },
    {
      "cell_type": "markdown",
      "source": [
        "#EDA"
      ],
      "metadata": {
        "id": "atVjABLZmMQI"
      }
    },
    {
      "cell_type": "code",
      "source": [
        "df.isnull().sum()"
      ],
      "metadata": {
        "colab": {
          "base_uri": "https://localhost:8080/"
        },
        "id": "6VCnQoWxWaz_",
        "outputId": "a5609e6a-49fe-4e6b-d98d-58240faeed98"
      },
      "execution_count": 550,
      "outputs": [
        {
          "output_type": "execute_result",
          "data": {
            "text/plain": [
              "Survived        0\n",
              "Pclass          0\n",
              "Age           177\n",
              "SibSp           0\n",
              "Parch           0\n",
              "Fare            0\n",
              "Embarked_C      0\n",
              "Embarked_Q      0\n",
              "Embarked_S      0\n",
              "Sex_female      0\n",
              "Sex_male        0\n",
              "dtype: int64"
            ]
          },
          "metadata": {},
          "execution_count": 550
        }
      ]
    },
    {
      "cell_type": "code",
      "source": [
        "df.dropna(inplace=True)"
      ],
      "metadata": {
        "id": "m2ehsjpCWa2a"
      },
      "execution_count": 551,
      "outputs": []
    },
    {
      "cell_type": "code",
      "source": [
        "df.isnull().sum()"
      ],
      "metadata": {
        "colab": {
          "base_uri": "https://localhost:8080/"
        },
        "id": "H-YdXOUZWwZG",
        "outputId": "33c6fc47-c28c-4755-c3b3-839e3101afe6"
      },
      "execution_count": 552,
      "outputs": [
        {
          "output_type": "execute_result",
          "data": {
            "text/plain": [
              "Survived      0\n",
              "Pclass        0\n",
              "Age           0\n",
              "SibSp         0\n",
              "Parch         0\n",
              "Fare          0\n",
              "Embarked_C    0\n",
              "Embarked_Q    0\n",
              "Embarked_S    0\n",
              "Sex_female    0\n",
              "Sex_male      0\n",
              "dtype: int64"
            ]
          },
          "metadata": {},
          "execution_count": 552
        }
      ]
    },
    {
      "cell_type": "markdown",
      "source": [
        "#SPLIT_DATA"
      ],
      "metadata": {
        "id": "KkC48rOqHF_a"
      }
    },
    {
      "cell_type": "code",
      "source": [
        "x=df.loc[:,df.columns != 'Survived']\n",
        "y=df['Survived']"
      ],
      "metadata": {
        "id": "99lUbq11_Vk_"
      },
      "execution_count": 553,
      "outputs": []
    },
    {
      "cell_type": "code",
      "source": [
        "x_train,x_test,y_train,y_test=train_test_split(x,y,test_size=.2,random_state=42)\n",
        "x_train,x_valid,y_train,y_valid=train_test_split(x_train,y_train,test_size=.2,random_state=42)"
      ],
      "metadata": {
        "id": "u-KjfcaYR3yF"
      },
      "execution_count": 554,
      "outputs": []
    },
    {
      "cell_type": "markdown",
      "source": [
        "##APPLY_MODEL"
      ],
      "metadata": {
        "id": "HvR3WDVyQQCU"
      }
    },
    {
      "cell_type": "code",
      "source": [
        "KNN = KNeighborsClassifier(algorithm='auto', leaf_size=30, metric='minkowski',\n",
        "                     metric_params=None, n_jobs=None, n_neighbors=5, p=2,\n",
        "                     weights='uniform')"
      ],
      "metadata": {
        "id": "BgCzdkpzQQCV"
      },
      "execution_count": 555,
      "outputs": []
    },
    {
      "cell_type": "code",
      "source": [
        "grid_params_KNN= { 'n_neighbors' : [5,7,9,11,13,15],\n",
        "               'weights' : ['uniform','distance'],\n",
        "               'metric' : ['minkowski','euclidean','manhattan']}"
      ],
      "metadata": {
        "id": "RqQG1WFaQQCV"
      },
      "execution_count": 556,
      "outputs": []
    },
    {
      "cell_type": "code",
      "source": [
        "GRID_SEARCH_N= GridSearchCV(KNN, grid_params_KNN, verbose = 1,n_jobs = -1)"
      ],
      "metadata": {
        "id": "jv5Hy30OQQCW"
      },
      "execution_count": 557,
      "outputs": []
    },
    {
      "cell_type": "code",
      "source": [
        "GRID_SEARCH_RESULT_N= GRID_SEARCH_N.fit(x_train, y_train)"
      ],
      "metadata": {
        "colab": {
          "base_uri": "https://localhost:8080/"
        },
        "outputId": "dd35cf02-abf1-47aa-dbe6-3b6ca6ecb286",
        "id": "OBb8KBMtQQCW"
      },
      "execution_count": 558,
      "outputs": [
        {
          "output_type": "stream",
          "name": "stdout",
          "text": [
            "Fitting 5 folds for each of 36 candidates, totalling 180 fits\n"
          ]
        }
      ]
    },
    {
      "cell_type": "code",
      "source": [
        "GRID_SEARCH_RESULT_N.best_score_*100"
      ],
      "metadata": {
        "colab": {
          "base_uri": "https://localhost:8080/"
        },
        "outputId": "c911304c-4cc9-4937-ed23-7a0b2bab1ddf",
        "id": "D4c12Vh6QQCW"
      },
      "execution_count": 559,
      "outputs": [
        {
          "output_type": "execute_result",
          "data": {
            "text/plain": [
              "74.5461060678452"
            ]
          },
          "metadata": {},
          "execution_count": 559
        }
      ]
    },
    {
      "cell_type": "code",
      "source": [
        "GRID_SEARCH_RESULT_N.best_params_"
      ],
      "metadata": {
        "colab": {
          "base_uri": "https://localhost:8080/"
        },
        "outputId": "a6094544-3a56-4e5a-ccee-f68bd04d13c0",
        "id": "iPATUBC3QQCX"
      },
      "execution_count": 560,
      "outputs": [
        {
          "output_type": "execute_result",
          "data": {
            "text/plain": [
              "{'metric': 'manhattan', 'n_neighbors': 9, 'weights': 'distance'}"
            ]
          },
          "metadata": {},
          "execution_count": 560
        }
      ]
    },
    {
      "cell_type": "code",
      "source": [
        "y_pred_N= GRID_SEARCH_N.predict(x_test)"
      ],
      "metadata": {
        "id": "u4GzQkvHQQCX"
      },
      "execution_count": 561,
      "outputs": []
    },
    {
      "cell_type": "code",
      "source": [
        "print(classification_report(y_test, y_pred_N))"
      ],
      "metadata": {
        "colab": {
          "base_uri": "https://localhost:8080/"
        },
        "outputId": "e6ba6bbd-a310-41b6-e9db-251871f65dcd",
        "id": "UYKwNm6tQQCY"
      },
      "execution_count": 562,
      "outputs": [
        {
          "output_type": "stream",
          "name": "stdout",
          "text": [
            "              precision    recall  f1-score   support\n",
            "\n",
            "           0       0.74      0.79      0.77        87\n",
            "           1       0.64      0.57      0.60        56\n",
            "\n",
            "    accuracy                           0.71       143\n",
            "   macro avg       0.69      0.68      0.69       143\n",
            "weighted avg       0.70      0.71      0.70       143\n",
            "\n"
          ]
        }
      ]
    },
    {
      "cell_type": "code",
      "source": [
        "ROC_N=roc_auc_score(y_test, y_pred_N)*100\n",
        "ROC_N"
      ],
      "metadata": {
        "colab": {
          "base_uri": "https://localhost:8080/"
        },
        "id": "y7MgL7MvQKZ4",
        "outputId": "a921ad1d-1c57-4e79-f232-083ab2610ed0"
      },
      "execution_count": 563,
      "outputs": [
        {
          "output_type": "execute_result",
          "data": {
            "text/plain": [
              "68.22660098522168"
            ]
          },
          "metadata": {},
          "execution_count": 563
        }
      ]
    },
    {
      "cell_type": "code",
      "source": [
        "score_test_N=accuracy_score(y_pred_N,y_test)*100\n",
        "print(\"Accuracy for our test dataset with tuning is : {:.2f}%\".format(score_test_N))\n",
        "recall_N=recall_score(y_pred_N,y_test)*100\n",
        "print(\"Recall for our test dataset with tuning is  : {:.2f}%\".format(recall_N))\n",
        "precesion_N=precision_score(y_pred_N,y_test)*100\n",
        "print(\"Precesion for our test dataset with tuning is  : {:.2f}%\".format(precesion_N))"
      ],
      "metadata": {
        "colab": {
          "base_uri": "https://localhost:8080/"
        },
        "id": "1Tn6A-glQKcs",
        "outputId": "275aa7b2-b67b-418d-85c1-f43993dc375f"
      },
      "execution_count": 564,
      "outputs": [
        {
          "output_type": "stream",
          "name": "stdout",
          "text": [
            "Accuracy for our test dataset with tuning is : 70.63%\n",
            "Recall for our test dataset with tuning is  : 64.00%\n",
            "Precesion for our test dataset with tuning is  : 57.14%\n"
          ]
        }
      ]
    },
    {
      "cell_type": "markdown",
      "source": [
        "#PEARSON_CORRELATION(F1_REGRESSION)_(CLASSIFICATION_REGRESSION)"
      ],
      "metadata": {
        "id": "uNxAQ66-Xw95"
      }
    },
    {
      "cell_type": "code",
      "source": [
        "FREG=SelectKBest(f_regression,k=8)\n",
        "FREG.fit(x_train ,y_train)\n",
        "\n",
        "x_train_F_REG=FREG.transform(x_train)\n",
        "x_valid_F_REG=FREG.transform(x_valid)\n",
        "x_test_F_REG=FREG.transform(x_test)\n",
        "\n",
        "# if you used a standard-scaler, the input will contain a negative values.\n",
        "# and chi-square not work with negative so, apply minmaxscaler() instead."
      ],
      "metadata": {
        "id": "n45KAzpixqF_"
      },
      "execution_count": 565,
      "outputs": []
    },
    {
      "cell_type": "markdown",
      "source": [
        "##SELECTED_FEATURES"
      ],
      "metadata": {
        "id": "WRMN0qovH8jx"
      }
    },
    {
      "cell_type": "code",
      "source": [
        "mask = FREG.get_support()\n",
        "mask"
      ],
      "metadata": {
        "id": "d3GlzYGLxqGA",
        "colab": {
          "base_uri": "https://localhost:8080/"
        },
        "outputId": "931c6ee5-158f-4d60-e8c2-7b74d724f319"
      },
      "execution_count": 566,
      "outputs": [
        {
          "output_type": "execute_result",
          "data": {
            "text/plain": [
              "array([ True,  True, False,  True,  True,  True, False,  True,  True,\n",
              "        True])"
            ]
          },
          "metadata": {},
          "execution_count": 566
        }
      ]
    },
    {
      "cell_type": "code",
      "source": [
        "selected_feature_names_F_REG = pd.DataFrame(x_train).columns[mask]\n",
        "selected_feature_names_F_REG"
      ],
      "metadata": {
        "id": "GPpN8CsPxqGB",
        "colab": {
          "base_uri": "https://localhost:8080/"
        },
        "outputId": "252f9aac-465d-41c7-b598-2db196311973"
      },
      "execution_count": 567,
      "outputs": [
        {
          "output_type": "execute_result",
          "data": {
            "text/plain": [
              "Index(['Pclass', 'Age', 'Parch', 'Fare', 'Embarked_C', 'Embarked_S',\n",
              "       'Sex_female', 'Sex_male'],\n",
              "      dtype='object')"
            ]
          },
          "metadata": {},
          "execution_count": 567
        }
      ]
    },
    {
      "cell_type": "code",
      "source": [
        "# fsm.get_feature_names_out()"
      ],
      "metadata": {
        "id": "AHJG_FIWxqGC"
      },
      "execution_count": 568,
      "outputs": []
    },
    {
      "cell_type": "markdown",
      "source": [
        "##APPLY_MODEL"
      ],
      "metadata": {
        "id": "alRNlv3XIFlo"
      }
    },
    {
      "cell_type": "code",
      "source": [
        "KNN = KNeighborsClassifier(algorithm='auto', leaf_size=30, metric='minkowski',\n",
        "                     metric_params=None, n_jobs=None, n_neighbors=5, p=2,\n",
        "                     weights='uniform')"
      ],
      "metadata": {
        "id": "3lwPPC_t8obn"
      },
      "execution_count": 569,
      "outputs": []
    },
    {
      "cell_type": "code",
      "source": [
        "grid_params_KNN= { 'n_neighbors' : [5,7,9,11,13,15],\n",
        "               'weights' : ['uniform','distance'],\n",
        "               'metric' : ['minkowski','euclidean','manhattan']}"
      ],
      "metadata": {
        "id": "Bd62KH0SqW01"
      },
      "execution_count": 570,
      "outputs": []
    },
    {
      "cell_type": "code",
      "source": [
        "GRID_SEARCH_REG= GridSearchCV(KNN, grid_params_KNN, verbose = 1,n_jobs = -1)"
      ],
      "metadata": {
        "id": "QoD4PeAEqW3z"
      },
      "execution_count": 571,
      "outputs": []
    },
    {
      "cell_type": "code",
      "source": [
        "GRID_SEARCH_RESULT_REG= GRID_SEARCH_REG.fit(x_train_F_REG, y_train)"
      ],
      "metadata": {
        "colab": {
          "base_uri": "https://localhost:8080/"
        },
        "id": "7dak-gjvqtq8",
        "outputId": "994af4c3-1ae9-4087-eff3-57da57b45f88"
      },
      "execution_count": 572,
      "outputs": [
        {
          "output_type": "stream",
          "name": "stdout",
          "text": [
            "Fitting 5 folds for each of 36 candidates, totalling 180 fits\n"
          ]
        }
      ]
    },
    {
      "cell_type": "code",
      "source": [
        "GRID_SEARCH_RESULT_REG.best_score_*100"
      ],
      "metadata": {
        "colab": {
          "base_uri": "https://localhost:8080/"
        },
        "id": "BVG_V-HFqW63",
        "outputId": "b4370049-dd5a-456e-df3b-cd188e1f6b9e"
      },
      "execution_count": 573,
      "outputs": [
        {
          "output_type": "execute_result",
          "data": {
            "text/plain": [
              "73.45437171524128"
            ]
          },
          "metadata": {},
          "execution_count": 573
        }
      ]
    },
    {
      "cell_type": "code",
      "source": [
        "GRID_SEARCH_RESULT_REG.best_params_"
      ],
      "metadata": {
        "colab": {
          "base_uri": "https://localhost:8080/"
        },
        "id": "6XGyQPbJq2l8",
        "outputId": "3c8df55f-6584-40ad-a779-a7bf15572083"
      },
      "execution_count": 574,
      "outputs": [
        {
          "output_type": "execute_result",
          "data": {
            "text/plain": [
              "{'metric': 'manhattan', 'n_neighbors': 9, 'weights': 'distance'}"
            ]
          },
          "metadata": {},
          "execution_count": 574
        }
      ]
    },
    {
      "cell_type": "code",
      "source": [
        "y_pred_REG= GRID_SEARCH_RESULT_REG.predict(x_test_F_REG)"
      ],
      "metadata": {
        "id": "Tww5oaPoq2o7"
      },
      "execution_count": 575,
      "outputs": []
    },
    {
      "cell_type": "code",
      "source": [
        "print(classification_report(y_test, y_pred_REG))"
      ],
      "metadata": {
        "colab": {
          "base_uri": "https://localhost:8080/"
        },
        "id": "F2bhgpEDq2r4",
        "outputId": "a7f7dc11-20a6-40c0-8a85-999f931fc18d"
      },
      "execution_count": 576,
      "outputs": [
        {
          "output_type": "stream",
          "name": "stdout",
          "text": [
            "              precision    recall  f1-score   support\n",
            "\n",
            "           0       0.74      0.79      0.77        87\n",
            "           1       0.64      0.57      0.60        56\n",
            "\n",
            "    accuracy                           0.71       143\n",
            "   macro avg       0.69      0.68      0.69       143\n",
            "weighted avg       0.70      0.71      0.70       143\n",
            "\n"
          ]
        }
      ]
    },
    {
      "cell_type": "code",
      "source": [
        "ROC_REG=roc_auc_score(y_test, y_pred_REG)*100\n",
        "ROC_REG"
      ],
      "metadata": {
        "colab": {
          "base_uri": "https://localhost:8080/"
        },
        "id": "ETmvpXhTRkwe",
        "outputId": "6765629a-caeb-4c7f-ab61-11a60b5fb29e"
      },
      "execution_count": 577,
      "outputs": [
        {
          "output_type": "execute_result",
          "data": {
            "text/plain": [
              "68.22660098522168"
            ]
          },
          "metadata": {},
          "execution_count": 577
        }
      ]
    },
    {
      "cell_type": "code",
      "source": [
        "score_test_F_REG=accuracy_score(y_pred_REG,y_test)*100\n",
        "print(\"Accuracy for our test dataset with tuning is F_REGRESSION : {:.2f}%\".format(score_test_F_REG))\n",
        "recall_F_REG=recall_score(y_pred_REG,y_test)*100\n",
        "print(\"Recall for our test dataset with tuning is F_REGRESSION : {:.2f}%\".format(recall_F_REG))\n",
        "precesion_F_REGL=precision_score(y_pred_REG,y_test)*100\n",
        "print(\"Precesion for our test dataset with tuning is F_REGRESSION : {:.2f}%\".format(precesion_F_REGL))"
      ],
      "metadata": {
        "colab": {
          "base_uri": "https://localhost:8080/"
        },
        "id": "dD0Ot-fRPZRS",
        "outputId": "c2a93305-ea66-433a-957d-64a108b8236b"
      },
      "execution_count": 578,
      "outputs": [
        {
          "output_type": "stream",
          "name": "stdout",
          "text": [
            "Accuracy for our test dataset with tuning is F_REGRESSION : 70.63%\n",
            "Recall for our test dataset with tuning is F_REGRESSION : 64.00%\n",
            "Precesion for our test dataset with tuning is F_REGRESSION : 57.14%\n"
          ]
        }
      ]
    },
    {
      "cell_type": "markdown",
      "source": [
        "#CHi-square(chi2)-(CLASSIFICATION_REGRESSION)"
      ],
      "metadata": {
        "id": "YBruOjO_XS0Z"
      }
    },
    {
      "cell_type": "code",
      "source": [
        "CHI2=SelectKBest(chi2,k=8)#K=8 MEAN BEST OF CORRELATION OF FEATURES SELECTED\n",
        "CHI2.fit(x_train ,y_train)\n",
        "x_train_selected_CHI2=CHI2.transform(x_train)\n",
        "x_valid_selected_CHI2=CHI2.transform(x_valid)\n",
        "x_test_selected_CHI2=CHI2.transform(x_test)\n",
        "\n",
        "# if you used a standard-scaler, the input will contain a negative values.\n",
        "# and chi-square not work with negative so, apply minmaxscaler() instead."
      ],
      "metadata": {
        "id": "thZfjQmsZb5J"
      },
      "execution_count": 579,
      "outputs": []
    },
    {
      "cell_type": "code",
      "source": [
        "mask = CHI2.get_support()\n",
        "mask"
      ],
      "metadata": {
        "colab": {
          "base_uri": "https://localhost:8080/"
        },
        "id": "7Ak60GKheKSP",
        "outputId": "5a03e42f-0211-4ee7-f433-f4079938f9b6"
      },
      "execution_count": 580,
      "outputs": [
        {
          "output_type": "execute_result",
          "data": {
            "text/plain": [
              "array([ True,  True, False,  True,  True,  True, False,  True,  True,\n",
              "        True])"
            ]
          },
          "metadata": {},
          "execution_count": 580
        }
      ]
    },
    {
      "cell_type": "code",
      "source": [
        "selected_feature_names_CHI2 = pd.DataFrame(x_train).columns[mask]\n",
        "selected_feature_names_CHI2"
      ],
      "metadata": {
        "colab": {
          "base_uri": "https://localhost:8080/"
        },
        "id": "jHJnZ96aePhv",
        "outputId": "f342f83b-04b7-47e0-dabb-36435f42238f"
      },
      "execution_count": 581,
      "outputs": [
        {
          "output_type": "execute_result",
          "data": {
            "text/plain": [
              "Index(['Pclass', 'Age', 'Parch', 'Fare', 'Embarked_C', 'Embarked_S',\n",
              "       'Sex_female', 'Sex_male'],\n",
              "      dtype='object')"
            ]
          },
          "metadata": {},
          "execution_count": 581
        }
      ]
    },
    {
      "cell_type": "markdown",
      "source": [
        "##APPLY_MODEL"
      ],
      "metadata": {
        "id": "rm68BSJjt6tg"
      }
    },
    {
      "cell_type": "code",
      "source": [
        "KNN = KNeighborsClassifier(algorithm='auto', leaf_size=30, metric='minkowski',\n",
        "                     metric_params=None, n_jobs=None, n_neighbors=5, p=2,\n",
        "                     weights='uniform')"
      ],
      "metadata": {
        "id": "p4W465AKt6tp"
      },
      "execution_count": 582,
      "outputs": []
    },
    {
      "cell_type": "code",
      "source": [
        "grid_params_KNN= { 'n_neighbors' : [5,7,9,11,13,15],\n",
        "               'weights' : ['uniform','distance'],\n",
        "               'metric' : ['minkowski','euclidean','manhattan']}"
      ],
      "metadata": {
        "id": "olbUetntt6tq"
      },
      "execution_count": 583,
      "outputs": []
    },
    {
      "cell_type": "code",
      "source": [
        "GRID_SEARCH_CHI2= GridSearchCV(KNN, grid_params_KNN, verbose = 1,n_jobs = -1)"
      ],
      "metadata": {
        "id": "AkVtC5Mtt6tq"
      },
      "execution_count": 584,
      "outputs": []
    },
    {
      "cell_type": "code",
      "source": [
        "GRID_SEARCH_RESULT_CHI2= GRID_SEARCH_CHI2.fit(x_train_selected_CHI2, y_train)"
      ],
      "metadata": {
        "colab": {
          "base_uri": "https://localhost:8080/"
        },
        "outputId": "3c45cde8-1ff8-41c5-f873-008b805ea97f",
        "id": "c3kgSepGt6tq"
      },
      "execution_count": 585,
      "outputs": [
        {
          "output_type": "stream",
          "name": "stdout",
          "text": [
            "Fitting 5 folds for each of 36 candidates, totalling 180 fits\n"
          ]
        }
      ]
    },
    {
      "cell_type": "code",
      "source": [
        "GRID_SEARCH_RESULT_CHI2.best_score_"
      ],
      "metadata": {
        "colab": {
          "base_uri": "https://localhost:8080/"
        },
        "outputId": "75819cdc-b75d-4664-afa7-6a3e3162a20a",
        "id": "xzTydkDRt6tr"
      },
      "execution_count": 586,
      "outputs": [
        {
          "output_type": "execute_result",
          "data": {
            "text/plain": [
              "0.7345437171524128"
            ]
          },
          "metadata": {},
          "execution_count": 586
        }
      ]
    },
    {
      "cell_type": "code",
      "source": [
        "GRID_SEARCH_RESULT_CHI2.best_params_"
      ],
      "metadata": {
        "colab": {
          "base_uri": "https://localhost:8080/"
        },
        "outputId": "8e1884ec-34f7-4349-e3ae-63fed0ba23cd",
        "id": "cewyCYYwt6tr"
      },
      "execution_count": 587,
      "outputs": [
        {
          "output_type": "execute_result",
          "data": {
            "text/plain": [
              "{'metric': 'manhattan', 'n_neighbors': 9, 'weights': 'distance'}"
            ]
          },
          "metadata": {},
          "execution_count": 587
        }
      ]
    },
    {
      "cell_type": "code",
      "source": [
        "y_pred_CHI2= GRID_SEARCH_RESULT_CHI2.predict(x_test_selected_CHI2)"
      ],
      "metadata": {
        "id": "Kr_cezTVt6ts"
      },
      "execution_count": 588,
      "outputs": []
    },
    {
      "cell_type": "code",
      "source": [
        "print(classification_report(y_test, y_pred_CHI2))"
      ],
      "metadata": {
        "colab": {
          "base_uri": "https://localhost:8080/"
        },
        "outputId": "cb18cd04-abb4-4761-cd55-9687e0252772",
        "id": "VHLQqfC6t6ts"
      },
      "execution_count": 589,
      "outputs": [
        {
          "output_type": "stream",
          "name": "stdout",
          "text": [
            "              precision    recall  f1-score   support\n",
            "\n",
            "           0       0.74      0.79      0.77        87\n",
            "           1       0.64      0.57      0.60        56\n",
            "\n",
            "    accuracy                           0.71       143\n",
            "   macro avg       0.69      0.68      0.69       143\n",
            "weighted avg       0.70      0.71      0.70       143\n",
            "\n"
          ]
        }
      ]
    },
    {
      "cell_type": "code",
      "source": [
        "ROC_CHI2=roc_auc_score(y_test, y_pred_CHI2)*100\n",
        "ROC_CHI2"
      ],
      "metadata": {
        "colab": {
          "base_uri": "https://localhost:8080/"
        },
        "outputId": "8f552e74-bfeb-4223-b28b-5d9dff56e50d",
        "id": "IZBobR-URusE"
      },
      "execution_count": 590,
      "outputs": [
        {
          "output_type": "execute_result",
          "data": {
            "text/plain": [
              "68.22660098522168"
            ]
          },
          "metadata": {},
          "execution_count": 590
        }
      ]
    },
    {
      "cell_type": "code",
      "source": [
        "score_test_CHI2=accuracy_score(y_pred_CHI2,y_test)*100\n",
        "print(\"Accuracy for our test dataset with tuning is CHI2 : {:.2f}%\".format(score_test_CHI2))\n",
        "recall_CHI2=recall_score(y_pred_CHI2,y_test)*100\n",
        "print(\"Recall for our test dataset with tuning is CHI2 : {:.2f}%\".format(recall_CHI2))\n",
        "precesion_CHI2L=precision_score(y_pred_CHI2,y_test)*100\n",
        "print(\"Precesion for our test dataset with tuning is CHI2 : {:.2f}%\".format(precesion_CHI2L))"
      ],
      "metadata": {
        "colab": {
          "base_uri": "https://localhost:8080/"
        },
        "outputId": "88c01360-6f9b-49eb-c099-838ba119ad60",
        "id": "0BEdAxdiRusF"
      },
      "execution_count": 591,
      "outputs": [
        {
          "output_type": "stream",
          "name": "stdout",
          "text": [
            "Accuracy for our test dataset with tuning is CHI2 : 70.63%\n",
            "Recall for our test dataset with tuning is CHI2 : 64.00%\n",
            "Precesion for our test dataset with tuning is CHI2 : 57.14%\n"
          ]
        }
      ]
    },
    {
      "cell_type": "markdown",
      "source": [
        "#MUTUAL_INFORMATION_CLASSIFY (CLASSIFICATION)"
      ],
      "metadata": {
        "id": "IjGI4YdiX7Br"
      }
    },
    {
      "cell_type": "code",
      "source": [
        "MI=SelectKBest(mutual_info_classif,k=8)\n",
        "MI.fit(x_train ,y_train)\n",
        "x_train_selected_MI=MI.transform(x_train)\n",
        "x_valid_selected_MI=MI.transform(x_valid)\n",
        "x_test_selected_MI=MI.transform(x_test)\n",
        "# if you used a standard-scaler, the input will contain a negative values.\n",
        "# and chi-square not work with negative so, apply minmaxscaler() instead."
      ],
      "metadata": {
        "id": "5ZfVgg00siqh"
      },
      "execution_count": 592,
      "outputs": []
    },
    {
      "cell_type": "code",
      "source": [
        "mask = MI.get_support()\n",
        "mask"
      ],
      "metadata": {
        "colab": {
          "base_uri": "https://localhost:8080/"
        },
        "outputId": "fbe95add-27a4-4364-ce0f-e535f2b49eea",
        "id": "1GuLFg2Dsiqh"
      },
      "execution_count": 593,
      "outputs": [
        {
          "output_type": "execute_result",
          "data": {
            "text/plain": [
              "array([ True,  True,  True, False,  True, False,  True,  True,  True,\n",
              "        True])"
            ]
          },
          "metadata": {},
          "execution_count": 593
        }
      ]
    },
    {
      "cell_type": "code",
      "source": [
        "selected_feature_names_MI = pd.DataFrame(x_train).columns[mask]\n",
        "selected_feature_names_MI"
      ],
      "metadata": {
        "colab": {
          "base_uri": "https://localhost:8080/"
        },
        "outputId": "6b6a6e27-e93f-4620-b284-ecb721d5eeb7",
        "id": "46nwPPi5siqi"
      },
      "execution_count": 594,
      "outputs": [
        {
          "output_type": "execute_result",
          "data": {
            "text/plain": [
              "Index(['Pclass', 'Age', 'SibSp', 'Fare', 'Embarked_Q', 'Embarked_S',\n",
              "       'Sex_female', 'Sex_male'],\n",
              "      dtype='object')"
            ]
          },
          "metadata": {},
          "execution_count": 594
        }
      ]
    },
    {
      "cell_type": "code",
      "source": [
        "# fsm.get_feature_names_out()"
      ],
      "metadata": {
        "id": "vjCYrG_vsiqi"
      },
      "execution_count": 595,
      "outputs": []
    },
    {
      "cell_type": "markdown",
      "source": [
        "##APPLY_MODEL"
      ],
      "metadata": {
        "id": "ga6jR-MfvxNa"
      }
    },
    {
      "cell_type": "code",
      "source": [
        "KNN = KNeighborsClassifier(algorithm='auto', leaf_size=30, metric='minkowski',\n",
        "                     metric_params=None, n_jobs=None, n_neighbors=5, p=2,\n",
        "                     weights='uniform')"
      ],
      "metadata": {
        "id": "J7bhsWGQvxNk"
      },
      "execution_count": 596,
      "outputs": []
    },
    {
      "cell_type": "code",
      "source": [
        "grid_params_KNN= { 'n_neighbors' : [5,7,9,11,13,15],\n",
        "               'weights' : ['uniform','distance'],\n",
        "               'metric' : ['minkowski','euclidean','manhattan']}"
      ],
      "metadata": {
        "id": "hd-fFtYyvxNk"
      },
      "execution_count": 597,
      "outputs": []
    },
    {
      "cell_type": "code",
      "source": [
        "GRID_SEARCH_MI= GridSearchCV(KNN, grid_params_KNN, verbose = 1,n_jobs = -1)"
      ],
      "metadata": {
        "id": "MNa6DAEdvxNl"
      },
      "execution_count": 598,
      "outputs": []
    },
    {
      "cell_type": "code",
      "source": [
        "GRID_SEARCH_RESULT_MI= GRID_SEARCH_MI.fit(x_train_selected_MI, y_train)"
      ],
      "metadata": {
        "colab": {
          "base_uri": "https://localhost:8080/"
        },
        "outputId": "b5dcbfce-510c-43aa-fd7e-5b58cb53f3d6",
        "id": "GJkglUTTvxNl"
      },
      "execution_count": 599,
      "outputs": [
        {
          "output_type": "stream",
          "name": "stdout",
          "text": [
            "Fitting 5 folds for each of 36 candidates, totalling 180 fits\n"
          ]
        }
      ]
    },
    {
      "cell_type": "code",
      "source": [
        "GRID_SEARCH_RESULT_MI.best_score_"
      ],
      "metadata": {
        "colab": {
          "base_uri": "https://localhost:8080/"
        },
        "outputId": "f61ed8ca-21d3-4fee-d7d9-60b33cc39b2e",
        "id": "FUGQCRJxvxNl"
      },
      "execution_count": 600,
      "outputs": [
        {
          "output_type": "execute_result",
          "data": {
            "text/plain": [
              "0.7455088389870999"
            ]
          },
          "metadata": {},
          "execution_count": 600
        }
      ]
    },
    {
      "cell_type": "code",
      "source": [
        "GRID_SEARCH_RESULT_MI.best_params_"
      ],
      "metadata": {
        "colab": {
          "base_uri": "https://localhost:8080/"
        },
        "outputId": "5dbdf72b-1d4b-40a6-a0c9-93bb1b426124",
        "id": "3GYc1ZqpvxNl"
      },
      "execution_count": 601,
      "outputs": [
        {
          "output_type": "execute_result",
          "data": {
            "text/plain": [
              "{'metric': 'manhattan', 'n_neighbors': 7, 'weights': 'distance'}"
            ]
          },
          "metadata": {},
          "execution_count": 601
        }
      ]
    },
    {
      "cell_type": "code",
      "source": [
        "y_pred_MI= GRID_SEARCH_RESULT_MI.predict(x_test_selected_MI)"
      ],
      "metadata": {
        "id": "uxI5dqKtvxNl"
      },
      "execution_count": 602,
      "outputs": []
    },
    {
      "cell_type": "code",
      "source": [
        "print(classification_report(y_test, y_pred_MI))"
      ],
      "metadata": {
        "colab": {
          "base_uri": "https://localhost:8080/"
        },
        "outputId": "47f38ce2-0fb8-4ebe-ec8f-91bb1efaea24",
        "id": "bGG3p2ucvxNm"
      },
      "execution_count": 603,
      "outputs": [
        {
          "output_type": "stream",
          "name": "stdout",
          "text": [
            "              precision    recall  f1-score   support\n",
            "\n",
            "           0       0.75      0.78      0.76        87\n",
            "           1       0.63      0.59      0.61        56\n",
            "\n",
            "    accuracy                           0.71       143\n",
            "   macro avg       0.69      0.69      0.69       143\n",
            "weighted avg       0.70      0.71      0.70       143\n",
            "\n"
          ]
        }
      ]
    },
    {
      "cell_type": "code",
      "source": [
        "ROC_MI=roc_auc_score(y_test, y_pred_MI)*100\n",
        "ROC_MI"
      ],
      "metadata": {
        "colab": {
          "base_uri": "https://localhost:8080/"
        },
        "outputId": "0d6e193e-4b84-4b7b-b44c-02ccc5913b06",
        "id": "Nhd2iOeiSFq0"
      },
      "execution_count": 604,
      "outputs": [
        {
          "output_type": "execute_result",
          "data": {
            "text/plain": [
              "68.54474548440066"
            ]
          },
          "metadata": {},
          "execution_count": 604
        }
      ]
    },
    {
      "cell_type": "code",
      "source": [
        "score_test_MI=accuracy_score(y_pred_MI,y_test)*100\n",
        "print(\"Accuracy for our test dataset with tuning is mutual_info_classif : {:.2f}%\".format(score_test_MI))\n",
        "recall_MI=recall_score(y_pred_MI,y_test)*100\n",
        "print(\"Recall for our test dataset with tuning is mutual_info_classif : {:.2f}%\".format(recall_MI))\n",
        "precesion_MI=precision_score(y_pred_MI,y_test)*100\n",
        "print(\"Precesion for our test dataset with tuning is mutual_info_classif : {:.2f}%\".format(precesion_MI))"
      ],
      "metadata": {
        "colab": {
          "base_uri": "https://localhost:8080/"
        },
        "outputId": "e4521cb2-6e71-406b-986f-e6c8e9a9c18b",
        "id": "MqGJJVW3SFq1"
      },
      "execution_count": 605,
      "outputs": [
        {
          "output_type": "stream",
          "name": "stdout",
          "text": [
            "Accuracy for our test dataset with tuning is mutual_info_classif : 70.63%\n",
            "Recall for our test dataset with tuning is mutual_info_classif : 63.46%\n",
            "Precesion for our test dataset with tuning is mutual_info_classif : 58.93%\n"
          ]
        }
      ]
    },
    {
      "cell_type": "markdown",
      "source": [
        "#ANNOVA(f_classif)_CLASSIFICATION"
      ],
      "metadata": {
        "id": "ITkny3V3v_xW"
      }
    },
    {
      "cell_type": "code",
      "source": [
        "ANNOVA=SelectKBest(f_classif,k=8)\n",
        "ANNOVA.fit(x_train ,y_train)\n",
        "x_train_selected_ANNOVA=ANNOVA.transform(x_train)\n",
        "x_valid_selected_ANNOVA=ANNOVA.transform(x_valid)\n",
        "x_test_selected_ANNOVA=ANNOVA.transform(x_test)\n",
        "# if you used a standard-scaler, the input will contain a negative values.\n",
        "# and chi-square not work with negative so, apply minmaxscaler() instead."
      ],
      "metadata": {
        "id": "_KJ22EgHwLqd"
      },
      "execution_count": 606,
      "outputs": []
    },
    {
      "cell_type": "code",
      "source": [
        "mask = ANNOVA.get_support()\n",
        "mask"
      ],
      "metadata": {
        "colab": {
          "base_uri": "https://localhost:8080/"
        },
        "outputId": "4774752f-c275-46b5-cbf1-04d9d5c6c7a6",
        "id": "zMj787XBwLqd"
      },
      "execution_count": 607,
      "outputs": [
        {
          "output_type": "execute_result",
          "data": {
            "text/plain": [
              "array([ True,  True, False,  True,  True,  True, False,  True,  True,\n",
              "        True])"
            ]
          },
          "metadata": {},
          "execution_count": 607
        }
      ]
    },
    {
      "cell_type": "code",
      "source": [
        "selected_feature_names_ANNOVA= pd.DataFrame(x_train).columns[mask]\n",
        "selected_feature_names_ANNOVA"
      ],
      "metadata": {
        "colab": {
          "base_uri": "https://localhost:8080/"
        },
        "outputId": "683e3625-8755-4639-a14f-1e0cc50919d3",
        "id": "UrA6njSKwLqd"
      },
      "execution_count": 608,
      "outputs": [
        {
          "output_type": "execute_result",
          "data": {
            "text/plain": [
              "Index(['Pclass', 'Age', 'Parch', 'Fare', 'Embarked_C', 'Embarked_S',\n",
              "       'Sex_female', 'Sex_male'],\n",
              "      dtype='object')"
            ]
          },
          "metadata": {},
          "execution_count": 608
        }
      ]
    },
    {
      "cell_type": "code",
      "source": [
        "# fsm.get_feature_names_out()"
      ],
      "metadata": {
        "id": "Gruk6UYPwLqe"
      },
      "execution_count": 609,
      "outputs": []
    },
    {
      "cell_type": "markdown",
      "source": [
        "##APPLY_MODEL"
      ],
      "metadata": {
        "id": "7feO1w71xBQ-"
      }
    },
    {
      "cell_type": "code",
      "source": [
        "KNN = KNeighborsClassifier(algorithm='auto', leaf_size=30, metric='minkowski',\n",
        "                     metric_params=None, n_jobs=None, n_neighbors=5, p=2,\n",
        "                     weights='uniform')"
      ],
      "metadata": {
        "id": "fOXBD5etxBRG"
      },
      "execution_count": 610,
      "outputs": []
    },
    {
      "cell_type": "code",
      "source": [
        "grid_params_KNN= { 'n_neighbors' : [5,7,9,11,13,15],\n",
        "               'weights' : ['uniform','distance'],\n",
        "               'metric' : ['minkowski','euclidean','manhattan']}"
      ],
      "metadata": {
        "id": "O-6udy8kxBRH"
      },
      "execution_count": 611,
      "outputs": []
    },
    {
      "cell_type": "code",
      "source": [
        "GRID_SEARCH_ANNOVA= GridSearchCV(KNN, grid_params_KNN, verbose = 1,n_jobs = -1)"
      ],
      "metadata": {
        "id": "RILhCDHOxBRH"
      },
      "execution_count": 612,
      "outputs": []
    },
    {
      "cell_type": "code",
      "source": [
        "GRID_SEARCH_RESULT_ANNOVA= GRID_SEARCH_ANNOVA.fit(x_train_selected_ANNOVA, y_train)"
      ],
      "metadata": {
        "colab": {
          "base_uri": "https://localhost:8080/"
        },
        "outputId": "14e656d9-0684-4c57-8183-618f83a7ba46",
        "id": "yF7Szfc3xBRH"
      },
      "execution_count": 613,
      "outputs": [
        {
          "output_type": "stream",
          "name": "stdout",
          "text": [
            "Fitting 5 folds for each of 36 candidates, totalling 180 fits\n"
          ]
        }
      ]
    },
    {
      "cell_type": "code",
      "source": [
        "GRID_SEARCH_RESULT_ANNOVA.best_score_*100"
      ],
      "metadata": {
        "colab": {
          "base_uri": "https://localhost:8080/"
        },
        "outputId": "5aacdb73-e5ea-41f8-e7b9-d9285de304bb",
        "id": "KhRmh3v8xBRH"
      },
      "execution_count": 614,
      "outputs": [
        {
          "output_type": "execute_result",
          "data": {
            "text/plain": [
              "73.45437171524128"
            ]
          },
          "metadata": {},
          "execution_count": 614
        }
      ]
    },
    {
      "cell_type": "code",
      "source": [
        "GRID_SEARCH_RESULT_ANNOVA.best_params_"
      ],
      "metadata": {
        "colab": {
          "base_uri": "https://localhost:8080/"
        },
        "outputId": "8de69da5-066b-44f7-ee3f-95bba4bc292f",
        "id": "aWhqpsj1xBRI"
      },
      "execution_count": 615,
      "outputs": [
        {
          "output_type": "execute_result",
          "data": {
            "text/plain": [
              "{'metric': 'manhattan', 'n_neighbors': 9, 'weights': 'distance'}"
            ]
          },
          "metadata": {},
          "execution_count": 615
        }
      ]
    },
    {
      "cell_type": "code",
      "source": [
        "y_pred_ANNOVA= GRID_SEARCH_RESULT_ANNOVA.predict(x_test_selected_ANNOVA)"
      ],
      "metadata": {
        "id": "M-F4jbpnxBRI"
      },
      "execution_count": 616,
      "outputs": []
    },
    {
      "cell_type": "code",
      "source": [
        "print(classification_report(y_test, y_pred_ANNOVA))"
      ],
      "metadata": {
        "colab": {
          "base_uri": "https://localhost:8080/"
        },
        "outputId": "6053c2f7-cfc0-4910-b170-35302c9605f0",
        "id": "6fPn1fDzxBRI"
      },
      "execution_count": 617,
      "outputs": [
        {
          "output_type": "stream",
          "name": "stdout",
          "text": [
            "              precision    recall  f1-score   support\n",
            "\n",
            "           0       0.74      0.79      0.77        87\n",
            "           1       0.64      0.57      0.60        56\n",
            "\n",
            "    accuracy                           0.71       143\n",
            "   macro avg       0.69      0.68      0.69       143\n",
            "weighted avg       0.70      0.71      0.70       143\n",
            "\n"
          ]
        }
      ]
    },
    {
      "cell_type": "code",
      "source": [
        "ROC_ANNOVA=roc_auc_score(y_test, y_pred_ANNOVA)*100\n",
        "ROC_ANNOVA"
      ],
      "metadata": {
        "colab": {
          "base_uri": "https://localhost:8080/"
        },
        "outputId": "162daee9-9092-4a74-8b8c-58e5185f6763",
        "id": "R30Xp-s6SebQ"
      },
      "execution_count": 618,
      "outputs": [
        {
          "output_type": "execute_result",
          "data": {
            "text/plain": [
              "68.22660098522168"
            ]
          },
          "metadata": {},
          "execution_count": 618
        }
      ]
    },
    {
      "cell_type": "code",
      "source": [
        "score_test_ANNOVA=accuracy_score(y_pred_ANNOVA,y_test)*100\n",
        "print(\"Accuracy for our test dataset with tuning is ANNOVA : {:.2f}%\".format(score_test_ANNOVA))\n",
        "recall_ANNOVA=recall_score(y_pred_ANNOVA,y_test)*100\n",
        "print(\"Recall for our test dataset with tuning is ANNOVA : {:.2f}%\".format(recall_ANNOVA))\n",
        "precesion_ANNOVA=precision_score(y_pred_ANNOVA,y_test)*100\n",
        "print(\"Precesion for our test dataset with tuning is ANNOVA : {:.2f}%\".format(precesion_ANNOVA))"
      ],
      "metadata": {
        "colab": {
          "base_uri": "https://localhost:8080/"
        },
        "outputId": "9b04fde2-6d43-449b-c0f0-9fea3b376be3",
        "id": "6Wi6dsSbSi2Z"
      },
      "execution_count": 619,
      "outputs": [
        {
          "output_type": "stream",
          "name": "stdout",
          "text": [
            "Accuracy for our test dataset with tuning is ANNOVA : 70.63%\n",
            "Recall for our test dataset with tuning is ANNOVA : 64.00%\n",
            "Precesion for our test dataset with tuning is ANNOVA : 57.14%\n"
          ]
        }
      ]
    },
    {
      "cell_type": "markdown",
      "source": [
        "#PCA(CLASSIFICATION_REGRESSION)"
      ],
      "metadata": {
        "id": "29aVBsbaXhH6"
      }
    },
    {
      "cell_type": "code",
      "source": [
        "# recommended to use standard-scaler\n",
        "# scaler=StandardScaler()\n",
        "# x_train_sc=scaler.fit_transform(x_train)\n",
        "# x_valid_sc=scaler.transform(x_valid)\n",
        "# x_test_sc=scaler.transform(x_test)"
      ],
      "metadata": {
        "id": "1sFhDM1zXuNR"
      },
      "execution_count": 620,
      "outputs": []
    },
    {
      "cell_type": "markdown",
      "source": [
        "##PCA With best k value"
      ],
      "metadata": {
        "id": "KNCqJEL66k2g"
      }
    },
    {
      "cell_type": "code",
      "source": [
        "# Create a PCA object with the desired number of components\n",
        "pca = PCA()\n",
        "\n",
        "# Fit the PCA object to the training data and transform both the training and test data\n",
        "x_train_pca = pca.fit_transform(x_train)\n",
        "x_valid_pca = pca.transform(x_valid)\n",
        "x_test_pca = pca.transform(x_test)\n",
        "\n",
        "# Determine number of components to keep\n",
        "explained_var_ratio = pca.explained_variance_ratio_\n",
        "\n",
        "# cumulative sum of the explained variance ratios\n",
        "cumulative_var_ratio = np.cumsum(explained_var_ratio)\n",
        "\n",
        "#to find the index of the first cumulative variance ratio that is greater than or equal to 0.95,\n",
        "#and we add 1 to get the actual number of components to keep.\n",
        "n_components = np.argmax(cumulative_var_ratio >= 0.95) + 1\n",
        "print(f\"Number of components to keep: {n_components}\")\n",
        "\n",
        "# Plot explained variance ratio\n",
        "plt.plot(explained_var_ratio, marker='o')\n",
        "plt.xlabel('Component')\n",
        "plt.ylabel('Explained variance ratio')\n",
        "plt.show()\n",
        "\n",
        "# Plot cumulative explained variance ratio\n",
        "plt.plot(cumulative_var_ratio, marker='o')\n",
        "plt.xlabel('Number of components')\n",
        "plt.ylabel('Cumulative explained variance ratio')\n",
        "plt.show()"
      ],
      "metadata": {
        "colab": {
          "base_uri": "https://localhost:8080/",
          "height": 0
        },
        "id": "EYHtRwx_6o1g",
        "outputId": "8d6fb477-ffcc-4f89-bad1-d339499b3230"
      },
      "execution_count": 621,
      "outputs": [
        {
          "output_type": "stream",
          "name": "stdout",
          "text": [
            "Number of components to keep: 2\n"
          ]
        },
        {
          "output_type": "display_data",
          "data": {
            "text/plain": [
              "<Figure size 640x480 with 1 Axes>"
            ],
            "image/png": "[encoded data removed]"
          },
          "metadata": {}
        },
        {
          "output_type": "display_data",
          "data": {
            "text/plain": [
              "<Figure size 640x480 with 1 Axes>"
            ],
            "image/png": "[encoded data removed]"
          },
          "metadata": {}
        }
      ]
    },
    {
      "cell_type": "code",
      "source": [
        "# Create a PCA object with the desired number of components\n",
        "pca = PCA(n_components=8)\n",
        "# Fit the PCA object to the training data and transform both the training and test data\n",
        "x_train_selected_PCA= pca.fit_transform(x_train)\n",
        "x_valid_selected_PCA= pca.transform(x_valid)\n",
        "x_test_selected_PCA= pca.transform(x_test)"
      ],
      "metadata": {
        "id": "DVbLZakY5yI4"
      },
      "execution_count": 622,
      "outputs": []
    },
    {
      "cell_type": "markdown",
      "source": [
        "##APPLY_MODEL"
      ],
      "metadata": {
        "id": "2nkEtpUsyCgt"
      }
    },
    {
      "cell_type": "code",
      "source": [
        "KNN = KNeighborsClassifier(algorithm='auto', leaf_size=30, metric='minkowski',\n",
        "                     metric_params=None, n_jobs=None, n_neighbors=5, p=2,\n",
        "                     weights='uniform')"
      ],
      "metadata": {
        "id": "mj3FdMXwyCg1"
      },
      "execution_count": 623,
      "outputs": []
    },
    {
      "cell_type": "code",
      "source": [
        "grid_params_KNN= { 'n_neighbors' : [5,7,9,11,13,15],\n",
        "               'weights' : ['uniform','distance'],\n",
        "               'metric' : ['minkowski','euclidean','manhattan']}"
      ],
      "metadata": {
        "id": "Pt74KvrayCg1"
      },
      "execution_count": 624,
      "outputs": []
    },
    {
      "cell_type": "code",
      "source": [
        "GRID_SEARCH_PCA= GridSearchCV(KNN, grid_params_KNN, verbose = 1,n_jobs = -1)"
      ],
      "metadata": {
        "id": "XqvRArVXyCg2"
      },
      "execution_count": 625,
      "outputs": []
    },
    {
      "cell_type": "code",
      "source": [
        "GRID_SEARCH_RESULT_PCA= GRID_SEARCH_PCA.fit(x_train_selected_PCA, y_train)"
      ],
      "metadata": {
        "colab": {
          "base_uri": "https://localhost:8080/"
        },
        "outputId": "f6e28467-6300-42b5-8583-8e75bc79f4d6",
        "id": "6weyUICxyCg2"
      },
      "execution_count": 626,
      "outputs": [
        {
          "output_type": "stream",
          "name": "stdout",
          "text": [
            "Fitting 5 folds for each of 36 candidates, totalling 180 fits\n"
          ]
        }
      ]
    },
    {
      "cell_type": "code",
      "source": [
        "GRID_SEARCH_RESULT_PCA.best_score_"
      ],
      "metadata": {
        "colab": {
          "base_uri": "https://localhost:8080/"
        },
        "outputId": "9613c602-7274-40ee-af53-6923276aeb12",
        "id": "A3ZJD9X7yCg2"
      },
      "execution_count": 627,
      "outputs": [
        {
          "output_type": "execute_result",
          "data": {
            "text/plain": [
              "0.7433110367892977"
            ]
          },
          "metadata": {},
          "execution_count": 627
        }
      ]
    },
    {
      "cell_type": "code",
      "source": [
        "GRID_SEARCH_RESULT_PCA.best_params_"
      ],
      "metadata": {
        "colab": {
          "base_uri": "https://localhost:8080/"
        },
        "outputId": "3c405c5e-6cd2-4606-e909-84beb1140d41",
        "id": "Umg1XH0PyCg2"
      },
      "execution_count": 628,
      "outputs": [
        {
          "output_type": "execute_result",
          "data": {
            "text/plain": [
              "{'metric': 'manhattan', 'n_neighbors': 11, 'weights': 'distance'}"
            ]
          },
          "metadata": {},
          "execution_count": 628
        }
      ]
    },
    {
      "cell_type": "code",
      "source": [
        "y_pred_PCA= GRID_SEARCH_RESULT_PCA.predict(x_test_selected_PCA)"
      ],
      "metadata": {
        "id": "ek9Ze23IyCg2"
      },
      "execution_count": 629,
      "outputs": []
    },
    {
      "cell_type": "code",
      "source": [
        "print(classification_report(y_test, y_pred_PCA))"
      ],
      "metadata": {
        "colab": {
          "base_uri": "https://localhost:8080/"
        },
        "outputId": "7cf1b60a-bcf2-41a6-ebdd-8636572b7296",
        "id": "ecFgdy63yCg2"
      },
      "execution_count": 630,
      "outputs": [
        {
          "output_type": "stream",
          "name": "stdout",
          "text": [
            "              precision    recall  f1-score   support\n",
            "\n",
            "           0       0.75      0.78      0.76        87\n",
            "           1       0.63      0.59      0.61        56\n",
            "\n",
            "    accuracy                           0.71       143\n",
            "   macro avg       0.69      0.69      0.69       143\n",
            "weighted avg       0.70      0.71      0.70       143\n",
            "\n"
          ]
        }
      ]
    },
    {
      "cell_type": "code",
      "source": [
        "ROC_PCA=roc_auc_score(y_test, y_pred_PCA)*100\n",
        "ROC_PCA"
      ],
      "metadata": {
        "colab": {
          "base_uri": "https://localhost:8080/"
        },
        "outputId": "2ddec5ed-70e1-406e-88e9-7423caf3d75d",
        "id": "SyW-XpKQTC_9"
      },
      "execution_count": 631,
      "outputs": [
        {
          "output_type": "execute_result",
          "data": {
            "text/plain": [
              "68.54474548440066"
            ]
          },
          "metadata": {},
          "execution_count": 631
        }
      ]
    },
    {
      "cell_type": "code",
      "source": [
        "score_test_PCA=accuracy_score(y_pred_PCA,y_test)*100\n",
        "print(\"Accuracy for our test dataset with tuning is PCA : {:.2f}%\".format(score_test_PCA))\n",
        "recall_PCA=recall_score(y_pred_PCA,y_test)*100\n",
        "print(\"Recall for our test dataset with tuning is PCA : {:.2f}%\".format(recall_PCA))\n",
        "precesion_PCA=precision_score(y_pred_PCA,y_test)*100\n",
        "print(\"Precesion for our test dataset with tuning is PCA : {:.2f}%\".format(precesion_PCA))"
      ],
      "metadata": {
        "colab": {
          "base_uri": "https://localhost:8080/"
        },
        "outputId": "58b0a1a6-a8ee-4e48-98d1-337ed5ed82cb",
        "id": "uGZCOIm4TC_-"
      },
      "execution_count": 632,
      "outputs": [
        {
          "output_type": "stream",
          "name": "stdout",
          "text": [
            "Accuracy for our test dataset with tuning is PCA : 70.63%\n",
            "Recall for our test dataset with tuning is PCA : 63.46%\n",
            "Precesion for our test dataset with tuning is PCA : 58.93%\n"
          ]
        }
      ]
    },
    {
      "cell_type": "markdown",
      "source": [
        "#EVALUATION_FOR_MI_TSNE(CLASSIFICATION_REGRESSION)"
      ],
      "metadata": {
        "id": "Y7JzLGb4Xltr"
      }
    },
    {
      "cell_type": "code",
      "source": [
        "tsne = TSNE(n_components=3, perplexity=10)#perplexity=30 to control the effective number of neighbors used in the algorithm.\n",
        "\n",
        "# Fit the TSNE object to the data and transform the data\n",
        "x_train_selected_MI = tsne.fit_transform(x_train)\n",
        "x_valid_selected_MI = tsne.fit_transform(x_valid)\n",
        "x_test_selected_MI = tsne.fit_transform(x_test)\n",
        "\n",
        "# Plot the 2D t-SNE visualization\n",
        "plt.scatter(x_test_selected_MI[:,0], x_test_selected_MI[:,1], c=y_test)\n",
        "plt.show()\n",
        "\n",
        "#'TSNE' object has no attribute 'transform'"
      ],
      "metadata": {
        "colab": {
          "base_uri": "https://localhost:8080/",
          "height": 0
        },
        "id": "-L4xTalRScnB",
        "outputId": "649cd97a-77ec-4719-de86-f414c100b2b1"
      },
      "execution_count": 633,
      "outputs": [
        {
          "output_type": "display_data",
          "data": {
            "text/plain": [
              "<Figure size 640x480 with 1 Axes>"
            ],
            "image/png": "[encoded data removed]"
          },
          "metadata": {}
        }
      ]
    },
    {
      "cell_type": "markdown",
      "source": [
        "#ROC_CURVE_FOR_CURSE_OF_DIMENSIONALITY"
      ],
      "metadata": {
        "id": "HQR2tZjIYCSM"
      }
    },
    {
      "cell_type": "code",
      "source": [
        "x= [\"NORMAL\",\"PCA\",\"ANNOVA\",\"MUTUAL\",\"CHI2\",\"F_REGRESSION\"]\n",
        "y=[ROC_N ,ROC_PCA,ROC_ANNOVA,ROC_MI,ROC_CHI2,ROC_REG]\n",
        "plt.bar(x , y,color='RED')\n",
        "figsize=(20,30)\n",
        "plt.xlabel(\"Predcition\")\n",
        "plt.ylabel(\"Score\")\n",
        "plt.title(\"SCORE_FOR_UNBALANCE_BY_RANDOM_UNDER_SAMPLED\")"
      ],
      "metadata": {
        "id": "WBi-XDgW0mX_",
        "colab": {
          "base_uri": "https://localhost:8080/",
          "height": 488
        },
        "outputId": "1d5ccef3-6c9a-4e94-fcf6-9a11fa568ed0"
      },
      "execution_count": 634,
      "outputs": [
        {
          "output_type": "execute_result",
          "data": {
            "text/plain": [
              "Text(0.5, 1.0, 'SCORE_FOR_UNBALANCE_BY_RANDOM_UNDER_SAMPLED')"
            ]
          },
          "metadata": {},
          "execution_count": 634
        },
        {
          "output_type": "display_data",
          "data": {
            "text/plain": [
              "<Figure size 640x480 with 1 Axes>"
            ],
            "image/png": "[encoded data removed]"
          },
          "metadata": {}
        }
      ]
    },
    {
      "cell_type": "code",
      "source": [
        "X= [\"NORMAL\",\"PCA\",\"ANNOVA\",\"MUTUAL\",\"CHI2\",\"F_REGRESSION\"]\n",
        "DATA=[68.22660098522168,68.54474548440066,68.22660098522168,68.80131362889983,68.22660098522168,68.22660098522168]\n",
        "colors = ['saddlebrown', 'wheat', 'darkblue', 'lightgrey','crimson','red']\n",
        "EXPLOD = [0.0, 0.0, 0.0, 0.1,0.0,0.0]\n",
        "plt.figure(figsize=(50, 8))\n",
        "plt.pie(DATA)\n",
        "plt.title(\"ROC_CURVE_DOR_CURSE_OF_DIMENSIONALITY\", fontsize=20)\n",
        "plt.legend(X)\n",
        "plt.pie(DATA,\n",
        "        explode=EXPLOD,\n",
        "        labels=X,\n",
        "        colors=colors,\n",
        "        autopct='%.2f%%',\n",
        "        shadow=True)\n",
        "plt.show()"
      ],
      "metadata": {
        "colab": {
          "base_uri": "https://localhost:8080/",
          "height": 682
        },
        "id": "hijR1w8tZKS8",
        "outputId": "2652cd29-bcb8-4e0d-9634-71460c2299fd"
      },
      "execution_count": null,
      "outputs": [
        {
          "output_type": "display_data",
          "data": {
            "text/plain": [
              "<Figure size 5000x800 with 1 Axes>"
            ],
            "image/png": "[encoded data removed]"
          },
          "metadata": {}
        }
      ]
    },
    {
      "cell_type": "markdown",
      "source": [
        "#ACCURACY_TEST_FOR_CURSE_OF_DIMINSIONALITY"
      ],
      "metadata": {
        "id": "GBRiQFKEYxAS"
      }
    },
    {
      "cell_type": "code",
      "source": [
        "x= [\"NORMAL\",\"PCA\",\"ANNOVA\",\"MUTUAL\",\"CHI2\",\"F_REGRESSION\"]\n",
        "y=[score_test_N ,score_test_PCA,score_test_ANNOVA,score_test_MI,score_test_CHI2,score_test_F_REG]\n",
        "plt.bar(x , y,color='RED')\n",
        "figsize=(20,30)\n",
        "plt.xlabel(\"Predcition\")\n",
        "plt.ylabel(\"Score\")\n",
        "plt.title(\"SCORE_FOR_CURSE_OF_DIMINSIONALITY_BY_RANDOM_UNDER_SAMPLED\")"
      ],
      "metadata": {
        "colab": {
          "base_uri": "https://localhost:8080/",
          "height": 488
        },
        "id": "t84_D2GLYn-W",
        "outputId": "71758718-2f39-4811-b062-ff7c58d31444"
      },
      "execution_count": 635,
      "outputs": [
        {
          "output_type": "execute_result",
          "data": {
            "text/plain": [
              "Text(0.5, 1.0, 'SCORE_FOR_CURSE_OF_DIMINSIONALITY_BY_RANDOM_UNDER_SAMPLED')"
            ]
          },
          "metadata": {},
          "execution_count": 635
        },
        {
          "output_type": "display_data",
          "data": {
            "text/plain": [
              "<Figure size 640x480 with 1 Axes>"
            ],
            "image/png": "[encoded data removed]"
          },
          "metadata": {}
        }
      ]
    },
    {
      "cell_type": "code",
      "source": [
        "X= [\"NORMAL\",\"PCA\",\"ANNOVA\",\"MUTUAL\",\"CHI2\",\"F_REGRESSION\"]\n",
        "DATA=[70.62937062937063,70.62937062937063,70.62937062937063,71.32867132867133,70.62937062937063,70.62937062937063]\n",
        "colors = ['saddlebrown', 'wheat', 'darkblue', 'lightgrey','crimson','red']\n",
        "EXPLOD = [0.0, 0.0, 0.0, 0.1,0.0,0.0]\n",
        "plt.figure(figsize=(50, 8))\n",
        "plt.pie(DATA)\n",
        "plt.title(\"ACCURACY_SCORE_FOR_CURSE_OF_DIMENSIONALITY\", fontsize=20)\n",
        "plt.legend(X)\n",
        "plt.pie(DATA,\n",
        "        explode=EXPLOD,\n",
        "        labels=X,\n",
        "        colors=colors,\n",
        "        autopct='%.2f%%',\n",
        "        shadow=True)\n",
        "plt.show()"
      ],
      "metadata": {
        "colab": {
          "base_uri": "https://localhost:8080/",
          "height": 682
        },
        "id": "WowG1KdpevpD",
        "outputId": "8fdc3b85-47d1-4eef-a452-3f86fe02535d"
      },
      "execution_count": 639,
      "outputs": [
        {
          "output_type": "display_data",
          "data": {
            "text/plain": [
              "<Figure size 5000x800 with 1 Axes>"
            ],
            "image/png": "[encoded data removed]"
          },
          "metadata": {}
        }
      ]
    }
  ]
}