{
  "nbformat": 4,
  "nbformat_minor": 0,
  "metadata": {
    "colab": {
      "provenance": [],
      "collapsed_sections": [
        "J53JlcEow7E3",
        "WAZY-dii0-XO",
        "YiZiBXFOLuDO",
        "wkH4rJMs1Dcv",
        "CjMIYEMrjuy1",
        "tZ-BlLtz1QT3",
        "PDAcQyFD1mel",
        "YblkZTswIGXQ",
        "urvCX1SE7Yvy",
        "Lr6_QPob7k5q",
        "nU_KCTGaH_R6",
        "8VSB0lYoHzqS",
        "7WhL2ZoHH5js",
        "0mnzk2_M1snN",
        "YIxl9USK0U8P",
        "SGZlLXt_I8hb",
        "shOdOVVj-TCL",
        "T2uq1mDCzfiQ",
        "HYCGU-Ik0ZG_",
        "XZdUXbyb0cB2",
        "b1VyPiTW6u0A",
        "eFDp1HMs0k7G",
        "q188dyuEvaf5",
        "x8Juo-3QGbR6"
      ]
    },
    "kernelspec": {
      "name": "python3",
      "display_name": "Python 3"
    },
    "language_info": {
      "name": "python"
    }
  },
  "cells": [
    {
      "cell_type": "markdown",
      "source": [
        "#Liberaries#"
      ],
      "metadata": {
        "id": "J53JlcEow7E3"
      }
    },
    {
      "cell_type": "code",
      "execution_count": null,
      "metadata": {
        "id": "uaEqFly2oJvj"
      },
      "outputs": [],
      "source": [
        "import pandas as pd\n",
        "import numpy as np\n",
        "import copy\n",
        "import seaborn as sns\n",
        "import matplotlib.pyplot as plt\n",
        "from sklearn.preprocessing import LabelEncoder,OrdinalEncoder\n",
        "from sklearn.model_selection import train_test_split\n",
        "from sklearn.metrics import mean_absolute_error , mean_squared_error ,r2_score\n",
        "from sklearn.metrics import accuracy_score,recall_score,precision_score,f1_score,confusion_matrix,roc_curve,roc_auc_score\n",
        "\n",
        "from sklearn.preprocessing import MinMaxScaler, StandardScaler,PowerTransformer,RobustScaler\n",
        "\n",
        "from sklearn.preprocessing import PolynomialFeatures\n",
        "from sklearn.linear_model import LogisticRegression\n",
        "from sklearn.tree import plot_tree\n",
        "\n",
        "from sklearn.tree import DecisionTreeRegressor\n",
        "from sklearn.tree import DecisionTreeClassifier\n",
        "from sklearn.neighbors import KNeighborsClassifier\n",
        "from sklearn.exceptions import NotFittedError\n",
        "from sklearn.neighbors import KNeighborsRegressor\n",
        "\n",
        "from scipy.stats import randint\n",
        "from sklearn.model_selection import GridSearchCV\n",
        "import missingno as msng\n",
        "from sklearn.model_selection import RandomizedSearchCV\n",
        "from sklearn.linear_model import LinearRegression\n",
        "from sklearn.linear_model import Ridge\n",
        "from sklearn.linear_model import Lasso\n",
        "\n",
        "from sklearn.model_selection import cross_val_score,KFold,StratifiedKFold,LeaveOneOut,GroupKFold,StratifiedGroupKFold,GroupShuffleSplit,TimeSeriesSplit"
      ]
    },
    {
      "cell_type": "markdown",
      "source": [
        "#LOAD_DATA_COPY#"
      ],
      "metadata": {
        "id": "WAZY-dii0-XO"
      }
    },
    {
      "cell_type": "code",
      "source": [
        "df=pd.read_csv(\"/content/drug200.csv\")\n",
        "new_df=df.copy()\n",
        "new_df"
      ],
      "metadata": {
        "id": "S8w95QN8qLdl",
        "colab": {
          "base_uri": "https://localhost:8080/",
          "height": 423
        },
        "outputId": "6d792d55-4b4c-467f-cd83-9d9e671d1551"
      },
      "execution_count": null,
      "outputs": [
        {
          "output_type": "execute_result",
          "data": {
            "text/plain": [
              "     Age Sex      BP Cholesterol  Na_to_K   Drug\n",
              "0     23   F    HIGH        HIGH   25.355  DrugY\n",
              "1     47   M     LOW        HIGH   13.093  drugC\n",
              "2     47   M     LOW        HIGH   10.114  drugC\n",
              "3     28   F  NORMAL        HIGH    7.798  drugX\n",
              "4     61   F     LOW        HIGH   18.043  DrugY\n",
              "..   ...  ..     ...         ...      ...    ...\n",
              "195   56   F     LOW        HIGH   11.567  drugC\n",
              "196   16   M     LOW        HIGH   12.006  drugC\n",
              "197   52   M  NORMAL        HIGH    9.894  drugX\n",
              "198   23   M  NORMAL      NORMAL   14.020  drugX\n",
              "199   40   F     LOW      NORMAL   11.349  drugX\n",
              "\n",
              "[200 rows x 6 columns]"
            ],
            "text/html": [
              "\n",
              "  <div id=\"df-ba8c08f4-64bc-467b-9d5a-4f645cdd8b9a\" class=\"colab-df-container\">\n",
              "    <div>\n",
              "<style scoped>\n",
              "    .dataframe tbody tr th:only-of-type {\n",
              "        vertical-align: middle;\n",
              "    }\n",
              "\n",
              "    .dataframe tbody tr th {\n",
              "        vertical-align: top;\n",
              "    }\n",
              "\n",
              "    .dataframe thead th {\n",
              "        text-align: right;\n",
              "    }\n",
              "</style>\n",
              "<table border=\"1\" class=\"dataframe\">\n",
              "  <thead>\n",
              "    <tr style=\"text-align: right;\">\n",
              "      <th></th>\n",
              "      <th>Age</th>\n",
              "      <th>Sex</th>\n",
              "      <th>BP</th>\n",
              "      <th>Cholesterol</th>\n",
              "      <th>Na_to_K</th>\n",
              "      <th>Drug</th>\n",
              "    </tr>\n",
              "  </thead>\n",
              "  <tbody>\n",
              "    <tr>\n",
              "      <th>0</th>\n",
              "      <td>23</td>\n",
              "      <td>F</td>\n",
              "      <td>HIGH</td>\n",
              "      <td>HIGH</td>\n",
              "      <td>25.355</td>\n",
              "      <td>DrugY</td>\n",
              "    </tr>\n",
              "    <tr>\n",
              "      <th>1</th>\n",
              "      <td>47</td>\n",
              "      <td>M</td>\n",
              "      <td>LOW</td>\n",
              "      <td>HIGH</td>\n",
              "      <td>13.093</td>\n",
              "      <td>drugC</td>\n",
              "    </tr>\n",
              "    <tr>\n",
              "      <th>2</th>\n",
              "      <td>47</td>\n",
              "      <td>M</td>\n",
              "      <td>LOW</td>\n",
              "      <td>HIGH</td>\n",
              "      <td>10.114</td>\n",
              "      <td>drugC</td>\n",
              "    </tr>\n",
              "    <tr>\n",
              "      <th>3</th>\n",
              "      <td>28</td>\n",
              "      <td>F</td>\n",
              "      <td>NORMAL</td>\n",
              "      <td>HIGH</td>\n",
              "      <td>7.798</td>\n",
              "      <td>drugX</td>\n",
              "    </tr>\n",
              "    <tr>\n",
              "      <th>4</th>\n",
              "      <td>61</td>\n",
              "      <td>F</td>\n",
              "      <td>LOW</td>\n",
              "      <td>HIGH</td>\n",
              "      <td>18.043</td>\n",
              "      <td>DrugY</td>\n",
              "    </tr>\n",
              "    <tr>\n",
              "      <th>...</th>\n",
              "      <td>...</td>\n",
              "      <td>...</td>\n",
              "      <td>...</td>\n",
              "      <td>...</td>\n",
              "      <td>...</td>\n",
              "      <td>...</td>\n",
              "    </tr>\n",
              "    <tr>\n",
              "      <th>195</th>\n",
              "      <td>56</td>\n",
              "      <td>F</td>\n",
              "      <td>LOW</td>\n",
              "      <td>HIGH</td>\n",
              "      <td>11.567</td>\n",
              "      <td>drugC</td>\n",
              "    </tr>\n",
              "    <tr>\n",
              "      <th>196</th>\n",
              "      <td>16</td>\n",
              "      <td>M</td>\n",
              "      <td>LOW</td>\n",
              "      <td>HIGH</td>\n",
              "      <td>12.006</td>\n",
              "      <td>drugC</td>\n",
              "    </tr>\n",
              "    <tr>\n",
              "      <th>197</th>\n",
              "      <td>52</td>\n",
              "      <td>M</td>\n",
              "      <td>NORMAL</td>\n",
              "      <td>HIGH</td>\n",
              "      <td>9.894</td>\n",
              "      <td>drugX</td>\n",
              "    </tr>\n",
              "    <tr>\n",
              "      <th>198</th>\n",
              "      <td>23</td>\n",
              "      <td>M</td>\n",
              "      <td>NORMAL</td>\n",
              "      <td>NORMAL</td>\n",
              "      <td>14.020</td>\n",
              "      <td>drugX</td>\n",
              "    </tr>\n",
              "    <tr>\n",
              "      <th>199</th>\n",
              "      <td>40</td>\n",
              "      <td>F</td>\n",
              "      <td>LOW</td>\n",
              "      <td>NORMAL</td>\n",
              "      <td>11.349</td>\n",
              "      <td>drugX</td>\n",
              "    </tr>\n",
              "  </tbody>\n",
              "</table>\n",
              "<p>200 rows × 6 columns</p>\n",
              "</div>\n",
              "    <div class=\"colab-df-buttons\">\n",
              "\n",
              "  <div class=\"colab-df-container\">\n",
              "    <button class=\"colab-df-convert\" onclick=\"convertToInteractive('df-ba8c08f4-64bc-467b-9d5a-4f645cdd8b9a')\"\n",
              "            title=\"Convert this dataframe to an interactive table.\"\n",
              "            style=\"display:none;\">\n",
              "\n",
              "  <svg xmlns=\"http://www.w3.org/2000/svg\" height=\"24px\" viewBox=\"0 -960 960 960\">\n",
              "    <path d=\"M120-120v-720h720v720H120Zm60-500h600v-160H180v160Zm220 220h160v-160H400v160Zm0 220h160v-160H400v160ZM180-400h160v-160H180v160Zm440 0h160v-160H620v160ZM180-180h160v-160H180v160Zm440 0h160v-160H620v160Z\"/>\n",
              "  </svg>\n",
              "    </button>\n",
              "\n",
              "  <style>\n",
              "    .colab-df-container {\n",
              "      display:flex;\n",
              "      gap: 12px;\n",
              "    }\n",
              "\n",
              "    .colab-df-convert {\n",
              "      background-color: #E8F0FE;\n",
              "      border: none;\n",
              "      border-radius: 50%;\n",
              "      cursor: pointer;\n",
              "      display: none;\n",
              "      fill: #1967D2;\n",
              "      height: 32px;\n",
              "      padding: 0 0 0 0;\n",
              "      width: 32px;\n",
              "    }\n",
              "\n",
              "    .colab-df-convert:hover {\n",
              "      background-color: #E2EBFA;\n",
              "      box-shadow: 0px 1px 2px rgba(60, 64, 67, 0.3), 0px 1px 3px 1px rgba(60, 64, 67, 0.15);\n",
              "      fill: #174EA6;\n",
              "    }\n",
              "\n",
              "    .colab-df-buttons div {\n",
              "      margin-bottom: 4px;\n",
              "    }\n",
              "\n",
              "    [theme=dark] .colab-df-convert {\n",
              "      background-color: #3B4455;\n",
              "      fill: #D2E3FC;\n",
              "    }\n",
              "\n",
              "    [theme=dark] .colab-df-convert:hover {\n",
              "      background-color: #434B5C;\n",
              "      box-shadow: 0px 1px 3px 1px rgba(0, 0, 0, 0.15);\n",
              "      filter: drop-shadow(0px 1px 2px rgba(0, 0, 0, 0.3));\n",
              "      fill: #FFFFFF;\n",
              "    }\n",
              "  </style>\n",
              "\n",
              "    <script>\n",
              "      const buttonEl =\n",
              "        document.querySelector('#df-ba8c08f4-64bc-467b-9d5a-4f645cdd8b9a button.colab-df-convert');\n",
              "      buttonEl.style.display =\n",
              "        google.colab.kernel.accessAllowed ? 'block' : 'none';\n",
              "\n",
              "      async function convertToInteractive(key) {\n",
              "        const element = document.querySelector('#df-ba8c08f4-64bc-467b-9d5a-4f645cdd8b9a');\n",
              "        const dataTable =\n",
              "          await google.colab.kernel.invokeFunction('convertToInteractive',\n",
              "                                                    [key], {});\n",
              "        if (!dataTable) return;\n",
              "\n",
              "        const docLinkHtml = 'Like what you see? Visit the ' +\n",
              "          '<a target=\"_blank\" href=https://colab.research.google.com/notebooks/data_table.ipynb>data table notebook</a>'\n",
              "          + ' to learn more about interactive tables.';\n",
              "        element.innerHTML = '';\n",
              "        dataTable['output_type'] = 'display_data';\n",
              "        await google.colab.output.renderOutput(dataTable, element);\n",
              "        const docLink = document.createElement('div');\n",
              "        docLink.innerHTML = docLinkHtml;\n",
              "        element.appendChild(docLink);\n",
              "      }\n",
              "    </script>\n",
              "  </div>\n",
              "\n",
              "\n",
              "<div id=\"df-deb6d32f-8bdb-40c4-9c7c-34716bf4d2eb\">\n",
              "  <button class=\"colab-df-quickchart\" onclick=\"quickchart('df-deb6d32f-8bdb-40c4-9c7c-34716bf4d2eb')\"\n",
              "            title=\"Suggest charts\"\n",
              "            style=\"display:none;\">\n",
              "\n",
              "<svg xmlns=\"http://www.w3.org/2000/svg\" height=\"24px\"viewBox=\"0 0 24 24\"\n",
              "     width=\"24px\">\n",
              "    <g>\n",
              "        <path d=\"M19 3H5c-1.1 0-2 .9-2 2v14c0 1.1.9 2 2 2h14c1.1 0 2-.9 2-2V5c0-1.1-.9-2-2-2zM9 17H7v-7h2v7zm4 0h-2V7h2v10zm4 0h-2v-4h2v4z\"/>\n",
              "    </g>\n",
              "</svg>\n",
              "  </button>\n",
              "\n",
              "<style>\n",
              "  .colab-df-quickchart {\n",
              "      --bg-color: #E8F0FE;\n",
              "      --fill-color: #1967D2;\n",
              "      --hover-bg-color: #E2EBFA;\n",
              "      --hover-fill-color: #174EA6;\n",
              "      --disabled-fill-color: #AAA;\n",
              "      --disabled-bg-color: #DDD;\n",
              "  }\n",
              "\n",
              "  [theme=dark] .colab-df-quickchart {\n",
              "      --bg-color: #3B4455;\n",
              "      --fill-color: #D2E3FC;\n",
              "      --hover-bg-color: #434B5C;\n",
              "      --hover-fill-color: #FFFFFF;\n",
              "      --disabled-bg-color: #3B4455;\n",
              "      --disabled-fill-color: #666;\n",
              "  }\n",
              "\n",
              "  .colab-df-quickchart {\n",
              "    background-color: var(--bg-color);\n",
              "    border: none;\n",
              "    border-radius: 50%;\n",
              "    cursor: pointer;\n",
              "    display: none;\n",
              "    fill: var(--fill-color);\n",
              "    height: 32px;\n",
              "    padding: 0;\n",
              "    width: 32px;\n",
              "  }\n",
              "\n",
              "  .colab-df-quickchart:hover {\n",
              "    background-color: var(--hover-bg-color);\n",
              "    box-shadow: 0 1px 2px rgba(60, 64, 67, 0.3), 0 1px 3px 1px rgba(60, 64, 67, 0.15);\n",
              "    fill: var(--button-hover-fill-color);\n",
              "  }\n",
              "\n",
              "  .colab-df-quickchart-complete:disabled,\n",
              "  .colab-df-quickchart-complete:disabled:hover {\n",
              "    background-color: var(--disabled-bg-color);\n",
              "    fill: var(--disabled-fill-color);\n",
              "    box-shadow: none;\n",
              "  }\n",
              "\n",
              "  .colab-df-spinner {\n",
              "    border: 2px solid var(--fill-color);\n",
              "    border-color: transparent;\n",
              "    border-bottom-color: var(--fill-color);\n",
              "    animation:\n",
              "      spin 1s steps(1) infinite;\n",
              "  }\n",
              "\n",
              "  @keyframes spin {\n",
              "    0% {\n",
              "      border-color: transparent;\n",
              "      border-bottom-color: var(--fill-color);\n",
              "      border-left-color: var(--fill-color);\n",
              "    }\n",
              "    20% {\n",
              "      border-color: transparent;\n",
              "      border-left-color: var(--fill-color);\n",
              "      border-top-color: var(--fill-color);\n",
              "    }\n",
              "    30% {\n",
              "      border-color: transparent;\n",
              "      border-left-color: var(--fill-color);\n",
              "      border-top-color: var(--fill-color);\n",
              "      border-right-color: var(--fill-color);\n",
              "    }\n",
              "    40% {\n",
              "      border-color: transparent;\n",
              "      border-right-color: var(--fill-color);\n",
              "      border-top-color: var(--fill-color);\n",
              "    }\n",
              "    60% {\n",
              "      border-color: transparent;\n",
              "      border-right-color: var(--fill-color);\n",
              "    }\n",
              "    80% {\n",
              "      border-color: transparent;\n",
              "      border-right-color: var(--fill-color);\n",
              "      border-bottom-color: var(--fill-color);\n",
              "    }\n",
              "    90% {\n",
              "      border-color: transparent;\n",
              "      border-bottom-color: var(--fill-color);\n",
              "    }\n",
              "  }\n",
              "</style>\n",
              "\n",
              "  <script>\n",
              "    async function quickchart(key) {\n",
              "      const quickchartButtonEl =\n",
              "        document.querySelector('#' + key + ' button');\n",
              "      quickchartButtonEl.disabled = true;  // To prevent multiple clicks.\n",
              "      quickchartButtonEl.classList.add('colab-df-spinner');\n",
              "      try {\n",
              "        const charts = await google.colab.kernel.invokeFunction(\n",
              "            'suggestCharts', [key], {});\n",
              "      } catch (error) {\n",
              "        console.error('Error during call to suggestCharts:', error);\n",
              "      }\n",
              "      quickchartButtonEl.classList.remove('colab-df-spinner');\n",
              "      quickchartButtonEl.classList.add('colab-df-quickchart-complete');\n",
              "    }\n",
              "    (() => {\n",
              "      let quickchartButtonEl =\n",
              "        document.querySelector('#df-deb6d32f-8bdb-40c4-9c7c-34716bf4d2eb button');\n",
              "      quickchartButtonEl.style.display =\n",
              "        google.colab.kernel.accessAllowed ? 'block' : 'none';\n",
              "    })();\n",
              "  </script>\n",
              "</div>\n",
              "    </div>\n",
              "  </div>\n"
            ]
          },
          "metadata": {},
          "execution_count": 90
        }
      ]
    },
    {
      "cell_type": "markdown",
      "source": [
        "#ENCODING"
      ],
      "metadata": {
        "id": "YiZiBXFOLuDO"
      }
    },
    {
      "cell_type": "code",
      "source": [
        "new_df['Drug'].unique()"
      ],
      "metadata": {
        "colab": {
          "base_uri": "https://localhost:8080/"
        },
        "outputId": "22291bdf-e0f3-4c7a-bc94-8367eb65806b",
        "id": "T9H-lL9eLuDP"
      },
      "execution_count": null,
      "outputs": [
        {
          "output_type": "execute_result",
          "data": {
            "text/plain": [
              "array(['DrugY', 'drugC', 'drugX', 'drugA', 'drugB'], dtype=object)"
            ]
          },
          "metadata": {},
          "execution_count": 91
        }
      ]
    },
    {
      "cell_type": "code",
      "source": [
        "oe = OrdinalEncoder(categories=[['DrugY', 'drugC', 'drugX', 'drugA', 'drugB']])\n",
        "new_df['Drug'] = oe.fit_transform(new_df[['Drug']])"
      ],
      "metadata": {
        "id": "UX_WcY4VG1V_"
      },
      "execution_count": null,
      "outputs": []
    },
    {
      "cell_type": "code",
      "source": [
        "new_df['Drug'].unique()"
      ],
      "metadata": {
        "id": "DWb3MX0p6FWN",
        "colab": {
          "base_uri": "https://localhost:8080/"
        },
        "outputId": "af675ad4-6606-405a-e4e3-d14d1c4b92a1"
      },
      "execution_count": null,
      "outputs": [
        {
          "output_type": "execute_result",
          "data": {
            "text/plain": [
              "array([0., 1., 2., 3., 4.])"
            ]
          },
          "metadata": {},
          "execution_count": 93
        }
      ]
    },
    {
      "cell_type": "code",
      "source": [
        "oe = OrdinalEncoder(categories=[['NORMAL','LOW', 'HIGH']])\n",
        "new_df['BP'] = oe.fit_transform(new_df[['BP']])"
      ],
      "metadata": {
        "id": "8KAa0CpPEuSU"
      },
      "execution_count": null,
      "outputs": []
    },
    {
      "cell_type": "code",
      "source": [
        "new_df['BP'].unique()"
      ],
      "metadata": {
        "colab": {
          "base_uri": "https://localhost:8080/"
        },
        "id": "NfYt_rk5FpKI",
        "outputId": "1cd2646d-c71d-4fe6-8e50-221133bc19ba"
      },
      "execution_count": null,
      "outputs": [
        {
          "output_type": "execute_result",
          "data": {
            "text/plain": [
              "array([2., 1., 0.])"
            ]
          },
          "metadata": {},
          "execution_count": 95
        }
      ]
    },
    {
      "cell_type": "code",
      "source": [
        "new_df['Cholesterol'].unique()"
      ],
      "metadata": {
        "id": "pPRYjR2L6FY5",
        "colab": {
          "base_uri": "https://localhost:8080/"
        },
        "outputId": "1eab07ef-060e-40e2-e99b-a121c9f576ac"
      },
      "execution_count": null,
      "outputs": [
        {
          "output_type": "execute_result",
          "data": {
            "text/plain": [
              "array(['HIGH', 'NORMAL'], dtype=object)"
            ]
          },
          "metadata": {},
          "execution_count": 96
        }
      ]
    },
    {
      "cell_type": "code",
      "source": [
        "new_df = pd.get_dummies(new_df, columns=['Cholesterol'])"
      ],
      "metadata": {
        "id": "al4umj5LHJF2"
      },
      "execution_count": null,
      "outputs": []
    },
    {
      "cell_type": "code",
      "source": [
        "new_df['Sex'].unique()"
      ],
      "metadata": {
        "id": "NpkjTIs-6Fb0",
        "colab": {
          "base_uri": "https://localhost:8080/"
        },
        "outputId": "c83d8c26-e12a-4bef-cb14-5f25933e875d"
      },
      "execution_count": null,
      "outputs": [
        {
          "output_type": "execute_result",
          "data": {
            "text/plain": [
              "array(['F', 'M'], dtype=object)"
            ]
          },
          "metadata": {},
          "execution_count": 98
        }
      ]
    },
    {
      "cell_type": "code",
      "source": [
        "new_df = pd.get_dummies(new_df, columns=['Sex'])\n",
        "new_df"
      ],
      "metadata": {
        "colab": {
          "base_uri": "https://localhost:8080/",
          "height": 423
        },
        "outputId": "a368d3d8-4138-4320-b957-bb23d4956a36",
        "id": "Y1RZlr_FLuDR"
      },
      "execution_count": null,
      "outputs": [
        {
          "output_type": "execute_result",
          "data": {
            "text/plain": [
              "     Age   BP  Na_to_K  Drug  Cholesterol_HIGH  Cholesterol_NORMAL  Sex_F  \\\n",
              "0     23  2.0   25.355   0.0                 1                   0      1   \n",
              "1     47  1.0   13.093   1.0                 1                   0      0   \n",
              "2     47  1.0   10.114   1.0                 1                   0      0   \n",
              "3     28  0.0    7.798   2.0                 1                   0      1   \n",
              "4     61  1.0   18.043   0.0                 1                   0      1   \n",
              "..   ...  ...      ...   ...               ...                 ...    ...   \n",
              "195   56  1.0   11.567   1.0                 1                   0      1   \n",
              "196   16  1.0   12.006   1.0                 1                   0      0   \n",
              "197   52  0.0    9.894   2.0                 1                   0      0   \n",
              "198   23  0.0   14.020   2.0                 0                   1      0   \n",
              "199   40  1.0   11.349   2.0                 0                   1      1   \n",
              "\n",
              "     Sex_M  \n",
              "0        0  \n",
              "1        1  \n",
              "2        1  \n",
              "3        0  \n",
              "4        0  \n",
              "..     ...  \n",
              "195      0  \n",
              "196      1  \n",
              "197      1  \n",
              "198      1  \n",
              "199      0  \n",
              "\n",
              "[200 rows x 8 columns]"
            ],
            "text/html": [
              "\n",
              "  <div id=\"df-f4d11ddb-aee5-4d41-94ed-703f69a300d8\" class=\"colab-df-container\">\n",
              "    <div>\n",
              "<style scoped>\n",
              "    .dataframe tbody tr th:only-of-type {\n",
              "        vertical-align: middle;\n",
              "    }\n",
              "\n",
              "    .dataframe tbody tr th {\n",
              "        vertical-align: top;\n",
              "    }\n",
              "\n",
              "    .dataframe thead th {\n",
              "        text-align: right;\n",
              "    }\n",
              "</style>\n",
              "<table border=\"1\" class=\"dataframe\">\n",
              "  <thead>\n",
              "    <tr style=\"text-align: right;\">\n",
              "      <th></th>\n",
              "      <th>Age</th>\n",
              "      <th>BP</th>\n",
              "      <th>Na_to_K</th>\n",
              "      <th>Drug</th>\n",
              "      <th>Cholesterol_HIGH</th>\n",
              "      <th>Cholesterol_NORMAL</th>\n",
              "      <th>Sex_F</th>\n",
              "      <th>Sex_M</th>\n",
              "    </tr>\n",
              "  </thead>\n",
              "  <tbody>\n",
              "    <tr>\n",
              "      <th>0</th>\n",
              "      <td>23</td>\n",
              "      <td>2.0</td>\n",
              "      <td>25.355</td>\n",
              "      <td>0.0</td>\n",
              "      <td>1</td>\n",
              "      <td>0</td>\n",
              "      <td>1</td>\n",
              "      <td>0</td>\n",
              "    </tr>\n",
              "    <tr>\n",
              "      <th>1</th>\n",
              "      <td>47</td>\n",
              "      <td>1.0</td>\n",
              "      <td>13.093</td>\n",
              "      <td>1.0</td>\n",
              "      <td>1</td>\n",
              "      <td>0</td>\n",
              "      <td>0</td>\n",
              "      <td>1</td>\n",
              "    </tr>\n",
              "    <tr>\n",
              "      <th>2</th>\n",
              "      <td>47</td>\n",
              "      <td>1.0</td>\n",
              "      <td>10.114</td>\n",
              "      <td>1.0</td>\n",
              "      <td>1</td>\n",
              "      <td>0</td>\n",
              "      <td>0</td>\n",
              "      <td>1</td>\n",
              "    </tr>\n",
              "    <tr>\n",
              "      <th>3</th>\n",
              "      <td>28</td>\n",
              "      <td>0.0</td>\n",
              "      <td>7.798</td>\n",
              "      <td>2.0</td>\n",
              "      <td>1</td>\n",
              "      <td>0</td>\n",
              "      <td>1</td>\n",
              "      <td>0</td>\n",
              "    </tr>\n",
              "    <tr>\n",
              "      <th>4</th>\n",
              "      <td>61</td>\n",
              "      <td>1.0</td>\n",
              "      <td>18.043</td>\n",
              "      <td>0.0</td>\n",
              "      <td>1</td>\n",
              "      <td>0</td>\n",
              "      <td>1</td>\n",
              "      <td>0</td>\n",
              "    </tr>\n",
              "    <tr>\n",
              "      <th>...</th>\n",
              "      <td>...</td>\n",
              "      <td>...</td>\n",
              "      <td>...</td>\n",
              "      <td>...</td>\n",
              "      <td>...</td>\n",
              "      <td>...</td>\n",
              "      <td>...</td>\n",
              "      <td>...</td>\n",
              "    </tr>\n",
              "    <tr>\n",
              "      <th>195</th>\n",
              "      <td>56</td>\n",
              "      <td>1.0</td>\n",
              "      <td>11.567</td>\n",
              "      <td>1.0</td>\n",
              "      <td>1</td>\n",
              "      <td>0</td>\n",
              "      <td>1</td>\n",
              "      <td>0</td>\n",
              "    </tr>\n",
              "    <tr>\n",
              "      <th>196</th>\n",
              "      <td>16</td>\n",
              "      <td>1.0</td>\n",
              "      <td>12.006</td>\n",
              "      <td>1.0</td>\n",
              "      <td>1</td>\n",
              "      <td>0</td>\n",
              "      <td>0</td>\n",
              "      <td>1</td>\n",
              "    </tr>\n",
              "    <tr>\n",
              "      <th>197</th>\n",
              "      <td>52</td>\n",
              "      <td>0.0</td>\n",
              "      <td>9.894</td>\n",
              "      <td>2.0</td>\n",
              "      <td>1</td>\n",
              "      <td>0</td>\n",
              "      <td>0</td>\n",
              "      <td>1</td>\n",
              "    </tr>\n",
              "    <tr>\n",
              "      <th>198</th>\n",
              "      <td>23</td>\n",
              "      <td>0.0</td>\n",
              "      <td>14.020</td>\n",
              "      <td>2.0</td>\n",
              "      <td>0</td>\n",
              "      <td>1</td>\n",
              "      <td>0</td>\n",
              "      <td>1</td>\n",
              "    </tr>\n",
              "    <tr>\n",
              "      <th>199</th>\n",
              "      <td>40</td>\n",
              "      <td>1.0</td>\n",
              "      <td>11.349</td>\n",
              "      <td>2.0</td>\n",
              "      <td>0</td>\n",
              "      <td>1</td>\n",
              "      <td>1</td>\n",
              "      <td>0</td>\n",
              "    </tr>\n",
              "  </tbody>\n",
              "</table>\n",
              "<p>200 rows × 8 columns</p>\n",
              "</div>\n",
              "    <div class=\"colab-df-buttons\">\n",
              "\n",
              "  <div class=\"colab-df-container\">\n",
              "    <button class=\"colab-df-convert\" onclick=\"convertToInteractive('df-f4d11ddb-aee5-4d41-94ed-703f69a300d8')\"\n",
              "            title=\"Convert this dataframe to an interactive table.\"\n",
              "            style=\"display:none;\">\n",
              "\n",
              "  <svg xmlns=\"http://www.w3.org/2000/svg\" height=\"24px\" viewBox=\"0 -960 960 960\">\n",
              "    <path d=\"M120-120v-720h720v720H120Zm60-500h600v-160H180v160Zm220 220h160v-160H400v160Zm0 220h160v-160H400v160ZM180-400h160v-160H180v160Zm440 0h160v-160H620v160ZM180-180h160v-160H180v160Zm440 0h160v-160H620v160Z\"/>\n",
              "  </svg>\n",
              "    </button>\n",
              "\n",
              "  <style>\n",
              "    .colab-df-container {\n",
              "      display:flex;\n",
              "      gap: 12px;\n",
              "    }\n",
              "\n",
              "    .colab-df-convert {\n",
              "      background-color: #E8F0FE;\n",
              "      border: none;\n",
              "      border-radius: 50%;\n",
              "      cursor: pointer;\n",
              "      display: none;\n",
              "      fill: #1967D2;\n",
              "      height: 32px;\n",
              "      padding: 0 0 0 0;\n",
              "      width: 32px;\n",
              "    }\n",
              "\n",
              "    .colab-df-convert:hover {\n",
              "      background-color: #E2EBFA;\n",
              "      box-shadow: 0px 1px 2px rgba(60, 64, 67, 0.3), 0px 1px 3px 1px rgba(60, 64, 67, 0.15);\n",
              "      fill: #174EA6;\n",
              "    }\n",
              "\n",
              "    .colab-df-buttons div {\n",
              "      margin-bottom: 4px;\n",
              "    }\n",
              "\n",
              "    [theme=dark] .colab-df-convert {\n",
              "      background-color: #3B4455;\n",
              "      fill: #D2E3FC;\n",
              "    }\n",
              "\n",
              "    [theme=dark] .colab-df-convert:hover {\n",
              "      background-color: #434B5C;\n",
              "      box-shadow: 0px 1px 3px 1px rgba(0, 0, 0, 0.15);\n",
              "      filter: drop-shadow(0px 1px 2px rgba(0, 0, 0, 0.3));\n",
              "      fill: #FFFFFF;\n",
              "    }\n",
              "  </style>\n",
              "\n",
              "    <script>\n",
              "      const buttonEl =\n",
              "        document.querySelector('#df-f4d11ddb-aee5-4d41-94ed-703f69a300d8 button.colab-df-convert');\n",
              "      buttonEl.style.display =\n",
              "        google.colab.kernel.accessAllowed ? 'block' : 'none';\n",
              "\n",
              "      async function convertToInteractive(key) {\n",
              "        const element = document.querySelector('#df-f4d11ddb-aee5-4d41-94ed-703f69a300d8');\n",
              "        const dataTable =\n",
              "          await google.colab.kernel.invokeFunction('convertToInteractive',\n",
              "                                                    [key], {});\n",
              "        if (!dataTable) return;\n",
              "\n",
              "        const docLinkHtml = 'Like what you see? Visit the ' +\n",
              "          '<a target=\"_blank\" href=https://colab.research.google.com/notebooks/data_table.ipynb>data table notebook</a>'\n",
              "          + ' to learn more about interactive tables.';\n",
              "        element.innerHTML = '';\n",
              "        dataTable['output_type'] = 'display_data';\n",
              "        await google.colab.output.renderOutput(dataTable, element);\n",
              "        const docLink = document.createElement('div');\n",
              "        docLink.innerHTML = docLinkHtml;\n",
              "        element.appendChild(docLink);\n",
              "      }\n",
              "    </script>\n",
              "  </div>\n",
              "\n",
              "\n",
              "<div id=\"df-fd766f0c-8584-4be8-8bb9-791c59c65717\">\n",
              "  <button class=\"colab-df-quickchart\" onclick=\"quickchart('df-fd766f0c-8584-4be8-8bb9-791c59c65717')\"\n",
              "            title=\"Suggest charts\"\n",
              "            style=\"display:none;\">\n",
              "\n",
              "<svg xmlns=\"http://www.w3.org/2000/svg\" height=\"24px\"viewBox=\"0 0 24 24\"\n",
              "     width=\"24px\">\n",
              "    <g>\n",
              "        <path d=\"M19 3H5c-1.1 0-2 .9-2 2v14c0 1.1.9 2 2 2h14c1.1 0 2-.9 2-2V5c0-1.1-.9-2-2-2zM9 17H7v-7h2v7zm4 0h-2V7h2v10zm4 0h-2v-4h2v4z\"/>\n",
              "    </g>\n",
              "</svg>\n",
              "  </button>\n",
              "\n",
              "<style>\n",
              "  .colab-df-quickchart {\n",
              "      --bg-color: #E8F0FE;\n",
              "      --fill-color: #1967D2;\n",
              "      --hover-bg-color: #E2EBFA;\n",
              "      --hover-fill-color: #174EA6;\n",
              "      --disabled-fill-color: #AAA;\n",
              "      --disabled-bg-color: #DDD;\n",
              "  }\n",
              "\n",
              "  [theme=dark] .colab-df-quickchart {\n",
              "      --bg-color: #3B4455;\n",
              "      --fill-color: #D2E3FC;\n",
              "      --hover-bg-color: #434B5C;\n",
              "      --hover-fill-color: #FFFFFF;\n",
              "      --disabled-bg-color: #3B4455;\n",
              "      --disabled-fill-color: #666;\n",
              "  }\n",
              "\n",
              "  .colab-df-quickchart {\n",
              "    background-color: var(--bg-color);\n",
              "    border: none;\n",
              "    border-radius: 50%;\n",
              "    cursor: pointer;\n",
              "    display: none;\n",
              "    fill: var(--fill-color);\n",
              "    height: 32px;\n",
              "    padding: 0;\n",
              "    width: 32px;\n",
              "  }\n",
              "\n",
              "  .colab-df-quickchart:hover {\n",
              "    background-color: var(--hover-bg-color);\n",
              "    box-shadow: 0 1px 2px rgba(60, 64, 67, 0.3), 0 1px 3px 1px rgba(60, 64, 67, 0.15);\n",
              "    fill: var(--button-hover-fill-color);\n",
              "  }\n",
              "\n",
              "  .colab-df-quickchart-complete:disabled,\n",
              "  .colab-df-quickchart-complete:disabled:hover {\n",
              "    background-color: var(--disabled-bg-color);\n",
              "    fill: var(--disabled-fill-color);\n",
              "    box-shadow: none;\n",
              "  }\n",
              "\n",
              "  .colab-df-spinner {\n",
              "    border: 2px solid var(--fill-color);\n",
              "    border-color: transparent;\n",
              "    border-bottom-color: var(--fill-color);\n",
              "    animation:\n",
              "      spin 1s steps(1) infinite;\n",
              "  }\n",
              "\n",
              "  @keyframes spin {\n",
              "    0% {\n",
              "      border-color: transparent;\n",
              "      border-bottom-color: var(--fill-color);\n",
              "      border-left-color: var(--fill-color);\n",
              "    }\n",
              "    20% {\n",
              "      border-color: transparent;\n",
              "      border-left-color: var(--fill-color);\n",
              "      border-top-color: var(--fill-color);\n",
              "    }\n",
              "    30% {\n",
              "      border-color: transparent;\n",
              "      border-left-color: var(--fill-color);\n",
              "      border-top-color: var(--fill-color);\n",
              "      border-right-color: var(--fill-color);\n",
              "    }\n",
              "    40% {\n",
              "      border-color: transparent;\n",
              "      border-right-color: var(--fill-color);\n",
              "      border-top-color: var(--fill-color);\n",
              "    }\n",
              "    60% {\n",
              "      border-color: transparent;\n",
              "      border-right-color: var(--fill-color);\n",
              "    }\n",
              "    80% {\n",
              "      border-color: transparent;\n",
              "      border-right-color: var(--fill-color);\n",
              "      border-bottom-color: var(--fill-color);\n",
              "    }\n",
              "    90% {\n",
              "      border-color: transparent;\n",
              "      border-bottom-color: var(--fill-color);\n",
              "    }\n",
              "  }\n",
              "</style>\n",
              "\n",
              "  <script>\n",
              "    async function quickchart(key) {\n",
              "      const quickchartButtonEl =\n",
              "        document.querySelector('#' + key + ' button');\n",
              "      quickchartButtonEl.disabled = true;  // To prevent multiple clicks.\n",
              "      quickchartButtonEl.classList.add('colab-df-spinner');\n",
              "      try {\n",
              "        const charts = await google.colab.kernel.invokeFunction(\n",
              "            'suggestCharts', [key], {});\n",
              "      } catch (error) {\n",
              "        console.error('Error during call to suggestCharts:', error);\n",
              "      }\n",
              "      quickchartButtonEl.classList.remove('colab-df-spinner');\n",
              "      quickchartButtonEl.classList.add('colab-df-quickchart-complete');\n",
              "    }\n",
              "    (() => {\n",
              "      let quickchartButtonEl =\n",
              "        document.querySelector('#df-fd766f0c-8584-4be8-8bb9-791c59c65717 button');\n",
              "      quickchartButtonEl.style.display =\n",
              "        google.colab.kernel.accessAllowed ? 'block' : 'none';\n",
              "    })();\n",
              "  </script>\n",
              "</div>\n",
              "    </div>\n",
              "  </div>\n"
            ]
          },
          "metadata": {},
          "execution_count": 99
        }
      ]
    },
    {
      "cell_type": "markdown",
      "source": [
        "#EDA#"
      ],
      "metadata": {
        "id": "wkH4rJMs1Dcv"
      }
    },
    {
      "cell_type": "code",
      "source": [
        "new_df.info()"
      ],
      "metadata": {
        "id": "s09pEedlqnYN",
        "colab": {
          "base_uri": "https://localhost:8080/"
        },
        "outputId": "370074d2-0dbe-448a-cc26-f01915761e3b"
      },
      "execution_count": null,
      "outputs": [
        {
          "output_type": "stream",
          "name": "stdout",
          "text": [
            "<class 'pandas.core.frame.DataFrame'>\n",
            "RangeIndex: 200 entries, 0 to 199\n",
            "Data columns (total 8 columns):\n",
            " #   Column              Non-Null Count  Dtype  \n",
            "---  ------              --------------  -----  \n",
            " 0   Age                 200 non-null    int64  \n",
            " 1   BP                  200 non-null    float64\n",
            " 2   Na_to_K             200 non-null    float64\n",
            " 3   Drug                200 non-null    float64\n",
            " 4   Cholesterol_HIGH    200 non-null    uint8  \n",
            " 5   Cholesterol_NORMAL  200 non-null    uint8  \n",
            " 6   Sex_F               200 non-null    uint8  \n",
            " 7   Sex_M               200 non-null    uint8  \n",
            "dtypes: float64(3), int64(1), uint8(4)\n",
            "memory usage: 7.2 KB\n"
          ]
        }
      ]
    },
    {
      "cell_type": "code",
      "source": [
        "new_df.isnull().sum()"
      ],
      "metadata": {
        "id": "90AvlBKlajv3",
        "colab": {
          "base_uri": "https://localhost:8080/"
        },
        "outputId": "9a05ecef-48c8-428a-fdb1-e39e76ce7bd5"
      },
      "execution_count": null,
      "outputs": [
        {
          "output_type": "execute_result",
          "data": {
            "text/plain": [
              "Age                   0\n",
              "BP                    0\n",
              "Na_to_K               0\n",
              "Drug                  0\n",
              "Cholesterol_HIGH      0\n",
              "Cholesterol_NORMAL    0\n",
              "Sex_F                 0\n",
              "Sex_M                 0\n",
              "dtype: int64"
            ]
          },
          "metadata": {},
          "execution_count": 101
        }
      ]
    },
    {
      "cell_type": "code",
      "source": [
        "new_df.head(5)"
      ],
      "metadata": {
        "id": "qNUz84EP8F20",
        "colab": {
          "base_uri": "https://localhost:8080/",
          "height": 206
        },
        "outputId": "13d918f6-f7c4-4716-9620-bb701db1c1c3"
      },
      "execution_count": null,
      "outputs": [
        {
          "output_type": "execute_result",
          "data": {
            "text/plain": [
              "   Age   BP  Na_to_K  Drug  Cholesterol_HIGH  Cholesterol_NORMAL  Sex_F  Sex_M\n",
              "0   23  2.0   25.355   0.0                 1                   0      1      0\n",
              "1   47  1.0   13.093   1.0                 1                   0      0      1\n",
              "2   47  1.0   10.114   1.0                 1                   0      0      1\n",
              "3   28  0.0    7.798   2.0                 1                   0      1      0\n",
              "4   61  1.0   18.043   0.0                 1                   0      1      0"
            ],
            "text/html": [
              "\n",
              "  <div id=\"df-948b2409-3e8d-445c-89ca-647fa2cba7b8\" class=\"colab-df-container\">\n",
              "    <div>\n",
              "<style scoped>\n",
              "    .dataframe tbody tr th:only-of-type {\n",
              "        vertical-align: middle;\n",
              "    }\n",
              "\n",
              "    .dataframe tbody tr th {\n",
              "        vertical-align: top;\n",
              "    }\n",
              "\n",
              "    .dataframe thead th {\n",
              "        text-align: right;\n",
              "    }\n",
              "</style>\n",
              "<table border=\"1\" class=\"dataframe\">\n",
              "  <thead>\n",
              "    <tr style=\"text-align: right;\">\n",
              "      <th></th>\n",
              "      <th>Age</th>\n",
              "      <th>BP</th>\n",
              "      <th>Na_to_K</th>\n",
              "      <th>Drug</th>\n",
              "      <th>Cholesterol_HIGH</th>\n",
              "      <th>Cholesterol_NORMAL</th>\n",
              "      <th>Sex_F</th>\n",
              "      <th>Sex_M</th>\n",
              "    </tr>\n",
              "  </thead>\n",
              "  <tbody>\n",
              "    <tr>\n",
              "      <th>0</th>\n",
              "      <td>23</td>\n",
              "      <td>2.0</td>\n",
              "      <td>25.355</td>\n",
              "      <td>0.0</td>\n",
              "      <td>1</td>\n",
              "      <td>0</td>\n",
              "      <td>1</td>\n",
              "      <td>0</td>\n",
              "    </tr>\n",
              "    <tr>\n",
              "      <th>1</th>\n",
              "      <td>47</td>\n",
              "      <td>1.0</td>\n",
              "      <td>13.093</td>\n",
              "      <td>1.0</td>\n",
              "      <td>1</td>\n",
              "      <td>0</td>\n",
              "      <td>0</td>\n",
              "      <td>1</td>\n",
              "    </tr>\n",
              "    <tr>\n",
              "      <th>2</th>\n",
              "      <td>47</td>\n",
              "      <td>1.0</td>\n",
              "      <td>10.114</td>\n",
              "      <td>1.0</td>\n",
              "      <td>1</td>\n",
              "      <td>0</td>\n",
              "      <td>0</td>\n",
              "      <td>1</td>\n",
              "    </tr>\n",
              "    <tr>\n",
              "      <th>3</th>\n",
              "      <td>28</td>\n",
              "      <td>0.0</td>\n",
              "      <td>7.798</td>\n",
              "      <td>2.0</td>\n",
              "      <td>1</td>\n",
              "      <td>0</td>\n",
              "      <td>1</td>\n",
              "      <td>0</td>\n",
              "    </tr>\n",
              "    <tr>\n",
              "      <th>4</th>\n",
              "      <td>61</td>\n",
              "      <td>1.0</td>\n",
              "      <td>18.043</td>\n",
              "      <td>0.0</td>\n",
              "      <td>1</td>\n",
              "      <td>0</td>\n",
              "      <td>1</td>\n",
              "      <td>0</td>\n",
              "    </tr>\n",
              "  </tbody>\n",
              "</table>\n",
              "</div>\n",
              "    <div class=\"colab-df-buttons\">\n",
              "\n",
              "  <div class=\"colab-df-container\">\n",
              "    <button class=\"colab-df-convert\" onclick=\"convertToInteractive('df-948b2409-3e8d-445c-89ca-647fa2cba7b8')\"\n",
              "            title=\"Convert this dataframe to an interactive table.\"\n",
              "            style=\"display:none;\">\n",
              "\n",
              "  <svg xmlns=\"http://www.w3.org/2000/svg\" height=\"24px\" viewBox=\"0 -960 960 960\">\n",
              "    <path d=\"M120-120v-720h720v720H120Zm60-500h600v-160H180v160Zm220 220h160v-160H400v160Zm0 220h160v-160H400v160ZM180-400h160v-160H180v160Zm440 0h160v-160H620v160ZM180-180h160v-160H180v160Zm440 0h160v-160H620v160Z\"/>\n",
              "  </svg>\n",
              "    </button>\n",
              "\n",
              "  <style>\n",
              "    .colab-df-container {\n",
              "      display:flex;\n",
              "      gap: 12px;\n",
              "    }\n",
              "\n",
              "    .colab-df-convert {\n",
              "      background-color: #E8F0FE;\n",
              "      border: none;\n",
              "      border-radius: 50%;\n",
              "      cursor: pointer;\n",
              "      display: none;\n",
              "      fill: #1967D2;\n",
              "      height: 32px;\n",
              "      padding: 0 0 0 0;\n",
              "      width: 32px;\n",
              "    }\n",
              "\n",
              "    .colab-df-convert:hover {\n",
              "      background-color: #E2EBFA;\n",
              "      box-shadow: 0px 1px 2px rgba(60, 64, 67, 0.3), 0px 1px 3px 1px rgba(60, 64, 67, 0.15);\n",
              "      fill: #174EA6;\n",
              "    }\n",
              "\n",
              "    .colab-df-buttons div {\n",
              "      margin-bottom: 4px;\n",
              "    }\n",
              "\n",
              "    [theme=dark] .colab-df-convert {\n",
              "      background-color: #3B4455;\n",
              "      fill: #D2E3FC;\n",
              "    }\n",
              "\n",
              "    [theme=dark] .colab-df-convert:hover {\n",
              "      background-color: #434B5C;\n",
              "      box-shadow: 0px 1px 3px 1px rgba(0, 0, 0, 0.15);\n",
              "      filter: drop-shadow(0px 1px 2px rgba(0, 0, 0, 0.3));\n",
              "      fill: #FFFFFF;\n",
              "    }\n",
              "  </style>\n",
              "\n",
              "    <script>\n",
              "      const buttonEl =\n",
              "        document.querySelector('#df-948b2409-3e8d-445c-89ca-647fa2cba7b8 button.colab-df-convert');\n",
              "      buttonEl.style.display =\n",
              "        google.colab.kernel.accessAllowed ? 'block' : 'none';\n",
              "\n",
              "      async function convertToInteractive(key) {\n",
              "        const element = document.querySelector('#df-948b2409-3e8d-445c-89ca-647fa2cba7b8');\n",
              "        const dataTable =\n",
              "          await google.colab.kernel.invokeFunction('convertToInteractive',\n",
              "                                                    [key], {});\n",
              "        if (!dataTable) return;\n",
              "\n",
              "        const docLinkHtml = 'Like what you see? Visit the ' +\n",
              "          '<a target=\"_blank\" href=https://colab.research.google.com/notebooks/data_table.ipynb>data table notebook</a>'\n",
              "          + ' to learn more about interactive tables.';\n",
              "        element.innerHTML = '';\n",
              "        dataTable['output_type'] = 'display_data';\n",
              "        await google.colab.output.renderOutput(dataTable, element);\n",
              "        const docLink = document.createElement('div');\n",
              "        docLink.innerHTML = docLinkHtml;\n",
              "        element.appendChild(docLink);\n",
              "      }\n",
              "    </script>\n",
              "  </div>\n",
              "\n",
              "\n",
              "<div id=\"df-255fa573-52c5-4a9d-9c4b-8323dc4e43f8\">\n",
              "  <button class=\"colab-df-quickchart\" onclick=\"quickchart('df-255fa573-52c5-4a9d-9c4b-8323dc4e43f8')\"\n",
              "            title=\"Suggest charts\"\n",
              "            style=\"display:none;\">\n",
              "\n",
              "<svg xmlns=\"http://www.w3.org/2000/svg\" height=\"24px\"viewBox=\"0 0 24 24\"\n",
              "     width=\"24px\">\n",
              "    <g>\n",
              "        <path d=\"M19 3H5c-1.1 0-2 .9-2 2v14c0 1.1.9 2 2 2h14c1.1 0 2-.9 2-2V5c0-1.1-.9-2-2-2zM9 17H7v-7h2v7zm4 0h-2V7h2v10zm4 0h-2v-4h2v4z\"/>\n",
              "    </g>\n",
              "</svg>\n",
              "  </button>\n",
              "\n",
              "<style>\n",
              "  .colab-df-quickchart {\n",
              "      --bg-color: #E8F0FE;\n",
              "      --fill-color: #1967D2;\n",
              "      --hover-bg-color: #E2EBFA;\n",
              "      --hover-fill-color: #174EA6;\n",
              "      --disabled-fill-color: #AAA;\n",
              "      --disabled-bg-color: #DDD;\n",
              "  }\n",
              "\n",
              "  [theme=dark] .colab-df-quickchart {\n",
              "      --bg-color: #3B4455;\n",
              "      --fill-color: #D2E3FC;\n",
              "      --hover-bg-color: #434B5C;\n",
              "      --hover-fill-color: #FFFFFF;\n",
              "      --disabled-bg-color: #3B4455;\n",
              "      --disabled-fill-color: #666;\n",
              "  }\n",
              "\n",
              "  .colab-df-quickchart {\n",
              "    background-color: var(--bg-color);\n",
              "    border: none;\n",
              "    border-radius: 50%;\n",
              "    cursor: pointer;\n",
              "    display: none;\n",
              "    fill: var(--fill-color);\n",
              "    height: 32px;\n",
              "    padding: 0;\n",
              "    width: 32px;\n",
              "  }\n",
              "\n",
              "  .colab-df-quickchart:hover {\n",
              "    background-color: var(--hover-bg-color);\n",
              "    box-shadow: 0 1px 2px rgba(60, 64, 67, 0.3), 0 1px 3px 1px rgba(60, 64, 67, 0.15);\n",
              "    fill: var(--button-hover-fill-color);\n",
              "  }\n",
              "\n",
              "  .colab-df-quickchart-complete:disabled,\n",
              "  .colab-df-quickchart-complete:disabled:hover {\n",
              "    background-color: var(--disabled-bg-color);\n",
              "    fill: var(--disabled-fill-color);\n",
              "    box-shadow: none;\n",
              "  }\n",
              "\n",
              "  .colab-df-spinner {\n",
              "    border: 2px solid var(--fill-color);\n",
              "    border-color: transparent;\n",
              "    border-bottom-color: var(--fill-color);\n",
              "    animation:\n",
              "      spin 1s steps(1) infinite;\n",
              "  }\n",
              "\n",
              "  @keyframes spin {\n",
              "    0% {\n",
              "      border-color: transparent;\n",
              "      border-bottom-color: var(--fill-color);\n",
              "      border-left-color: var(--fill-color);\n",
              "    }\n",
              "    20% {\n",
              "      border-color: transparent;\n",
              "      border-left-color: var(--fill-color);\n",
              "      border-top-color: var(--fill-color);\n",
              "    }\n",
              "    30% {\n",
              "      border-color: transparent;\n",
              "      border-left-color: var(--fill-color);\n",
              "      border-top-color: var(--fill-color);\n",
              "      border-right-color: var(--fill-color);\n",
              "    }\n",
              "    40% {\n",
              "      border-color: transparent;\n",
              "      border-right-color: var(--fill-color);\n",
              "      border-top-color: var(--fill-color);\n",
              "    }\n",
              "    60% {\n",
              "      border-color: transparent;\n",
              "      border-right-color: var(--fill-color);\n",
              "    }\n",
              "    80% {\n",
              "      border-color: transparent;\n",
              "      border-right-color: var(--fill-color);\n",
              "      border-bottom-color: var(--fill-color);\n",
              "    }\n",
              "    90% {\n",
              "      border-color: transparent;\n",
              "      border-bottom-color: var(--fill-color);\n",
              "    }\n",
              "  }\n",
              "</style>\n",
              "\n",
              "  <script>\n",
              "    async function quickchart(key) {\n",
              "      const quickchartButtonEl =\n",
              "        document.querySelector('#' + key + ' button');\n",
              "      quickchartButtonEl.disabled = true;  // To prevent multiple clicks.\n",
              "      quickchartButtonEl.classList.add('colab-df-spinner');\n",
              "      try {\n",
              "        const charts = await google.colab.kernel.invokeFunction(\n",
              "            'suggestCharts', [key], {});\n",
              "      } catch (error) {\n",
              "        console.error('Error during call to suggestCharts:', error);\n",
              "      }\n",
              "      quickchartButtonEl.classList.remove('colab-df-spinner');\n",
              "      quickchartButtonEl.classList.add('colab-df-quickchart-complete');\n",
              "    }\n",
              "    (() => {\n",
              "      let quickchartButtonEl =\n",
              "        document.querySelector('#df-255fa573-52c5-4a9d-9c4b-8323dc4e43f8 button');\n",
              "      quickchartButtonEl.style.display =\n",
              "        google.colab.kernel.accessAllowed ? 'block' : 'none';\n",
              "    })();\n",
              "  </script>\n",
              "</div>\n",
              "    </div>\n",
              "  </div>\n"
            ]
          },
          "metadata": {},
          "execution_count": 102
        }
      ]
    },
    {
      "cell_type": "markdown",
      "source": [
        "#CORRELATION"
      ],
      "metadata": {
        "id": "CjMIYEMrjuy1"
      }
    },
    {
      "cell_type": "code",
      "source": [
        "corr = new_df.corr()\n",
        "corr"
      ],
      "metadata": {
        "colab": {
          "base_uri": "https://localhost:8080/",
          "height": 300
        },
        "id": "i5pYHtChjMg2",
        "outputId": "3ac1e89f-7650-481c-8d48-25b033c70b55"
      },
      "execution_count": null,
      "outputs": [
        {
          "output_type": "execute_result",
          "data": {
            "text/plain": [
              "                         Age        BP   Na_to_K      Drug  Cholesterol_HIGH  \\\n",
              "Age                 1.000000 -0.054212 -0.063119  0.116672          0.068234   \n",
              "BP                 -0.054212  1.000000  0.149312  0.171052         -0.137552   \n",
              "Na_to_K            -0.063119  0.149312  1.000000 -0.679433         -0.010000   \n",
              "Drug                0.116672  0.171052 -0.679433  1.000000         -0.061895   \n",
              "Cholesterol_HIGH    0.068234 -0.137552 -0.010000 -0.061895          1.000000   \n",
              "Cholesterol_NORMAL -0.068234  0.137552  0.010000  0.061895         -1.000000   \n",
              "Sex_F              -0.102027 -0.007814  0.125008 -0.084186         -0.008811   \n",
              "Sex_M               0.102027  0.007814 -0.125008  0.084186          0.008811   \n",
              "\n",
              "                    Cholesterol_NORMAL     Sex_F     Sex_M  \n",
              "Age                          -0.068234 -0.102027  0.102027  \n",
              "BP                            0.137552 -0.007814  0.007814  \n",
              "Na_to_K                       0.010000  0.125008 -0.125008  \n",
              "Drug                          0.061895 -0.084186  0.084186  \n",
              "Cholesterol_HIGH             -1.000000 -0.008811  0.008811  \n",
              "Cholesterol_NORMAL            1.000000  0.008811 -0.008811  \n",
              "Sex_F                         0.008811  1.000000 -1.000000  \n",
              "Sex_M                        -0.008811 -1.000000  1.000000  "
            ],
            "text/html": [
              "\n",
              "  <div id=\"df-5169020f-a557-44d8-90ce-bdc1e2e51951\" class=\"colab-df-container\">\n",
              "    <div>\n",
              "<style scoped>\n",
              "    .dataframe tbody tr th:only-of-type {\n",
              "        vertical-align: middle;\n",
              "    }\n",
              "\n",
              "    .dataframe tbody tr th {\n",
              "        vertical-align: top;\n",
              "    }\n",
              "\n",
              "    .dataframe thead th {\n",
              "        text-align: right;\n",
              "    }\n",
              "</style>\n",
              "<table border=\"1\" class=\"dataframe\">\n",
              "  <thead>\n",
              "    <tr style=\"text-align: right;\">\n",
              "      <th></th>\n",
              "      <th>Age</th>\n",
              "      <th>BP</th>\n",
              "      <th>Na_to_K</th>\n",
              "      <th>Drug</th>\n",
              "      <th>Cholesterol_HIGH</th>\n",
              "      <th>Cholesterol_NORMAL</th>\n",
              "      <th>Sex_F</th>\n",
              "      <th>Sex_M</th>\n",
              "    </tr>\n",
              "  </thead>\n",
              "  <tbody>\n",
              "    <tr>\n",
              "      <th>Age</th>\n",
              "      <td>1.000000</td>\n",
              "      <td>-0.054212</td>\n",
              "      <td>-0.063119</td>\n",
              "      <td>0.116672</td>\n",
              "      <td>0.068234</td>\n",
              "      <td>-0.068234</td>\n",
              "      <td>-0.102027</td>\n",
              "      <td>0.102027</td>\n",
              "    </tr>\n",
              "    <tr>\n",
              "      <th>BP</th>\n",
              "      <td>-0.054212</td>\n",
              "      <td>1.000000</td>\n",
              "      <td>0.149312</td>\n",
              "      <td>0.171052</td>\n",
              "      <td>-0.137552</td>\n",
              "      <td>0.137552</td>\n",
              "      <td>-0.007814</td>\n",
              "      <td>0.007814</td>\n",
              "    </tr>\n",
              "    <tr>\n",
              "      <th>Na_to_K</th>\n",
              "      <td>-0.063119</td>\n",
              "      <td>0.149312</td>\n",
              "      <td>1.000000</td>\n",
              "      <td>-0.679433</td>\n",
              "      <td>-0.010000</td>\n",
              "      <td>0.010000</td>\n",
              "      <td>0.125008</td>\n",
              "      <td>-0.125008</td>\n",
              "    </tr>\n",
              "    <tr>\n",
              "      <th>Drug</th>\n",
              "      <td>0.116672</td>\n",
              "      <td>0.171052</td>\n",
              "      <td>-0.679433</td>\n",
              "      <td>1.000000</td>\n",
              "      <td>-0.061895</td>\n",
              "      <td>0.061895</td>\n",
              "      <td>-0.084186</td>\n",
              "      <td>0.084186</td>\n",
              "    </tr>\n",
              "    <tr>\n",
              "      <th>Cholesterol_HIGH</th>\n",
              "      <td>0.068234</td>\n",
              "      <td>-0.137552</td>\n",
              "      <td>-0.010000</td>\n",
              "      <td>-0.061895</td>\n",
              "      <td>1.000000</td>\n",
              "      <td>-1.000000</td>\n",
              "      <td>-0.008811</td>\n",
              "      <td>0.008811</td>\n",
              "    </tr>\n",
              "    <tr>\n",
              "      <th>Cholesterol_NORMAL</th>\n",
              "      <td>-0.068234</td>\n",
              "      <td>0.137552</td>\n",
              "      <td>0.010000</td>\n",
              "      <td>0.061895</td>\n",
              "      <td>-1.000000</td>\n",
              "      <td>1.000000</td>\n",
              "      <td>0.008811</td>\n",
              "      <td>-0.008811</td>\n",
              "    </tr>\n",
              "    <tr>\n",
              "      <th>Sex_F</th>\n",
              "      <td>-0.102027</td>\n",
              "      <td>-0.007814</td>\n",
              "      <td>0.125008</td>\n",
              "      <td>-0.084186</td>\n",
              "      <td>-0.008811</td>\n",
              "      <td>0.008811</td>\n",
              "      <td>1.000000</td>\n",
              "      <td>-1.000000</td>\n",
              "    </tr>\n",
              "    <tr>\n",
              "      <th>Sex_M</th>\n",
              "      <td>0.102027</td>\n",
              "      <td>0.007814</td>\n",
              "      <td>-0.125008</td>\n",
              "      <td>0.084186</td>\n",
              "      <td>0.008811</td>\n",
              "      <td>-0.008811</td>\n",
              "      <td>-1.000000</td>\n",
              "      <td>1.000000</td>\n",
              "    </tr>\n",
              "  </tbody>\n",
              "</table>\n",
              "</div>\n",
              "    <div class=\"colab-df-buttons\">\n",
              "\n",
              "  <div class=\"colab-df-container\">\n",
              "    <button class=\"colab-df-convert\" onclick=\"convertToInteractive('df-5169020f-a557-44d8-90ce-bdc1e2e51951')\"\n",
              "            title=\"Convert this dataframe to an interactive table.\"\n",
              "            style=\"display:none;\">\n",
              "\n",
              "  <svg xmlns=\"http://www.w3.org/2000/svg\" height=\"24px\" viewBox=\"0 -960 960 960\">\n",
              "    <path d=\"M120-120v-720h720v720H120Zm60-500h600v-160H180v160Zm220 220h160v-160H400v160Zm0 220h160v-160H400v160ZM180-400h160v-160H180v160Zm440 0h160v-160H620v160ZM180-180h160v-160H180v160Zm440 0h160v-160H620v160Z\"/>\n",
              "  </svg>\n",
              "    </button>\n",
              "\n",
              "  <style>\n",
              "    .colab-df-container {\n",
              "      display:flex;\n",
              "      gap: 12px;\n",
              "    }\n",
              "\n",
              "    .colab-df-convert {\n",
              "      background-color: #E8F0FE;\n",
              "      border: none;\n",
              "      border-radius: 50%;\n",
              "      cursor: pointer;\n",
              "      display: none;\n",
              "      fill: #1967D2;\n",
              "      height: 32px;\n",
              "      padding: 0 0 0 0;\n",
              "      width: 32px;\n",
              "    }\n",
              "\n",
              "    .colab-df-convert:hover {\n",
              "      background-color: #E2EBFA;\n",
              "      box-shadow: 0px 1px 2px rgba(60, 64, 67, 0.3), 0px 1px 3px 1px rgba(60, 64, 67, 0.15);\n",
              "      fill: #174EA6;\n",
              "    }\n",
              "\n",
              "    .colab-df-buttons div {\n",
              "      margin-bottom: 4px;\n",
              "    }\n",
              "\n",
              "    [theme=dark] .colab-df-convert {\n",
              "      background-color: #3B4455;\n",
              "      fill: #D2E3FC;\n",
              "    }\n",
              "\n",
              "    [theme=dark] .colab-df-convert:hover {\n",
              "      background-color: #434B5C;\n",
              "      box-shadow: 0px 1px 3px 1px rgba(0, 0, 0, 0.15);\n",
              "      filter: drop-shadow(0px 1px 2px rgba(0, 0, 0, 0.3));\n",
              "      fill: #FFFFFF;\n",
              "    }\n",
              "  </style>\n",
              "\n",
              "    <script>\n",
              "      const buttonEl =\n",
              "        document.querySelector('#df-5169020f-a557-44d8-90ce-bdc1e2e51951 button.colab-df-convert');\n",
              "      buttonEl.style.display =\n",
              "        google.colab.kernel.accessAllowed ? 'block' : 'none';\n",
              "\n",
              "      async function convertToInteractive(key) {\n",
              "        const element = document.querySelector('#df-5169020f-a557-44d8-90ce-bdc1e2e51951');\n",
              "        const dataTable =\n",
              "          await google.colab.kernel.invokeFunction('convertToInteractive',\n",
              "                                                    [key], {});\n",
              "        if (!dataTable) return;\n",
              "\n",
              "        const docLinkHtml = 'Like what you see? Visit the ' +\n",
              "          '<a target=\"_blank\" href=https://colab.research.google.com/notebooks/data_table.ipynb>data table notebook</a>'\n",
              "          + ' to learn more about interactive tables.';\n",
              "        element.innerHTML = '';\n",
              "        dataTable['output_type'] = 'display_data';\n",
              "        await google.colab.output.renderOutput(dataTable, element);\n",
              "        const docLink = document.createElement('div');\n",
              "        docLink.innerHTML = docLinkHtml;\n",
              "        element.appendChild(docLink);\n",
              "      }\n",
              "    </script>\n",
              "  </div>\n",
              "\n",
              "\n",
              "<div id=\"df-b1dab777-27c0-412a-a8bf-3622f57a0880\">\n",
              "  <button class=\"colab-df-quickchart\" onclick=\"quickchart('df-b1dab777-27c0-412a-a8bf-3622f57a0880')\"\n",
              "            title=\"Suggest charts\"\n",
              "            style=\"display:none;\">\n",
              "\n",
              "<svg xmlns=\"http://www.w3.org/2000/svg\" height=\"24px\"viewBox=\"0 0 24 24\"\n",
              "     width=\"24px\">\n",
              "    <g>\n",
              "        <path d=\"M19 3H5c-1.1 0-2 .9-2 2v14c0 1.1.9 2 2 2h14c1.1 0 2-.9 2-2V5c0-1.1-.9-2-2-2zM9 17H7v-7h2v7zm4 0h-2V7h2v10zm4 0h-2v-4h2v4z\"/>\n",
              "    </g>\n",
              "</svg>\n",
              "  </button>\n",
              "\n",
              "<style>\n",
              "  .colab-df-quickchart {\n",
              "      --bg-color: #E8F0FE;\n",
              "      --fill-color: #1967D2;\n",
              "      --hover-bg-color: #E2EBFA;\n",
              "      --hover-fill-color: #174EA6;\n",
              "      --disabled-fill-color: #AAA;\n",
              "      --disabled-bg-color: #DDD;\n",
              "  }\n",
              "\n",
              "  [theme=dark] .colab-df-quickchart {\n",
              "      --bg-color: #3B4455;\n",
              "      --fill-color: #D2E3FC;\n",
              "      --hover-bg-color: #434B5C;\n",
              "      --hover-fill-color: #FFFFFF;\n",
              "      --disabled-bg-color: #3B4455;\n",
              "      --disabled-fill-color: #666;\n",
              "  }\n",
              "\n",
              "  .colab-df-quickchart {\n",
              "    background-color: var(--bg-color);\n",
              "    border: none;\n",
              "    border-radius: 50%;\n",
              "    cursor: pointer;\n",
              "    display: none;\n",
              "    fill: var(--fill-color);\n",
              "    height: 32px;\n",
              "    padding: 0;\n",
              "    width: 32px;\n",
              "  }\n",
              "\n",
              "  .colab-df-quickchart:hover {\n",
              "    background-color: var(--hover-bg-color);\n",
              "    box-shadow: 0 1px 2px rgba(60, 64, 67, 0.3), 0 1px 3px 1px rgba(60, 64, 67, 0.15);\n",
              "    fill: var(--button-hover-fill-color);\n",
              "  }\n",
              "\n",
              "  .colab-df-quickchart-complete:disabled,\n",
              "  .colab-df-quickchart-complete:disabled:hover {\n",
              "    background-color: var(--disabled-bg-color);\n",
              "    fill: var(--disabled-fill-color);\n",
              "    box-shadow: none;\n",
              "  }\n",
              "\n",
              "  .colab-df-spinner {\n",
              "    border: 2px solid var(--fill-color);\n",
              "    border-color: transparent;\n",
              "    border-bottom-color: var(--fill-color);\n",
              "    animation:\n",
              "      spin 1s steps(1) infinite;\n",
              "  }\n",
              "\n",
              "  @keyframes spin {\n",
              "    0% {\n",
              "      border-color: transparent;\n",
              "      border-bottom-color: var(--fill-color);\n",
              "      border-left-color: var(--fill-color);\n",
              "    }\n",
              "    20% {\n",
              "      border-color: transparent;\n",
              "      border-left-color: var(--fill-color);\n",
              "      border-top-color: var(--fill-color);\n",
              "    }\n",
              "    30% {\n",
              "      border-color: transparent;\n",
              "      border-left-color: var(--fill-color);\n",
              "      border-top-color: var(--fill-color);\n",
              "      border-right-color: var(--fill-color);\n",
              "    }\n",
              "    40% {\n",
              "      border-color: transparent;\n",
              "      border-right-color: var(--fill-color);\n",
              "      border-top-color: var(--fill-color);\n",
              "    }\n",
              "    60% {\n",
              "      border-color: transparent;\n",
              "      border-right-color: var(--fill-color);\n",
              "    }\n",
              "    80% {\n",
              "      border-color: transparent;\n",
              "      border-right-color: var(--fill-color);\n",
              "      border-bottom-color: var(--fill-color);\n",
              "    }\n",
              "    90% {\n",
              "      border-color: transparent;\n",
              "      border-bottom-color: var(--fill-color);\n",
              "    }\n",
              "  }\n",
              "</style>\n",
              "\n",
              "  <script>\n",
              "    async function quickchart(key) {\n",
              "      const quickchartButtonEl =\n",
              "        document.querySelector('#' + key + ' button');\n",
              "      quickchartButtonEl.disabled = true;  // To prevent multiple clicks.\n",
              "      quickchartButtonEl.classList.add('colab-df-spinner');\n",
              "      try {\n",
              "        const charts = await google.colab.kernel.invokeFunction(\n",
              "            'suggestCharts', [key], {});\n",
              "      } catch (error) {\n",
              "        console.error('Error during call to suggestCharts:', error);\n",
              "      }\n",
              "      quickchartButtonEl.classList.remove('colab-df-spinner');\n",
              "      quickchartButtonEl.classList.add('colab-df-quickchart-complete');\n",
              "    }\n",
              "    (() => {\n",
              "      let quickchartButtonEl =\n",
              "        document.querySelector('#df-b1dab777-27c0-412a-a8bf-3622f57a0880 button');\n",
              "      quickchartButtonEl.style.display =\n",
              "        google.colab.kernel.accessAllowed ? 'block' : 'none';\n",
              "    })();\n",
              "  </script>\n",
              "</div>\n",
              "    </div>\n",
              "  </div>\n"
            ]
          },
          "metadata": {},
          "execution_count": 103
        }
      ]
    },
    {
      "cell_type": "code",
      "source": [
        "corr.iloc[:,3].sort_values(ascending=False)"
      ],
      "metadata": {
        "colab": {
          "base_uri": "https://localhost:8080/"
        },
        "id": "eMb2HISfjMg3",
        "outputId": "325ab895-48fa-43f9-ed05-caded509d893"
      },
      "execution_count": null,
      "outputs": [
        {
          "output_type": "execute_result",
          "data": {
            "text/plain": [
              "Drug                  1.000000\n",
              "BP                    0.171052\n",
              "Age                   0.116672\n",
              "Sex_M                 0.084186\n",
              "Cholesterol_NORMAL    0.061895\n",
              "Cholesterol_HIGH     -0.061895\n",
              "Sex_F                -0.084186\n",
              "Na_to_K              -0.679433\n",
              "Name: Drug, dtype: float64"
            ]
          },
          "metadata": {},
          "execution_count": 104
        }
      ]
    },
    {
      "cell_type": "code",
      "source": [
        "corr.style.background_gradient(cmap='seismic').set_precision(2)"
      ],
      "metadata": {
        "colab": {
          "base_uri": "https://localhost:8080/",
          "height": 337
        },
        "id": "D1LDxC9ajMg3",
        "outputId": "be64b849-875c-4758-c2b7-f63b04b35d5a"
      },
      "execution_count": null,
      "outputs": [
        {
          "output_type": "stream",
          "name": "stderr",
          "text": [
            "<ipython-input-105-fed6384c569f>:1: FutureWarning: this method is deprecated in favour of `Styler.format(precision=..)`\n",
            "  corr.style.background_gradient(cmap='seismic').set_precision(2)\n"
          ]
        },
        {
          "output_type": "execute_result",
          "data": {
            "text/plain": [
              "<pandas.io.formats.style.Styler at 0x7d0c1aaa2410>"
            ],
            "text/html": [
              "<style type=\"text/css\">\n",
              "#T_b450d_row0_col0, #T_b450d_row1_col1, #T_b450d_row2_col2, #T_b450d_row3_col3, #T_b450d_row4_col4, #T_b450d_row5_col5, #T_b450d_row6_col6, #T_b450d_row7_col7 {\n",
              "  background-color: #800000;\n",
              "  color: #f1f1f1;\n",
              "}\n",
              "#T_b450d_row0_col1 {\n",
              "  background-color: #00007f;\n",
              "  color: #f1f1f1;\n",
              "}\n",
              "#T_b450d_row0_col2 {\n",
              "  background-color: #7575ff;\n",
              "  color: #f1f1f1;\n",
              "}\n",
              "#T_b450d_row0_col3 {\n",
              "  background-color: #e5e5ff;\n",
              "  color: #000000;\n",
              "}\n",
              "#T_b450d_row0_col4 {\n",
              "  background-color: #ffdddd;\n",
              "  color: #000000;\n",
              "}\n",
              "#T_b450d_row0_col5 {\n",
              "  background-color: #ddddff;\n",
              "  color: #000000;\n",
              "}\n",
              "#T_b450d_row0_col6 {\n",
              "  background-color: #c9c9ff;\n",
              "  color: #000000;\n",
              "}\n",
              "#T_b450d_row0_col7 {\n",
              "  background-color: #ffc9c9;\n",
              "  color: #000000;\n",
              "}\n",
              "#T_b450d_row1_col0 {\n",
              "  background-color: #00006b;\n",
              "  color: #f1f1f1;\n",
              "}\n",
              "#T_b450d_row1_col2, #T_b450d_row1_col6, #T_b450d_row2_col4, #T_b450d_row4_col6, #T_b450d_row5_col7, #T_b450d_row6_col4, #T_b450d_row7_col5 {\n",
              "  background-color: #f9f9ff;\n",
              "  color: #000000;\n",
              "}\n",
              "#T_b450d_row1_col3, #T_b450d_row1_col7, #T_b450d_row2_col5, #T_b450d_row4_col7, #T_b450d_row5_col6, #T_b450d_row6_col5, #T_b450d_row7_col4 {\n",
              "  background-color: #fff9f9;\n",
              "  color: #000000;\n",
              "}\n",
              "#T_b450d_row1_col4 {\n",
              "  background-color: #b9b9ff;\n",
              "  color: #000000;\n",
              "}\n",
              "#T_b450d_row1_col5 {\n",
              "  background-color: #ffb9b9;\n",
              "  color: #000000;\n",
              "}\n",
              "#T_b450d_row2_col0 {\n",
              "  background-color: #000066;\n",
              "  color: #f1f1f1;\n",
              "}\n",
              "#T_b450d_row2_col1 {\n",
              "  background-color: #0101ff;\n",
              "  color: #f1f1f1;\n",
              "}\n",
              "#T_b450d_row2_col3, #T_b450d_row3_col2, #T_b450d_row4_col1, #T_b450d_row4_col5, #T_b450d_row5_col4, #T_b450d_row6_col0, #T_b450d_row6_col7, #T_b450d_row7_col6 {\n",
              "  background-color: #00004c;\n",
              "  color: #f1f1f1;\n",
              "}\n",
              "#T_b450d_row2_col6 {\n",
              "  background-color: #ffbdbd;\n",
              "  color: #000000;\n",
              "}\n",
              "#T_b450d_row2_col7 {\n",
              "  background-color: #bdbdff;\n",
              "  color: #000000;\n",
              "}\n",
              "#T_b450d_row3_col0 {\n",
              "  background-color: #0000d8;\n",
              "  color: #f1f1f1;\n",
              "}\n",
              "#T_b450d_row3_col1 {\n",
              "  background-color: #1515ff;\n",
              "  color: #f1f1f1;\n",
              "}\n",
              "#T_b450d_row3_col4 {\n",
              "  background-color: #e1e1ff;\n",
              "  color: #000000;\n",
              "}\n",
              "#T_b450d_row3_col5 {\n",
              "  background-color: #ffe1e1;\n",
              "  color: #000000;\n",
              "}\n",
              "#T_b450d_row3_col6 {\n",
              "  background-color: #d5d5ff;\n",
              "  color: #000000;\n",
              "}\n",
              "#T_b450d_row3_col7 {\n",
              "  background-color: #ffd5d5;\n",
              "  color: #000000;\n",
              "}\n",
              "#T_b450d_row4_col0 {\n",
              "  background-color: #0000ba;\n",
              "  color: #f1f1f1;\n",
              "}\n",
              "#T_b450d_row4_col2 {\n",
              "  background-color: #9999ff;\n",
              "  color: #f1f1f1;\n",
              "}\n",
              "#T_b450d_row4_col3 {\n",
              "  background-color: #7979ff;\n",
              "  color: #f1f1f1;\n",
              "}\n",
              "#T_b450d_row5_col0 {\n",
              "  background-color: #000060;\n",
              "  color: #f1f1f1;\n",
              "}\n",
              "#T_b450d_row5_col1 {\n",
              "  background-color: #0000f7;\n",
              "  color: #f1f1f1;\n",
              "}\n",
              "#T_b450d_row5_col2 {\n",
              "  background-color: #a5a5ff;\n",
              "  color: #000000;\n",
              "}\n",
              "#T_b450d_row5_col3 {\n",
              "  background-color: #c5c5ff;\n",
              "  color: #000000;\n",
              "}\n",
              "#T_b450d_row6_col1 {\n",
              "  background-color: #00009e;\n",
              "  color: #f1f1f1;\n",
              "}\n",
              "#T_b450d_row6_col2 {\n",
              "  background-color: #e9e9ff;\n",
              "  color: #000000;\n",
              "}\n",
              "#T_b450d_row6_col3 {\n",
              "  background-color: #6969ff;\n",
              "  color: #f1f1f1;\n",
              "}\n",
              "#T_b450d_row7_col0 {\n",
              "  background-color: #0000d0;\n",
              "  color: #f1f1f1;\n",
              "}\n",
              "#T_b450d_row7_col1 {\n",
              "  background-color: #0000a6;\n",
              "  color: #f1f1f1;\n",
              "}\n",
              "#T_b450d_row7_col2 {\n",
              "  background-color: #5151ff;\n",
              "  color: #f1f1f1;\n",
              "}\n",
              "#T_b450d_row7_col3 {\n",
              "  background-color: #d1d1ff;\n",
              "  color: #000000;\n",
              "}\n",
              "</style>\n",
              "<table id=\"T_b450d\" class=\"dataframe\">\n",
              "  <thead>\n",
              "    <tr>\n",
              "      <th class=\"blank level0\" >&nbsp;</th>\n",
              "      <th id=\"T_b450d_level0_col0\" class=\"col_heading level0 col0\" >Age</th>\n",
              "      <th id=\"T_b450d_level0_col1\" class=\"col_heading level0 col1\" >BP</th>\n",
              "      <th id=\"T_b450d_level0_col2\" class=\"col_heading level0 col2\" >Na_to_K</th>\n",
              "      <th id=\"T_b450d_level0_col3\" class=\"col_heading level0 col3\" >Drug</th>\n",
              "      <th id=\"T_b450d_level0_col4\" class=\"col_heading level0 col4\" >Cholesterol_HIGH</th>\n",
              "      <th id=\"T_b450d_level0_col5\" class=\"col_heading level0 col5\" >Cholesterol_NORMAL</th>\n",
              "      <th id=\"T_b450d_level0_col6\" class=\"col_heading level0 col6\" >Sex_F</th>\n",
              "      <th id=\"T_b450d_level0_col7\" class=\"col_heading level0 col7\" >Sex_M</th>\n",
              "    </tr>\n",
              "  </thead>\n",
              "  <tbody>\n",
              "    <tr>\n",
              "      <th id=\"T_b450d_level0_row0\" class=\"row_heading level0 row0\" >Age</th>\n",
              "      <td id=\"T_b450d_row0_col0\" class=\"data row0 col0\" >1.00</td>\n",
              "      <td id=\"T_b450d_row0_col1\" class=\"data row0 col1\" >-0.05</td>\n",
              "      <td id=\"T_b450d_row0_col2\" class=\"data row0 col2\" >-0.06</td>\n",
              "      <td id=\"T_b450d_row0_col3\" class=\"data row0 col3\" >0.12</td>\n",
              "      <td id=\"T_b450d_row0_col4\" class=\"data row0 col4\" >0.07</td>\n",
              "      <td id=\"T_b450d_row0_col5\" class=\"data row0 col5\" >-0.07</td>\n",
              "      <td id=\"T_b450d_row0_col6\" class=\"data row0 col6\" >-0.10</td>\n",
              "      <td id=\"T_b450d_row0_col7\" class=\"data row0 col7\" >0.10</td>\n",
              "    </tr>\n",
              "    <tr>\n",
              "      <th id=\"T_b450d_level0_row1\" class=\"row_heading level0 row1\" >BP</th>\n",
              "      <td id=\"T_b450d_row1_col0\" class=\"data row1 col0\" >-0.05</td>\n",
              "      <td id=\"T_b450d_row1_col1\" class=\"data row1 col1\" >1.00</td>\n",
              "      <td id=\"T_b450d_row1_col2\" class=\"data row1 col2\" >0.15</td>\n",
              "      <td id=\"T_b450d_row1_col3\" class=\"data row1 col3\" >0.17</td>\n",
              "      <td id=\"T_b450d_row1_col4\" class=\"data row1 col4\" >-0.14</td>\n",
              "      <td id=\"T_b450d_row1_col5\" class=\"data row1 col5\" >0.14</td>\n",
              "      <td id=\"T_b450d_row1_col6\" class=\"data row1 col6\" >-0.01</td>\n",
              "      <td id=\"T_b450d_row1_col7\" class=\"data row1 col7\" >0.01</td>\n",
              "    </tr>\n",
              "    <tr>\n",
              "      <th id=\"T_b450d_level0_row2\" class=\"row_heading level0 row2\" >Na_to_K</th>\n",
              "      <td id=\"T_b450d_row2_col0\" class=\"data row2 col0\" >-0.06</td>\n",
              "      <td id=\"T_b450d_row2_col1\" class=\"data row2 col1\" >0.15</td>\n",
              "      <td id=\"T_b450d_row2_col2\" class=\"data row2 col2\" >1.00</td>\n",
              "      <td id=\"T_b450d_row2_col3\" class=\"data row2 col3\" >-0.68</td>\n",
              "      <td id=\"T_b450d_row2_col4\" class=\"data row2 col4\" >-0.01</td>\n",
              "      <td id=\"T_b450d_row2_col5\" class=\"data row2 col5\" >0.01</td>\n",
              "      <td id=\"T_b450d_row2_col6\" class=\"data row2 col6\" >0.13</td>\n",
              "      <td id=\"T_b450d_row2_col7\" class=\"data row2 col7\" >-0.13</td>\n",
              "    </tr>\n",
              "    <tr>\n",
              "      <th id=\"T_b450d_level0_row3\" class=\"row_heading level0 row3\" >Drug</th>\n",
              "      <td id=\"T_b450d_row3_col0\" class=\"data row3 col0\" >0.12</td>\n",
              "      <td id=\"T_b450d_row3_col1\" class=\"data row3 col1\" >0.17</td>\n",
              "      <td id=\"T_b450d_row3_col2\" class=\"data row3 col2\" >-0.68</td>\n",
              "      <td id=\"T_b450d_row3_col3\" class=\"data row3 col3\" >1.00</td>\n",
              "      <td id=\"T_b450d_row3_col4\" class=\"data row3 col4\" >-0.06</td>\n",
              "      <td id=\"T_b450d_row3_col5\" class=\"data row3 col5\" >0.06</td>\n",
              "      <td id=\"T_b450d_row3_col6\" class=\"data row3 col6\" >-0.08</td>\n",
              "      <td id=\"T_b450d_row3_col7\" class=\"data row3 col7\" >0.08</td>\n",
              "    </tr>\n",
              "    <tr>\n",
              "      <th id=\"T_b450d_level0_row4\" class=\"row_heading level0 row4\" >Cholesterol_HIGH</th>\n",
              "      <td id=\"T_b450d_row4_col0\" class=\"data row4 col0\" >0.07</td>\n",
              "      <td id=\"T_b450d_row4_col1\" class=\"data row4 col1\" >-0.14</td>\n",
              "      <td id=\"T_b450d_row4_col2\" class=\"data row4 col2\" >-0.01</td>\n",
              "      <td id=\"T_b450d_row4_col3\" class=\"data row4 col3\" >-0.06</td>\n",
              "      <td id=\"T_b450d_row4_col4\" class=\"data row4 col4\" >1.00</td>\n",
              "      <td id=\"T_b450d_row4_col5\" class=\"data row4 col5\" >-1.00</td>\n",
              "      <td id=\"T_b450d_row4_col6\" class=\"data row4 col6\" >-0.01</td>\n",
              "      <td id=\"T_b450d_row4_col7\" class=\"data row4 col7\" >0.01</td>\n",
              "    </tr>\n",
              "    <tr>\n",
              "      <th id=\"T_b450d_level0_row5\" class=\"row_heading level0 row5\" >Cholesterol_NORMAL</th>\n",
              "      <td id=\"T_b450d_row5_col0\" class=\"data row5 col0\" >-0.07</td>\n",
              "      <td id=\"T_b450d_row5_col1\" class=\"data row5 col1\" >0.14</td>\n",
              "      <td id=\"T_b450d_row5_col2\" class=\"data row5 col2\" >0.01</td>\n",
              "      <td id=\"T_b450d_row5_col3\" class=\"data row5 col3\" >0.06</td>\n",
              "      <td id=\"T_b450d_row5_col4\" class=\"data row5 col4\" >-1.00</td>\n",
              "      <td id=\"T_b450d_row5_col5\" class=\"data row5 col5\" >1.00</td>\n",
              "      <td id=\"T_b450d_row5_col6\" class=\"data row5 col6\" >0.01</td>\n",
              "      <td id=\"T_b450d_row5_col7\" class=\"data row5 col7\" >-0.01</td>\n",
              "    </tr>\n",
              "    <tr>\n",
              "      <th id=\"T_b450d_level0_row6\" class=\"row_heading level0 row6\" >Sex_F</th>\n",
              "      <td id=\"T_b450d_row6_col0\" class=\"data row6 col0\" >-0.10</td>\n",
              "      <td id=\"T_b450d_row6_col1\" class=\"data row6 col1\" >-0.01</td>\n",
              "      <td id=\"T_b450d_row6_col2\" class=\"data row6 col2\" >0.13</td>\n",
              "      <td id=\"T_b450d_row6_col3\" class=\"data row6 col3\" >-0.08</td>\n",
              "      <td id=\"T_b450d_row6_col4\" class=\"data row6 col4\" >-0.01</td>\n",
              "      <td id=\"T_b450d_row6_col5\" class=\"data row6 col5\" >0.01</td>\n",
              "      <td id=\"T_b450d_row6_col6\" class=\"data row6 col6\" >1.00</td>\n",
              "      <td id=\"T_b450d_row6_col7\" class=\"data row6 col7\" >-1.00</td>\n",
              "    </tr>\n",
              "    <tr>\n",
              "      <th id=\"T_b450d_level0_row7\" class=\"row_heading level0 row7\" >Sex_M</th>\n",
              "      <td id=\"T_b450d_row7_col0\" class=\"data row7 col0\" >0.10</td>\n",
              "      <td id=\"T_b450d_row7_col1\" class=\"data row7 col1\" >0.01</td>\n",
              "      <td id=\"T_b450d_row7_col2\" class=\"data row7 col2\" >-0.13</td>\n",
              "      <td id=\"T_b450d_row7_col3\" class=\"data row7 col3\" >0.08</td>\n",
              "      <td id=\"T_b450d_row7_col4\" class=\"data row7 col4\" >0.01</td>\n",
              "      <td id=\"T_b450d_row7_col5\" class=\"data row7 col5\" >-0.01</td>\n",
              "      <td id=\"T_b450d_row7_col6\" class=\"data row7 col6\" >-1.00</td>\n",
              "      <td id=\"T_b450d_row7_col7\" class=\"data row7 col7\" >1.00</td>\n",
              "    </tr>\n",
              "  </tbody>\n",
              "</table>\n"
            ]
          },
          "metadata": {},
          "execution_count": 105
        }
      ]
    },
    {
      "cell_type": "markdown",
      "source": [
        "#PLT BETWEEN FEATURES & OUTPUT#"
      ],
      "metadata": {
        "id": "tZ-BlLtz1QT3"
      }
    },
    {
      "cell_type": "code",
      "source": [
        "# sns.pairplot(new_df)"
      ],
      "metadata": {
        "id": "WaC4emOWLKj8"
      },
      "execution_count": null,
      "outputs": []
    },
    {
      "cell_type": "markdown",
      "source": [
        "#PLT_COUNT_COLUMN#"
      ],
      "metadata": {
        "id": "PDAcQyFD1mel"
      }
    },
    {
      "cell_type": "code",
      "source": [
        "sns.histplot(x='Drug',data=df)"
      ],
      "metadata": {
        "id": "bATFEMgrx3N3",
        "colab": {
          "base_uri": "https://localhost:8080/"
        },
        "outputId": "b9fb228e-74e5-497c-8b1d-65d176331aff"
      },
      "execution_count": null,
      "outputs": [
        {
          "output_type": "execute_result",
          "data": {
            "text/plain": [
              "<Axes: xlabel='Drug', ylabel='Count'>"
            ]
          },
          "metadata": {},
          "execution_count": 107
        },
        {
          "output_type": "display_data",
          "data": {
            "text/plain": [
              "<Figure size 640x480 with 1 Axes>"
            ],
            "image/png": "[encoded data removed]"
          },
          "metadata": {}
        }
      ]
    },
    {
      "cell_type": "code",
      "source": [
        "sns.jointplot(x='BP',y='Drug',data=df,kind='scatter')"
      ],
      "metadata": {
        "id": "JkMsR0N6LKvO",
        "colab": {
          "base_uri": "https://localhost:8080/"
        },
        "outputId": "1ab5fa22-01f8-44f9-f25e-bdf40e838023"
      },
      "execution_count": null,
      "outputs": [
        {
          "output_type": "execute_result",
          "data": {
            "text/plain": [
              "<seaborn.axisgrid.JointGrid at 0x7d0c1aaa1cf0>"
            ]
          },
          "metadata": {},
          "execution_count": 108
        },
        {
          "output_type": "display_data",
          "data": {
            "text/plain": [
              "<Figure size 600x600 with 3 Axes>"
            ],
            "image/png": "[encoded data removed]"
          },
          "metadata": {}
        }
      ]
    },
    {
      "cell_type": "markdown",
      "source": [
        "#DROP UNUSED COLUMNS"
      ],
      "metadata": {
        "id": "YblkZTswIGXQ"
      }
    },
    {
      "cell_type": "code",
      "source": [
        "new_df.columns"
      ],
      "metadata": {
        "id": "5Hgxr5vM8Cwh",
        "colab": {
          "base_uri": "https://localhost:8080/"
        },
        "outputId": "6c09575d-86f7-43fc-bf35-910ae41b00ad"
      },
      "execution_count": null,
      "outputs": [
        {
          "output_type": "execute_result",
          "data": {
            "text/plain": [
              "Index(['Age', 'BP', 'Na_to_K', 'Drug', 'Cholesterol_HIGH',\n",
              "       'Cholesterol_NORMAL', 'Sex_F', 'Sex_M'],\n",
              "      dtype='object')"
            ]
          },
          "metadata": {},
          "execution_count": 109
        }
      ]
    },
    {
      "cell_type": "code",
      "source": [
        "# new_df.drop(['COL1','COL2','COL3','COL4','COL5'],axis=1,inplace=True)\n",
        "# new_df"
      ],
      "metadata": {
        "id": "Lwz5vhINhebO"
      },
      "execution_count": null,
      "outputs": []
    },
    {
      "cell_type": "markdown",
      "source": [
        "#DROP ZERO & NEGATIVE VALUES FROM THE OUTPUT COLUMN"
      ],
      "metadata": {
        "id": "urvCX1SE7Yvy"
      }
    },
    {
      "cell_type": "code",
      "source": [
        "#  drop_A=new_df.index[new_df[\"\"] <= 0].tolist()\n",
        "#  new_df=new_df.drop(new_df.index[drop_A])\n",
        "#  new_df"
      ],
      "metadata": {
        "id": "s3q1hSRmhed7"
      },
      "execution_count": null,
      "outputs": []
    },
    {
      "cell_type": "markdown",
      "source": [
        "# REPLACE THE NA VALUE IN ALL DF TO ZERO VALUE"
      ],
      "metadata": {
        "id": "Lr6_QPob7k5q"
      }
    },
    {
      "cell_type": "code",
      "source": [
        "new_df.fillna(0,inplace=True) # TO FILL NA VALUE BY ZERO\n",
        "new_df"
      ],
      "metadata": {
        "id": "GV6BllIU6_DU",
        "colab": {
          "base_uri": "https://localhost:8080/"
        },
        "outputId": "42ec6528-457b-487d-9881-35c13c43de79"
      },
      "execution_count": null,
      "outputs": [
        {
          "output_type": "execute_result",
          "data": {
            "text/plain": [
              "     Age   BP  Na_to_K  Drug  Cholesterol_HIGH  Cholesterol_NORMAL  Sex_F  \\\n",
              "0     23  2.0   25.355   0.0                 1                   0      1   \n",
              "1     47  1.0   13.093   1.0                 1                   0      0   \n",
              "2     47  1.0   10.114   1.0                 1                   0      0   \n",
              "3     28  0.0    7.798   2.0                 1                   0      1   \n",
              "4     61  1.0   18.043   0.0                 1                   0      1   \n",
              "..   ...  ...      ...   ...               ...                 ...    ...   \n",
              "195   56  1.0   11.567   1.0                 1                   0      1   \n",
              "196   16  1.0   12.006   1.0                 1                   0      0   \n",
              "197   52  0.0    9.894   2.0                 1                   0      0   \n",
              "198   23  0.0   14.020   2.0                 0                   1      0   \n",
              "199   40  1.0   11.349   2.0                 0                   1      1   \n",
              "\n",
              "     Sex_M  \n",
              "0        0  \n",
              "1        1  \n",
              "2        1  \n",
              "3        0  \n",
              "4        0  \n",
              "..     ...  \n",
              "195      0  \n",
              "196      1  \n",
              "197      1  \n",
              "198      1  \n",
              "199      0  \n",
              "\n",
              "[200 rows x 8 columns]"
            ],
            "text/html": [
              "\n",
              "  <div id=\"df-ae3695fc-666f-4405-8781-e844dc673fcd\" class=\"colab-df-container\">\n",
              "    <div>\n",
              "<style scoped>\n",
              "    .dataframe tbody tr th:only-of-type {\n",
              "        vertical-align: middle;\n",
              "    }\n",
              "\n",
              "    .dataframe tbody tr th {\n",
              "        vertical-align: top;\n",
              "    }\n",
              "\n",
              "    .dataframe thead th {\n",
              "        text-align: right;\n",
              "    }\n",
              "</style>\n",
              "<table border=\"1\" class=\"dataframe\">\n",
              "  <thead>\n",
              "    <tr style=\"text-align: right;\">\n",
              "      <th></th>\n",
              "      <th>Age</th>\n",
              "      <th>BP</th>\n",
              "      <th>Na_to_K</th>\n",
              "      <th>Drug</th>\n",
              "      <th>Cholesterol_HIGH</th>\n",
              "      <th>Cholesterol_NORMAL</th>\n",
              "      <th>Sex_F</th>\n",
              "      <th>Sex_M</th>\n",
              "    </tr>\n",
              "  </thead>\n",
              "  <tbody>\n",
              "    <tr>\n",
              "      <th>0</th>\n",
              "      <td>23</td>\n",
              "      <td>2.0</td>\n",
              "      <td>25.355</td>\n",
              "      <td>0.0</td>\n",
              "      <td>1</td>\n",
              "      <td>0</td>\n",
              "      <td>1</td>\n",
              "      <td>0</td>\n",
              "    </tr>\n",
              "    <tr>\n",
              "      <th>1</th>\n",
              "      <td>47</td>\n",
              "      <td>1.0</td>\n",
              "      <td>13.093</td>\n",
              "      <td>1.0</td>\n",
              "      <td>1</td>\n",
              "      <td>0</td>\n",
              "      <td>0</td>\n",
              "      <td>1</td>\n",
              "    </tr>\n",
              "    <tr>\n",
              "      <th>2</th>\n",
              "      <td>47</td>\n",
              "      <td>1.0</td>\n",
              "      <td>10.114</td>\n",
              "      <td>1.0</td>\n",
              "      <td>1</td>\n",
              "      <td>0</td>\n",
              "      <td>0</td>\n",
              "      <td>1</td>\n",
              "    </tr>\n",
              "    <tr>\n",
              "      <th>3</th>\n",
              "      <td>28</td>\n",
              "      <td>0.0</td>\n",
              "      <td>7.798</td>\n",
              "      <td>2.0</td>\n",
              "      <td>1</td>\n",
              "      <td>0</td>\n",
              "      <td>1</td>\n",
              "      <td>0</td>\n",
              "    </tr>\n",
              "    <tr>\n",
              "      <th>4</th>\n",
              "      <td>61</td>\n",
              "      <td>1.0</td>\n",
              "      <td>18.043</td>\n",
              "      <td>0.0</td>\n",
              "      <td>1</td>\n",
              "      <td>0</td>\n",
              "      <td>1</td>\n",
              "      <td>0</td>\n",
              "    </tr>\n",
              "    <tr>\n",
              "      <th>...</th>\n",
              "      <td>...</td>\n",
              "      <td>...</td>\n",
              "      <td>...</td>\n",
              "      <td>...</td>\n",
              "      <td>...</td>\n",
              "      <td>...</td>\n",
              "      <td>...</td>\n",
              "      <td>...</td>\n",
              "    </tr>\n",
              "    <tr>\n",
              "      <th>195</th>\n",
              "      <td>56</td>\n",
              "      <td>1.0</td>\n",
              "      <td>11.567</td>\n",
              "      <td>1.0</td>\n",
              "      <td>1</td>\n",
              "      <td>0</td>\n",
              "      <td>1</td>\n",
              "      <td>0</td>\n",
              "    </tr>\n",
              "    <tr>\n",
              "      <th>196</th>\n",
              "      <td>16</td>\n",
              "      <td>1.0</td>\n",
              "      <td>12.006</td>\n",
              "      <td>1.0</td>\n",
              "      <td>1</td>\n",
              "      <td>0</td>\n",
              "      <td>0</td>\n",
              "      <td>1</td>\n",
              "    </tr>\n",
              "    <tr>\n",
              "      <th>197</th>\n",
              "      <td>52</td>\n",
              "      <td>0.0</td>\n",
              "      <td>9.894</td>\n",
              "      <td>2.0</td>\n",
              "      <td>1</td>\n",
              "      <td>0</td>\n",
              "      <td>0</td>\n",
              "      <td>1</td>\n",
              "    </tr>\n",
              "    <tr>\n",
              "      <th>198</th>\n",
              "      <td>23</td>\n",
              "      <td>0.0</td>\n",
              "      <td>14.020</td>\n",
              "      <td>2.0</td>\n",
              "      <td>0</td>\n",
              "      <td>1</td>\n",
              "      <td>0</td>\n",
              "      <td>1</td>\n",
              "    </tr>\n",
              "    <tr>\n",
              "      <th>199</th>\n",
              "      <td>40</td>\n",
              "      <td>1.0</td>\n",
              "      <td>11.349</td>\n",
              "      <td>2.0</td>\n",
              "      <td>0</td>\n",
              "      <td>1</td>\n",
              "      <td>1</td>\n",
              "      <td>0</td>\n",
              "    </tr>\n",
              "  </tbody>\n",
              "</table>\n",
              "<p>200 rows × 8 columns</p>\n",
              "</div>\n",
              "    <div class=\"colab-df-buttons\">\n",
              "\n",
              "  <div class=\"colab-df-container\">\n",
              "    <button class=\"colab-df-convert\" onclick=\"convertToInteractive('df-ae3695fc-666f-4405-8781-e844dc673fcd')\"\n",
              "            title=\"Convert this dataframe to an interactive table.\"\n",
              "            style=\"display:none;\">\n",
              "\n",
              "  <svg xmlns=\"http://www.w3.org/2000/svg\" height=\"24px\" viewBox=\"0 -960 960 960\">\n",
              "    <path d=\"M120-120v-720h720v720H120Zm60-500h600v-160H180v160Zm220 220h160v-160H400v160Zm0 220h160v-160H400v160ZM180-400h160v-160H180v160Zm440 0h160v-160H620v160ZM180-180h160v-160H180v160Zm440 0h160v-160H620v160Z\"/>\n",
              "  </svg>\n",
              "    </button>\n",
              "\n",
              "  <style>\n",
              "    .colab-df-container {\n",
              "      display:flex;\n",
              "      gap: 12px;\n",
              "    }\n",
              "\n",
              "    .colab-df-convert {\n",
              "      background-color: #E8F0FE;\n",
              "      border: none;\n",
              "      border-radius: 50%;\n",
              "      cursor: pointer;\n",
              "      display: none;\n",
              "      fill: #1967D2;\n",
              "      height: 32px;\n",
              "      padding: 0 0 0 0;\n",
              "      width: 32px;\n",
              "    }\n",
              "\n",
              "    .colab-df-convert:hover {\n",
              "      background-color: #E2EBFA;\n",
              "      box-shadow: 0px 1px 2px rgba(60, 64, 67, 0.3), 0px 1px 3px 1px rgba(60, 64, 67, 0.15);\n",
              "      fill: #174EA6;\n",
              "    }\n",
              "\n",
              "    .colab-df-buttons div {\n",
              "      margin-bottom: 4px;\n",
              "    }\n",
              "\n",
              "    [theme=dark] .colab-df-convert {\n",
              "      background-color: #3B4455;\n",
              "      fill: #D2E3FC;\n",
              "    }\n",
              "\n",
              "    [theme=dark] .colab-df-convert:hover {\n",
              "      background-color: #434B5C;\n",
              "      box-shadow: 0px 1px 3px 1px rgba(0, 0, 0, 0.15);\n",
              "      filter: drop-shadow(0px 1px 2px rgba(0, 0, 0, 0.3));\n",
              "      fill: #FFFFFF;\n",
              "    }\n",
              "  </style>\n",
              "\n",
              "    <script>\n",
              "      const buttonEl =\n",
              "        document.querySelector('#df-ae3695fc-666f-4405-8781-e844dc673fcd button.colab-df-convert');\n",
              "      buttonEl.style.display =\n",
              "        google.colab.kernel.accessAllowed ? 'block' : 'none';\n",
              "\n",
              "      async function convertToInteractive(key) {\n",
              "        const element = document.querySelector('#df-ae3695fc-666f-4405-8781-e844dc673fcd');\n",
              "        const dataTable =\n",
              "          await google.colab.kernel.invokeFunction('convertToInteractive',\n",
              "                                                    [key], {});\n",
              "        if (!dataTable) return;\n",
              "\n",
              "        const docLinkHtml = 'Like what you see? Visit the ' +\n",
              "          '<a target=\"_blank\" href=https://colab.research.google.com/notebooks/data_table.ipynb>data table notebook</a>'\n",
              "          + ' to learn more about interactive tables.';\n",
              "        element.innerHTML = '';\n",
              "        dataTable['output_type'] = 'display_data';\n",
              "        await google.colab.output.renderOutput(dataTable, element);\n",
              "        const docLink = document.createElement('div');\n",
              "        docLink.innerHTML = docLinkHtml;\n",
              "        element.appendChild(docLink);\n",
              "      }\n",
              "    </script>\n",
              "  </div>\n",
              "\n",
              "\n",
              "<div id=\"df-4eae1529-7f73-45b7-bdb8-b030ef41bf8e\">\n",
              "  <button class=\"colab-df-quickchart\" onclick=\"quickchart('df-4eae1529-7f73-45b7-bdb8-b030ef41bf8e')\"\n",
              "            title=\"Suggest charts\"\n",
              "            style=\"display:none;\">\n",
              "\n",
              "<svg xmlns=\"http://www.w3.org/2000/svg\" height=\"24px\"viewBox=\"0 0 24 24\"\n",
              "     width=\"24px\">\n",
              "    <g>\n",
              "        <path d=\"M19 3H5c-1.1 0-2 .9-2 2v14c0 1.1.9 2 2 2h14c1.1 0 2-.9 2-2V5c0-1.1-.9-2-2-2zM9 17H7v-7h2v7zm4 0h-2V7h2v10zm4 0h-2v-4h2v4z\"/>\n",
              "    </g>\n",
              "</svg>\n",
              "  </button>\n",
              "\n",
              "<style>\n",
              "  .colab-df-quickchart {\n",
              "      --bg-color: #E8F0FE;\n",
              "      --fill-color: #1967D2;\n",
              "      --hover-bg-color: #E2EBFA;\n",
              "      --hover-fill-color: #174EA6;\n",
              "      --disabled-fill-color: #AAA;\n",
              "      --disabled-bg-color: #DDD;\n",
              "  }\n",
              "\n",
              "  [theme=dark] .colab-df-quickchart {\n",
              "      --bg-color: #3B4455;\n",
              "      --fill-color: #D2E3FC;\n",
              "      --hover-bg-color: #434B5C;\n",
              "      --hover-fill-color: #FFFFFF;\n",
              "      --disabled-bg-color: #3B4455;\n",
              "      --disabled-fill-color: #666;\n",
              "  }\n",
              "\n",
              "  .colab-df-quickchart {\n",
              "    background-color: var(--bg-color);\n",
              "    border: none;\n",
              "    border-radius: 50%;\n",
              "    cursor: pointer;\n",
              "    display: none;\n",
              "    fill: var(--fill-color);\n",
              "    height: 32px;\n",
              "    padding: 0;\n",
              "    width: 32px;\n",
              "  }\n",
              "\n",
              "  .colab-df-quickchart:hover {\n",
              "    background-color: var(--hover-bg-color);\n",
              "    box-shadow: 0 1px 2px rgba(60, 64, 67, 0.3), 0 1px 3px 1px rgba(60, 64, 67, 0.15);\n",
              "    fill: var(--button-hover-fill-color);\n",
              "  }\n",
              "\n",
              "  .colab-df-quickchart-complete:disabled,\n",
              "  .colab-df-quickchart-complete:disabled:hover {\n",
              "    background-color: var(--disabled-bg-color);\n",
              "    fill: var(--disabled-fill-color);\n",
              "    box-shadow: none;\n",
              "  }\n",
              "\n",
              "  .colab-df-spinner {\n",
              "    border: 2px solid var(--fill-color);\n",
              "    border-color: transparent;\n",
              "    border-bottom-color: var(--fill-color);\n",
              "    animation:\n",
              "      spin 1s steps(1) infinite;\n",
              "  }\n",
              "\n",
              "  @keyframes spin {\n",
              "    0% {\n",
              "      border-color: transparent;\n",
              "      border-bottom-color: var(--fill-color);\n",
              "      border-left-color: var(--fill-color);\n",
              "    }\n",
              "    20% {\n",
              "      border-color: transparent;\n",
              "      border-left-color: var(--fill-color);\n",
              "      border-top-color: var(--fill-color);\n",
              "    }\n",
              "    30% {\n",
              "      border-color: transparent;\n",
              "      border-left-color: var(--fill-color);\n",
              "      border-top-color: var(--fill-color);\n",
              "      border-right-color: var(--fill-color);\n",
              "    }\n",
              "    40% {\n",
              "      border-color: transparent;\n",
              "      border-right-color: var(--fill-color);\n",
              "      border-top-color: var(--fill-color);\n",
              "    }\n",
              "    60% {\n",
              "      border-color: transparent;\n",
              "      border-right-color: var(--fill-color);\n",
              "    }\n",
              "    80% {\n",
              "      border-color: transparent;\n",
              "      border-right-color: var(--fill-color);\n",
              "      border-bottom-color: var(--fill-color);\n",
              "    }\n",
              "    90% {\n",
              "      border-color: transparent;\n",
              "      border-bottom-color: var(--fill-color);\n",
              "    }\n",
              "  }\n",
              "</style>\n",
              "\n",
              "  <script>\n",
              "    async function quickchart(key) {\n",
              "      const quickchartButtonEl =\n",
              "        document.querySelector('#' + key + ' button');\n",
              "      quickchartButtonEl.disabled = true;  // To prevent multiple clicks.\n",
              "      quickchartButtonEl.classList.add('colab-df-spinner');\n",
              "      try {\n",
              "        const charts = await google.colab.kernel.invokeFunction(\n",
              "            'suggestCharts', [key], {});\n",
              "      } catch (error) {\n",
              "        console.error('Error during call to suggestCharts:', error);\n",
              "      }\n",
              "      quickchartButtonEl.classList.remove('colab-df-spinner');\n",
              "      quickchartButtonEl.classList.add('colab-df-quickchart-complete');\n",
              "    }\n",
              "    (() => {\n",
              "      let quickchartButtonEl =\n",
              "        document.querySelector('#df-4eae1529-7f73-45b7-bdb8-b030ef41bf8e button');\n",
              "      quickchartButtonEl.style.display =\n",
              "        google.colab.kernel.accessAllowed ? 'block' : 'none';\n",
              "    })();\n",
              "  </script>\n",
              "</div>\n",
              "    </div>\n",
              "  </div>\n"
            ]
          },
          "metadata": {},
          "execution_count": 112
        }
      ]
    },
    {
      "cell_type": "code",
      "source": [
        "new_df.isnull().sum()"
      ],
      "metadata": {
        "id": "WLnIwJD7hegf",
        "colab": {
          "base_uri": "https://localhost:8080/"
        },
        "outputId": "b280a6db-450a-4e56-b3f7-e1336a042bd3"
      },
      "execution_count": null,
      "outputs": [
        {
          "output_type": "execute_result",
          "data": {
            "text/plain": [
              "Age                   0\n",
              "BP                    0\n",
              "Na_to_K               0\n",
              "Drug                  0\n",
              "Cholesterol_HIGH      0\n",
              "Cholesterol_NORMAL    0\n",
              "Sex_F                 0\n",
              "Sex_M                 0\n",
              "dtype: int64"
            ]
          },
          "metadata": {},
          "execution_count": 113
        }
      ]
    },
    {
      "cell_type": "markdown",
      "source": [
        "#PLOT OUTLIERS"
      ],
      "metadata": {
        "id": "nU_KCTGaH_R6"
      }
    },
    {
      "cell_type": "code",
      "source": [
        "sns.boxplot(data=new_df,palette='rainbow',orient='h')"
      ],
      "metadata": {
        "id": "OBtF4XBga0hP",
        "colab": {
          "base_uri": "https://localhost:8080/"
        },
        "outputId": "9cc11f51-88a6-4eeb-cdc1-13dae2303c15"
      },
      "execution_count": null,
      "outputs": [
        {
          "output_type": "execute_result",
          "data": {
            "text/plain": [
              "<Axes: >"
            ]
          },
          "metadata": {},
          "execution_count": 114
        },
        {
          "output_type": "display_data",
          "data": {
            "text/plain": [
              "<Figure size 640x480 with 1 Axes>"
            ],
            "image/png": "[encoded data removed]"
          },
          "metadata": {}
        }
      ]
    },
    {
      "cell_type": "markdown",
      "source": [
        "#SPLIT DATA"
      ],
      "metadata": {
        "id": "8VSB0lYoHzqS"
      }
    },
    {
      "cell_type": "code",
      "source": [
        "x=new_df.loc[:,new_df.columns != 'Drug']\n",
        "y=new_df['Drug']"
      ],
      "metadata": {
        "id": "TwgKFWzR-lOf"
      },
      "execution_count": null,
      "outputs": []
    },
    {
      "cell_type": "code",
      "source": [
        "x_train,x_test,y_train,y_test=train_test_split(x,y,test_size=.3 ,random_state=42)\n",
        "# x_train,x_valid,y_train,y_valid =train_test_split(x_train,y_train,test_size=.1, random_state=42)"
      ],
      "metadata": {
        "id": "q7YoroT2AMEY"
      },
      "execution_count": null,
      "outputs": []
    },
    {
      "cell_type": "markdown",
      "source": [
        "#STANDARD SCALLING"
      ],
      "metadata": {
        "id": "7WhL2ZoHH5js"
      }
    },
    {
      "cell_type": "code",
      "source": [
        "# scaler = {\n",
        "#             StandardScaler(),\n",
        "#             MinMaxScaler(feature_range=(0,1)),\n",
        "#             MinMaxScaler(feature_range=(-1,1)),\n",
        "#             PowerTransformer(),\n",
        "#             RobustScaler(unit_variance=True)\n",
        "#         }"
      ],
      "metadata": {
        "id": "HJTf-56Zf5CV"
      },
      "execution_count": null,
      "outputs": []
    },
    {
      "cell_type": "code",
      "source": [
        "scaler=StandardScaler()\n",
        "x_train_sc=scaler.fit_transform(x_train)\n",
        "x_test_sc=scaler.transform(x_test)"
      ],
      "metadata": {
        "id": "7SCY2ofRA3eQ"
      },
      "execution_count": null,
      "outputs": []
    },
    {
      "cell_type": "code",
      "source": [
        "new_df.columns"
      ],
      "metadata": {
        "id": "XHE7K4iQO5uj",
        "colab": {
          "base_uri": "https://localhost:8080/"
        },
        "outputId": "a1a4fca6-c5fd-4b0f-fa58-d0364210ebee"
      },
      "execution_count": null,
      "outputs": [
        {
          "output_type": "execute_result",
          "data": {
            "text/plain": [
              "Index(['Age', 'BP', 'Na_to_K', 'Drug', 'Cholesterol_HIGH',\n",
              "       'Cholesterol_NORMAL', 'Sex_F', 'Sex_M'],\n",
              "      dtype='object')"
            ]
          },
          "metadata": {},
          "execution_count": 119
        }
      ]
    },
    {
      "cell_type": "markdown",
      "source": [
        "#DUPLICATE#"
      ],
      "metadata": {
        "id": "0mnzk2_M1snN"
      }
    },
    {
      "cell_type": "code",
      "source": [
        "new_df.duplicated().sum()"
      ],
      "metadata": {
        "id": "kGxQkRfMxslz",
        "colab": {
          "base_uri": "https://localhost:8080/"
        },
        "outputId": "6b426611-e48b-4976-a3cf-2c3ce7851a38"
      },
      "execution_count": null,
      "outputs": [
        {
          "output_type": "execute_result",
          "data": {
            "text/plain": [
              "0"
            ]
          },
          "metadata": {},
          "execution_count": 120
        }
      ]
    },
    {
      "cell_type": "markdown",
      "source": [
        "#MODELS#"
      ],
      "metadata": {
        "id": "YIxl9USK0U8P"
      }
    },
    {
      "cell_type": "code",
      "source": [
        "KNN_CLA_mode=KNeighborsClassifier()"
      ],
      "metadata": {
        "id": "pMX5bfyRvZX_"
      },
      "execution_count": null,
      "outputs": []
    },
    {
      "cell_type": "markdown",
      "source": [
        "#CROSS_VALIDATION"
      ],
      "metadata": {
        "id": "SGZlLXt_I8hb"
      }
    },
    {
      "cell_type": "code",
      "source": [
        "# GKF = GroupKFold(n_splits=3)\n",
        "# SKGF = StratifiedGroupKFold(n_splits=3)\n",
        "# GSS = GroupShuffleSplit(n_splits=4, test_size=0.5, random_state=0)\n",
        "# TSCV = TimeSeriesSplit(n_splits=3)\n",
        "# LOO = LeaveOneOut()\n",
        "# SKF = StratifiedKFold(n_splits=3)\n",
        "# SS = ShuffleSplit(n_splits=5, test_size=0.3, random_state=0)\n",
        "kf=KFold(n_splits=5,shuffle=True,random_state=0)\n",
        "score=cross_val_score(KNN_CLA_mode,x_train_sc,y_train,cv=kf) # kfold"
      ],
      "metadata": {
        "id": "-v8YxHRp816V"
      },
      "execution_count": null,
      "outputs": []
    },
    {
      "cell_type": "markdown",
      "source": [
        "#GRIDE_SEARCH#"
      ],
      "metadata": {
        "id": "shOdOVVj-TCL"
      }
    },
    {
      "cell_type": "code",
      "source": [
        "params={\n",
        "                'n_neighbors' : [5,7,9,11,13,15],\n",
        "               'weights' : ['uniform','distance'],\n",
        "               'metric' : ['minkowski','euclidean','manhattan']\n",
        "}"
      ],
      "metadata": {
        "id": "eHEtGCNm6HlR"
      },
      "execution_count": null,
      "outputs": []
    },
    {
      "cell_type": "code",
      "source": [
        "grid_search=GridSearchCV(\n",
        "    estimator=KNN_CLA_mode.fit(x_train_sc, y_train),\n",
        "    param_grid=params,verbose = 1, n_jobs = -1,\n",
        "    scoring='recall',cv=10\n",
        ")"
      ],
      "metadata": {
        "id": "wlFBm14d6Hnt"
      },
      "execution_count": null,
      "outputs": []
    },
    {
      "cell_type": "code",
      "source": [
        "grid_search.fit(x_train_sc,y_train)"
      ],
      "metadata": {
        "id": "XI6L4-Qd6HqV",
        "colab": {
          "base_uri": "https://localhost:8080/",
          "height": 212
        },
        "outputId": "c026f999-228c-467c-fd93-42fa60cf5a9c"
      },
      "execution_count": null,
      "outputs": [
        {
          "output_type": "stream",
          "name": "stdout",
          "text": [
            "Fitting 10 folds for each of 36 candidates, totalling 360 fits\n"
          ]
        },
        {
          "output_type": "stream",
          "name": "stderr",
          "text": [
            "/usr/local/lib/python3.10/dist-packages/sklearn/model_selection/_search.py:952: UserWarning: One or more of the test scores are non-finite: [nan nan nan nan nan nan nan nan nan nan nan nan nan nan nan nan nan nan\n",
            " nan nan nan nan nan nan nan nan nan nan nan nan nan nan nan nan nan nan]\n",
            "  warnings.warn(\n"
          ]
        },
        {
          "output_type": "execute_result",
          "data": {
            "text/plain": [
              "GridSearchCV(cv=10, estimator=KNeighborsClassifier(), n_jobs=-1,\n",
              "             param_grid={'metric': ['minkowski', 'euclidean', 'manhattan'],\n",
              "                         'n_neighbors': [5, 7, 9, 11, 13, 15],\n",
              "                         'weights': ['uniform', 'distance']},\n",
              "             scoring='recall', verbose=1)"
            ],
            "text/html": [
              "<style>#sk-container-id-3 {color: black;background-color: white;}#sk-container-id-3 pre{padding: 0;}#sk-container-id-3 div.sk-toggleable {background-color: white;}#sk-container-id-3 label.sk-toggleable__label {cursor: pointer;display: block;width: 100%;margin-bottom: 0;padding: 0.3em;box-sizing: border-box;text-align: center;}#sk-container-id-3 label.sk-toggleable__label-arrow:before {content: \"▸\";float: left;margin-right: 0.25em;color: #696969;}#sk-container-id-3 label.sk-toggleable__label-arrow:hover:before {color: black;}#sk-container-id-3 div.sk-estimator:hover label.sk-toggleable__label-arrow:before {color: black;}#sk-container-id-3 div.sk-toggleable__content {max-height: 0;max-width: 0;overflow: hidden;text-align: left;background-color: #f0f8ff;}#sk-container-id-3 div.sk-toggleable__content pre {margin: 0.2em;color: black;border-radius: 0.25em;background-color: #f0f8ff;}#sk-container-id-3 input.sk-toggleable__control:checked~div.sk-toggleable__content {max-height: 200px;max-width: 100%;overflow: auto;}#sk-container-id-3 input.sk-toggleable__control:checked~label.sk-toggleable__label-arrow:before {content: \"▾\";}#sk-container-id-3 div.sk-estimator input.sk-toggleable__control:checked~label.sk-toggleable__label {background-color: #d4ebff;}#sk-container-id-3 div.sk-label input.sk-toggleable__control:checked~label.sk-toggleable__label {background-color: #d4ebff;}#sk-container-id-3 input.sk-hidden--visually {border: 0;clip: rect(1px 1px 1px 1px);clip: rect(1px, 1px, 1px, 1px);height: 1px;margin: -1px;overflow: hidden;padding: 0;position: absolute;width: 1px;}#sk-container-id-3 div.sk-estimator {font-family: monospace;background-color: #f0f8ff;border: 1px dotted black;border-radius: 0.25em;box-sizing: border-box;margin-bottom: 0.5em;}#sk-container-id-3 div.sk-estimator:hover {background-color: #d4ebff;}#sk-container-id-3 div.sk-parallel-item::after {content: \"\";width: 100%;border-bottom: 1px solid gray;flex-grow: 1;}#sk-container-id-3 div.sk-label:hover label.sk-toggleable__label {background-color: #d4ebff;}#sk-container-id-3 div.sk-serial::before {content: \"\";position: absolute;border-left: 1px solid gray;box-sizing: border-box;top: 0;bottom: 0;left: 50%;z-index: 0;}#sk-container-id-3 div.sk-serial {display: flex;flex-direction: column;align-items: center;background-color: white;padding-right: 0.2em;padding-left: 0.2em;position: relative;}#sk-container-id-3 div.sk-item {position: relative;z-index: 1;}#sk-container-id-3 div.sk-parallel {display: flex;align-items: stretch;justify-content: center;background-color: white;position: relative;}#sk-container-id-3 div.sk-item::before, #sk-container-id-3 div.sk-parallel-item::before {content: \"\";position: absolute;border-left: 1px solid gray;box-sizing: border-box;top: 0;bottom: 0;left: 50%;z-index: -1;}#sk-container-id-3 div.sk-parallel-item {display: flex;flex-direction: column;z-index: 1;position: relative;background-color: white;}#sk-container-id-3 div.sk-parallel-item:first-child::after {align-self: flex-end;width: 50%;}#sk-container-id-3 div.sk-parallel-item:last-child::after {align-self: flex-start;width: 50%;}#sk-container-id-3 div.sk-parallel-item:only-child::after {width: 0;}#sk-container-id-3 div.sk-dashed-wrapped {border: 1px dashed gray;margin: 0 0.4em 0.5em 0.4em;box-sizing: border-box;padding-bottom: 0.4em;background-color: white;}#sk-container-id-3 div.sk-label label {font-family: monospace;font-weight: bold;display: inline-block;line-height: 1.2em;}#sk-container-id-3 div.sk-label-container {text-align: center;}#sk-container-id-3 div.sk-container {/* jupyter's `normalize.less` sets `[hidden] { display: none; }` but bootstrap.min.css set `[hidden] { display: none !important; }` so we also need the `!important` here to be able to override the default hidden behavior on the sphinx rendered scikit-learn.org. See: https://github.com/scikit-learn/scikit-learn/issues/21755 */display: inline-block !important;position: relative;}#sk-container-id-3 div.sk-text-repr-fallback {display: none;}</style><div id=\"sk-container-id-3\" class=\"sk-top-container\"><div class=\"sk-text-repr-fallback\"><pre>GridSearchCV(cv=10, estimator=KNeighborsClassifier(), n_jobs=-1,\n",
              "             param_grid={&#x27;metric&#x27;: [&#x27;minkowski&#x27;, &#x27;euclidean&#x27;, &#x27;manhattan&#x27;],\n",
              "                         &#x27;n_neighbors&#x27;: [5, 7, 9, 11, 13, 15],\n",
              "                         &#x27;weights&#x27;: [&#x27;uniform&#x27;, &#x27;distance&#x27;]},\n",
              "             scoring=&#x27;recall&#x27;, verbose=1)</pre><b>In a Jupyter environment, please rerun this cell to show the HTML representation or trust the notebook. <br />On GitHub, the HTML representation is unable to render, please try loading this page with nbviewer.org.</b></div><div class=\"sk-container\" hidden><div class=\"sk-item sk-dashed-wrapped\"><div class=\"sk-label-container\"><div class=\"sk-label sk-toggleable\"><input class=\"sk-toggleable__control sk-hidden--visually\" id=\"sk-estimator-id-7\" type=\"checkbox\" ><label for=\"sk-estimator-id-7\" class=\"sk-toggleable__label sk-toggleable__label-arrow\">GridSearchCV</label><div class=\"sk-toggleable__content\"><pre>GridSearchCV(cv=10, estimator=KNeighborsClassifier(), n_jobs=-1,\n",
              "             param_grid={&#x27;metric&#x27;: [&#x27;minkowski&#x27;, &#x27;euclidean&#x27;, &#x27;manhattan&#x27;],\n",
              "                         &#x27;n_neighbors&#x27;: [5, 7, 9, 11, 13, 15],\n",
              "                         &#x27;weights&#x27;: [&#x27;uniform&#x27;, &#x27;distance&#x27;]},\n",
              "             scoring=&#x27;recall&#x27;, verbose=1)</pre></div></div></div><div class=\"sk-parallel\"><div class=\"sk-parallel-item\"><div class=\"sk-item\"><div class=\"sk-label-container\"><div class=\"sk-label sk-toggleable\"><input class=\"sk-toggleable__control sk-hidden--visually\" id=\"sk-estimator-id-8\" type=\"checkbox\" ><label for=\"sk-estimator-id-8\" class=\"sk-toggleable__label sk-toggleable__label-arrow\">estimator: KNeighborsClassifier</label><div class=\"sk-toggleable__content\"><pre>KNeighborsClassifier()</pre></div></div></div><div class=\"sk-serial\"><div class=\"sk-item\"><div class=\"sk-estimator sk-toggleable\"><input class=\"sk-toggleable__control sk-hidden--visually\" id=\"sk-estimator-id-9\" type=\"checkbox\" ><label for=\"sk-estimator-id-9\" class=\"sk-toggleable__label sk-toggleable__label-arrow\">KNeighborsClassifier</label><div class=\"sk-toggleable__content\"><pre>KNeighborsClassifier()</pre></div></div></div></div></div></div></div></div></div></div>"
            ]
          },
          "metadata": {},
          "execution_count": 125
        }
      ]
    },
    {
      "cell_type": "code",
      "source": [
        "grid_search.best_params_"
      ],
      "metadata": {
        "id": "Xn4hRyog6Hs_",
        "colab": {
          "base_uri": "https://localhost:8080/"
        },
        "outputId": "38640719-4b79-4133-9c6d-2d060c8d971f"
      },
      "execution_count": null,
      "outputs": [
        {
          "output_type": "execute_result",
          "data": {
            "text/plain": [
              "{'metric': 'minkowski', 'n_neighbors': 5, 'weights': 'uniform'}"
            ]
          },
          "metadata": {},
          "execution_count": 126
        }
      ]
    },
    {
      "cell_type": "code",
      "source": [
        "KNN_CLA_mode=grid_search.best_estimator_"
      ],
      "metadata": {
        "id": "q32-51aa6Hvg"
      },
      "execution_count": null,
      "outputs": []
    },
    {
      "cell_type": "markdown",
      "source": [
        "#OVERFITTING#"
      ],
      "metadata": {
        "id": "T2uq1mDCzfiQ"
      }
    },
    {
      "cell_type": "code",
      "source": [
        "new_df=KNN_CLA_mode.fit(x_test_sc, y_test)\n",
        "new_df=KNN_CLA_mode.fit(x_train_sc,y_train)"
      ],
      "metadata": {
        "id": "2fic-4ZRytij"
      },
      "execution_count": null,
      "outputs": []
    },
    {
      "cell_type": "markdown",
      "source": [
        "#PREDICTION#"
      ],
      "metadata": {
        "id": "HYCGU-Ik0ZG_"
      }
    },
    {
      "cell_type": "code",
      "source": [
        "y_pred_test_DT=KNN_CLA_mode.predict(x_test_sc)\n",
        "y_pred_train_DT=KNN_CLA_mode.predict(x_train_sc)"
      ],
      "metadata": {
        "id": "NQrXiO3fxeKj"
      },
      "execution_count": null,
      "outputs": []
    },
    {
      "cell_type": "markdown",
      "source": [
        "#MODEL_PREDICTION#"
      ],
      "metadata": {
        "id": "XZdUXbyb0cB2"
      }
    },
    {
      "cell_type": "code",
      "source": [
        "y_pred_DT=KNN_CLA_mode.predict(x_test_sc)"
      ],
      "metadata": {
        "id": "VuoFWzmCwS3n"
      },
      "execution_count": null,
      "outputs": []
    },
    {
      "cell_type": "markdown",
      "source": [
        "#CONFUSION_MATRIX"
      ],
      "metadata": {
        "id": "b1VyPiTW6u0A"
      }
    },
    {
      "cell_type": "code",
      "source": [
        "cm=confusion_matrix(y_test,y_pred_test_DT)\n",
        "cm"
      ],
      "metadata": {
        "colab": {
          "base_uri": "https://localhost:8080/"
        },
        "id": "tgV5Kjc-qf-X",
        "outputId": "29ff09d0-1876-4b31-c2e0-63868f69c8d3"
      },
      "execution_count": null,
      "outputs": [
        {
          "output_type": "execute_result",
          "data": {
            "text/plain": [
              "array([[20,  0,  3,  1,  2],\n",
              "       [ 4,  2,  0,  0,  0],\n",
              "       [ 1,  0, 17,  0,  0],\n",
              "       [ 0,  0,  0,  7,  0],\n",
              "       [ 0,  0,  0,  0,  3]])"
            ]
          },
          "metadata": {},
          "execution_count": 131
        }
      ]
    },
    {
      "cell_type": "code",
      "source": [
        "sns.heatmap(cm,cmap='Blues',annot=True)"
      ],
      "metadata": {
        "colab": {
          "base_uri": "https://localhost:8080/",
          "height": 453
        },
        "id": "lntN9mUVqgA5",
        "outputId": "f8b4a026-3080-4c3e-c449-17c6eddc005f"
      },
      "execution_count": null,
      "outputs": [
        {
          "output_type": "execute_result",
          "data": {
            "text/plain": [
              "<Axes: >"
            ]
          },
          "metadata": {},
          "execution_count": 132
        },
        {
          "output_type": "display_data",
          "data": {
            "text/plain": [
              "<Figure size 640x480 with 2 Axes>"
            ],
            "image/png": "[encoded data removed]"
          },
          "metadata": {}
        }
      ]
    },
    {
      "cell_type": "markdown",
      "source": [
        "#ACCURACY_SCOR&RECALL&PRECISION&F1_TEST#"
      ],
      "metadata": {
        "id": "eFDp1HMs0k7G"
      }
    },
    {
      "cell_type": "code",
      "source": [
        "accuracy_test=accuracy_score(y_test,y_pred_test_DT)*100\n",
        "print(\"Accuracy for our training dataset with tuning is : {:.2f}%\".format(accuracy_test))"
      ],
      "metadata": {
        "id": "T75bdaUZz-67",
        "colab": {
          "base_uri": "https://localhost:8080/"
        },
        "outputId": "8fbe631b-2bc9-4183-d277-2373d4f636ae"
      },
      "execution_count": null,
      "outputs": [
        {
          "output_type": "stream",
          "name": "stdout",
          "text": [
            "Accuracy for our training dataset with tuning is : 81.67%\n"
          ]
        }
      ]
    },
    {
      "cell_type": "code",
      "source": [
        "recall_test=recall_score(y_test,y_pred_test_DT, average='micro')*100\n",
        "print(\"Accuracy for our training dataset with tuning is : {:.2f}%\".format(recall_test))"
      ],
      "metadata": {
        "colab": {
          "base_uri": "https://localhost:8080/"
        },
        "id": "_XznvJnDroyE",
        "outputId": "50f88859-d4d8-44b6-8db4-c032028e051f"
      },
      "execution_count": null,
      "outputs": [
        {
          "output_type": "stream",
          "name": "stdout",
          "text": [
            "Accuracy for our training dataset with tuning is : 81.67%\n"
          ]
        }
      ]
    },
    {
      "cell_type": "code",
      "source": [
        "precision_test=precision_score(y_test,y_pred_test_DT, average='micro')*100\n",
        "print(\"Accuracy for our training dataset with tuning is : {:.2f}%\".format(precision_test))"
      ],
      "metadata": {
        "colab": {
          "base_uri": "https://localhost:8080/"
        },
        "id": "aMG2A6Nyro1D",
        "outputId": "6755a10b-ed06-45b5-9823-ae257bca1ff0"
      },
      "execution_count": null,
      "outputs": [
        {
          "output_type": "stream",
          "name": "stdout",
          "text": [
            "Accuracy for our training dataset with tuning is : 81.67%\n"
          ]
        }
      ]
    },
    {
      "cell_type": "code",
      "source": [
        "f1_test=f1_score(y_test,y_pred_test_DT, average='micro')*100\n",
        "print(\"Accuracy for our training dataset with tuning is : {:.2f}%\".format(f1_test))"
      ],
      "metadata": {
        "colab": {
          "base_uri": "https://localhost:8080/"
        },
        "id": "fdsQ0Bu5ro3d",
        "outputId": "163c6c93-0c60-4f48-dddb-cf8485e9d7db"
      },
      "execution_count": null,
      "outputs": [
        {
          "output_type": "stream",
          "name": "stdout",
          "text": [
            "Accuracy for our training dataset with tuning is : 81.67%\n"
          ]
        }
      ]
    },
    {
      "cell_type": "markdown",
      "source": [
        "#ACCURACY_SCOR&RECALL&PRECISION&F1_TRAIN#"
      ],
      "metadata": {
        "id": "q188dyuEvaf5"
      }
    },
    {
      "cell_type": "code",
      "source": [
        "accuracy_train=accuracy_score(y_train,y_pred_train_DT)*100\n",
        "print(\"Accuracy for our training dataset with tuning is : {:.2f}%\".format(accuracy_train))"
      ],
      "metadata": {
        "colab": {
          "base_uri": "https://localhost:8080/"
        },
        "outputId": "8e6a222c-232f-4974-bfdf-f2b789b69edf",
        "id": "TFm2TRizvaf6"
      },
      "execution_count": null,
      "outputs": [
        {
          "output_type": "stream",
          "name": "stdout",
          "text": [
            "Accuracy for our training dataset with tuning is : 87.14%\n"
          ]
        }
      ]
    },
    {
      "cell_type": "code",
      "source": [
        "recall_train=recall_score(y_train,y_pred_train_DT, average='micro')*100\n",
        "print(\"Accuracy for our training dataset with tuning is : {:.2f}%\".format(recall_train))"
      ],
      "metadata": {
        "colab": {
          "base_uri": "https://localhost:8080/"
        },
        "outputId": "1b2191de-47aa-4ce9-d960-58a11ee9ce72",
        "id": "k1TI1Y-tvaf6"
      },
      "execution_count": null,
      "outputs": [
        {
          "output_type": "stream",
          "name": "stdout",
          "text": [
            "Accuracy for our training dataset with tuning is : 87.14%\n"
          ]
        }
      ]
    },
    {
      "cell_type": "code",
      "source": [
        "precision_train=precision_score(y_train,y_pred_train_DT, average='micro')*100\n",
        "print(\"Accuracy for our training dataset with tuning is : {:.2f}%\".format(precision_train))"
      ],
      "metadata": {
        "colab": {
          "base_uri": "https://localhost:8080/"
        },
        "outputId": "c8ee0619-79ad-4df0-d57a-350e3228362b",
        "id": "YwksJEG8vaf7"
      },
      "execution_count": null,
      "outputs": [
        {
          "output_type": "stream",
          "name": "stdout",
          "text": [
            "Accuracy for our training dataset with tuning is : 87.14%\n"
          ]
        }
      ]
    },
    {
      "cell_type": "code",
      "source": [
        "f1_train=f1_score(y_train,y_pred_train_DT, average='micro')*100\n",
        "print(\"Accuracy for our training dataset with tuning is : {:.2f}%\".format(f1_train))"
      ],
      "metadata": {
        "colab": {
          "base_uri": "https://localhost:8080/"
        },
        "outputId": "23cd1a3f-c310-44b0-9834-c42046a470a9",
        "id": "sdCuytuDvaf7"
      },
      "execution_count": null,
      "outputs": [
        {
          "output_type": "stream",
          "name": "stdout",
          "text": [
            "Accuracy for our training dataset with tuning is : 87.14%\n"
          ]
        }
      ]
    },
    {
      "cell_type": "code",
      "source": [
        "labels = ['recall_test', 'accuracy_test', 'precision_test']\n",
        "model_a = [0.99, 1, 1]\n",
        "model_b = [0.99, 1, 1]\n",
        "model_c = [0.99, 1, 1]\n",
        "x = np.arange(len(labels))  # the label locations\n",
        "width = 0.2  # the width of the bars\n",
        "fig, ax = plt.subplots()\n",
        "rects1 = ax.bar(x - width, model_a, width, label='Model A', color='blue')\n",
        "rects2 = ax.bar(x, model_b, width, label='Model B', color='green')\n",
        "rects3 = ax.bar(x + width, model_c, width, label='Model C', color='orange')\n",
        "ax.set_ylabel('accuracy_test')\n",
        "ax.set_title('Accuracy for TYPE OF MODEL')\n",
        "ax.set_xticks(x)\n",
        "ax.set_xticklabels(labels)\n",
        "ax.legend()"
      ],
      "metadata": {
        "id": "vCnlR8PO11UO",
        "colab": {
          "base_uri": "https://localhost:8080/",
          "height": 470
        },
        "outputId": "d6bbe1ae-280b-4e36-e54f-d745b6419430"
      },
      "execution_count": null,
      "outputs": [
        {
          "output_type": "execute_result",
          "data": {
            "text/plain": [
              "<matplotlib.legend.Legend at 0x7d0c1a68ae00>"
            ]
          },
          "metadata": {},
          "execution_count": 141
        },
        {
          "output_type": "display_data",
          "data": {
            "text/plain": [
              "<Figure size 640x480 with 1 Axes>"
            ],
            "image/png": "[encoded data removed]"
          },
          "metadata": {}
        }
      ]
    },
    {
      "cell_type": "markdown",
      "source": [
        "#PLT_R2_accuracy_test_TRAIN#"
      ],
      "metadata": {
        "id": "x8Juo-3QGbR6"
      }
    },
    {
      "cell_type": "code",
      "source": [
        "x= [\"recall_test \",\"recall_train \"]\n",
        "y=[recall_test ,recall_train]\n",
        "plt.bar(x , y,color='RED')\n",
        "plt.xlabel(\"Predcition\")\n",
        "plt.ylabel(\"Score\")\n",
        "plt.title(\"R2 Score for TYPE OF MODEL\")"
      ],
      "metadata": {
        "id": "VWAUHzer11pI",
        "colab": {
          "base_uri": "https://localhost:8080/",
          "height": 490
        },
        "outputId": "0ff6e7ab-73fb-456d-97e5-c083c479d567"
      },
      "execution_count": null,
      "outputs": [
        {
          "output_type": "execute_result",
          "data": {
            "text/plain": [
              "Text(0.5, 1.0, 'R2 Score for TYPE OF MODEL')"
            ]
          },
          "metadata": {},
          "execution_count": 142
        },
        {
          "output_type": "display_data",
          "data": {
            "text/plain": [
              "<Figure size 640x480 with 1 Axes>"
            ],
            "image/png": "[encoded data removed]"
          },
          "metadata": {}
        }
      ]
    }
  ]
}